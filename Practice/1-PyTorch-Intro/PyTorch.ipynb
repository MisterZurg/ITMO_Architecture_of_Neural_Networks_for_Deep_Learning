{
  "nbformat": 4,
  "nbformat_minor": 0,
  "metadata": {
    "colab": {
      "provenance": []
    },
    "kernelspec": {
      "name": "python3",
      "display_name": "Python 3"
    },
    "language_info": {
      "name": "python"
    },
    "accelerator": "GPU"
  },
  "cells": [
    {
      "cell_type": "markdown",
      "metadata": {
        "id": "by7HSDGVdbkA"
      },
      "source": [
        "Author: Timur Sokhin\n",
        "\n",
        "We will look at the basic concepts and tools of the PyTorch framework."
      ]
    },
    {
      "cell_type": "markdown",
      "metadata": {
        "id": "XDx9D8lKeIOz"
      },
      "source": [
        "# Intro"
      ]
    },
    {
      "cell_type": "markdown",
      "metadata": {
        "id": "7cbzBEyjd_IE"
      },
      "source": [
        "[PyTorch](https://pytorch.org/) is the most preferred ML framework for researchers. PyTorch allows for flexible graph construction of neural networks (dynamic graphs), and is (subjectively) more user friendly.\n",
        "\n",
        "Another alternative is [Tensorflow](https://www.tensorflow.org/), which is currently more common in the industry, but recent releases have brought them much closer together in principle of functioning."
      ]
    },
    {
      "cell_type": "markdown",
      "metadata": {
        "id": "KpXXM0clf-AA"
      },
      "source": [
        "The installation process provided on PyTorch official website. If you work in Google Colab, there is PyTorch as a part of kernel"
      ]
    },
    {
      "cell_type": "markdown",
      "metadata": {
        "id": "bNzaB_O4h8Ck"
      },
      "source": [
        "# Tensors"
      ]
    },
    {
      "cell_type": "code",
      "metadata": {
        "id": "yuTTO-Fcf7xN"
      },
      "source": [
        "# main framework\n",
        "import torch\n",
        "# additional functions on tensors or networks\n",
        "from torch.nn import functional as F\n",
        "\n",
        "# work with arrays in pure python\n",
        "import numpy as np"
      ],
      "execution_count": null,
      "outputs": []
    },
    {
      "cell_type": "markdown",
      "metadata": {
        "id": "ASmxSwcWg4KE"
      },
      "source": [
        "Tensors is a data structure optimized for automatic differentiation. In most cases, working with them is similar to working with arrays in [numpy](https://numpy.org/doc/stable/user/whatisnumpy.html)."
      ]
    },
    {
      "cell_type": "markdown",
      "metadata": {
        "id": "3cX_Oje_iD1e"
      },
      "source": [
        "## Tensor from *list*"
      ]
    },
    {
      "cell_type": "code",
      "metadata": {
        "colab": {
          "base_uri": "https://localhost:8080/"
        },
        "id": "a0yQbbQZf1ia",
        "outputId": "9ec67375-dbac-4f14-e79d-830a4008b5a2"
      },
      "source": [
        "tensor = torch.tensor([[1, 2, 3], [2, 3, 4]])\n",
        "print(tensor)"
      ],
      "execution_count": null,
      "outputs": [
        {
          "output_type": "stream",
          "name": "stdout",
          "text": [
            "tensor([[1, 2, 3],\n",
            "        [2, 3, 4]])\n"
          ]
        }
      ]
    },
    {
      "cell_type": "markdown",
      "metadata": {
        "id": "pNjxbqbLiQxu"
      },
      "source": [
        "You can access to some meta information about tensors"
      ]
    },
    {
      "cell_type": "code",
      "metadata": {
        "colab": {
          "base_uri": "https://localhost:8080/"
        },
        "id": "gkTHzCSgfk1F",
        "outputId": "3efda5ed-2d51-4bd3-80d0-418467ab6f81"
      },
      "source": [
        "print(tensor.dtype)\n",
        "print(tensor.device)"
      ],
      "execution_count": null,
      "outputs": [
        {
          "output_type": "stream",
          "name": "stdout",
          "text": [
            "torch.int64\n",
            "cpu\n"
          ]
        }
      ]
    },
    {
      "cell_type": "markdown",
      "metadata": {
        "id": "lLoVPWGamEf6"
      },
      "source": [
        "You really want to use shape and size functions"
      ]
    },
    {
      "cell_type": "code",
      "metadata": {
        "colab": {
          "base_uri": "https://localhost:8080/"
        },
        "id": "09aHPlm8mJVi",
        "outputId": "b550cced-439f-4534-c965-edb3120723f0"
      },
      "source": [
        "# .shape is an alias for .size() to remain similarity with numpy\n",
        "print(tensor.shape)\n",
        "print(tensor.size())"
      ],
      "execution_count": null,
      "outputs": [
        {
          "output_type": "stream",
          "name": "stdout",
          "text": [
            "torch.Size([2, 3])\n",
            "torch.Size([2, 3])\n"
          ]
        }
      ]
    },
    {
      "cell_type": "markdown",
      "metadata": {
        "id": "9vK38ktAjRpg"
      },
      "source": [
        "You can change data type"
      ]
    },
    {
      "cell_type": "code",
      "metadata": {
        "colab": {
          "base_uri": "https://localhost:8080/"
        },
        "id": "LTeq3UUWiPzM",
        "outputId": "25105b66-5ff9-47a2-fa07-d4b491c31177"
      },
      "source": [
        "print('Float\\n', tensor.float())\n",
        "print('Boolean\\n', tensor.bool())"
      ],
      "execution_count": null,
      "outputs": [
        {
          "output_type": "stream",
          "name": "stdout",
          "text": [
            "Float\n",
            " tensor([[1., 2., 3.],\n",
            "        [2., 3., 4.]])\n",
            "Boolean\n",
            " tensor([[True, True, True],\n",
            "        [True, True, True]])\n"
          ]
        }
      ]
    },
    {
      "cell_type": "markdown",
      "metadata": {
        "id": "y05g3MErjuzE"
      },
      "source": [
        "Or set the type with initialization"
      ]
    },
    {
      "cell_type": "code",
      "metadata": {
        "colab": {
          "base_uri": "https://localhost:8080/"
        },
        "id": "v5OM9Rj4iXdx",
        "outputId": "8820774f-2c99-467c-c5d1-f72af1d1fe7f"
      },
      "source": [
        "tensor = torch.tensor([[1, 2, 3], [2, 3, 4]], dtype=torch.float)\n",
        "print(tensor)"
      ],
      "execution_count": null,
      "outputs": [
        {
          "output_type": "stream",
          "name": "stdout",
          "text": [
            "tensor([[1., 2., 3.],\n",
            "        [2., 3., 4.]])\n"
          ]
        }
      ]
    },
    {
      "cell_type": "code",
      "metadata": {
        "colab": {
          "base_uri": "https://localhost:8080/"
        },
        "id": "7daiWuBVj5Ty",
        "outputId": "29f24f69-3930-4a77-d2c9-b1916cba8193"
      },
      "source": [
        "tensor = torch.FloatTensor([[1, 2, 3], [2, 3, 4]])\n",
        "print(tensor)"
      ],
      "execution_count": null,
      "outputs": [
        {
          "output_type": "stream",
          "name": "stdout",
          "text": [
            "tensor([[1., 2., 3.],\n",
            "        [2., 3., 4.]])\n"
          ]
        }
      ]
    },
    {
      "cell_type": "markdown",
      "metadata": {
        "id": "6Tz4QNUrkJmP"
      },
      "source": [
        "## Tensor from Numpy arrays"
      ]
    },
    {
      "cell_type": "code",
      "metadata": {
        "colab": {
          "base_uri": "https://localhost:8080/"
        },
        "id": "Ftnbo78UkN7E",
        "outputId": "1c1f3232-da78-4c19-8f62-1057d0618adb"
      },
      "source": [
        "import numpy as np\n",
        "\n",
        "narray = np.array([[1, 2, 3], [2, 3, 4]])\n",
        "tensor = torch.tensor(narray)\n",
        "print(tensor)\n",
        "tensor = tensor * 0\n",
        "print('Tensor: {}\\t Numpy: {}'.format(tensor[0], narray[0]))"
      ],
      "execution_count": null,
      "outputs": [
        {
          "output_type": "stream",
          "name": "stdout",
          "text": [
            "tensor([[1, 2, 3],\n",
            "        [2, 3, 4]])\n",
            "Tensor: tensor([0, 0, 0])\t Numpy: [1 2 3]\n"
          ]
        }
      ]
    },
    {
      "cell_type": "code",
      "metadata": {
        "colab": {
          "base_uri": "https://localhost:8080/"
        },
        "id": "G66iVrfKkrRG",
        "outputId": "c6617018-421b-4abc-c9df-ddf81d9d3041"
      },
      "source": [
        "# Be careful!\n",
        "tensor = torch.from_numpy(narray)\n",
        "tensor *= 0\n",
        "print('Tensor: {}\\t Numpy: {}'.format(tensor[0], narray[0]))"
      ],
      "execution_count": null,
      "outputs": [
        {
          "output_type": "stream",
          "name": "stdout",
          "text": [
            "Tensor: tensor([0, 0, 0])\t Numpy: [0 0 0]\n"
          ]
        }
      ]
    },
    {
      "cell_type": "markdown",
      "metadata": {
        "id": "heeDKW45lD0h"
      },
      "source": [
        "[torch.from_array]( https://pytorch.org/docs/stable/generated/torch.from_numpy.html?highlight=from_numpy#torch.from_numpy) create tensor that share the memory with narray, any changes will be reflected!"
      ]
    },
    {
      "cell_type": "markdown",
      "metadata": {
        "id": "wzQ_63U1lkFA"
      },
      "source": [
        "## Tensor from shape\n",
        "Sometimes you want to create tensor of some default values with specific shape"
      ]
    },
    {
      "cell_type": "code",
      "metadata": {
        "colab": {
          "base_uri": "https://localhost:8080/"
        },
        "id": "uFaj9iC4l4wY",
        "outputId": "9475e7f7-6b55-42e0-97fa-688f0c723929"
      },
      "source": [
        "shape = (2, 5, 5)\n",
        "tensor = torch.zeros(shape)\n",
        "print('Zero:\\n{}'.format(tensor))\n",
        "tensor = torch.ones(shape)\n",
        "print('Ones:\\n{}'.format(tensor))\n",
        "tensor = torch.rand(shape)\n",
        "print('Random:\\n{}'.format(tensor))\n",
        "tensor = torch.arange(10)\n",
        "print('Sequence:\\n{}'.format(tensor))"
      ],
      "execution_count": null,
      "outputs": [
        {
          "output_type": "stream",
          "name": "stdout",
          "text": [
            "Zero:\n",
            "tensor([[[0., 0., 0., 0., 0.],\n",
            "         [0., 0., 0., 0., 0.],\n",
            "         [0., 0., 0., 0., 0.],\n",
            "         [0., 0., 0., 0., 0.],\n",
            "         [0., 0., 0., 0., 0.]],\n",
            "\n",
            "        [[0., 0., 0., 0., 0.],\n",
            "         [0., 0., 0., 0., 0.],\n",
            "         [0., 0., 0., 0., 0.],\n",
            "         [0., 0., 0., 0., 0.],\n",
            "         [0., 0., 0., 0., 0.]]])\n",
            "Ones:\n",
            "tensor([[[1., 1., 1., 1., 1.],\n",
            "         [1., 1., 1., 1., 1.],\n",
            "         [1., 1., 1., 1., 1.],\n",
            "         [1., 1., 1., 1., 1.],\n",
            "         [1., 1., 1., 1., 1.]],\n",
            "\n",
            "        [[1., 1., 1., 1., 1.],\n",
            "         [1., 1., 1., 1., 1.],\n",
            "         [1., 1., 1., 1., 1.],\n",
            "         [1., 1., 1., 1., 1.],\n",
            "         [1., 1., 1., 1., 1.]]])\n",
            "Random:\n",
            "tensor([[[0.0592, 0.4121, 0.2863, 0.1080, 0.0065],\n",
            "         [0.1565, 0.2808, 0.6307, 0.9060, 0.0171],\n",
            "         [0.7711, 0.3198, 0.1926, 0.4217, 0.4660],\n",
            "         [0.9862, 0.4093, 0.0780, 0.9964, 0.2663],\n",
            "         [0.8938, 0.4718, 0.7065, 0.3110, 0.4375]],\n",
            "\n",
            "        [[0.1315, 0.6832, 0.7865, 0.6816, 0.9708],\n",
            "         [0.3164, 0.8545, 0.7030, 0.1160, 0.4332],\n",
            "         [0.6375, 0.6878, 0.8792, 0.9030, 0.9746],\n",
            "         [0.8098, 0.8362, 0.7087, 0.1253, 0.6773],\n",
            "         [0.2379, 0.7559, 0.7681, 0.9810, 0.1441]]])\n",
            "Sequence:\n",
            "tensor([0, 1, 2, 3, 4, 5, 6, 7, 8, 9])\n"
          ]
        }
      ]
    },
    {
      "cell_type": "markdown",
      "metadata": {
        "id": "_kHWdI5Xn31t"
      },
      "source": [
        "Sometimes you want to make a tensor with a shape of another tensor, but with default values"
      ]
    },
    {
      "cell_type": "code",
      "metadata": {
        "colab": {
          "base_uri": "https://localhost:8080/"
        },
        "id": "3VX0TZG2nvv_",
        "outputId": "736942f5-457f-4261-ea31-16cc676bbe13"
      },
      "source": [
        "tensor = torch.rand((1, 2, 2))\n",
        "# for example, you want to create a mask for the image or something\n",
        "tensor_mask = torch.zeros_like(tensor)\n",
        "print('Image:\\n{}'.format(tensor))\n",
        "print('Image_mask:\\n{}'.format(tensor_mask))"
      ],
      "execution_count": null,
      "outputs": [
        {
          "output_type": "stream",
          "name": "stdout",
          "text": [
            "Image:\n",
            "tensor([[[0.2386, 0.3602],\n",
            "         [0.2813, 0.4000]]])\n",
            "Image_mask:\n",
            "tensor([[[0., 0.],\n",
            "         [0., 0.]]])\n"
          ]
        }
      ]
    },
    {
      "cell_type": "markdown",
      "metadata": {
        "id": "Tltq6W9eodYY"
      },
      "source": [
        "## PyTorch data to pure python/numpy\n",
        "There is default approach to conver pytorch tensor in numpy, which work in all cases"
      ]
    },
    {
      "cell_type": "code",
      "metadata": {
        "colab": {
          "base_uri": "https://localhost:8080/"
        },
        "id": "4JmQrT9soWWJ",
        "outputId": "bdf22db9-6d99-4863-a075-1c6ff267c471"
      },
      "source": [
        "tensor = torch.rand((1, 2, 2))\n",
        "narray = tensor.detach().cpu().numpy()\n",
        "print(narray)"
      ],
      "execution_count": null,
      "outputs": [
        {
          "output_type": "stream",
          "name": "stdout",
          "text": [
            "[[[0.6392166  0.8779399 ]\n",
            "  [0.14973867 0.11761254]]]\n"
          ]
        }
      ]
    },
    {
      "cell_type": "markdown",
      "metadata": {
        "id": "skXttqRuo6DQ"
      },
      "source": [
        "Concepts of .detach(), .cpu() will be explained later"
      ]
    },
    {
      "cell_type": "code",
      "metadata": {
        "id": "IpDbJK45o0KL"
      },
      "source": [
        "# to the pure list\n",
        "tensor_list = tensor.detach().cpu().tolist()"
      ],
      "execution_count": null,
      "outputs": []
    },
    {
      "cell_type": "markdown",
      "metadata": {
        "id": "70PYGuFxpPLo"
      },
      "source": [
        "# Tensor manipulations"
      ]
    },
    {
      "cell_type": "markdown",
      "metadata": {
        "id": "JtXQqtgZpTe2"
      },
      "source": [
        "Shape of a tensor can be changed in many ways.\n",
        "\n",
        "For example, you have a data with N samples (batch_size), where each sample have shape (W, H, C) - default image shape"
      ]
    },
    {
      "cell_type": "code",
      "metadata": {
        "colab": {
          "base_uri": "https://localhost:8080/"
        },
        "id": "n3OwjC_qpHTB",
        "outputId": "1b6ca470-6586-4c6e-c883-046629a97ef7"
      },
      "source": [
        "N = 2\n",
        "W, H = 224, 224\n",
        "C = 3\n",
        "\n",
        "# NOTE: pytorch convention about image shape is channel-first\n",
        "tensor = torch.rand((N, C, W, H))\n",
        "print(tensor.shape)"
      ],
      "execution_count": null,
      "outputs": [
        {
          "output_type": "stream",
          "name": "stdout",
          "text": [
            "torch.Size([2, 3, 224, 224])\n"
          ]
        }
      ]
    },
    {
      "cell_type": "markdown",
      "metadata": {
        "id": "fyXqXR4VqAlj"
      },
      "source": [
        "## You want to represent data as a flatten list of pixels\n",
        "\n",
        "\n",
        "\n",
        "*   .view() [link text](https://pytorch.org/docs/stable/generated/torch.Tensor.view.html?highlight=view#torch.Tensor.view)\n",
        "*   .reshape() [link text](https://pytorch.org/docs/stable/generated/torch.reshape.html?highlight=reshape#torch.reshape)\n",
        "\n",
        "NOTE: a lot of methods in pytorch has alias in torch.nn.functional\n",
        "\n"
      ]
    },
    {
      "cell_type": "code",
      "metadata": {
        "colab": {
          "base_uri": "https://localhost:8080/"
        },
        "id": "rszaID1hp57H",
        "outputId": "e94b1df1-252f-4ddb-8de2-5faccf221798"
      },
      "source": [
        "# you may use .view\n",
        "print('View\\n')\n",
        "print(tensor.view(N, W * H * C))\n",
        "print(tensor.view(N, W * H * C).shape)\n",
        "\n",
        "# or reshape\n",
        "print('Reshape\\n')\n",
        "print(tensor.reshape((N, W * H * C)))\n",
        "print(tensor.reshape((N, W * H * C)).shape)"
      ],
      "execution_count": null,
      "outputs": [
        {
          "output_type": "stream",
          "name": "stdout",
          "text": [
            "View\n",
            "\n",
            "tensor([[0.5094, 0.7684, 0.1524,  ..., 0.2103, 0.0770, 0.0563],\n",
            "        [0.8793, 0.0719, 0.8111,  ..., 0.7288, 0.3203, 0.2942]])\n",
            "torch.Size([2, 150528])\n",
            "Reshape\n",
            "\n",
            "tensor([[0.5094, 0.7684, 0.1524,  ..., 0.2103, 0.0770, 0.0563],\n",
            "        [0.8793, 0.0719, 0.8111,  ..., 0.7288, 0.3203, 0.2942]])\n",
            "torch.Size([2, 150528])\n"
          ]
        }
      ]
    },
    {
      "cell_type": "markdown",
      "metadata": {
        "id": "0Uzh68insKgL"
      },
      "source": [
        ".view() method actually provide a changed view on a data and does not change data in a memory\n",
        "\n",
        ".reshape() *can* change data in a memory and *can* work as a .view()\n",
        "\n",
        "This behavior follows from the contiguous property: view method work only for contiguos data. Contiguous is the a way to store data in a single block of memory. The example of non-contiguos operation - taking a transpose.\n",
        "\n",
        "The best explanation is [here](https://stackoverflow.com/questions/26998223/what-is-the-difference-between-contiguous-and-non-contiguous-arrays/26999092#26999092)"
      ]
    },
    {
      "cell_type": "markdown",
      "metadata": {
        "id": "AYQqQpmnt6U1"
      },
      "source": [
        "## Add new dimension to the data"
      ]
    },
    {
      "cell_type": "markdown",
      "metadata": {
        "id": "69Q0GX3JuNgY"
      },
      "source": [
        "We add new dimension to the data mostly for a technical reasons.\n",
        "\n",
        "For example, we have two images as tensors. We want to concatenate them in a single tensor"
      ]
    },
    {
      "cell_type": "code",
      "metadata": {
        "colab": {
          "base_uri": "https://localhost:8080/"
        },
        "id": "IOghKPrtuDzD",
        "outputId": "01a5f236-f596-461c-ca47-4abba06a41fe"
      },
      "source": [
        "image_one = torch.rand((3, 224, 224))\n",
        "image_two = torch.rand((3, 224, 224))\n",
        "print('Shape: {}'.format(image_one.shape))\n",
        "\n",
        "# use of [None] slice (alias for .newaxis() in numpy)\n",
        "print('None slice: {}'.format(image_one[None].shape))\n",
        "# use torch.cat to concatenate tensors\n",
        "print('Concat shape: {}'.format(torch.cat([image_one[None], image_two[None]]).shape))\n",
        "\n",
        "# unsqueeze()\n",
        "print('Unsqueeze: {}'.format(image_one.unsqueeze(0).shape))"
      ],
      "execution_count": null,
      "outputs": [
        {
          "output_type": "stream",
          "name": "stdout",
          "text": [
            "Shape: torch.Size([3, 224, 224])\n",
            "None slice: torch.Size([1, 3, 224, 224])\n",
            "Concat shape: torch.Size([2, 3, 224, 224])\n",
            "Unsqueeze: torch.Size([1, 3, 224, 224])\n"
          ]
        }
      ]
    },
    {
      "cell_type": "markdown",
      "metadata": {
        "id": "dub4mzhzxjkx"
      },
      "source": [
        "## Slicing and indexing"
      ]
    },
    {
      "cell_type": "markdown",
      "metadata": {
        "id": "_rucm864xmja"
      },
      "source": [
        "PyTorch tensors (except the gradients, devices, batchs) have the same behavior as numpy arrays."
      ]
    },
    {
      "cell_type": "code",
      "metadata": {
        "id": "rHGAROLzwHQP"
      },
      "source": [
        "tensor = torch.rand((2, 3, 3))"
      ],
      "execution_count": null,
      "outputs": []
    },
    {
      "cell_type": "code",
      "metadata": {
        "colab": {
          "base_uri": "https://localhost:8080/"
        },
        "id": "lBRGkJsVyATa",
        "outputId": "ffda8337-6814-4968-90fa-f1621207615f"
      },
      "source": [
        "print('Tensor:\\n{}\\n'.format(tensor))\n",
        "print('First sample in a batch:\\n{}\\n'.format(tensor[0]))\n",
        "print('First row in the first sample in a batch:\\n{}\\n'.format(tensor[0][0]))\n",
        "print('First rows in all samples:\\n{}\\n'.format(tensor[:, 0]))"
      ],
      "execution_count": null,
      "outputs": [
        {
          "output_type": "stream",
          "name": "stdout",
          "text": [
            "Tensor:\n",
            "tensor([[[0.9688, 0.2760, 0.5376],\n",
            "         [0.7055, 0.4197, 0.9963],\n",
            "         [0.7580, 0.8123, 0.4045]],\n",
            "\n",
            "        [[0.0484, 0.4293, 0.8820],\n",
            "         [0.9580, 0.0394, 0.4435],\n",
            "         [0.8137, 0.0960, 0.8236]]])\n",
            "\n",
            "First sample in a batch:\n",
            "tensor([[0.9688, 0.2760, 0.5376],\n",
            "        [0.7055, 0.4197, 0.9963],\n",
            "        [0.7580, 0.8123, 0.4045]])\n",
            "\n",
            "First row in the first sample in a batch:\n",
            "tensor([0.9688, 0.2760, 0.5376])\n",
            "\n",
            "First rows in all samples:\n",
            "tensor([[0.9688, 0.2760, 0.5376],\n",
            "        [0.0484, 0.4293, 0.8820]])\n",
            "\n"
          ]
        }
      ]
    },
    {
      "cell_type": "markdown",
      "metadata": {
        "id": "ze0nD7EPynbQ"
      },
      "source": [
        "We also can indexing using arrays"
      ]
    },
    {
      "cell_type": "code",
      "metadata": {
        "colab": {
          "base_uri": "https://localhost:8080/"
        },
        "id": "SAreX6K2yIIX",
        "outputId": "2195a771-8d21-419d-99c2-337c8ed00063"
      },
      "source": [
        "array_to_indexing = [0, 2]\n",
        "print('List\\n', tensor[:, array_to_indexing])\n",
        "\n",
        "array_to_indexing = np.array([0, 2])\n",
        "print('Numpy array\\n', tensor[:, array_to_indexing])\n",
        "\n",
        "array_to_indexing = torch.tensor([0, 2])\n",
        "print('Tensor\\n', tensor[:, array_to_indexing])"
      ],
      "execution_count": null,
      "outputs": [
        {
          "output_type": "stream",
          "name": "stdout",
          "text": [
            "List\n",
            " tensor([[[0.9688, 0.2760, 0.5376],\n",
            "         [0.7580, 0.8123, 0.4045]],\n",
            "\n",
            "        [[0.0484, 0.4293, 0.8820],\n",
            "         [0.8137, 0.0960, 0.8236]]])\n",
            "Numpy array\n",
            " tensor([[[0.9688, 0.2760, 0.5376],\n",
            "         [0.7580, 0.8123, 0.4045]],\n",
            "\n",
            "        [[0.0484, 0.4293, 0.8820],\n",
            "         [0.8137, 0.0960, 0.8236]]])\n",
            "Tensor\n",
            " tensor([[[0.9688, 0.2760, 0.5376],\n",
            "         [0.7580, 0.8123, 0.4045]],\n",
            "\n",
            "        [[0.0484, 0.4293, 0.8820],\n",
            "         [0.8137, 0.0960, 0.8236]]])\n"
          ]
        }
      ]
    },
    {
      "cell_type": "markdown",
      "metadata": {
        "id": "XAOkjcMSz0qY"
      },
      "source": [
        "## Most common operations"
      ]
    },
    {
      "cell_type": "code",
      "metadata": {
        "colab": {
          "base_uri": "https://localhost:8080/"
        },
        "id": "7KGaIDvM0ARr",
        "outputId": "aad4c21f-1bf9-4745-cded-363fb2fff1f3"
      },
      "source": [
        "tensor = torch.ones((2, 3, 3))\n",
        "print(tensor)"
      ],
      "execution_count": null,
      "outputs": [
        {
          "output_type": "stream",
          "name": "stdout",
          "text": [
            "tensor([[[1., 1., 1.],\n",
            "         [1., 1., 1.],\n",
            "         [1., 1., 1.]],\n",
            "\n",
            "        [[1., 1., 1.],\n",
            "         [1., 1., 1.],\n",
            "         [1., 1., 1.]]])\n"
          ]
        }
      ]
    },
    {
      "cell_type": "markdown",
      "metadata": {
        "id": "rw3T3VBZ0Ege"
      },
      "source": [
        "We can clone the tensor. This create a new copy of a tensor on a memory"
      ]
    },
    {
      "cell_type": "code",
      "metadata": {
        "colab": {
          "base_uri": "https://localhost:8080/"
        },
        "id": "CiYFtbgA0DbZ",
        "outputId": "82dc84f5-3db8-4f18-d415-f3f0a2862cfe"
      },
      "source": [
        "tensor_copy = tensor.clone()\n",
        "tensor_copy = tensor_copy * 0\n",
        "print('Origin: {}\\n'.format(tensor))\n",
        "print('Copy: {}\\n'.format(tensor_copy))"
      ],
      "execution_count": null,
      "outputs": [
        {
          "output_type": "stream",
          "name": "stdout",
          "text": [
            "Origin: tensor([[[1., 1., 1.],\n",
            "         [1., 1., 1.],\n",
            "         [1., 1., 1.]],\n",
            "\n",
            "        [[1., 1., 1.],\n",
            "         [1., 1., 1.],\n",
            "         [1., 1., 1.]]])\n",
            "\n",
            "Copy: tensor([[[0., 0., 0.],\n",
            "         [0., 0., 0.],\n",
            "         [0., 0., 0.]],\n",
            "\n",
            "        [[0., 0., 0.],\n",
            "         [0., 0., 0.],\n",
            "         [0., 0., 0.]]])\n",
            "\n"
          ]
        }
      ]
    },
    {
      "cell_type": "markdown",
      "metadata": {
        "id": "r2kfxP8O0cuM"
      },
      "source": [
        "Mean, std, median"
      ]
    },
    {
      "cell_type": "code",
      "metadata": {
        "colab": {
          "base_uri": "https://localhost:8080/"
        },
        "id": "8sjnXsG10auZ",
        "outputId": "f8c70d11-1f6f-452a-891f-28e45fd68e93"
      },
      "source": [
        "print('Mean over all tensor: {}'.format(tensor.mean()))\n",
        "print('Mean over first dimension: {}'.format(tensor.mean(0)))\n",
        "print('Std over all tensor: {}'.format(tensor.std()))\n",
        "print('Median over all tensor: {}'.format(tensor.median()))"
      ],
      "execution_count": null,
      "outputs": [
        {
          "output_type": "stream",
          "name": "stdout",
          "text": [
            "Mean over all tensor: 1.0\n",
            "Mean over first dimension: tensor([[1., 1., 1.],\n",
            "        [1., 1., 1.],\n",
            "        [1., 1., 1.]])\n",
            "Std over all tensor: 0.0\n",
            "Median over all tensor: 1.0\n"
          ]
        }
      ]
    },
    {
      "cell_type": "markdown",
      "metadata": {
        "id": "JYH8fjZ60622"
      },
      "source": [
        "# Devices, autograd"
      ]
    },
    {
      "cell_type": "markdown",
      "metadata": {
        "id": "hiWaVqGl0-bp"
      },
      "source": [
        "Tensors can be stored in general memory, GPU memory, TPU memory.\n",
        "\n",
        "NOTE: use colab with GPU (Runtime -> Change Runtime Type -> Hardware Accelerating)"
      ]
    },
    {
      "cell_type": "code",
      "metadata": {
        "id": "LcnHJjba0iB2"
      },
      "source": [
        "tensor = torch.rand((2, 5, 5))"
      ],
      "execution_count": null,
      "outputs": []
    },
    {
      "cell_type": "code",
      "metadata": {
        "colab": {
          "base_uri": "https://localhost:8080/"
        },
        "id": "iXOih7J13-0s",
        "outputId": "92907e34-c2b5-4c45-a944-ca6dd4a779ef"
      },
      "source": [
        "print(tensor.device)"
      ],
      "execution_count": null,
      "outputs": [
        {
          "output_type": "stream",
          "name": "stdout",
          "text": [
            "cpu\n"
          ]
        }
      ]
    },
    {
      "cell_type": "code",
      "metadata": {
        "colab": {
          "base_uri": "https://localhost:8080/"
        },
        "id": "8ksxxa_Z4Byk",
        "outputId": "88ed9bd8-f35a-4c53-e3aa-502866980e0e"
      },
      "source": [
        "print(tensor.to('cuda:0').device)"
      ],
      "execution_count": null,
      "outputs": [
        {
          "output_type": "stream",
          "name": "stdout",
          "text": [
            "cuda:0\n"
          ]
        }
      ]
    },
    {
      "cell_type": "markdown",
      "metadata": {
        "id": "w2yjT_K94Yb4"
      },
      "source": [
        "Operations with tensors placed in GPU memory are performed on GPU.\n",
        "\n",
        "If you want to conver pytorch tensors to numpy you have to move tensor to cpu"
      ]
    },
    {
      "cell_type": "code",
      "metadata": {
        "colab": {
          "base_uri": "https://localhost:8080/"
        },
        "id": "VYIztkKV4Oc1",
        "outputId": "74e9b573-91f9-41bd-e08a-cf16ce5d170e"
      },
      "source": [
        "try:\n",
        "    tensor.to('cuda:0').numpy()\n",
        "except Exception as e:\n",
        "    print(e)"
      ],
      "execution_count": null,
      "outputs": [
        {
          "output_type": "stream",
          "name": "stdout",
          "text": [
            "can't convert cuda:0 device type tensor to numpy. Use Tensor.cpu() to copy the tensor to host memory first.\n"
          ]
        }
      ]
    },
    {
      "cell_type": "markdown",
      "metadata": {
        "id": "gTNnH7XK5GcF"
      },
      "source": [
        "## Autograd\n",
        "Auto differentiation is a core of ML frameworks. PyTorch can figure out the computation of gradients for a set of operations. Almost all pytorch operations are differentiable."
      ]
    },
    {
      "cell_type": "markdown",
      "metadata": {
        "id": "vBx3ac-A5zb2"
      },
      "source": [
        "required_grad=True make PyTorch to store gradients for this particular tensor. Usually, for input values this parameters is set to False - we don't want to change our real data."
      ]
    },
    {
      "cell_type": "code",
      "metadata": {
        "id": "Z7lt3Rsz4vJD"
      },
      "source": [
        "# tensor = torch.rand((2, 4, 4), requires_grad=True)\n",
        "tensor = torch.ones((2, 4, 4))\n",
        "tensor.requires_grad = True"
      ],
      "execution_count": null,
      "outputs": []
    },
    {
      "cell_type": "code",
      "metadata": {
        "colab": {
          "base_uri": "https://localhost:8080/"
        },
        "id": "h9O_wGiT5uuE",
        "outputId": "5ade2aac-0e96-4752-da31-0b543824b045"
      },
      "source": [
        "# define function y\n",
        "y = 5 * tensor ** 3 - 3\n",
        "print(y)"
      ],
      "execution_count": null,
      "outputs": [
        {
          "output_type": "stream",
          "name": "stdout",
          "text": [
            "tensor([[[2., 2., 2., 2.],\n",
            "         [2., 2., 2., 2.],\n",
            "         [2., 2., 2., 2.],\n",
            "         [2., 2., 2., 2.]],\n",
            "\n",
            "        [[2., 2., 2., 2.],\n",
            "         [2., 2., 2., 2.],\n",
            "         [2., 2., 2., 2.],\n",
            "         [2., 2., 2., 2.]]], grad_fn=<SubBackward0>)\n"
          ]
        }
      ]
    },
    {
      "cell_type": "code",
      "metadata": {
        "colab": {
          "base_uri": "https://localhost:8080/"
        },
        "id": "e7k-aAEi5vrt",
        "outputId": "43a64d2f-15d0-4422-e2ef-ebcadc5d61e1"
      },
      "source": [
        "print(tensor.grad)"
      ],
      "execution_count": null,
      "outputs": [
        {
          "output_type": "stream",
          "name": "stdout",
          "text": [
            "None\n"
          ]
        }
      ]
    },
    {
      "cell_type": "markdown",
      "metadata": {
        "id": "6QGMfZSO62XN"
      },
      "source": [
        "There is no gradient for our tensor, because we have to call .backward() method of variable *y*. This method will calculate gradien of *y* over variable *tensor*\n",
        "\n",
        "NOTE: gradient can be calculated only for a scalar. The output of *y* is a tensor, we can calculate mean, sum, etc"
      ]
    },
    {
      "cell_type": "code",
      "metadata": {
        "colab": {
          "base_uri": "https://localhost:8080/"
        },
        "id": "xB1UFXKD6nhJ",
        "outputId": "ae706b1d-6cfa-4f4f-94b2-d913763fbb06"
      },
      "source": [
        "y.sum().backward()\n",
        "print(tensor.grad)"
      ],
      "execution_count": null,
      "outputs": [
        {
          "output_type": "stream",
          "name": "stdout",
          "text": [
            "tensor([[[15., 15., 15., 15.],\n",
            "         [15., 15., 15., 15.],\n",
            "         [15., 15., 15., 15.],\n",
            "         [15., 15., 15., 15.]],\n",
            "\n",
            "        [[15., 15., 15., 15.],\n",
            "         [15., 15., 15., 15.],\n",
            "         [15., 15., 15., 15.],\n",
            "         [15., 15., 15., 15.]]])\n"
          ]
        }
      ]
    },
    {
      "cell_type": "markdown",
      "metadata": {
        "id": "QO7uXEjG7kb-"
      },
      "source": [
        "NOTE: you can not run .backward() again without calculating y value again"
      ]
    },
    {
      "cell_type": "code",
      "metadata": {
        "colab": {
          "base_uri": "https://localhost:8080/"
        },
        "id": "nkJEzDbb7MDQ",
        "outputId": "a9ef6631-c15b-4ec8-b098-482bc7cc7bbc"
      },
      "source": [
        "try:\n",
        "    y.sum().backward()\n",
        "except Exception as e:\n",
        "    print(e)"
      ],
      "execution_count": null,
      "outputs": [
        {
          "output_type": "stream",
          "name": "stdout",
          "text": [
            "Trying to backward through the graph a second time (or directly access saved variables after they have already been freed). Saved intermediate values of the graph are freed when you call .backward() or autograd.grad(). Specify retain_graph=True if you need to backward through the graph a second time or if you need to access saved variables after calling backward.\n"
          ]
        }
      ]
    },
    {
      "cell_type": "markdown",
      "metadata": {
        "id": "RGL7tHEu8FCo"
      },
      "source": [
        "If you run *y* function one more time the gradient values for *tensor* variable will be summed."
      ]
    },
    {
      "cell_type": "code",
      "metadata": {
        "colab": {
          "base_uri": "https://localhost:8080/"
        },
        "id": "Yc71aSbf7xWM",
        "outputId": "64d8cd91-b323-4912-b4f4-26c2654c971b"
      },
      "source": [
        "y = 5 * tensor ** 3 - 3\n",
        "y.sum().backward()\n",
        "print(tensor.grad)"
      ],
      "execution_count": null,
      "outputs": [
        {
          "output_type": "stream",
          "name": "stdout",
          "text": [
            "tensor([[[30., 30., 30., 30.],\n",
            "         [30., 30., 30., 30.],\n",
            "         [30., 30., 30., 30.],\n",
            "         [30., 30., 30., 30.]],\n",
            "\n",
            "        [[30., 30., 30., 30.],\n",
            "         [30., 30., 30., 30.],\n",
            "         [30., 30., 30., 30.],\n",
            "         [30., 30., 30., 30.]]])\n"
          ]
        }
      ]
    },
    {
      "cell_type": "code",
      "metadata": {
        "id": "fTHZel6rDJ2B"
      },
      "source": [],
      "execution_count": null,
      "outputs": []
    },
    {
      "cell_type": "markdown",
      "metadata": {
        "id": "8bPaaOQo8eAU"
      },
      "source": [
        "# Neural network in PyTorch"
      ]
    },
    {
      "cell_type": "markdown",
      "metadata": {
        "id": "3tHtjzSM8ihW"
      },
      "source": [
        "NN in PyTorch defines as a set of different layers. Each layer is a specific function:\n",
        "\n",
        "\n",
        "*   Linear layer, convolutional layer, etc\n",
        "*   Activation function\n",
        "*   Tensors operations\n",
        "\n",
        "The first type has parameters called weights and biases.The process of NN training is to change weights of NN layers so the prediction of network will match the real object.\n",
        "\n"
      ]
    },
    {
      "cell_type": "markdown",
      "metadata": {
        "id": "0XpSeWOsDL_Q"
      },
      "source": [
        "## Linear layer\n",
        "\n",
        "[torch.nn.Linear](https://pytorch.org/docs/stable/generated/torch.nn.Linear.html#torch.nn.Linear) takes a matrix (N, \\*, H_in) and produce a matrix (N, \\*, H_out).\n",
        "\n",
        "\\* means any number of additional dimensions, H_in - input features, H_out - output features\n",
        "\n",
        "Linear layer is a Wx+b operation, where W - weights of the layer and b - bias. Bias can be ommited with bias=False"
      ]
    },
    {
      "cell_type": "code",
      "metadata": {
        "id": "5lV8Omar72BL",
        "colab": {
          "base_uri": "https://localhost:8080/"
        },
        "outputId": "59fcdd7c-3795-4bf4-e760-194afc4582b4"
      },
      "source": [
        "input_tensor = torch.ones((3, 5))\n",
        "print('input shape: ', input_tensor.shape)"
      ],
      "execution_count": null,
      "outputs": [
        {
          "output_type": "stream",
          "name": "stdout",
          "text": [
            "input shape:  torch.Size([3, 5])\n"
          ]
        }
      ]
    },
    {
      "cell_type": "markdown",
      "metadata": {
        "id": "zysU1W4wE-tO"
      },
      "source": [
        "We fed sample of data with batch_size=3 and features of each sample=5. All samples in a batch processed separately. This is true for all layers and functions of PyTorch."
      ]
    },
    {
      "cell_type": "code",
      "metadata": {
        "colab": {
          "base_uri": "https://localhost:8080/"
        },
        "id": "O3Q_BspZEGtG",
        "outputId": "00a8a1b6-d347-46b5-837a-0154305b712a"
      },
      "source": [
        "layer = torch.nn.Linear(in_features=5, out_features=100, bias=False, device='cuda:0')\n",
        "# you can print layer info\n",
        "layer"
      ],
      "execution_count": null,
      "outputs": [
        {
          "output_type": "execute_result",
          "data": {
            "text/plain": [
              "Linear(in_features=5, out_features=100, bias=False)"
            ]
          },
          "metadata": {},
          "execution_count": 34
        }
      ]
    },
    {
      "cell_type": "markdown",
      "metadata": {
        "id": "uHoAKPcNEd3w"
      },
      "source": [
        "Let's take a look at layers parameters.\n",
        "layer.paramaters() outputs a generator of all weights and biases of this object."
      ]
    },
    {
      "cell_type": "code",
      "metadata": {
        "colab": {
          "base_uri": "https://localhost:8080/"
        },
        "id": "M9Miqm9aEWU7",
        "outputId": "aa224cea-f63d-4ede-c173-15927bc03b9b"
      },
      "source": [
        "print(type(layer.parameters()))\n",
        "# iterate over layer parameters and print shapes\n",
        "for i in layer.parameters():\n",
        "    print(i.shape)"
      ],
      "execution_count": null,
      "outputs": [
        {
          "output_type": "stream",
          "name": "stdout",
          "text": [
            "<class 'generator'>\n",
            "torch.Size([100, 5])\n"
          ]
        }
      ]
    },
    {
      "cell_type": "markdown",
      "metadata": {
        "id": "549qw2jiEzMK"
      },
      "source": [
        "Single layer contains only one weight matrix of shape (H_out, H_in). You can access the weights of a layer directly"
      ]
    },
    {
      "cell_type": "code",
      "metadata": {
        "colab": {
          "base_uri": "https://localhost:8080/"
        },
        "id": "uToH-icxEXDL",
        "outputId": "21561259-fe01-42bf-d19e-477932537961"
      },
      "source": [
        "print(layer.weight.shape)"
      ],
      "execution_count": null,
      "outputs": [
        {
          "output_type": "stream",
          "name": "stdout",
          "text": [
            "torch.Size([100, 5])\n"
          ]
        }
      ]
    },
    {
      "cell_type": "markdown",
      "metadata": {
        "id": "SA5rFboTFrIN"
      },
      "source": [
        "You can move layer from CPU to GPU in the same way as tensor"
      ]
    },
    {
      "cell_type": "code",
      "metadata": {
        "colab": {
          "base_uri": "https://localhost:8080/"
        },
        "id": "7Ra6HMnDFcfw",
        "outputId": "25249445-aa08-40e9-d665-2ac8b27cafea"
      },
      "source": [
        "layer.to('cpu') # or layer.cpu() for simplicity"
      ],
      "execution_count": null,
      "outputs": [
        {
          "output_type": "execute_result",
          "data": {
            "text/plain": [
              "Linear(in_features=5, out_features=100, bias=False)"
            ]
          },
          "metadata": {},
          "execution_count": 37
        }
      ]
    },
    {
      "cell_type": "code",
      "metadata": {
        "colab": {
          "base_uri": "https://localhost:8080/"
        },
        "id": "GfFZEXEBF0hh",
        "outputId": "1fa26e9d-5720-4c79-a2a2-570de1d4e427"
      },
      "source": [
        "layer.to('cuda:0')"
      ],
      "execution_count": null,
      "outputs": [
        {
          "output_type": "execute_result",
          "data": {
            "text/plain": [
              "Linear(in_features=5, out_features=100, bias=False)"
            ]
          },
          "metadata": {},
          "execution_count": 38
        }
      ]
    },
    {
      "cell_type": "markdown",
      "metadata": {
        "id": "hCYu7zUXF2Wx"
      },
      "source": [
        "NOTE: input tensor and layers have to be on the same device"
      ]
    },
    {
      "cell_type": "code",
      "metadata": {
        "colab": {
          "base_uri": "https://localhost:8080/"
        },
        "id": "IWQAYgBhF09E",
        "outputId": "8460e196-1c2f-4209-80c1-521047fc1ed3"
      },
      "source": [
        "try:\n",
        "    output = layer(input_tensor)\n",
        "except Exception as e:\n",
        "    print(e)"
      ],
      "execution_count": null,
      "outputs": [
        {
          "output_type": "stream",
          "name": "stdout",
          "text": [
            "Expected all tensors to be on the same device, but found at least two devices, cpu and cuda:0! (when checking arugment for argument mat2 in method wrapper_mm)\n"
          ]
        }
      ]
    },
    {
      "cell_type": "code",
      "metadata": {
        "colab": {
          "base_uri": "https://localhost:8080/"
        },
        "id": "eoVYpivLGD7J",
        "outputId": "d236c4cb-494e-4753-8d57-88ac6cb41653"
      },
      "source": [
        "output = layer(input_tensor.to('cuda:0'))\n",
        "print(output)"
      ],
      "execution_count": null,
      "outputs": [
        {
          "output_type": "stream",
          "name": "stdout",
          "text": [
            "tensor([[ 0.2249,  0.1494,  0.0546, -0.5408,  0.4931, -1.0947, -0.0707, -0.3990,\n",
            "         -1.1058, -0.4487, -0.0599,  0.9939, -0.4911,  0.2746,  0.6051, -0.1861,\n",
            "         -0.7499,  0.0362, -0.2726, -0.6997, -0.8335,  0.1780,  0.5181, -0.0251,\n",
            "          0.2601, -0.3752, -0.1893,  0.4160, -0.6927, -0.1374,  0.0378, -1.2172,\n",
            "          0.1541,  0.0525,  0.2003, -0.6088,  0.5833,  0.9191, -0.6121,  0.0120,\n",
            "         -0.7556, -0.4457, -0.5579, -1.0691, -0.9166, -0.2394, -0.4141,  0.3409,\n",
            "         -0.1608,  0.4399, -0.5244,  0.8682, -0.1355, -0.3215, -0.0653,  0.7020,\n",
            "          0.6238,  0.8382, -0.0121,  0.6483, -0.0820, -0.3357, -0.6359,  0.7003,\n",
            "         -0.0931, -0.1530, -0.7365, -1.3038, -0.4835,  0.6567, -0.0836, -1.0226,\n",
            "          0.1445,  0.7913, -0.4086,  0.2391, -0.3196, -0.3540, -0.0102,  0.4607,\n",
            "          0.4225, -0.2746,  0.4953, -0.4186,  0.1484, -1.2640, -0.5679,  0.9650,\n",
            "         -1.3487,  0.3041, -0.0664,  0.2455,  0.1330, -0.3949, -0.0134, -0.0120,\n",
            "          0.2873, -1.0092,  0.9754,  0.4565],\n",
            "        [ 0.2249,  0.1494,  0.0546, -0.5408,  0.4931, -1.0947, -0.0707, -0.3990,\n",
            "         -1.1058, -0.4487, -0.0599,  0.9939, -0.4911,  0.2746,  0.6051, -0.1861,\n",
            "         -0.7499,  0.0362, -0.2726, -0.6997, -0.8335,  0.1780,  0.5181, -0.0251,\n",
            "          0.2601, -0.3752, -0.1893,  0.4160, -0.6927, -0.1374,  0.0378, -1.2172,\n",
            "          0.1541,  0.0525,  0.2003, -0.6088,  0.5833,  0.9191, -0.6121,  0.0120,\n",
            "         -0.7556, -0.4457, -0.5579, -1.0691, -0.9166, -0.2394, -0.4141,  0.3409,\n",
            "         -0.1608,  0.4399, -0.5244,  0.8682, -0.1355, -0.3215, -0.0653,  0.7020,\n",
            "          0.6238,  0.8382, -0.0121,  0.6483, -0.0820, -0.3357, -0.6359,  0.7003,\n",
            "         -0.0931, -0.1530, -0.7365, -1.3038, -0.4835,  0.6567, -0.0836, -1.0226,\n",
            "          0.1445,  0.7913, -0.4086,  0.2391, -0.3196, -0.3540, -0.0102,  0.4607,\n",
            "          0.4225, -0.2746,  0.4953, -0.4186,  0.1484, -1.2640, -0.5679,  0.9650,\n",
            "         -1.3487,  0.3041, -0.0664,  0.2455,  0.1330, -0.3949, -0.0134, -0.0120,\n",
            "          0.2873, -1.0092,  0.9754,  0.4565],\n",
            "        [ 0.2249,  0.1494,  0.0546, -0.5408,  0.4931, -1.0947, -0.0707, -0.3990,\n",
            "         -1.1058, -0.4487, -0.0599,  0.9939, -0.4911,  0.2746,  0.6051, -0.1861,\n",
            "         -0.7499,  0.0362, -0.2726, -0.6997, -0.8335,  0.1780,  0.5181, -0.0251,\n",
            "          0.2601, -0.3752, -0.1893,  0.4160, -0.6927, -0.1374,  0.0378, -1.2172,\n",
            "          0.1541,  0.0525,  0.2003, -0.6088,  0.5833,  0.9191, -0.6121,  0.0120,\n",
            "         -0.7556, -0.4457, -0.5579, -1.0691, -0.9166, -0.2394, -0.4141,  0.3409,\n",
            "         -0.1608,  0.4399, -0.5244,  0.8682, -0.1355, -0.3215, -0.0653,  0.7020,\n",
            "          0.6238,  0.8382, -0.0121,  0.6483, -0.0820, -0.3357, -0.6359,  0.7003,\n",
            "         -0.0931, -0.1530, -0.7365, -1.3038, -0.4835,  0.6567, -0.0836, -1.0226,\n",
            "          0.1445,  0.7913, -0.4086,  0.2391, -0.3196, -0.3540, -0.0102,  0.4607,\n",
            "          0.4225, -0.2746,  0.4953, -0.4186,  0.1484, -1.2640, -0.5679,  0.9650,\n",
            "         -1.3487,  0.3041, -0.0664,  0.2455,  0.1330, -0.3949, -0.0134, -0.0120,\n",
            "          0.2873, -1.0092,  0.9754,  0.4565]], device='cuda:0',\n",
            "       grad_fn=<MmBackward>)\n"
          ]
        }
      ]
    },
    {
      "cell_type": "markdown",
      "metadata": {
        "id": "4Dp2xOg_GZBx"
      },
      "source": [
        "## Convolution layer\n",
        "Apply convolution over an input (N, C_in, H_in, W_in), the results is (N, C_out, H_out, W_out).\n",
        "\n",
        "PyTorch use channel-first notation in case of conv layers"
      ]
    },
    {
      "cell_type": "code",
      "metadata": {
        "id": "8NHYLoQWGU4I"
      },
      "source": [
        "input_tensor = torch.rand((5, 3, 224, 224))\n",
        "layer_conv = torch.nn.Conv2d(in_channels=3, out_channels=100, kernel_size=(3, 3), stride=1, padding=(1, 1))"
      ],
      "execution_count": null,
      "outputs": []
    },
    {
      "cell_type": "code",
      "metadata": {
        "colab": {
          "base_uri": "https://localhost:8080/"
        },
        "id": "GrgcUlGJHEz-",
        "outputId": "88a25a5e-246c-4c41-cca4-2c04355c2d30"
      },
      "source": [
        "output = layer_conv(input_tensor)\n",
        "print(output.shape)"
      ],
      "execution_count": null,
      "outputs": [
        {
          "output_type": "stream",
          "name": "stdout",
          "text": [
            "torch.Size([5, 100, 224, 224])\n"
          ]
        }
      ]
    },
    {
      "cell_type": "markdown",
      "metadata": {
        "id": "E3x_EUpWHQdN"
      },
      "source": [
        "## Recurrent layer\n",
        "Recurrent neural network is used for sequence processing. Input shape is (L, N, H_in) or (N, L, H_in) if batch_first=True. Our recommendation to use second notations, which is more intuitive."
      ]
    },
    {
      "cell_type": "code",
      "metadata": {
        "id": "fL4rR-icHOQj"
      },
      "source": [
        "# you can read this as 5 sample of sequential data, each sample have 3 elements and \\\n",
        "# each element represented with 224 features\n",
        "input_tensor = torch.rand((5, 3, 224))\n",
        "layer_rnn = torch.nn.RNN(input_size=224, hidden_size=512, num_layers=2, batch_first=True)"
      ],
      "execution_count": null,
      "outputs": []
    },
    {
      "cell_type": "code",
      "metadata": {
        "colab": {
          "base_uri": "https://localhost:8080/"
        },
        "id": "NBsQgvk2IOSr",
        "outputId": "709461de-537f-42ca-887c-2bd8336b7365"
      },
      "source": [
        "output, hidden_states = layer_rnn(input_tensor)\n",
        "print(output.shape, hidden_states.shape)"
      ],
      "execution_count": null,
      "outputs": [
        {
          "output_type": "stream",
          "name": "stdout",
          "text": [
            "torch.Size([5, 3, 512]) torch.Size([2, 5, 512])\n"
          ]
        }
      ]
    },
    {
      "cell_type": "markdown",
      "metadata": {
        "id": "X7se-BuRIsMV"
      },
      "source": [
        "## Neural network"
      ]
    },
    {
      "cell_type": "markdown",
      "metadata": {
        "id": "DPbHhhbxIxch"
      },
      "source": [
        "You can write a NN as a set of layers and then apply them sequentially"
      ]
    },
    {
      "cell_type": "code",
      "metadata": {
        "id": "cWCbiwnNIXKt"
      },
      "source": [
        "input_tensor = torch.rand((1, 3, 224, 224))\n",
        "\n",
        "layer1 = torch.nn.ConvTranspose1d(3, 16, (3, 3), 1)\n",
        "layer2 = torch.nn.ConvTranspose1d(16, 64, (3, 3), 1)\n",
        "\n",
        "output = layer2(layer1(input_tensor))"
      ],
      "execution_count": null,
      "outputs": []
    },
    {
      "cell_type": "code",
      "metadata": {
        "colab": {
          "base_uri": "https://localhost:8080/"
        },
        "id": "UlzFwmoEJAcI",
        "outputId": "d0f3be77-f981-47b1-9a38-58c8a09cceeb"
      },
      "source": [
        "print(output.shape)"
      ],
      "execution_count": null,
      "outputs": [
        {
          "output_type": "stream",
          "name": "stdout",
          "text": [
            "torch.Size([1, 64, 228, 228])\n"
          ]
        }
      ]
    },
    {
      "cell_type": "markdown",
      "metadata": {
        "id": "3Yz9gKjBJV6r"
      },
      "source": [
        "## Let's put them together"
      ]
    },
    {
      "cell_type": "code",
      "metadata": {
        "id": "Me27-JJ7JQYb"
      },
      "source": [
        "class MyNN(torch.nn.Module):\n",
        "    def __init__(self):\n",
        "        super(MyNN, self).__init__()\n",
        "\n",
        "        self.layer1 = torch.nn.ConvTranspose1d(3, 16, (3, 3), 1)\n",
        "        self.layer2 = torch.nn.ConvTranspose1d(16, 64, (3, 3), 1)\n",
        "        self.layer3 = torch.nn.Linear(3326976, 5)\n",
        "\n",
        "        self.activation = torch.nn.ReLU6()\n",
        "        self.activation_class = torch.nn.Softmax(1)\n",
        "\n",
        "    def forward(self, input):\n",
        "        y = self.layer1(input)\n",
        "        y = self.layer2(y)\n",
        "        y = self.activation(y)\n",
        "\n",
        "        y = torch.reshape(y, (y.shape[0], y.shape[1] * y.shape[2] * y.shape[3]))\n",
        "\n",
        "        y = self.layer3(y)\n",
        "        y = self.activation_class(y)\n",
        "        return y"
      ],
      "execution_count": null,
      "outputs": []
    },
    {
      "cell_type": "code",
      "metadata": {
        "colab": {
          "base_uri": "https://localhost:8080/"
        },
        "id": "GI-i7hBIGGce",
        "outputId": "7282e0a9-a7d8-414d-fd2b-cfb5ad90ebdb"
      },
      "source": [
        "mynn = MyNN()\n",
        "mynn"
      ],
      "execution_count": null,
      "outputs": [
        {
          "output_type": "execute_result",
          "data": {
            "text/plain": [
              "MyNN(\n",
              "  (layer1): ConvTranspose1d(3, 16, kernel_size=(3, 3), stride=(1,))\n",
              "  (layer2): ConvTranspose1d(16, 64, kernel_size=(3, 3), stride=(1,))\n",
              "  (layer3): Linear(in_features=3326976, out_features=5, bias=True)\n",
              "  (activation): ReLU6()\n",
              "  (activation_class): Softmax(dim=1)\n",
              ")"
            ]
          },
          "metadata": {},
          "execution_count": 113
        }
      ]
    },
    {
      "cell_type": "code",
      "metadata": {
        "colab": {
          "base_uri": "https://localhost:8080/"
        },
        "id": "uAqY-hk1GKLs",
        "outputId": "d62e1cec-fdc8-4c76-d13b-15eceec37e4b"
      },
      "source": [
        "predict = mynn(input_tensor)\n",
        "print(predict)"
      ],
      "execution_count": null,
      "outputs": [
        {
          "output_type": "stream",
          "name": "stdout",
          "text": [
            "tensor([[0.1998, 0.1975, 0.2110, 0.1965, 0.1952]], grad_fn=<SoftmaxBackward>)\n"
          ]
        }
      ]
    },
    {
      "cell_type": "code",
      "metadata": {
        "colab": {
          "base_uri": "https://localhost:8080/"
        },
        "id": "e6771o1mGQ3I",
        "outputId": "f0a7b4fb-8271-4f39-f9c6-5301556cbabe"
      },
      "source": [
        "real_classes = torch.tensor([2], dtype=torch.long)\n",
        "\n",
        "print(real_classes)"
      ],
      "execution_count": null,
      "outputs": [
        {
          "output_type": "stream",
          "name": "stdout",
          "text": [
            "tensor([2])\n"
          ]
        }
      ]
    },
    {
      "cell_type": "markdown",
      "metadata": {
        "id": "oQkup_HTHnUS"
      },
      "source": [
        "## Loss"
      ]
    },
    {
      "cell_type": "code",
      "metadata": {
        "id": "5RLm4dkdHg86"
      },
      "source": [
        "loss_function = torch.nn.CrossEntropyLoss()"
      ],
      "execution_count": null,
      "outputs": []
    },
    {
      "cell_type": "code",
      "metadata": {
        "id": "5Pq8EnjwHvcU"
      },
      "source": [
        "loss_value = loss_function(predict, real_classes)"
      ],
      "execution_count": null,
      "outputs": []
    },
    {
      "cell_type": "code",
      "metadata": {
        "colab": {
          "base_uri": "https://localhost:8080/"
        },
        "id": "VLLVyJQRIZDK",
        "outputId": "cda281df-514c-4b6a-c81b-5acef886b8a8"
      },
      "source": [
        "loss_value"
      ],
      "execution_count": null,
      "outputs": [
        {
          "output_type": "execute_result",
          "data": {
            "text/plain": [
              "tensor(1.5984, grad_fn=<NllLossBackward>)"
            ]
          },
          "metadata": {},
          "execution_count": 126
        }
      ]
    },
    {
      "cell_type": "code",
      "metadata": {
        "id": "Bx1Y_U9bJD1L"
      },
      "source": [
        "class MyNN(torch.nn.Module):\n",
        "    def __init__(self):\n",
        "        super(MyNN, self).__init__()\n",
        "\n",
        "        self.layer1 = torch.nn.Sequential(\n",
        "            *[torch.nn.Linear(50, 50) for i in range(100)]\n",
        "        )\n",
        "        self.layer2 = torch.nn.Linear(50, 2)\n",
        "\n",
        "    def forward(self, input):\n",
        "        y = self.layer1(input)\n",
        "        y = self.layer2(y)\n",
        "        return y"
      ],
      "execution_count": null,
      "outputs": []
    },
    {
      "cell_type": "code",
      "metadata": {
        "id": "TWhFzLxUJ-bk"
      },
      "source": [
        "mynn = MyNN()\n",
        "mynn"
      ],
      "execution_count": null,
      "outputs": []
    },
    {
      "cell_type": "code",
      "metadata": {
        "id": "PCDXIP65KCLr"
      },
      "source": [
        "pred = mynn(torch.rand((1, 50)))"
      ],
      "execution_count": null,
      "outputs": []
    },
    {
      "cell_type": "code",
      "metadata": {
        "id": "XEwSoT8xKN8D"
      },
      "source": [
        "loss = loss_function(pred, torch.tensor([1]))"
      ],
      "execution_count": null,
      "outputs": []
    },
    {
      "cell_type": "code",
      "metadata": {
        "id": "JYcwD1q_KTBD"
      },
      "source": [
        "loss.backward()"
      ],
      "execution_count": null,
      "outputs": []
    },
    {
      "cell_type": "code",
      "metadata": {
        "colab": {
          "base_uri": "https://localhost:8080/"
        },
        "id": "BA85GrGGKZ-7",
        "outputId": "8f38a5b7-7209-457d-c3b7-63a9118c3648"
      },
      "source": [
        "mynn.layer1[-1].weight.grad.max(), mynn.layer1[-1].weight.grad.min()"
      ],
      "execution_count": null,
      "outputs": [
        {
          "output_type": "execute_result",
          "data": {
            "text/plain": [
              "(tensor(0.0271), tensor(-0.0244))"
            ]
          },
          "metadata": {},
          "execution_count": 144
        }
      ]
    },
    {
      "cell_type": "code",
      "metadata": {
        "colab": {
          "base_uri": "https://localhost:8080/"
        },
        "id": "574cnOAIKbPg",
        "outputId": "530ed393-c8c6-4f60-e9c4-64c64f033804"
      },
      "source": [
        "mynn.layer1[0].weight.grad.max(), mynn.layer1[0].weight.grad.min()"
      ],
      "execution_count": null,
      "outputs": [
        {
          "output_type": "execute_result",
          "data": {
            "text/plain": [
              "(tensor(9.4923e-26), tensor(-7.6500e-26))"
            ]
          },
          "metadata": {},
          "execution_count": 145
        }
      ]
    },
    {
      "cell_type": "code",
      "metadata": {
        "colab": {
          "base_uri": "https://localhost:8080/"
        },
        "id": "4MAFdlFdKsoF",
        "outputId": "a72ab301-d8bd-419b-d00d-f4c07dd3a498"
      },
      "source": [
        "mynn.layer1[50].weight.grad.max(), mynn.layer1[50].weight.grad.min()"
      ],
      "execution_count": null,
      "outputs": [
        {
          "output_type": "execute_result",
          "data": {
            "text/plain": [
              "(tensor(1.7274e-14), tensor(-1.2149e-14))"
            ]
          },
          "metadata": {},
          "execution_count": 146
        }
      ]
    },
    {
      "cell_type": "code",
      "metadata": {
        "id": "JJFdUoTQKwW4"
      },
      "source": [],
      "execution_count": null,
      "outputs": []
    }
  ]
}