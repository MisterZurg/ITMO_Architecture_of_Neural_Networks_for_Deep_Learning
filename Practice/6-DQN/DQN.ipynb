{
  "nbformat": 4,
  "nbformat_minor": 0,
  "metadata": {
    "colab": {
      "provenance": []
    },
    "kernelspec": {
      "name": "python3",
      "display_name": "Python 3"
    },
    "language_info": {
      "name": "python"
    },
    "accelerator": "GPU",
    "gpuClass": "standard"
  },
  "cells": [
    {
      "cell_type": "markdown",
      "source": [
        "Using DQN to solve rocket trajectory optimization problem"
      ],
      "metadata": {
        "id": "M4cEfD5Zj4_p"
      }
    },
    {
      "cell_type": "code",
      "source": [
        "! pip install gym[box2d] >> None"
      ],
      "metadata": {
        "id": "IMMcO7WYgdV_"
      },
      "execution_count": null,
      "outputs": []
    },
    {
      "cell_type": "code",
      "source": [
        "from gym import make\n",
        "import numpy as np\n",
        "import torch\n",
        "from torch import nn\n",
        "from torch.nn import functional as F\n",
        "from torch.optim import Adam\n",
        "from collections import deque\n",
        "import random\n",
        "import copy\n",
        "\n",
        "from gym.wrappers.monitoring import video_recorder\n",
        "from IPython.display import HTML, display\n",
        "import glob\n",
        "import base64, io"
      ],
      "metadata": {
        "id": "h6V6L-7sgQKu"
      },
      "execution_count": null,
      "outputs": []
    },
    {
      "cell_type": "markdown",
      "source": [
        "## Exploring the environment"
      ],
      "metadata": {
        "id": "IiEq-Arwg3dH"
      }
    },
    {
      "cell_type": "code",
      "source": [
        "%%html\n",
        "<video controls autoplay><source src=\"https://huggingface.co/ThomasSimonini/ppo-LunarLander-v2/resolve/main/replay.mp4\" type=\"video/mp4\"></video>"
      ],
      "metadata": {
        "colab": {
          "base_uri": "https://localhost:8080/",
          "height": 421
        },
        "id": "2lPECWuyjsJF",
        "outputId": "5c6cadeb-0b8f-4740-e164-3fc3cd34ad21"
      },
      "execution_count": null,
      "outputs": [
        {
          "output_type": "display_data",
          "data": {
            "text/plain": [
              "<IPython.core.display.HTML object>"
            ],
            "text/html": [
              "<video controls autoplay><source src=\"https://huggingface.co/ThomasSimonini/ppo-LunarLander-v2/resolve/main/replay.mp4\" type=\"video/mp4\"></video>\n"
            ]
          },
          "metadata": {}
        }
      ]
    },
    {
      "cell_type": "code",
      "source": [
        "# environment initialization\n",
        "env = make(\"LunarLander-v2\")"
      ],
      "metadata": {
        "id": "STFhBijkg7rG"
      },
      "execution_count": null,
      "outputs": []
    },
    {
      "cell_type": "code",
      "source": [
        "# action space\n",
        "env.action_space # (1) do nothing, (2) fire left orientation engine, (3) fire main engine, (4) fire right orientation engine\n",
        "print(f'Action space shape: {env.action_space.n}')"
      ],
      "metadata": {
        "colab": {
          "base_uri": "https://localhost:8080/"
        },
        "id": "Iiscq5cvh4QC",
        "outputId": "c697c28f-266d-49c7-cf21-bbeb3e5e2dac"
      },
      "execution_count": null,
      "outputs": [
        {
          "output_type": "execute_result",
          "data": {
            "text/plain": [
              "Discrete(4)"
            ]
          },
          "metadata": {},
          "execution_count": 7
        }
      ]
    },
    {
      "cell_type": "code",
      "source": [
        "# observation space\n",
        "print(env.observation_space) # the coordinates of the lander in x & y, its linear velocities in x & y, its angle, its angular velocity, and two booleans that represent whether each leg is in contact with the ground or not\n",
        "print(f'Observation space shape: {env.observation_space.shape[0]}')"
      ],
      "metadata": {
        "colab": {
          "base_uri": "https://localhost:8080/"
        },
        "id": "VooaZyYrjaVX",
        "outputId": "1fac3097-5248-4e82-90f4-2321854a1e9f"
      },
      "execution_count": null,
      "outputs": [
        {
          "output_type": "stream",
          "name": "stdout",
          "text": [
            "Box([-1.5       -1.5       -5.        -5.        -3.1415927 -5.\n",
            " -0.        -0.       ], [1.5       1.5       5.        5.        3.1415927 5.        1.\n",
            " 1.       ], (8,), float32)\n",
            "Observation space shape 8\n"
          ]
        }
      ]
    },
    {
      "cell_type": "code",
      "source": [
        "# rewards\n",
        "# Solved is 200 points"
      ],
      "metadata": {
        "id": "hii5TCUqpUna"
      },
      "execution_count": null,
      "outputs": []
    },
    {
      "cell_type": "code",
      "source": [
        "# interaction with the environment\n",
        "env.reset()\n",
        "action =  env.action_space.sample()\n",
        "next_state, reward, done, _ = env.step(action)\n",
        "print('Next state: ', next_state)\n",
        "print('Reward: ', reward)\n",
        "print('Is done: ', done)"
      ],
      "metadata": {
        "colab": {
          "base_uri": "https://localhost:8080/"
        },
        "id": "LOJsVJRQqzD6",
        "outputId": "76d0ac41-82db-4d37-b980-a325b8dbc928"
      },
      "execution_count": null,
      "outputs": [
        {
          "output_type": "stream",
          "name": "stdout",
          "text": [
            "Next state:  [-0.00882721  1.3892448  -0.4527549  -0.4946026   0.01215031  0.14158219\n",
            "  0.          0.        ]\n",
            "Reward:  -2.197294432446283\n",
            "Is done:  False\n"
          ]
        }
      ]
    },
    {
      "cell_type": "markdown",
      "source": [
        "More info can be found in documentation: https://www.gymlibrary.dev/environments/box2d/lunar_lander/"
      ],
      "metadata": {
        "id": "-AO0UYv3hAc2"
      }
    },
    {
      "cell_type": "markdown",
      "source": [
        "## Train"
      ],
      "metadata": {
        "id": "XpvmtbPGeQja"
      }
    },
    {
      "cell_type": "code",
      "source": [
        "GAMMA = 0.99\n",
        "INITIAL_STEPS = 10000\n",
        "TRANSITIONS = 500000\n",
        "STEPS_PER_UPDATE = 4\n",
        "STEPS_PER_TARGET_UPDATE = STEPS_PER_UPDATE * 1000\n",
        "BATCH_SIZE = 512\n",
        "LEARNING_RATE = 1e-4\n",
        "\n",
        "device = \"cuda\" if torch.cuda.is_available() else \"cpu\"\n",
        "\n",
        "class DQN:\n",
        "    def __init__(self, state_dim, action_dim,\n",
        "                 hid_size1=512, hid_size2=256, hid_size3=128, maxlen=10000):\n",
        "        self.steps = 0\n",
        "        self.model = nn.Sequential(\n",
        "            nn.Linear(state_dim, hid_size1),\n",
        "            nn.ReLU(),\n",
        "            nn.Linear(hid_size1, hid_size2),\n",
        "            nn.ReLU(),\n",
        "            nn.Linear(hid_size2, hid_size3),\n",
        "            nn.ReLU(),\n",
        "            nn.Linear(hid_size3, action_dim)\n",
        "        ).to(device)  # agent\n",
        "        self.target = copy.deepcopy(self.model)\n",
        "        self.reply = deque([], maxlen=maxlen) # replay buffer\n",
        "        self.optimizer = Adam(self.model.parameters(), lr=LEARNING_RATE)\n",
        "        self.criterion = F.mse_loss\n",
        "        self.fitness = -1000\n",
        "\n",
        "    def consume_transition(self, transition):\n",
        "        # Add transition to a replay buffer\n",
        "        # Hint: use deque with specified maxlen. It will remove old experience automatically.\n",
        "        self.reply.append(transition)\n",
        "\n",
        "    def sample_batch(self):\n",
        "        # Sample batch from a replay buffer.\n",
        "        sample = random.sample(self.reply, BATCH_SIZE)\n",
        "        return list(zip(*sample))\n",
        "\n",
        "    def _prepare_data(self, batch):\n",
        "        state, action, next_state, reward, done = batch\n",
        "        state = torch.tensor(np.array(state), device=device, dtype=torch.float32)\n",
        "        action = torch.tensor(action, device=device, dtype=torch.int64)\n",
        "        next_state = torch.tensor(np.array(next_state), device=device, dtype=torch.float32)\n",
        "        reward = torch.tensor(reward, device=device, dtype=torch.float32)\n",
        "        done = torch.tensor(done, device=device, dtype=torch.float32)\n",
        "        return state, action, next_state, reward, done\n",
        "\n",
        "    def train_step(self, batch):\n",
        "        # Use batch to update DQN's network.\n",
        "        state, action, next_state, reward, done = self._prepare_data(batch)\n",
        "\n",
        "        with torch.no_grad():\n",
        "            q_target = self.target(next_state).max(dim=1).values\n",
        "            # q_target[done == 1] = 0\n",
        "            q_target = reward + q_target * (1 - done) * GAMMA\n",
        "\n",
        "        q_model = self.model(state)[torch.arange(len(action)), action]\n",
        "        loss = self.criterion(q_model, q_target)\n",
        "        self.optimizer.zero_grad()\n",
        "        loss.backward()\n",
        "        nn.utils.clip_grad_value_(self.model.parameters(), 5)\n",
        "        self.optimizer.step()\n",
        "\n",
        "    def update_target_network(self):\n",
        "        # Update weights of a target Q-network here. You may use copy.deepcopy to do this or\n",
        "        # assign a values of network parameters via PyTorch methods.\n",
        "        self.target.load_state_dict(copy.deepcopy(self.model.state_dict()))\n",
        "        self.target.to(device)\n",
        "\n",
        "    def act(self, state, target=False):\n",
        "        # Compute an action. Do not forget to turn state to a Tensor and then turn an action to a numpy array.\n",
        "        with torch.no_grad():\n",
        "            state = torch.tensor(state, device=device, dtype=torch.float32)\n",
        "            action = torch.argmax(self.model(state)).cpu().numpy().item()\n",
        "        return action\n",
        "\n",
        "    def update(self, transition):\n",
        "        self.consume_transition(transition)\n",
        "        if self.steps % STEPS_PER_UPDATE == 0:\n",
        "            batch = self.sample_batch()\n",
        "            self.train_step(batch)\n",
        "        if self.steps % STEPS_PER_TARGET_UPDATE == 0:\n",
        "            self.update_target_network()\n",
        "        self.steps += 1\n",
        "\n",
        "    def save(self, fitness):\n",
        "        if fitness >= self.fitness:\n",
        "            self.fitness = fitness\n",
        "            torch.save(self.model, \"agent.pkl\")\n",
        "\n",
        "\n",
        "def evaluate_policy(agent, episodes=5):\n",
        "    env = make(\"LunarLander-v2\")\n",
        "    returns = []\n",
        "    for _ in range(episodes):\n",
        "        done = False\n",
        "        state = env.reset()\n",
        "        total_reward = 0\n",
        "\n",
        "        while not done:\n",
        "            state, reward, done, _ = env.step(agent.act(state))\n",
        "            total_reward += reward\n",
        "        returns.append(total_reward)\n",
        "    return returns"
      ],
      "metadata": {
        "id": "2Kxn2jA3eLn4"
      },
      "execution_count": null,
      "outputs": []
    },
    {
      "cell_type": "code",
      "source": [
        "env = make(\"LunarLander-v2\")\n",
        "dqn = DQN(state_dim=env.observation_space.shape[0], action_dim=env.action_space.n)\n",
        "eps = 0.1\n",
        "state = env.reset()\n",
        "\n",
        "for _ in range(INITIAL_STEPS):\n",
        "    action = env.action_space.sample()\n",
        "\n",
        "    next_state, reward, done, _ = env.step(action)\n",
        "    dqn.consume_transition((state, action, next_state, reward, done))\n",
        "\n",
        "    state = next_state if not done else env.reset()\n",
        "\n",
        "for i in range(TRANSITIONS):\n",
        "    # Epsilon-greedy policy\n",
        "    if random.random() < eps:\n",
        "        action = env.action_space.sample()\n",
        "    else:\n",
        "        action = dqn.act(state)\n",
        "\n",
        "    next_state, reward, done, _ = env.step(action)\n",
        "    dqn.update((state, action, next_state, reward, done))\n",
        "\n",
        "    state = next_state if not done else env.reset()\n",
        "\n",
        "    if (i + 1) % (TRANSITIONS // 100) == 0:\n",
        "        rewards = evaluate_policy(dqn, 5)\n",
        "        print(f\"Step: {i + 1}, Reward mean: {np.mean(rewards)}, Reward std: {np.std(rewards)}\")\n",
        "        dqn.save(np.mean(rewards))\n"
      ],
      "metadata": {
        "colab": {
          "base_uri": "https://localhost:8080/"
        },
        "id": "YnidUH3_ebCb",
        "outputId": "5d1fd486-2c86-4dba-fcb5-fdafc2e82429"
      },
      "execution_count": null,
      "outputs": [
        {
          "output_type": "stream",
          "name": "stdout",
          "text": [
            "Step: 5000, Reward mean: -275.2288397325195, Reward std: 130.8994045809992\n",
            "Step: 10000, Reward mean: -200.14622776888612, Reward std: 146.8308612656839\n",
            "Step: 15000, Reward mean: -228.58417685190096, Reward std: 119.65154263476151\n",
            "Step: 20000, Reward mean: 37.719320269682484, Reward std: 46.10377428169155\n",
            "Step: 25000, Reward mean: -71.00798817488638, Reward std: 172.2059975229927\n",
            "Step: 30000, Reward mean: -80.86016332419028, Reward std: 86.48147873506352\n",
            "Step: 35000, Reward mean: -55.55695911128587, Reward std: 40.73076848302494\n",
            "Step: 40000, Reward mean: -11.910865125028595, Reward std: 126.8329021483398\n",
            "Step: 45000, Reward mean: -55.61083540991588, Reward std: 61.23155929297405\n",
            "Step: 50000, Reward mean: -69.46612800001526, Reward std: 51.401250273804436\n",
            "Step: 55000, Reward mean: -30.77222590557896, Reward std: 30.166374838048764\n",
            "Step: 60000, Reward mean: -82.2421064390716, Reward std: 30.24517830231615\n",
            "Step: 65000, Reward mean: -59.198252339708844, Reward std: 17.17759046426846\n",
            "Step: 70000, Reward mean: -59.47827334156765, Reward std: 33.804880916902576\n",
            "Step: 75000, Reward mean: -52.168317024633915, Reward std: 27.11830765012941\n",
            "Step: 80000, Reward mean: -29.909335314685496, Reward std: 37.916330055599886\n",
            "Step: 85000, Reward mean: -57.88485429964585, Reward std: 38.61306867647558\n",
            "Step: 90000, Reward mean: -40.63561997332631, Reward std: 18.910845011655127\n",
            "Step: 95000, Reward mean: -65.11913372016068, Reward std: 19.012110198998126\n",
            "Step: 100000, Reward mean: -96.80531832006255, Reward std: 72.65193780883868\n",
            "Step: 105000, Reward mean: -38.57048899689138, Reward std: 117.97987551928703\n",
            "Step: 110000, Reward mean: -4.19153330394372, Reward std: 125.06254650899352\n",
            "Step: 115000, Reward mean: -31.91280048180879, Reward std: 11.173771174983772\n",
            "Step: 120000, Reward mean: -43.70518228029111, Reward std: 41.48915001727954\n",
            "Step: 125000, Reward mean: 59.31514412724253, Reward std: 114.2391894164599\n",
            "Step: 130000, Reward mean: 3.8533481106642355, Reward std: 18.508056243034414\n",
            "Step: 135000, Reward mean: -14.915277998664061, Reward std: 33.020518699254225\n",
            "Step: 140000, Reward mean: -15.295678432958724, Reward std: 28.677616396739285\n",
            "Step: 145000, Reward mean: -37.98052638111182, Reward std: 30.96831647778354\n",
            "Step: 150000, Reward mean: -17.842950577795364, Reward std: 19.53093178903226\n",
            "Step: 155000, Reward mean: -0.11366959409237012, Reward std: 24.041729550881936\n",
            "Step: 160000, Reward mean: 27.425335644516316, Reward std: 71.99689016706553\n",
            "Step: 165000, Reward mean: 95.05586013554057, Reward std: 115.14008127554408\n",
            "Step: 170000, Reward mean: -27.3144565409861, Reward std: 121.87793770443155\n",
            "Step: 175000, Reward mean: 179.6252181009226, Reward std: 34.920400172451856\n",
            "Step: 180000, Reward mean: 76.05316257851291, Reward std: 101.6190723257549\n",
            "Step: 185000, Reward mean: 87.93977039313351, Reward std: 113.4282601668017\n",
            "Step: 190000, Reward mean: 138.13379597088647, Reward std: 118.78965509282702\n",
            "Step: 195000, Reward mean: 140.67767444628225, Reward std: 154.45984844017352\n",
            "Step: 200000, Reward mean: 112.78670494763806, Reward std: 154.37645589473902\n",
            "Step: 205000, Reward mean: 220.23569851788085, Reward std: 55.02390702545955\n",
            "Step: 210000, Reward mean: 181.0238633629569, Reward std: 117.3161308619989\n",
            "Step: 215000, Reward mean: 189.84678223319708, Reward std: 124.60166754935709\n",
            "Step: 220000, Reward mean: 98.59831015113667, Reward std: 151.12294537965298\n",
            "Step: 225000, Reward mean: 225.11265688224725, Reward std: 12.155897940631197\n",
            "Step: 230000, Reward mean: 184.75825037064547, Reward std: 71.59469040092368\n",
            "Step: 235000, Reward mean: 176.89036760153562, Reward std: 97.49490483579721\n",
            "Step: 240000, Reward mean: 198.46725986937736, Reward std: 101.1611429225311\n",
            "Step: 245000, Reward mean: 105.9489796923649, Reward std: 122.28468093326647\n",
            "Step: 250000, Reward mean: 227.2981022675493, Reward std: 15.925969004475029\n",
            "Step: 255000, Reward mean: 157.5168425896012, Reward std: 71.81585088366886\n",
            "Step: 260000, Reward mean: 183.52363910887664, Reward std: 42.306450170364585\n",
            "Step: 265000, Reward mean: 218.68733421844718, Reward std: 27.845403285311104\n",
            "Step: 270000, Reward mean: 184.83564343370603, Reward std: 75.54431395240468\n",
            "Step: 275000, Reward mean: 100.09168895855552, Reward std: 67.78442587654649\n",
            "Step: 280000, Reward mean: 207.08186646778904, Reward std: 51.1233187264649\n",
            "Step: 285000, Reward mean: 221.60953079400687, Reward std: 29.71945849742788\n",
            "Step: 290000, Reward mean: 172.91470257436936, Reward std: 85.73638835929694\n",
            "Step: 295000, Reward mean: 187.12870554212046, Reward std: 110.26907593119924\n",
            "Step: 300000, Reward mean: 179.73938864932256, Reward std: 64.36518401265238\n",
            "Step: 305000, Reward mean: 133.3727258126775, Reward std: 114.48025754360658\n",
            "Step: 310000, Reward mean: 216.58983110282514, Reward std: 37.14460086218774\n",
            "Step: 315000, Reward mean: 203.80312988406575, Reward std: 52.885491298352875\n",
            "Step: 320000, Reward mean: 242.94001025737953, Reward std: 28.88603706146\n",
            "Step: 325000, Reward mean: 257.2195614359984, Reward std: 15.144138238124562\n",
            "Step: 330000, Reward mean: 248.17737704345905, Reward std: 14.49875928303711\n",
            "Step: 335000, Reward mean: 243.50465633229388, Reward std: 16.753921137759463\n",
            "Step: 340000, Reward mean: 189.19194570758182, Reward std: 100.43398887211754\n",
            "Step: 345000, Reward mean: 165.74818163513083, Reward std: 94.59557305204224\n",
            "Step: 350000, Reward mean: 197.52098318358463, Reward std: 32.52688455754511\n",
            "Step: 355000, Reward mean: 149.8655976644412, Reward std: 81.97295055496114\n",
            "Step: 360000, Reward mean: 169.41673325638004, Reward std: 110.9515923319305\n",
            "Step: 365000, Reward mean: 193.66385795436554, Reward std: 101.78813116109457\n",
            "Step: 370000, Reward mean: 210.40777457730755, Reward std: 58.010035405949296\n",
            "Step: 375000, Reward mean: 251.6697201714811, Reward std: 11.972100414713701\n",
            "Step: 380000, Reward mean: 159.7860039057893, Reward std: 113.91451414021117\n",
            "Step: 385000, Reward mean: 224.75801980881525, Reward std: 53.62436135247441\n",
            "Step: 390000, Reward mean: 202.6169284474538, Reward std: 93.95554538464704\n",
            "Step: 395000, Reward mean: 169.50155413996805, Reward std: 135.84982101871523\n",
            "Step: 400000, Reward mean: 207.2539435611161, Reward std: 102.05938632638836\n",
            "Step: 405000, Reward mean: 240.17556862458682, Reward std: 46.02707944619747\n",
            "Step: 410000, Reward mean: 263.7331838390272, Reward std: 10.900336635845248\n",
            "Step: 415000, Reward mean: 188.4701027613977, Reward std: 82.84494898332035\n",
            "Step: 420000, Reward mean: 254.3111809205674, Reward std: 9.626277504504255\n",
            "Step: 425000, Reward mean: 154.87842005576383, Reward std: 134.29028009121404\n",
            "Step: 430000, Reward mean: 22.831518385723232, Reward std: 127.90785863950231\n",
            "Step: 435000, Reward mean: 140.27594579673138, Reward std: 164.86418947006337\n",
            "Step: 440000, Reward mean: 164.8231550488601, Reward std: 120.49273507446348\n",
            "Step: 445000, Reward mean: 194.8324873501323, Reward std: 74.75221454991849\n",
            "Step: 450000, Reward mean: 19.269746380395492, Reward std: 179.00739569996242\n",
            "Step: 455000, Reward mean: 101.17272995288275, Reward std: 149.152628537191\n",
            "Step: 460000, Reward mean: 138.58423344241484, Reward std: 122.05751507703683\n",
            "Step: 465000, Reward mean: 91.18278256970287, Reward std: 129.36537957151967\n",
            "Step: 470000, Reward mean: 178.63079828733706, Reward std: 107.7549587721187\n",
            "Step: 475000, Reward mean: 182.9894537530288, Reward std: 107.73905834250688\n",
            "Step: 480000, Reward mean: 273.6557411594516, Reward std: 29.742529645177957\n",
            "Step: 485000, Reward mean: 82.34034488096097, Reward std: 106.55343279080645\n",
            "Step: 490000, Reward mean: 156.1990354796992, Reward std: 143.3434272431514\n",
            "Step: 495000, Reward mean: 235.3798977941571, Reward std: 12.040676209363111\n",
            "Step: 500000, Reward mean: 149.07116275016173, Reward std: 142.30340100556884\n"
          ]
        }
      ]
    },
    {
      "cell_type": "markdown",
      "source": [
        "## Inference"
      ],
      "metadata": {
        "id": "UtXLm-rOeORD"
      }
    },
    {
      "cell_type": "code",
      "execution_count": null,
      "metadata": {
        "id": "anVlmJild03c"
      },
      "outputs": [],
      "source": [
        "import random\n",
        "import numpy as np\n",
        "import os\n",
        "import torch\n",
        "\n",
        "\n",
        "class Agent:\n",
        "    def __init__(self):\n",
        "        self.model = torch.load(\"agent.pkl\")\n",
        "\n",
        "    def act(self, state):\n",
        "        # if not isinstance(state, torch.Tensor):\n",
        "        state = torch.tensor(state, device=device)\n",
        "        with torch.no_grad():\n",
        "            action = self.model(state)\n",
        "        return np.argmax(action.cpu().numpy())"
      ]
    },
    {
      "cell_type": "code",
      "source": [
        "def show_video(env_name):\n",
        "    mp4list = glob.glob('video/*.mp4')\n",
        "    if len(mp4list) > 0:\n",
        "        mp4 = 'video/{}.mp4'.format(env_name)\n",
        "        video = io.open(mp4, 'r+b').read()\n",
        "        encoded = base64.b64encode(video)\n",
        "        display(HTML(data='''<video alt=\"test\" autoplay\n",
        "                loop controls style=\"height: 400px;\">\n",
        "                <source src=\"data:video/mp4;base64,{0}\" type=\"video/mp4\" />\n",
        "             </video>'''.format(encoded.decode('ascii'))))\n",
        "    else:\n",
        "        print(\"Could not find video\")\n",
        "\n",
        "def show_video_of_model(agent, env_name):\n",
        "    env = make(env_name)\n",
        "    vid = video_recorder.VideoRecorder(env, path=\"video/{}.mp4\".format(env_name))\n",
        "    # agent.qnetwork_local.load_state_dict(torch.load('checkpoint.pth'))\n",
        "    state = env.reset()\n",
        "    done = False\n",
        "    while not done:\n",
        "        frame = env.render(mode='rgb_array')\n",
        "        vid.capture_frame()\n",
        "\n",
        "        action = agent.act(state)\n",
        "\n",
        "        state, reward, done, _ = env.step(action)\n",
        "    env.close()"
      ],
      "metadata": {
        "id": "Y6ExYDTe2Lcd"
      },
      "execution_count": null,
      "outputs": []
    },
    {
      "cell_type": "code",
      "source": [
        "trained_agent = Agent()\n",
        "env_name = \"LunarLander-v2\"\n",
        "show_video_of_model(agent=trained_agent, env_name=env_name)"
      ],
      "metadata": {
        "colab": {
          "base_uri": "https://localhost:8080/"
        },
        "id": "prTfDjbS8zKo",
        "outputId": "7ad76226-c3b9-4446-8190-ddf47dbb9c3d"
      },
      "execution_count": null,
      "outputs": [
        {
          "output_type": "stream",
          "name": "stderr",
          "text": [
            "/usr/local/lib/python3.7/dist-packages/gym/core.py:318: DeprecationWarning: \u001b[33mWARN: Initializing wrapper in old step API which returns one bool instead of two. It is recommended to set `new_step_api=True` to use new step API. This will be the default behaviour in future.\u001b[0m\n",
            "  \"Initializing wrapper in old step API which returns one bool instead of two. It is recommended to set `new_step_api=True` to use new step API. This will be the default behaviour in future.\"\n",
            "/usr/local/lib/python3.7/dist-packages/gym/wrappers/step_api_compatibility.py:40: DeprecationWarning: \u001b[33mWARN: Initializing environment in old step API which returns one bool instead of two. It is recommended to set `new_step_api=True` to use new step API. This will be the default behaviour in future.\u001b[0m\n",
            "  \"Initializing environment in old step API which returns one bool instead of two. It is recommended to set `new_step_api=True` to use new step API. This will be the default behaviour in future.\"\n",
            "/usr/local/lib/python3.7/dist-packages/gym/wrappers/monitoring/video_recorder.py:79: DeprecationWarning: \u001b[33mWARN: Recording ability for environment LunarLander-v2 initialized with `render_mode=None` is marked as deprecated and will be removed in the future.\u001b[0m\n",
            "  f\"Recording ability for environment {env.spec.id} initialized with `render_mode=None` is marked \"\n",
            "/usr/local/lib/python3.7/dist-packages/gym/wrappers/monitoring/video_recorder.py:102: DeprecationWarning: \u001b[33mWARN: <class 'gym.wrappers.monitoring.video_recorder.VideoRecorder'> is marked as deprecated and will be removed in the future.\u001b[0m\n",
            "  f\"{self.__class__} is marked as deprecated and will be removed in the future.\"\n",
            "/usr/local/lib/python3.7/dist-packages/gym/core.py:44: DeprecationWarning: \u001b[33mWARN: The argument mode in render method is deprecated; use render_mode during environment initialization instead.\n",
            "See here for more information: https://www.gymlibrary.ml/content/api/\u001b[0m\n",
            "  \"The argument mode in render method is deprecated; \"\n"
          ]
        }
      ]
    },
    {
      "cell_type": "code",
      "source": [
        "show_video(env_name)"
      ],
      "metadata": {
        "colab": {
          "base_uri": "https://localhost:8080/",
          "height": 421
        },
        "id": "ub0u9ZZW-ECf",
        "outputId": "80f7ed8b-1678-4972-f972-53389e34471b"
      },
      "execution_count": null,
      "outputs": [
        {
          "output_type": "display_data",
          "data": {
            "text/plain": [
              "<IPython.core.display.HTML object>"
            ],
            "text/html": [
              "<video alt=\"test\" autoplay \n",
              "                loop controls style=\"height: 400px;\">\n",
              "                <source src=\"data:video/mp4;base64,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\" type=\"video/mp4\" />\n",
              "             </video>"
            ]
          },
          "metadata": {}
        }
      ]
    },
    {
      "cell_type": "code",
      "source": [],
      "metadata": {
        "id": "ZgpHKBEs-uwt"
      },
      "execution_count": null,
      "outputs": []
    }
  ]
}