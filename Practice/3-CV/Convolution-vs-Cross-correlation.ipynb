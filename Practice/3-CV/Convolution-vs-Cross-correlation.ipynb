{
  "nbformat": 4,
  "nbformat_minor": 0,
  "metadata": {
    "colab": {
      "provenance": []
    },
    "kernelspec": {
      "name": "python3",
      "display_name": "Python 3"
    },
    "widgets": {
      "application/vnd.jupyter.widget-state+json": {
        "5a562c3021a645cb8eeceaf19fedb679": {
          "model_module": "@jupyter-widgets/controls",
          "model_name": "HBoxModel",
          "model_module_version": "1.5.0",
          "state": {
            "_dom_classes": [],
            "_model_module": "@jupyter-widgets/controls",
            "_model_module_version": "1.5.0",
            "_model_name": "HBoxModel",
            "_view_count": null,
            "_view_module": "@jupyter-widgets/controls",
            "_view_module_version": "1.5.0",
            "_view_name": "HBoxView",
            "box_style": "",
            "children": [
              "IPY_MODEL_84b152c430844e0ea5cc040d97192b40",
              "IPY_MODEL_b6ac4dc6471f4d588f7f55de95a755a6",
              "IPY_MODEL_db34b408c49b452e8e159a2285a3adc3"
            ],
            "layout": "IPY_MODEL_6824fa90da9d4c238cb28e8317c655da"
          }
        },
        "84b152c430844e0ea5cc040d97192b40": {
          "model_module": "@jupyter-widgets/controls",
          "model_name": "HTMLModel",
          "model_module_version": "1.5.0",
          "state": {
            "_dom_classes": [],
            "_model_module": "@jupyter-widgets/controls",
            "_model_module_version": "1.5.0",
            "_model_name": "HTMLModel",
            "_view_count": null,
            "_view_module": "@jupyter-widgets/controls",
            "_view_module_version": "1.5.0",
            "_view_name": "HTMLView",
            "description": "",
            "description_tooltip": null,
            "layout": "IPY_MODEL_e28e1e0cbc8a4b0898e5683e80039f2e",
            "placeholder": "​",
            "style": "IPY_MODEL_7234357427e7404fb8a8689b808c398e",
            "value": "100%"
          }
        },
        "b6ac4dc6471f4d588f7f55de95a755a6": {
          "model_module": "@jupyter-widgets/controls",
          "model_name": "FloatProgressModel",
          "model_module_version": "1.5.0",
          "state": {
            "_dom_classes": [],
            "_model_module": "@jupyter-widgets/controls",
            "_model_module_version": "1.5.0",
            "_model_name": "FloatProgressModel",
            "_view_count": null,
            "_view_module": "@jupyter-widgets/controls",
            "_view_module_version": "1.5.0",
            "_view_name": "ProgressView",
            "bar_style": "success",
            "description": "",
            "description_tooltip": null,
            "layout": "IPY_MODEL_ec72d445392b4886b866c58c1e411914",
            "max": 9912422,
            "min": 0,
            "orientation": "horizontal",
            "style": "IPY_MODEL_012dcfd68afa41028b8312e6ef9c9cae",
            "value": 9912422
          }
        },
        "db34b408c49b452e8e159a2285a3adc3": {
          "model_module": "@jupyter-widgets/controls",
          "model_name": "HTMLModel",
          "model_module_version": "1.5.0",
          "state": {
            "_dom_classes": [],
            "_model_module": "@jupyter-widgets/controls",
            "_model_module_version": "1.5.0",
            "_model_name": "HTMLModel",
            "_view_count": null,
            "_view_module": "@jupyter-widgets/controls",
            "_view_module_version": "1.5.0",
            "_view_name": "HTMLView",
            "description": "",
            "description_tooltip": null,
            "layout": "IPY_MODEL_8722cade37ff45cfb130d8c35759f38d",
            "placeholder": "​",
            "style": "IPY_MODEL_2208e7ffec4c41fdb706c878c6d0a57b",
            "value": " 9912422/9912422 [00:00&lt;00:00, 152107002.64it/s]"
          }
        },
        "6824fa90da9d4c238cb28e8317c655da": {
          "model_module": "@jupyter-widgets/base",
          "model_name": "LayoutModel",
          "model_module_version": "1.2.0",
          "state": {
            "_model_module": "@jupyter-widgets/base",
            "_model_module_version": "1.2.0",
            "_model_name": "LayoutModel",
            "_view_count": null,
            "_view_module": "@jupyter-widgets/base",
            "_view_module_version": "1.2.0",
            "_view_name": "LayoutView",
            "align_content": null,
            "align_items": null,
            "align_self": null,
            "border": null,
            "bottom": null,
            "display": null,
            "flex": null,
            "flex_flow": null,
            "grid_area": null,
            "grid_auto_columns": null,
            "grid_auto_flow": null,
            "grid_auto_rows": null,
            "grid_column": null,
            "grid_gap": null,
            "grid_row": null,
            "grid_template_areas": null,
            "grid_template_columns": null,
            "grid_template_rows": null,
            "height": null,
            "justify_content": null,
            "justify_items": null,
            "left": null,
            "margin": null,
            "max_height": null,
            "max_width": null,
            "min_height": null,
            "min_width": null,
            "object_fit": null,
            "object_position": null,
            "order": null,
            "overflow": null,
            "overflow_x": null,
            "overflow_y": null,
            "padding": null,
            "right": null,
            "top": null,
            "visibility": null,
            "width": null
          }
        },
        "e28e1e0cbc8a4b0898e5683e80039f2e": {
          "model_module": "@jupyter-widgets/base",
          "model_name": "LayoutModel",
          "model_module_version": "1.2.0",
          "state": {
            "_model_module": "@jupyter-widgets/base",
            "_model_module_version": "1.2.0",
            "_model_name": "LayoutModel",
            "_view_count": null,
            "_view_module": "@jupyter-widgets/base",
            "_view_module_version": "1.2.0",
            "_view_name": "LayoutView",
            "align_content": null,
            "align_items": null,
            "align_self": null,
            "border": null,
            "bottom": null,
            "display": null,
            "flex": null,
            "flex_flow": null,
            "grid_area": null,
            "grid_auto_columns": null,
            "grid_auto_flow": null,
            "grid_auto_rows": null,
            "grid_column": null,
            "grid_gap": null,
            "grid_row": null,
            "grid_template_areas": null,
            "grid_template_columns": null,
            "grid_template_rows": null,
            "height": null,
            "justify_content": null,
            "justify_items": null,
            "left": null,
            "margin": null,
            "max_height": null,
            "max_width": null,
            "min_height": null,
            "min_width": null,
            "object_fit": null,
            "object_position": null,
            "order": null,
            "overflow": null,
            "overflow_x": null,
            "overflow_y": null,
            "padding": null,
            "right": null,
            "top": null,
            "visibility": null,
            "width": null
          }
        },
        "7234357427e7404fb8a8689b808c398e": {
          "model_module": "@jupyter-widgets/controls",
          "model_name": "DescriptionStyleModel",
          "model_module_version": "1.5.0",
          "state": {
            "_model_module": "@jupyter-widgets/controls",
            "_model_module_version": "1.5.0",
            "_model_name": "DescriptionStyleModel",
            "_view_count": null,
            "_view_module": "@jupyter-widgets/base",
            "_view_module_version": "1.2.0",
            "_view_name": "StyleView",
            "description_width": ""
          }
        },
        "ec72d445392b4886b866c58c1e411914": {
          "model_module": "@jupyter-widgets/base",
          "model_name": "LayoutModel",
          "model_module_version": "1.2.0",
          "state": {
            "_model_module": "@jupyter-widgets/base",
            "_model_module_version": "1.2.0",
            "_model_name": "LayoutModel",
            "_view_count": null,
            "_view_module": "@jupyter-widgets/base",
            "_view_module_version": "1.2.0",
            "_view_name": "LayoutView",
            "align_content": null,
            "align_items": null,
            "align_self": null,
            "border": null,
            "bottom": null,
            "display": null,
            "flex": null,
            "flex_flow": null,
            "grid_area": null,
            "grid_auto_columns": null,
            "grid_auto_flow": null,
            "grid_auto_rows": null,
            "grid_column": null,
            "grid_gap": null,
            "grid_row": null,
            "grid_template_areas": null,
            "grid_template_columns": null,
            "grid_template_rows": null,
            "height": null,
            "justify_content": null,
            "justify_items": null,
            "left": null,
            "margin": null,
            "max_height": null,
            "max_width": null,
            "min_height": null,
            "min_width": null,
            "object_fit": null,
            "object_position": null,
            "order": null,
            "overflow": null,
            "overflow_x": null,
            "overflow_y": null,
            "padding": null,
            "right": null,
            "top": null,
            "visibility": null,
            "width": null
          }
        },
        "012dcfd68afa41028b8312e6ef9c9cae": {
          "model_module": "@jupyter-widgets/controls",
          "model_name": "ProgressStyleModel",
          "model_module_version": "1.5.0",
          "state": {
            "_model_module": "@jupyter-widgets/controls",
            "_model_module_version": "1.5.0",
            "_model_name": "ProgressStyleModel",
            "_view_count": null,
            "_view_module": "@jupyter-widgets/base",
            "_view_module_version": "1.2.0",
            "_view_name": "StyleView",
            "bar_color": null,
            "description_width": ""
          }
        },
        "8722cade37ff45cfb130d8c35759f38d": {
          "model_module": "@jupyter-widgets/base",
          "model_name": "LayoutModel",
          "model_module_version": "1.2.0",
          "state": {
            "_model_module": "@jupyter-widgets/base",
            "_model_module_version": "1.2.0",
            "_model_name": "LayoutModel",
            "_view_count": null,
            "_view_module": "@jupyter-widgets/base",
            "_view_module_version": "1.2.0",
            "_view_name": "LayoutView",
            "align_content": null,
            "align_items": null,
            "align_self": null,
            "border": null,
            "bottom": null,
            "display": null,
            "flex": null,
            "flex_flow": null,
            "grid_area": null,
            "grid_auto_columns": null,
            "grid_auto_flow": null,
            "grid_auto_rows": null,
            "grid_column": null,
            "grid_gap": null,
            "grid_row": null,
            "grid_template_areas": null,
            "grid_template_columns": null,
            "grid_template_rows": null,
            "height": null,
            "justify_content": null,
            "justify_items": null,
            "left": null,
            "margin": null,
            "max_height": null,
            "max_width": null,
            "min_height": null,
            "min_width": null,
            "object_fit": null,
            "object_position": null,
            "order": null,
            "overflow": null,
            "overflow_x": null,
            "overflow_y": null,
            "padding": null,
            "right": null,
            "top": null,
            "visibility": null,
            "width": null
          }
        },
        "2208e7ffec4c41fdb706c878c6d0a57b": {
          "model_module": "@jupyter-widgets/controls",
          "model_name": "DescriptionStyleModel",
          "model_module_version": "1.5.0",
          "state": {
            "_model_module": "@jupyter-widgets/controls",
            "_model_module_version": "1.5.0",
            "_model_name": "DescriptionStyleModel",
            "_view_count": null,
            "_view_module": "@jupyter-widgets/base",
            "_view_module_version": "1.2.0",
            "_view_name": "StyleView",
            "description_width": ""
          }
        },
        "2f01c33d8ae9437e8d6aa2ac196c1754": {
          "model_module": "@jupyter-widgets/controls",
          "model_name": "HBoxModel",
          "model_module_version": "1.5.0",
          "state": {
            "_dom_classes": [],
            "_model_module": "@jupyter-widgets/controls",
            "_model_module_version": "1.5.0",
            "_model_name": "HBoxModel",
            "_view_count": null,
            "_view_module": "@jupyter-widgets/controls",
            "_view_module_version": "1.5.0",
            "_view_name": "HBoxView",
            "box_style": "",
            "children": [
              "IPY_MODEL_095a14d544464f9ea6496a6d7f2dc6e7",
              "IPY_MODEL_bdd5436dc9e140d790b7a349f2cfc658",
              "IPY_MODEL_25eb95b87d5a49e0b35f0005f5b14380"
            ],
            "layout": "IPY_MODEL_f936990f0f124d8aa2ebaf9c9d73d1db"
          }
        },
        "095a14d544464f9ea6496a6d7f2dc6e7": {
          "model_module": "@jupyter-widgets/controls",
          "model_name": "HTMLModel",
          "model_module_version": "1.5.0",
          "state": {
            "_dom_classes": [],
            "_model_module": "@jupyter-widgets/controls",
            "_model_module_version": "1.5.0",
            "_model_name": "HTMLModel",
            "_view_count": null,
            "_view_module": "@jupyter-widgets/controls",
            "_view_module_version": "1.5.0",
            "_view_name": "HTMLView",
            "description": "",
            "description_tooltip": null,
            "layout": "IPY_MODEL_30b0e72c8ad446818ef4d4a9a77dd1e0",
            "placeholder": "​",
            "style": "IPY_MODEL_79042b00ba824e13a97cc96089e98bc6",
            "value": "100%"
          }
        },
        "bdd5436dc9e140d790b7a349f2cfc658": {
          "model_module": "@jupyter-widgets/controls",
          "model_name": "FloatProgressModel",
          "model_module_version": "1.5.0",
          "state": {
            "_dom_classes": [],
            "_model_module": "@jupyter-widgets/controls",
            "_model_module_version": "1.5.0",
            "_model_name": "FloatProgressModel",
            "_view_count": null,
            "_view_module": "@jupyter-widgets/controls",
            "_view_module_version": "1.5.0",
            "_view_name": "ProgressView",
            "bar_style": "success",
            "description": "",
            "description_tooltip": null,
            "layout": "IPY_MODEL_c50cccbb3cb840ed911ef9a4052ca4d0",
            "max": 28881,
            "min": 0,
            "orientation": "horizontal",
            "style": "IPY_MODEL_0c933f6dd5364a4a81eeebf20bb40d7c",
            "value": 28881
          }
        },
        "25eb95b87d5a49e0b35f0005f5b14380": {
          "model_module": "@jupyter-widgets/controls",
          "model_name": "HTMLModel",
          "model_module_version": "1.5.0",
          "state": {
            "_dom_classes": [],
            "_model_module": "@jupyter-widgets/controls",
            "_model_module_version": "1.5.0",
            "_model_name": "HTMLModel",
            "_view_count": null,
            "_view_module": "@jupyter-widgets/controls",
            "_view_module_version": "1.5.0",
            "_view_name": "HTMLView",
            "description": "",
            "description_tooltip": null,
            "layout": "IPY_MODEL_aa306b8c301e47d196020d59e9aac2cc",
            "placeholder": "​",
            "style": "IPY_MODEL_3f7c02b4a4c4476787aa901528afad67",
            "value": " 28881/28881 [00:00&lt;00:00, 776585.53it/s]"
          }
        },
        "f936990f0f124d8aa2ebaf9c9d73d1db": {
          "model_module": "@jupyter-widgets/base",
          "model_name": "LayoutModel",
          "model_module_version": "1.2.0",
          "state": {
            "_model_module": "@jupyter-widgets/base",
            "_model_module_version": "1.2.0",
            "_model_name": "LayoutModel",
            "_view_count": null,
            "_view_module": "@jupyter-widgets/base",
            "_view_module_version": "1.2.0",
            "_view_name": "LayoutView",
            "align_content": null,
            "align_items": null,
            "align_self": null,
            "border": null,
            "bottom": null,
            "display": null,
            "flex": null,
            "flex_flow": null,
            "grid_area": null,
            "grid_auto_columns": null,
            "grid_auto_flow": null,
            "grid_auto_rows": null,
            "grid_column": null,
            "grid_gap": null,
            "grid_row": null,
            "grid_template_areas": null,
            "grid_template_columns": null,
            "grid_template_rows": null,
            "height": null,
            "justify_content": null,
            "justify_items": null,
            "left": null,
            "margin": null,
            "max_height": null,
            "max_width": null,
            "min_height": null,
            "min_width": null,
            "object_fit": null,
            "object_position": null,
            "order": null,
            "overflow": null,
            "overflow_x": null,
            "overflow_y": null,
            "padding": null,
            "right": null,
            "top": null,
            "visibility": null,
            "width": null
          }
        },
        "30b0e72c8ad446818ef4d4a9a77dd1e0": {
          "model_module": "@jupyter-widgets/base",
          "model_name": "LayoutModel",
          "model_module_version": "1.2.0",
          "state": {
            "_model_module": "@jupyter-widgets/base",
            "_model_module_version": "1.2.0",
            "_model_name": "LayoutModel",
            "_view_count": null,
            "_view_module": "@jupyter-widgets/base",
            "_view_module_version": "1.2.0",
            "_view_name": "LayoutView",
            "align_content": null,
            "align_items": null,
            "align_self": null,
            "border": null,
            "bottom": null,
            "display": null,
            "flex": null,
            "flex_flow": null,
            "grid_area": null,
            "grid_auto_columns": null,
            "grid_auto_flow": null,
            "grid_auto_rows": null,
            "grid_column": null,
            "grid_gap": null,
            "grid_row": null,
            "grid_template_areas": null,
            "grid_template_columns": null,
            "grid_template_rows": null,
            "height": null,
            "justify_content": null,
            "justify_items": null,
            "left": null,
            "margin": null,
            "max_height": null,
            "max_width": null,
            "min_height": null,
            "min_width": null,
            "object_fit": null,
            "object_position": null,
            "order": null,
            "overflow": null,
            "overflow_x": null,
            "overflow_y": null,
            "padding": null,
            "right": null,
            "top": null,
            "visibility": null,
            "width": null
          }
        },
        "79042b00ba824e13a97cc96089e98bc6": {
          "model_module": "@jupyter-widgets/controls",
          "model_name": "DescriptionStyleModel",
          "model_module_version": "1.5.0",
          "state": {
            "_model_module": "@jupyter-widgets/controls",
            "_model_module_version": "1.5.0",
            "_model_name": "DescriptionStyleModel",
            "_view_count": null,
            "_view_module": "@jupyter-widgets/base",
            "_view_module_version": "1.2.0",
            "_view_name": "StyleView",
            "description_width": ""
          }
        },
        "c50cccbb3cb840ed911ef9a4052ca4d0": {
          "model_module": "@jupyter-widgets/base",
          "model_name": "LayoutModel",
          "model_module_version": "1.2.0",
          "state": {
            "_model_module": "@jupyter-widgets/base",
            "_model_module_version": "1.2.0",
            "_model_name": "LayoutModel",
            "_view_count": null,
            "_view_module": "@jupyter-widgets/base",
            "_view_module_version": "1.2.0",
            "_view_name": "LayoutView",
            "align_content": null,
            "align_items": null,
            "align_self": null,
            "border": null,
            "bottom": null,
            "display": null,
            "flex": null,
            "flex_flow": null,
            "grid_area": null,
            "grid_auto_columns": null,
            "grid_auto_flow": null,
            "grid_auto_rows": null,
            "grid_column": null,
            "grid_gap": null,
            "grid_row": null,
            "grid_template_areas": null,
            "grid_template_columns": null,
            "grid_template_rows": null,
            "height": null,
            "justify_content": null,
            "justify_items": null,
            "left": null,
            "margin": null,
            "max_height": null,
            "max_width": null,
            "min_height": null,
            "min_width": null,
            "object_fit": null,
            "object_position": null,
            "order": null,
            "overflow": null,
            "overflow_x": null,
            "overflow_y": null,
            "padding": null,
            "right": null,
            "top": null,
            "visibility": null,
            "width": null
          }
        },
        "0c933f6dd5364a4a81eeebf20bb40d7c": {
          "model_module": "@jupyter-widgets/controls",
          "model_name": "ProgressStyleModel",
          "model_module_version": "1.5.0",
          "state": {
            "_model_module": "@jupyter-widgets/controls",
            "_model_module_version": "1.5.0",
            "_model_name": "ProgressStyleModel",
            "_view_count": null,
            "_view_module": "@jupyter-widgets/base",
            "_view_module_version": "1.2.0",
            "_view_name": "StyleView",
            "bar_color": null,
            "description_width": ""
          }
        },
        "aa306b8c301e47d196020d59e9aac2cc": {
          "model_module": "@jupyter-widgets/base",
          "model_name": "LayoutModel",
          "model_module_version": "1.2.0",
          "state": {
            "_model_module": "@jupyter-widgets/base",
            "_model_module_version": "1.2.0",
            "_model_name": "LayoutModel",
            "_view_count": null,
            "_view_module": "@jupyter-widgets/base",
            "_view_module_version": "1.2.0",
            "_view_name": "LayoutView",
            "align_content": null,
            "align_items": null,
            "align_self": null,
            "border": null,
            "bottom": null,
            "display": null,
            "flex": null,
            "flex_flow": null,
            "grid_area": null,
            "grid_auto_columns": null,
            "grid_auto_flow": null,
            "grid_auto_rows": null,
            "grid_column": null,
            "grid_gap": null,
            "grid_row": null,
            "grid_template_areas": null,
            "grid_template_columns": null,
            "grid_template_rows": null,
            "height": null,
            "justify_content": null,
            "justify_items": null,
            "left": null,
            "margin": null,
            "max_height": null,
            "max_width": null,
            "min_height": null,
            "min_width": null,
            "object_fit": null,
            "object_position": null,
            "order": null,
            "overflow": null,
            "overflow_x": null,
            "overflow_y": null,
            "padding": null,
            "right": null,
            "top": null,
            "visibility": null,
            "width": null
          }
        },
        "3f7c02b4a4c4476787aa901528afad67": {
          "model_module": "@jupyter-widgets/controls",
          "model_name": "DescriptionStyleModel",
          "model_module_version": "1.5.0",
          "state": {
            "_model_module": "@jupyter-widgets/controls",
            "_model_module_version": "1.5.0",
            "_model_name": "DescriptionStyleModel",
            "_view_count": null,
            "_view_module": "@jupyter-widgets/base",
            "_view_module_version": "1.2.0",
            "_view_name": "StyleView",
            "description_width": ""
          }
        },
        "6d1f402cf98f4fdf8229a4131a30bd3c": {
          "model_module": "@jupyter-widgets/controls",
          "model_name": "HBoxModel",
          "model_module_version": "1.5.0",
          "state": {
            "_dom_classes": [],
            "_model_module": "@jupyter-widgets/controls",
            "_model_module_version": "1.5.0",
            "_model_name": "HBoxModel",
            "_view_count": null,
            "_view_module": "@jupyter-widgets/controls",
            "_view_module_version": "1.5.0",
            "_view_name": "HBoxView",
            "box_style": "",
            "children": [
              "IPY_MODEL_9570296194d243949cc0db33959013d8",
              "IPY_MODEL_077969cf5c19447b95cbed44f2d4c31c",
              "IPY_MODEL_b53930b07fa54b5ca01059dd4d2ce770"
            ],
            "layout": "IPY_MODEL_20be4d7e69414090a4583e874facba63"
          }
        },
        "9570296194d243949cc0db33959013d8": {
          "model_module": "@jupyter-widgets/controls",
          "model_name": "HTMLModel",
          "model_module_version": "1.5.0",
          "state": {
            "_dom_classes": [],
            "_model_module": "@jupyter-widgets/controls",
            "_model_module_version": "1.5.0",
            "_model_name": "HTMLModel",
            "_view_count": null,
            "_view_module": "@jupyter-widgets/controls",
            "_view_module_version": "1.5.0",
            "_view_name": "HTMLView",
            "description": "",
            "description_tooltip": null,
            "layout": "IPY_MODEL_3b5c396609624e4bbae38e8295a8ec23",
            "placeholder": "​",
            "style": "IPY_MODEL_107c882f342c490ab589a05b56222ebd",
            "value": "100%"
          }
        },
        "077969cf5c19447b95cbed44f2d4c31c": {
          "model_module": "@jupyter-widgets/controls",
          "model_name": "FloatProgressModel",
          "model_module_version": "1.5.0",
          "state": {
            "_dom_classes": [],
            "_model_module": "@jupyter-widgets/controls",
            "_model_module_version": "1.5.0",
            "_model_name": "FloatProgressModel",
            "_view_count": null,
            "_view_module": "@jupyter-widgets/controls",
            "_view_module_version": "1.5.0",
            "_view_name": "ProgressView",
            "bar_style": "success",
            "description": "",
            "description_tooltip": null,
            "layout": "IPY_MODEL_78c5b596b0cd4e1ca620a85e83a9a9e9",
            "max": 1648877,
            "min": 0,
            "orientation": "horizontal",
            "style": "IPY_MODEL_28f79dab94b746a085c6e035ab6e1bbc",
            "value": 1648877
          }
        },
        "b53930b07fa54b5ca01059dd4d2ce770": {
          "model_module": "@jupyter-widgets/controls",
          "model_name": "HTMLModel",
          "model_module_version": "1.5.0",
          "state": {
            "_dom_classes": [],
            "_model_module": "@jupyter-widgets/controls",
            "_model_module_version": "1.5.0",
            "_model_name": "HTMLModel",
            "_view_count": null,
            "_view_module": "@jupyter-widgets/controls",
            "_view_module_version": "1.5.0",
            "_view_name": "HTMLView",
            "description": "",
            "description_tooltip": null,
            "layout": "IPY_MODEL_b492d4c33ad247be9cfb6a928cd52fd9",
            "placeholder": "​",
            "style": "IPY_MODEL_3165430b93ac4a79b9b476a13bf9f452",
            "value": " 1648877/1648877 [00:00&lt;00:00, 41529651.87it/s]"
          }
        },
        "20be4d7e69414090a4583e874facba63": {
          "model_module": "@jupyter-widgets/base",
          "model_name": "LayoutModel",
          "model_module_version": "1.2.0",
          "state": {
            "_model_module": "@jupyter-widgets/base",
            "_model_module_version": "1.2.0",
            "_model_name": "LayoutModel",
            "_view_count": null,
            "_view_module": "@jupyter-widgets/base",
            "_view_module_version": "1.2.0",
            "_view_name": "LayoutView",
            "align_content": null,
            "align_items": null,
            "align_self": null,
            "border": null,
            "bottom": null,
            "display": null,
            "flex": null,
            "flex_flow": null,
            "grid_area": null,
            "grid_auto_columns": null,
            "grid_auto_flow": null,
            "grid_auto_rows": null,
            "grid_column": null,
            "grid_gap": null,
            "grid_row": null,
            "grid_template_areas": null,
            "grid_template_columns": null,
            "grid_template_rows": null,
            "height": null,
            "justify_content": null,
            "justify_items": null,
            "left": null,
            "margin": null,
            "max_height": null,
            "max_width": null,
            "min_height": null,
            "min_width": null,
            "object_fit": null,
            "object_position": null,
            "order": null,
            "overflow": null,
            "overflow_x": null,
            "overflow_y": null,
            "padding": null,
            "right": null,
            "top": null,
            "visibility": null,
            "width": null
          }
        },
        "3b5c396609624e4bbae38e8295a8ec23": {
          "model_module": "@jupyter-widgets/base",
          "model_name": "LayoutModel",
          "model_module_version": "1.2.0",
          "state": {
            "_model_module": "@jupyter-widgets/base",
            "_model_module_version": "1.2.0",
            "_model_name": "LayoutModel",
            "_view_count": null,
            "_view_module": "@jupyter-widgets/base",
            "_view_module_version": "1.2.0",
            "_view_name": "LayoutView",
            "align_content": null,
            "align_items": null,
            "align_self": null,
            "border": null,
            "bottom": null,
            "display": null,
            "flex": null,
            "flex_flow": null,
            "grid_area": null,
            "grid_auto_columns": null,
            "grid_auto_flow": null,
            "grid_auto_rows": null,
            "grid_column": null,
            "grid_gap": null,
            "grid_row": null,
            "grid_template_areas": null,
            "grid_template_columns": null,
            "grid_template_rows": null,
            "height": null,
            "justify_content": null,
            "justify_items": null,
            "left": null,
            "margin": null,
            "max_height": null,
            "max_width": null,
            "min_height": null,
            "min_width": null,
            "object_fit": null,
            "object_position": null,
            "order": null,
            "overflow": null,
            "overflow_x": null,
            "overflow_y": null,
            "padding": null,
            "right": null,
            "top": null,
            "visibility": null,
            "width": null
          }
        },
        "107c882f342c490ab589a05b56222ebd": {
          "model_module": "@jupyter-widgets/controls",
          "model_name": "DescriptionStyleModel",
          "model_module_version": "1.5.0",
          "state": {
            "_model_module": "@jupyter-widgets/controls",
            "_model_module_version": "1.5.0",
            "_model_name": "DescriptionStyleModel",
            "_view_count": null,
            "_view_module": "@jupyter-widgets/base",
            "_view_module_version": "1.2.0",
            "_view_name": "StyleView",
            "description_width": ""
          }
        },
        "78c5b596b0cd4e1ca620a85e83a9a9e9": {
          "model_module": "@jupyter-widgets/base",
          "model_name": "LayoutModel",
          "model_module_version": "1.2.0",
          "state": {
            "_model_module": "@jupyter-widgets/base",
            "_model_module_version": "1.2.0",
            "_model_name": "LayoutModel",
            "_view_count": null,
            "_view_module": "@jupyter-widgets/base",
            "_view_module_version": "1.2.0",
            "_view_name": "LayoutView",
            "align_content": null,
            "align_items": null,
            "align_self": null,
            "border": null,
            "bottom": null,
            "display": null,
            "flex": null,
            "flex_flow": null,
            "grid_area": null,
            "grid_auto_columns": null,
            "grid_auto_flow": null,
            "grid_auto_rows": null,
            "grid_column": null,
            "grid_gap": null,
            "grid_row": null,
            "grid_template_areas": null,
            "grid_template_columns": null,
            "grid_template_rows": null,
            "height": null,
            "justify_content": null,
            "justify_items": null,
            "left": null,
            "margin": null,
            "max_height": null,
            "max_width": null,
            "min_height": null,
            "min_width": null,
            "object_fit": null,
            "object_position": null,
            "order": null,
            "overflow": null,
            "overflow_x": null,
            "overflow_y": null,
            "padding": null,
            "right": null,
            "top": null,
            "visibility": null,
            "width": null
          }
        },
        "28f79dab94b746a085c6e035ab6e1bbc": {
          "model_module": "@jupyter-widgets/controls",
          "model_name": "ProgressStyleModel",
          "model_module_version": "1.5.0",
          "state": {
            "_model_module": "@jupyter-widgets/controls",
            "_model_module_version": "1.5.0",
            "_model_name": "ProgressStyleModel",
            "_view_count": null,
            "_view_module": "@jupyter-widgets/base",
            "_view_module_version": "1.2.0",
            "_view_name": "StyleView",
            "bar_color": null,
            "description_width": ""
          }
        },
        "b492d4c33ad247be9cfb6a928cd52fd9": {
          "model_module": "@jupyter-widgets/base",
          "model_name": "LayoutModel",
          "model_module_version": "1.2.0",
          "state": {
            "_model_module": "@jupyter-widgets/base",
            "_model_module_version": "1.2.0",
            "_model_name": "LayoutModel",
            "_view_count": null,
            "_view_module": "@jupyter-widgets/base",
            "_view_module_version": "1.2.0",
            "_view_name": "LayoutView",
            "align_content": null,
            "align_items": null,
            "align_self": null,
            "border": null,
            "bottom": null,
            "display": null,
            "flex": null,
            "flex_flow": null,
            "grid_area": null,
            "grid_auto_columns": null,
            "grid_auto_flow": null,
            "grid_auto_rows": null,
            "grid_column": null,
            "grid_gap": null,
            "grid_row": null,
            "grid_template_areas": null,
            "grid_template_columns": null,
            "grid_template_rows": null,
            "height": null,
            "justify_content": null,
            "justify_items": null,
            "left": null,
            "margin": null,
            "max_height": null,
            "max_width": null,
            "min_height": null,
            "min_width": null,
            "object_fit": null,
            "object_position": null,
            "order": null,
            "overflow": null,
            "overflow_x": null,
            "overflow_y": null,
            "padding": null,
            "right": null,
            "top": null,
            "visibility": null,
            "width": null
          }
        },
        "3165430b93ac4a79b9b476a13bf9f452": {
          "model_module": "@jupyter-widgets/controls",
          "model_name": "DescriptionStyleModel",
          "model_module_version": "1.5.0",
          "state": {
            "_model_module": "@jupyter-widgets/controls",
            "_model_module_version": "1.5.0",
            "_model_name": "DescriptionStyleModel",
            "_view_count": null,
            "_view_module": "@jupyter-widgets/base",
            "_view_module_version": "1.2.0",
            "_view_name": "StyleView",
            "description_width": ""
          }
        },
        "5a72bac71aac4f838eb996ca8b56dede": {
          "model_module": "@jupyter-widgets/controls",
          "model_name": "HBoxModel",
          "model_module_version": "1.5.0",
          "state": {
            "_dom_classes": [],
            "_model_module": "@jupyter-widgets/controls",
            "_model_module_version": "1.5.0",
            "_model_name": "HBoxModel",
            "_view_count": null,
            "_view_module": "@jupyter-widgets/controls",
            "_view_module_version": "1.5.0",
            "_view_name": "HBoxView",
            "box_style": "",
            "children": [
              "IPY_MODEL_8c788a643e464b84b5e6ec424c5a641e",
              "IPY_MODEL_1b6b7b4a9a5146ec8a14c32e0d383e38",
              "IPY_MODEL_82d0638a0123456eb0364eb6bb10e9eb"
            ],
            "layout": "IPY_MODEL_2d220dc10f814c5587910ae4332df7e4"
          }
        },
        "8c788a643e464b84b5e6ec424c5a641e": {
          "model_module": "@jupyter-widgets/controls",
          "model_name": "HTMLModel",
          "model_module_version": "1.5.0",
          "state": {
            "_dom_classes": [],
            "_model_module": "@jupyter-widgets/controls",
            "_model_module_version": "1.5.0",
            "_model_name": "HTMLModel",
            "_view_count": null,
            "_view_module": "@jupyter-widgets/controls",
            "_view_module_version": "1.5.0",
            "_view_name": "HTMLView",
            "description": "",
            "description_tooltip": null,
            "layout": "IPY_MODEL_952f2643dc394ba4b7bdcf03334a0535",
            "placeholder": "​",
            "style": "IPY_MODEL_980bbb4ed538465ab35b6d34da00d21d",
            "value": "100%"
          }
        },
        "1b6b7b4a9a5146ec8a14c32e0d383e38": {
          "model_module": "@jupyter-widgets/controls",
          "model_name": "FloatProgressModel",
          "model_module_version": "1.5.0",
          "state": {
            "_dom_classes": [],
            "_model_module": "@jupyter-widgets/controls",
            "_model_module_version": "1.5.0",
            "_model_name": "FloatProgressModel",
            "_view_count": null,
            "_view_module": "@jupyter-widgets/controls",
            "_view_module_version": "1.5.0",
            "_view_name": "ProgressView",
            "bar_style": "success",
            "description": "",
            "description_tooltip": null,
            "layout": "IPY_MODEL_eb152d16f7e74435b951d1f52f202cac",
            "max": 4542,
            "min": 0,
            "orientation": "horizontal",
            "style": "IPY_MODEL_f677791467384a7ea7c14dc447f558dd",
            "value": 4542
          }
        },
        "82d0638a0123456eb0364eb6bb10e9eb": {
          "model_module": "@jupyter-widgets/controls",
          "model_name": "HTMLModel",
          "model_module_version": "1.5.0",
          "state": {
            "_dom_classes": [],
            "_model_module": "@jupyter-widgets/controls",
            "_model_module_version": "1.5.0",
            "_model_name": "HTMLModel",
            "_view_count": null,
            "_view_module": "@jupyter-widgets/controls",
            "_view_module_version": "1.5.0",
            "_view_name": "HTMLView",
            "description": "",
            "description_tooltip": null,
            "layout": "IPY_MODEL_29842c48439042e383032efe0426933f",
            "placeholder": "​",
            "style": "IPY_MODEL_dee657ebee1f48dc80fafb93a80b54a6",
            "value": " 4542/4542 [00:00&lt;00:00, 212645.99it/s]"
          }
        },
        "2d220dc10f814c5587910ae4332df7e4": {
          "model_module": "@jupyter-widgets/base",
          "model_name": "LayoutModel",
          "model_module_version": "1.2.0",
          "state": {
            "_model_module": "@jupyter-widgets/base",
            "_model_module_version": "1.2.0",
            "_model_name": "LayoutModel",
            "_view_count": null,
            "_view_module": "@jupyter-widgets/base",
            "_view_module_version": "1.2.0",
            "_view_name": "LayoutView",
            "align_content": null,
            "align_items": null,
            "align_self": null,
            "border": null,
            "bottom": null,
            "display": null,
            "flex": null,
            "flex_flow": null,
            "grid_area": null,
            "grid_auto_columns": null,
            "grid_auto_flow": null,
            "grid_auto_rows": null,
            "grid_column": null,
            "grid_gap": null,
            "grid_row": null,
            "grid_template_areas": null,
            "grid_template_columns": null,
            "grid_template_rows": null,
            "height": null,
            "justify_content": null,
            "justify_items": null,
            "left": null,
            "margin": null,
            "max_height": null,
            "max_width": null,
            "min_height": null,
            "min_width": null,
            "object_fit": null,
            "object_position": null,
            "order": null,
            "overflow": null,
            "overflow_x": null,
            "overflow_y": null,
            "padding": null,
            "right": null,
            "top": null,
            "visibility": null,
            "width": null
          }
        },
        "952f2643dc394ba4b7bdcf03334a0535": {
          "model_module": "@jupyter-widgets/base",
          "model_name": "LayoutModel",
          "model_module_version": "1.2.0",
          "state": {
            "_model_module": "@jupyter-widgets/base",
            "_model_module_version": "1.2.0",
            "_model_name": "LayoutModel",
            "_view_count": null,
            "_view_module": "@jupyter-widgets/base",
            "_view_module_version": "1.2.0",
            "_view_name": "LayoutView",
            "align_content": null,
            "align_items": null,
            "align_self": null,
            "border": null,
            "bottom": null,
            "display": null,
            "flex": null,
            "flex_flow": null,
            "grid_area": null,
            "grid_auto_columns": null,
            "grid_auto_flow": null,
            "grid_auto_rows": null,
            "grid_column": null,
            "grid_gap": null,
            "grid_row": null,
            "grid_template_areas": null,
            "grid_template_columns": null,
            "grid_template_rows": null,
            "height": null,
            "justify_content": null,
            "justify_items": null,
            "left": null,
            "margin": null,
            "max_height": null,
            "max_width": null,
            "min_height": null,
            "min_width": null,
            "object_fit": null,
            "object_position": null,
            "order": null,
            "overflow": null,
            "overflow_x": null,
            "overflow_y": null,
            "padding": null,
            "right": null,
            "top": null,
            "visibility": null,
            "width": null
          }
        },
        "980bbb4ed538465ab35b6d34da00d21d": {
          "model_module": "@jupyter-widgets/controls",
          "model_name": "DescriptionStyleModel",
          "model_module_version": "1.5.0",
          "state": {
            "_model_module": "@jupyter-widgets/controls",
            "_model_module_version": "1.5.0",
            "_model_name": "DescriptionStyleModel",
            "_view_count": null,
            "_view_module": "@jupyter-widgets/base",
            "_view_module_version": "1.2.0",
            "_view_name": "StyleView",
            "description_width": ""
          }
        },
        "eb152d16f7e74435b951d1f52f202cac": {
          "model_module": "@jupyter-widgets/base",
          "model_name": "LayoutModel",
          "model_module_version": "1.2.0",
          "state": {
            "_model_module": "@jupyter-widgets/base",
            "_model_module_version": "1.2.0",
            "_model_name": "LayoutModel",
            "_view_count": null,
            "_view_module": "@jupyter-widgets/base",
            "_view_module_version": "1.2.0",
            "_view_name": "LayoutView",
            "align_content": null,
            "align_items": null,
            "align_self": null,
            "border": null,
            "bottom": null,
            "display": null,
            "flex": null,
            "flex_flow": null,
            "grid_area": null,
            "grid_auto_columns": null,
            "grid_auto_flow": null,
            "grid_auto_rows": null,
            "grid_column": null,
            "grid_gap": null,
            "grid_row": null,
            "grid_template_areas": null,
            "grid_template_columns": null,
            "grid_template_rows": null,
            "height": null,
            "justify_content": null,
            "justify_items": null,
            "left": null,
            "margin": null,
            "max_height": null,
            "max_width": null,
            "min_height": null,
            "min_width": null,
            "object_fit": null,
            "object_position": null,
            "order": null,
            "overflow": null,
            "overflow_x": null,
            "overflow_y": null,
            "padding": null,
            "right": null,
            "top": null,
            "visibility": null,
            "width": null
          }
        },
        "f677791467384a7ea7c14dc447f558dd": {
          "model_module": "@jupyter-widgets/controls",
          "model_name": "ProgressStyleModel",
          "model_module_version": "1.5.0",
          "state": {
            "_model_module": "@jupyter-widgets/controls",
            "_model_module_version": "1.5.0",
            "_model_name": "ProgressStyleModel",
            "_view_count": null,
            "_view_module": "@jupyter-widgets/base",
            "_view_module_version": "1.2.0",
            "_view_name": "StyleView",
            "bar_color": null,
            "description_width": ""
          }
        },
        "29842c48439042e383032efe0426933f": {
          "model_module": "@jupyter-widgets/base",
          "model_name": "LayoutModel",
          "model_module_version": "1.2.0",
          "state": {
            "_model_module": "@jupyter-widgets/base",
            "_model_module_version": "1.2.0",
            "_model_name": "LayoutModel",
            "_view_count": null,
            "_view_module": "@jupyter-widgets/base",
            "_view_module_version": "1.2.0",
            "_view_name": "LayoutView",
            "align_content": null,
            "align_items": null,
            "align_self": null,
            "border": null,
            "bottom": null,
            "display": null,
            "flex": null,
            "flex_flow": null,
            "grid_area": null,
            "grid_auto_columns": null,
            "grid_auto_flow": null,
            "grid_auto_rows": null,
            "grid_column": null,
            "grid_gap": null,
            "grid_row": null,
            "grid_template_areas": null,
            "grid_template_columns": null,
            "grid_template_rows": null,
            "height": null,
            "justify_content": null,
            "justify_items": null,
            "left": null,
            "margin": null,
            "max_height": null,
            "max_width": null,
            "min_height": null,
            "min_width": null,
            "object_fit": null,
            "object_position": null,
            "order": null,
            "overflow": null,
            "overflow_x": null,
            "overflow_y": null,
            "padding": null,
            "right": null,
            "top": null,
            "visibility": null,
            "width": null
          }
        },
        "dee657ebee1f48dc80fafb93a80b54a6": {
          "model_module": "@jupyter-widgets/controls",
          "model_name": "DescriptionStyleModel",
          "model_module_version": "1.5.0",
          "state": {
            "_model_module": "@jupyter-widgets/controls",
            "_model_module_version": "1.5.0",
            "_model_name": "DescriptionStyleModel",
            "_view_count": null,
            "_view_module": "@jupyter-widgets/base",
            "_view_module_version": "1.2.0",
            "_view_name": "StyleView",
            "description_width": ""
          }
        },
        "0dbe6ba26c26462e8c1f8bd092eb36c3": {
          "model_module": "@jupyter-widgets/controls",
          "model_name": "DropdownModel",
          "model_module_version": "1.5.0",
          "state": {
            "_dom_classes": [],
            "_model_module": "@jupyter-widgets/controls",
            "_model_module_version": "1.5.0",
            "_model_name": "DropdownModel",
            "_options_labels": [
              "Sharpen [Symmetric kernel]",
              "Emboss [Non-symmetric]"
            ],
            "_view_count": null,
            "_view_module": "@jupyter-widgets/controls",
            "_view_module_version": "1.5.0",
            "_view_name": "DropdownView",
            "description": "Kernel:",
            "description_tooltip": null,
            "disabled": false,
            "index": 0,
            "layout": "IPY_MODEL_ad8e35cddef74304892f2abcd0c25e77",
            "style": "IPY_MODEL_9cbe947e67d340498bf2157a8895f514"
          }
        },
        "ad8e35cddef74304892f2abcd0c25e77": {
          "model_module": "@jupyter-widgets/base",
          "model_name": "LayoutModel",
          "model_module_version": "1.2.0",
          "state": {
            "_model_module": "@jupyter-widgets/base",
            "_model_module_version": "1.2.0",
            "_model_name": "LayoutModel",
            "_view_count": null,
            "_view_module": "@jupyter-widgets/base",
            "_view_module_version": "1.2.0",
            "_view_name": "LayoutView",
            "align_content": null,
            "align_items": null,
            "align_self": null,
            "border": null,
            "bottom": null,
            "display": null,
            "flex": null,
            "flex_flow": null,
            "grid_area": null,
            "grid_auto_columns": null,
            "grid_auto_flow": null,
            "grid_auto_rows": null,
            "grid_column": null,
            "grid_gap": null,
            "grid_row": null,
            "grid_template_areas": null,
            "grid_template_columns": null,
            "grid_template_rows": null,
            "height": null,
            "justify_content": null,
            "justify_items": null,
            "left": null,
            "margin": null,
            "max_height": null,
            "max_width": null,
            "min_height": null,
            "min_width": null,
            "object_fit": null,
            "object_position": null,
            "order": null,
            "overflow": null,
            "overflow_x": null,
            "overflow_y": null,
            "padding": null,
            "right": null,
            "top": null,
            "visibility": null,
            "width": null
          }
        },
        "9cbe947e67d340498bf2157a8895f514": {
          "model_module": "@jupyter-widgets/controls",
          "model_name": "DescriptionStyleModel",
          "model_module_version": "1.5.0",
          "state": {
            "_model_module": "@jupyter-widgets/controls",
            "_model_module_version": "1.5.0",
            "_model_name": "DescriptionStyleModel",
            "_view_count": null,
            "_view_module": "@jupyter-widgets/base",
            "_view_module_version": "1.2.0",
            "_view_name": "StyleView",
            "description_width": ""
          }
        },
        "751a738832e04fca97529dbb750521c3": {
          "model_module": "@jupyter-widgets/output",
          "model_name": "OutputModel",
          "model_module_version": "1.0.0",
          "state": {
            "_dom_classes": [],
            "_model_module": "@jupyter-widgets/output",
            "_model_module_version": "1.0.0",
            "_model_name": "OutputModel",
            "_view_count": null,
            "_view_module": "@jupyter-widgets/output",
            "_view_module_version": "1.0.0",
            "_view_name": "OutputView",
            "layout": "IPY_MODEL_674a313f50fb4e0996a8a0eb3b8d7ad6",
            "msg_id": "",
            "outputs": [
              {
                "output_type": "display_data",
                "data": {
                  "text/plain": "<Figure size 1080x360 with 3 Axes>",
                  "image/png": "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\n"
                },
                "metadata": {
                  "needs_background": "light"
                }
              }
            ]
          }
        },
        "674a313f50fb4e0996a8a0eb3b8d7ad6": {
          "model_module": "@jupyter-widgets/base",
          "model_name": "LayoutModel",
          "model_module_version": "1.2.0",
          "state": {
            "_model_module": "@jupyter-widgets/base",
            "_model_module_version": "1.2.0",
            "_model_name": "LayoutModel",
            "_view_count": null,
            "_view_module": "@jupyter-widgets/base",
            "_view_module_version": "1.2.0",
            "_view_name": "LayoutView",
            "align_content": null,
            "align_items": null,
            "align_self": null,
            "border": null,
            "bottom": null,
            "display": null,
            "flex": null,
            "flex_flow": null,
            "grid_area": null,
            "grid_auto_columns": null,
            "grid_auto_flow": null,
            "grid_auto_rows": null,
            "grid_column": null,
            "grid_gap": null,
            "grid_row": null,
            "grid_template_areas": null,
            "grid_template_columns": null,
            "grid_template_rows": null,
            "height": null,
            "justify_content": null,
            "justify_items": null,
            "left": null,
            "margin": null,
            "max_height": null,
            "max_width": null,
            "min_height": null,
            "min_width": null,
            "object_fit": null,
            "object_position": null,
            "order": null,
            "overflow": null,
            "overflow_x": null,
            "overflow_y": null,
            "padding": null,
            "right": null,
            "top": null,
            "visibility": null,
            "width": null
          }
        },
        "fd0e2452744341c280004a2bc8adb93f": {
          "model_module": "@jupyter-widgets/controls",
          "model_name": "DropdownModel",
          "model_module_version": "1.5.0",
          "state": {
            "_dom_classes": [],
            "_model_module": "@jupyter-widgets/controls",
            "_model_module_version": "1.5.0",
            "_model_name": "DropdownModel",
            "_options_labels": [
              "Gaussian blur",
              "Vertical edges"
            ],
            "_view_count": null,
            "_view_module": "@jupyter-widgets/controls",
            "_view_module_version": "1.5.0",
            "_view_name": "DropdownView",
            "description": "Kernel:",
            "description_tooltip": null,
            "disabled": false,
            "index": 0,
            "layout": "IPY_MODEL_93571c3fba8d46a2ad11179426cefb18",
            "style": "IPY_MODEL_854ae8fd1d7a45adb869e1c52cb8c216"
          }
        },
        "93571c3fba8d46a2ad11179426cefb18": {
          "model_module": "@jupyter-widgets/base",
          "model_name": "LayoutModel",
          "model_module_version": "1.2.0",
          "state": {
            "_model_module": "@jupyter-widgets/base",
            "_model_module_version": "1.2.0",
            "_model_name": "LayoutModel",
            "_view_count": null,
            "_view_module": "@jupyter-widgets/base",
            "_view_module_version": "1.2.0",
            "_view_name": "LayoutView",
            "align_content": null,
            "align_items": null,
            "align_self": null,
            "border": null,
            "bottom": null,
            "display": null,
            "flex": null,
            "flex_flow": null,
            "grid_area": null,
            "grid_auto_columns": null,
            "grid_auto_flow": null,
            "grid_auto_rows": null,
            "grid_column": null,
            "grid_gap": null,
            "grid_row": null,
            "grid_template_areas": null,
            "grid_template_columns": null,
            "grid_template_rows": null,
            "height": null,
            "justify_content": null,
            "justify_items": null,
            "left": null,
            "margin": null,
            "max_height": null,
            "max_width": null,
            "min_height": null,
            "min_width": null,
            "object_fit": null,
            "object_position": null,
            "order": null,
            "overflow": null,
            "overflow_x": null,
            "overflow_y": null,
            "padding": null,
            "right": null,
            "top": null,
            "visibility": null,
            "width": null
          }
        },
        "854ae8fd1d7a45adb869e1c52cb8c216": {
          "model_module": "@jupyter-widgets/controls",
          "model_name": "DescriptionStyleModel",
          "model_module_version": "1.5.0",
          "state": {
            "_model_module": "@jupyter-widgets/controls",
            "_model_module_version": "1.5.0",
            "_model_name": "DescriptionStyleModel",
            "_view_count": null,
            "_view_module": "@jupyter-widgets/base",
            "_view_module_version": "1.2.0",
            "_view_name": "StyleView",
            "description_width": ""
          }
        },
        "cd392b6e4cf040c6860bb7246c6519b2": {
          "model_module": "@jupyter-widgets/output",
          "model_name": "OutputModel",
          "model_module_version": "1.0.0",
          "state": {
            "_dom_classes": [],
            "_model_module": "@jupyter-widgets/output",
            "_model_module_version": "1.0.0",
            "_model_name": "OutputModel",
            "_view_count": null,
            "_view_module": "@jupyter-widgets/output",
            "_view_module_version": "1.0.0",
            "_view_name": "OutputView",
            "layout": "IPY_MODEL_b0b7198a59c74ae5a7c57bbd5dd6d9ca",
            "msg_id": "",
            "outputs": [
              {
                "output_type": "display_data",
                "data": {
                  "text/plain": "<Figure size 720x360 with 2 Axes>",
                  "image/png": "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\n"
                },
                "metadata": {
                  "needs_background": "light"
                }
              }
            ]
          }
        },
        "b0b7198a59c74ae5a7c57bbd5dd6d9ca": {
          "model_module": "@jupyter-widgets/base",
          "model_name": "LayoutModel",
          "model_module_version": "1.2.0",
          "state": {
            "_model_module": "@jupyter-widgets/base",
            "_model_module_version": "1.2.0",
            "_model_name": "LayoutModel",
            "_view_count": null,
            "_view_module": "@jupyter-widgets/base",
            "_view_module_version": "1.2.0",
            "_view_name": "LayoutView",
            "align_content": null,
            "align_items": null,
            "align_self": null,
            "border": null,
            "bottom": null,
            "display": null,
            "flex": null,
            "flex_flow": null,
            "grid_area": null,
            "grid_auto_columns": null,
            "grid_auto_flow": null,
            "grid_auto_rows": null,
            "grid_column": null,
            "grid_gap": null,
            "grid_row": null,
            "grid_template_areas": null,
            "grid_template_columns": null,
            "grid_template_rows": null,
            "height": null,
            "justify_content": null,
            "justify_items": null,
            "left": null,
            "margin": null,
            "max_height": null,
            "max_width": null,
            "min_height": null,
            "min_width": null,
            "object_fit": null,
            "object_position": null,
            "order": null,
            "overflow": null,
            "overflow_x": null,
            "overflow_y": null,
            "padding": null,
            "right": null,
            "top": null,
            "visibility": null,
            "width": null
          }
        }
      }
    }
  },
  "cells": [
    {
      "cell_type": "markdown",
      "metadata": {
        "id": "oBV0IermqP8v"
      },
      "source": [
        "Here you can use MNIST dataset [[link](http://yann.lecun.com/exdb/mnist/)] to learn how convolution works."
      ]
    },
    {
      "cell_type": "code",
      "metadata": {
        "id": "gCSXouyUlbNv",
        "collapsed": true,
        "colab": {
          "base_uri": "https://localhost:8080/",
          "height": 423,
          "referenced_widgets": [
            "5a562c3021a645cb8eeceaf19fedb679",
            "84b152c430844e0ea5cc040d97192b40",
            "b6ac4dc6471f4d588f7f55de95a755a6",
            "db34b408c49b452e8e159a2285a3adc3",
            "6824fa90da9d4c238cb28e8317c655da",
            "e28e1e0cbc8a4b0898e5683e80039f2e",
            "7234357427e7404fb8a8689b808c398e",
            "ec72d445392b4886b866c58c1e411914",
            "012dcfd68afa41028b8312e6ef9c9cae",
            "8722cade37ff45cfb130d8c35759f38d",
            "2208e7ffec4c41fdb706c878c6d0a57b",
            "2f01c33d8ae9437e8d6aa2ac196c1754",
            "095a14d544464f9ea6496a6d7f2dc6e7",
            "bdd5436dc9e140d790b7a349f2cfc658",
            "25eb95b87d5a49e0b35f0005f5b14380",
            "f936990f0f124d8aa2ebaf9c9d73d1db",
            "30b0e72c8ad446818ef4d4a9a77dd1e0",
            "79042b00ba824e13a97cc96089e98bc6",
            "c50cccbb3cb840ed911ef9a4052ca4d0",
            "0c933f6dd5364a4a81eeebf20bb40d7c",
            "aa306b8c301e47d196020d59e9aac2cc",
            "3f7c02b4a4c4476787aa901528afad67",
            "6d1f402cf98f4fdf8229a4131a30bd3c",
            "9570296194d243949cc0db33959013d8",
            "077969cf5c19447b95cbed44f2d4c31c",
            "b53930b07fa54b5ca01059dd4d2ce770",
            "20be4d7e69414090a4583e874facba63",
            "3b5c396609624e4bbae38e8295a8ec23",
            "107c882f342c490ab589a05b56222ebd",
            "78c5b596b0cd4e1ca620a85e83a9a9e9",
            "28f79dab94b746a085c6e035ab6e1bbc",
            "b492d4c33ad247be9cfb6a928cd52fd9",
            "3165430b93ac4a79b9b476a13bf9f452",
            "5a72bac71aac4f838eb996ca8b56dede",
            "8c788a643e464b84b5e6ec424c5a641e",
            "1b6b7b4a9a5146ec8a14c32e0d383e38",
            "82d0638a0123456eb0364eb6bb10e9eb",
            "2d220dc10f814c5587910ae4332df7e4",
            "952f2643dc394ba4b7bdcf03334a0535",
            "980bbb4ed538465ab35b6d34da00d21d",
            "eb152d16f7e74435b951d1f52f202cac",
            "f677791467384a7ea7c14dc447f558dd",
            "29842c48439042e383032efe0426933f",
            "dee657ebee1f48dc80fafb93a80b54a6"
          ]
        },
        "outputId": "01c232b3-3f85-4591-941a-0d32151b063b"
      },
      "source": [
        "#Import pytorch and download data\n",
        "import torch\n",
        "import torch.nn as nn\n",
        "import numpy as np\n",
        "import matplotlib\n",
        "import matplotlib.pyplot as plt\n",
        "from torchvision import datasets, transforms\n",
        "from IPython.display import display, clear_output\n",
        "\n",
        "transform = transforms.Compose([transforms.Resize((8, 8)),\n",
        "                                 transforms.ToTensor()])\n",
        "\n",
        "mnist = datasets.MNIST('', train=True, transform=transform, target_transform=None, download=True)"
      ],
      "execution_count": null,
      "outputs": [
        {
          "output_type": "stream",
          "name": "stdout",
          "text": [
            "Downloading http://yann.lecun.com/exdb/mnist/train-images-idx3-ubyte.gz\n",
            "Downloading http://yann.lecun.com/exdb/mnist/train-images-idx3-ubyte.gz to MNIST/raw/train-images-idx3-ubyte.gz\n"
          ]
        },
        {
          "output_type": "display_data",
          "data": {
            "text/plain": [
              "  0%|          | 0/9912422 [00:00<?, ?it/s]"
            ],
            "application/vnd.jupyter.widget-view+json": {
              "version_major": 2,
              "version_minor": 0,
              "model_id": "5a562c3021a645cb8eeceaf19fedb679"
            }
          },
          "metadata": {}
        },
        {
          "output_type": "stream",
          "name": "stdout",
          "text": [
            "Extracting MNIST/raw/train-images-idx3-ubyte.gz to MNIST/raw\n",
            "\n",
            "Downloading http://yann.lecun.com/exdb/mnist/train-labels-idx1-ubyte.gz\n",
            "Downloading http://yann.lecun.com/exdb/mnist/train-labels-idx1-ubyte.gz to MNIST/raw/train-labels-idx1-ubyte.gz\n"
          ]
        },
        {
          "output_type": "display_data",
          "data": {
            "text/plain": [
              "  0%|          | 0/28881 [00:00<?, ?it/s]"
            ],
            "application/vnd.jupyter.widget-view+json": {
              "version_major": 2,
              "version_minor": 0,
              "model_id": "2f01c33d8ae9437e8d6aa2ac196c1754"
            }
          },
          "metadata": {}
        },
        {
          "output_type": "stream",
          "name": "stdout",
          "text": [
            "Extracting MNIST/raw/train-labels-idx1-ubyte.gz to MNIST/raw\n",
            "\n",
            "Downloading http://yann.lecun.com/exdb/mnist/t10k-images-idx3-ubyte.gz\n",
            "Downloading http://yann.lecun.com/exdb/mnist/t10k-images-idx3-ubyte.gz to MNIST/raw/t10k-images-idx3-ubyte.gz\n"
          ]
        },
        {
          "output_type": "display_data",
          "data": {
            "text/plain": [
              "  0%|          | 0/1648877 [00:00<?, ?it/s]"
            ],
            "application/vnd.jupyter.widget-view+json": {
              "version_major": 2,
              "version_minor": 0,
              "model_id": "6d1f402cf98f4fdf8229a4131a30bd3c"
            }
          },
          "metadata": {}
        },
        {
          "output_type": "stream",
          "name": "stdout",
          "text": [
            "Extracting MNIST/raw/t10k-images-idx3-ubyte.gz to MNIST/raw\n",
            "\n",
            "Downloading http://yann.lecun.com/exdb/mnist/t10k-labels-idx1-ubyte.gz\n",
            "Downloading http://yann.lecun.com/exdb/mnist/t10k-labels-idx1-ubyte.gz to MNIST/raw/t10k-labels-idx1-ubyte.gz\n"
          ]
        },
        {
          "output_type": "display_data",
          "data": {
            "text/plain": [
              "  0%|          | 0/4542 [00:00<?, ?it/s]"
            ],
            "application/vnd.jupyter.widget-view+json": {
              "version_major": 2,
              "version_minor": 0,
              "model_id": "5a72bac71aac4f838eb996ca8b56dede"
            }
          },
          "metadata": {}
        },
        {
          "output_type": "stream",
          "name": "stdout",
          "text": [
            "Extracting MNIST/raw/t10k-labels-idx1-ubyte.gz to MNIST/raw\n",
            "\n"
          ]
        }
      ]
    },
    {
      "cell_type": "code",
      "metadata": {
        "id": "lRTxYmQVmgwH"
      },
      "source": [
        "#This is helper function to format text on the grid\n",
        "def text_axes(ax, data, threshold, fontsize = 12, change_color_text = False):\n",
        "        size_x, size_y = data.shape\n",
        "        for i in range(size_x):\n",
        "            for j in range(size_y):\n",
        "                v = data[i, j].data.item()\n",
        "\n",
        "                if change_color_text:\n",
        "                    if v <= threshold:\n",
        "                        c = 'black'\n",
        "                    else:\n",
        "                        c = 'w'\n",
        "                else:\n",
        "                    c = 'black'\n",
        "\n",
        "                fontweight=\"bold\"\n",
        "                ax.text(j, i, format(v, '.1f'), fontsize = fontsize,\n",
        "                        fontweight=fontweight,\n",
        "                       ha=\"center\", va=\"center\", color=c, )"
      ],
      "execution_count": null,
      "outputs": []
    },
    {
      "cell_type": "markdown",
      "metadata": {
        "id": "cCjHAThRBpqE"
      },
      "source": [
        "We will use **scipy.signal** library to obtain results of convolution. You can see documentation [here](https://docs.scipy.org/doc/scipy/reference/signal.html).\n",
        "\n",
        "To try convolution (technically, cross-correlation) with Pytorch, use *nn.functional.conv2d*.\n",
        "\n",
        "\n",
        "\n",
        "```\n",
        "nn.functional.conv2d(data, kernel, bias, stride, padding)\n",
        "```\n",
        "\n"
      ]
    },
    {
      "cell_type": "code",
      "metadata": {
        "id": "BgGTReHmClph"
      },
      "source": [
        "import scipy.signal"
      ],
      "execution_count": null,
      "outputs": []
    },
    {
      "cell_type": "markdown",
      "metadata": {
        "id": "v1zbzrjHD6d2"
      },
      "source": [
        "Let's take a look on the sample.\n",
        "\n",
        "We will use **4** from MNIST since it's look good in smaller resolution, you can change resolution in the cell above.\n",
        ""
      ]
    },
    {
      "cell_type": "code",
      "source": [
        "mnist[2][0].size()"
      ],
      "metadata": {
        "colab": {
          "base_uri": "https://localhost:8080/"
        },
        "id": "zxJ40MwqJjIX",
        "outputId": "d3f64e5a-08f8-474a-fe24-916f890f24f1"
      },
      "execution_count": null,
      "outputs": [
        {
          "output_type": "execute_result",
          "data": {
            "text/plain": [
              "torch.Size([1, 8, 8])"
            ]
          },
          "metadata": {},
          "execution_count": 4
        }
      ]
    },
    {
      "cell_type": "code",
      "metadata": {
        "id": "WM9B_Z0tkmaN",
        "colab": {
          "base_uri": "https://localhost:8080/",
          "height": 303
        },
        "outputId": "59e0e375-de9a-4c1a-b6cf-d4d2a1e75487"
      },
      "source": [
        "four = mnist[2][0].squeeze()\n",
        "fig, ax = plt.subplots(1, 1, figsize=(5,5))\n",
        "\n",
        "plt.axis('off')\n",
        "plt.imshow(four, cmap='Blues')\n",
        "text_axes(ax, four, 0.3, fontsize=12, change_color_text = True)"
      ],
      "execution_count": null,
      "outputs": [
        {
          "output_type": "display_data",
          "data": {
            "text/plain": [
              "<Figure size 360x360 with 1 Axes>"
            ],
            "image/png": "[encoded data removed]"
          },
          "metadata": {
            "needs_background": "light"
          }
        }
      ]
    },
    {
      "cell_type": "markdown",
      "metadata": {
        "id": "uQynH7sNPVBh"
      },
      "source": [
        "# Convolution & Cross-correlation"
      ]
    },
    {
      "cell_type": "markdown",
      "metadata": {
        "id": "bkHrFn05ETq5"
      },
      "source": [
        "First, let's take a look on the difference between cross-correlation and convolution. We will test two kernels, one is symmetrical and another one is not.\n",
        "\n",
        "\n",
        "$s = \\begin{pmatrix}\n",
        "  0 & -1 & 0\\\\\n",
        "  -1 & 5 & -1\\\\\n",
        "  0 & -1 & 0\n",
        "\\end{pmatrix}$ and $ n = \\begin{pmatrix}\n",
        "  -2 & -1 & 1 \\\\\n",
        "  -1 & 1 & 1 \\\\\n",
        "  0 & 1 & 2\n",
        "\\end{pmatrix}\n",
        "$\n"
      ]
    },
    {
      "cell_type": "code",
      "metadata": {
        "id": "NV7NBMdblfVK"
      },
      "source": [
        "symm_kernel = [[0,-1,0], [-1,5,-1], [0,-1,0]]\n",
        "no_symm_kernel = [[-2,-1,1], [-1,1,1], [0,1,2]]"
      ],
      "execution_count": null,
      "outputs": []
    },
    {
      "cell_type": "markdown",
      "metadata": {
        "id": "ACIph-l2SwAB"
      },
      "source": [
        "Let's setup widget and plot. You can add your own kernel to options for dropdown."
      ]
    },
    {
      "cell_type": "code",
      "metadata": {
        "id": "DGwwmOI7FmBB"
      },
      "source": [
        "import ipywidgets as widgets"
      ],
      "execution_count": null,
      "outputs": []
    },
    {
      "cell_type": "code",
      "metadata": {
        "id": "zoddhgpRFqFP"
      },
      "source": [
        "dropdown = widgets.Dropdown(\n",
        "    options=[('Sharpen [Symmetric kernel]', symm_kernel),\n",
        "             ('Emboss [Non-symmetric]', no_symm_kernel)],\n",
        "    value=symm_kernel,\n",
        "    description='Kernel:',\n",
        ")\n",
        "\n",
        "output = widgets.Output()\n",
        "\n",
        "def draw_grid(ax, title, data):\n",
        "    ax.axis('off')\n",
        "    ax.imshow(data, cmap='Blues', vmin=0, vmax=1)\n",
        "    text_axes(ax, data, 0.3, fontsize = 12, change_color_text = True)\n",
        "    ax.set_title(title, fontsize = 16, )\n"
      ],
      "execution_count": null,
      "outputs": []
    },
    {
      "cell_type": "markdown",
      "metadata": {
        "id": "zJ-HsZIdUWYV"
      },
      "source": [
        "For symmetrical kernel results of convolution and cross-correlation are identical."
      ]
    },
    {
      "cell_type": "code",
      "metadata": {
        "id": "pegz4S_mFcux",
        "colab": {
          "base_uri": "https://localhost:8080/",
          "height": 327,
          "referenced_widgets": [
            "0dbe6ba26c26462e8c1f8bd092eb36c3",
            "ad8e35cddef74304892f2abcd0c25e77",
            "9cbe947e67d340498bf2157a8895f514",
            "751a738832e04fca97529dbb750521c3",
            "674a313f50fb4e0996a8a0eb3b8d7ad6"
          ]
        },
        "outputId": "f0c8e81e-2352-421a-ced1-d9cf9936b384"
      },
      "source": [
        "display(dropdown, output)\n",
        "\n",
        "def on_dropdown_change(d):\n",
        "  if d['type'] == 'change' and d['name'] == 'value':\n",
        "    with output:\n",
        "        output.clear_output()\n",
        "        conv = scipy.signal.convolve2d(four, dropdown.value, 'valid')\n",
        "        corr = scipy.signal.correlate2d(four, dropdown.value, 'valid')\n",
        "\n",
        "        fig, axs = plt.subplots(1, 3, figsize=(15,5))\n",
        "        draw_grid(axs[0], 'Original', four)\n",
        "        draw_grid(axs[1], 'Convolution', torch.tensor(conv))\n",
        "        draw_grid(axs[2], 'Cross-correlation', torch.tensor(corr))\n",
        "\n",
        "        plt.show()\n",
        "\n",
        "dropdown.observe(on_dropdown_change)\n",
        "\n",
        "with output:\n",
        "    conv = scipy.signal.convolve2d(four, dropdown.value, 'valid')\n",
        "    corr = scipy.signal.correlate2d(four, dropdown.value, 'valid')\n",
        "\n",
        "    fig, axs = plt.subplots(1, 3, figsize=(15,5))\n",
        "    draw_grid(axs[0], 'Original', four)\n",
        "    draw_grid(axs[1], 'Convolution', torch.tensor(conv))\n",
        "    draw_grid(axs[2], 'Cross-correlation', torch.tensor(corr))\n",
        "\n",
        "    plt.show()"
      ],
      "execution_count": null,
      "outputs": [
        {
          "output_type": "display_data",
          "data": {
            "text/plain": [
              "Dropdown(description='Kernel:', options=(('Sharpen [Symmetric kernel]', [[0, -1, 0], [-1, 5, -1], [0, -1, 0]])…"
            ],
            "application/vnd.jupyter.widget-view+json": {
              "version_major": 2,
              "version_minor": 0,
              "model_id": "0dbe6ba26c26462e8c1f8bd092eb36c3"
            }
          },
          "metadata": {}
        },
        {
          "output_type": "display_data",
          "data": {
            "text/plain": [
              "Output()"
            ],
            "application/vnd.jupyter.widget-view+json": {
              "version_major": 2,
              "version_minor": 0,
              "model_id": "751a738832e04fca97529dbb750521c3"
            }
          },
          "metadata": {}
        }
      ]
    },
    {
      "cell_type": "markdown",
      "metadata": {
        "id": "cQnZLFkWPhW5"
      },
      "source": [
        "# Cross-correlation results"
      ]
    },
    {
      "cell_type": "markdown",
      "metadata": {
        "id": "oV_DDMkxao8T"
      },
      "source": [
        "Let's use bigger images to see on cross-correlation results with different kernels."
      ]
    },
    {
      "cell_type": "code",
      "metadata": {
        "id": "pw5e_4Uma0AA"
      },
      "source": [
        "transform = transforms.Compose([transforms.Resize((10, 10)),\n",
        "                                 transforms.ToTensor()])\n",
        "\n",
        "mnist_large = datasets.MNIST('', train=True, transform=transform, target_transform=None, download=True)\n",
        "four_large = mnist_large[2][0].squeeze()"
      ],
      "execution_count": null,
      "outputs": []
    },
    {
      "cell_type": "markdown",
      "metadata": {
        "id": "V57_PeLjPv_A"
      },
      "source": [
        "You can add your kernels here.\n",
        "For example, try to detect horizontal edges by using this kernel:\n",
        "\n",
        "$k = \\begin{pmatrix}\n",
        "  1 & 1 & 1 \\\\\n",
        "  0 & 0 & 0 \\\\\n",
        "  -1 & -1 & -1\n",
        "\\end{pmatrix}$\n",
        "\n",
        "```\n",
        "('Horizontal edges', [[1,1,1], [0,0,0], [-1,-1,-1]])\n",
        "```\n",
        "\n"
      ]
    },
    {
      "cell_type": "code",
      "metadata": {
        "id": "wRME7Ez3a-WQ"
      },
      "source": [
        "dropdown_corr = widgets.Dropdown(\n",
        "    options=[('Gaussian blur', [[1/16, 1/8, 1/16], [1/8, 1/4, 1/8], [1/16, 1/8, 1/16] ]),\n",
        "             ('Vertical edges', [[1,0,-1], [1,0,-1], [1,0,-1]]),\n",
        "              #Put your kernels here\n",
        "             ],\n",
        "    value=[[1,0,-1], [1,0,-1], [1,0,-1]],\n",
        "    description='Kernel:',\n",
        ")\n",
        "\n",
        "output_corr = widgets.Output()"
      ],
      "execution_count": null,
      "outputs": []
    },
    {
      "cell_type": "code",
      "metadata": {
        "id": "PeKC69g8bfmA",
        "colab": {
          "base_uri": "https://localhost:8080/",
          "height": 335,
          "referenced_widgets": [
            "fd0e2452744341c280004a2bc8adb93f",
            "93571c3fba8d46a2ad11179426cefb18",
            "854ae8fd1d7a45adb869e1c52cb8c216",
            "cd392b6e4cf040c6860bb7246c6519b2",
            "b0b7198a59c74ae5a7c57bbd5dd6d9ca"
          ]
        },
        "outputId": "3bebb6c6-7d5a-4e0f-ad35-ad3263952931"
      },
      "source": [
        "display(dropdown_corr, output_corr)\n",
        "\n",
        "def on_dropdown_change(d):\n",
        "  if d['type'] == 'change' and d['name'] == 'value':\n",
        "    with output_corr:\n",
        "        clear_output()\n",
        "        corr = scipy.signal.correlate2d(four_large, dropdown_corr.value, 'valid', )\n",
        "\n",
        "        fig, axs = plt.subplots(1, 2, figsize=(10,5))\n",
        "        draw_grid(axs[0], 'Original', four_large)\n",
        "        draw_grid(axs[1], 'Convolution', torch.tensor(corr))\n",
        "\n",
        "        plt.show()\n",
        "\n",
        "dropdown_corr.observe(on_dropdown_change, names='value')\n",
        "\n",
        "with output_corr:\n",
        "    output_corr.clear_output()\n",
        "    corr = scipy.signal.correlate2d(four_large, dropdown_corr.value, 'valid')\n",
        "\n",
        "    fig, axs = plt.subplots(1, 2, figsize=(10,5))\n",
        "    draw_grid(axs[0], 'Original', four_large)\n",
        "    draw_grid(axs[1], 'Convolution', torch.tensor(corr))\n",
        "\n",
        "    plt.show()"
      ],
      "execution_count": null,
      "outputs": [
        {
          "output_type": "display_data",
          "data": {
            "text/plain": [
              "Dropdown(description='Kernel:', index=1, options=(('Gaussian blur', [[0.0625, 0.125, 0.0625], [0.125, 0.25, 0.…"
            ],
            "application/vnd.jupyter.widget-view+json": {
              "version_major": 2,
              "version_minor": 0,
              "model_id": "fd0e2452744341c280004a2bc8adb93f"
            }
          },
          "metadata": {}
        },
        {
          "output_type": "display_data",
          "data": {
            "text/plain": [
              "Output()"
            ],
            "application/vnd.jupyter.widget-view+json": {
              "version_major": 2,
              "version_minor": 0,
              "model_id": "cd392b6e4cf040c6860bb7246c6519b2"
            }
          },
          "metadata": {}
        }
      ]
    },
    {
      "cell_type": "code",
      "metadata": {
        "id": "KeLfL11xr32d"
      },
      "source": [],
      "execution_count": null,
      "outputs": []
    }
  ]
}