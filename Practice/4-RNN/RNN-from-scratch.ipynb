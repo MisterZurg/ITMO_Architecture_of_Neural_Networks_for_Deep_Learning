{
  "nbformat": 4,
  "nbformat_minor": 0,
  "metadata": {
    "kernelspec": {
      "display_name": "Py3 research env",
      "language": "python",
      "name": "py3_research"
    },
    "language_info": {
      "codemirror_mode": {
        "name": "ipython",
        "version": 3
      },
      "file_extension": ".py",
      "mimetype": "text/x-python",
      "name": "python",
      "nbconvert_exporter": "python",
      "pygments_lexer": "ipython3",
      "version": "3.7.7"
    },
    "colab": {
      "provenance": []
    }
  },
  "cells": [
    {
      "cell_type": "markdown",
      "metadata": {
        "id": "-67pXdQfhoSa"
      },
      "source": [
        "# seq2seq practice"
      ]
    },
    {
      "cell_type": "markdown",
      "metadata": {
        "id": "6hXVtMYPzlFD"
      },
      "source": [
        "### Generating names with Recurrent Neural Networks\n",
        "\n",
        "This time you'll find yourself delving into the heart (and other intestines) of recurrent neural networks on a class of toy problems.\n",
        "\n",
        "Struggle to find a name for the variable? Let's see how you'll come up with a name for your son/daughter. Surely no human has expertise over what is a good child name, so let us train RNN instead.\n",
        "\n",
        "It's dangerous to go alone, take this with you:"
      ]
    },
    {
      "cell_type": "code",
      "metadata": {
        "id": "glgmRZvhzlFN"
      },
      "source": [
        "import os\n",
        "\n",
        "import matplotlib.pyplot as plt\n",
        "%matplotlib inline\n",
        "import numpy as np"
      ],
      "execution_count": null,
      "outputs": []
    },
    {
      "cell_type": "markdown",
      "metadata": {
        "id": "eJyd39QQzlFP"
      },
      "source": [
        "### Our data\n",
        "\n",
        "The dataset contains ~8k earthling names from different cultures, all in latin transcript.\n",
        "\n",
        "This notebook has been designed so as to allow you to quickly swap names for something similar: deep learning article titles, IKEA furniture, pokemon names, etc."
      ]
    },
    {
      "cell_type": "code",
      "metadata": {
        "id": "aWVMrldJzlFP"
      },
      "source": [
        "start_token = \" \"\n",
        "\n",
        "def read_names(filepath):\n",
        "    global start_token\n",
        "\n",
        "    with open(filepath) as fin:\n",
        "        names = fin.read()[:-1].split('\\n')\n",
        "        names = [start_token + line for line in names]\n",
        "        return names"
      ],
      "execution_count": null,
      "outputs": []
    },
    {
      "cell_type": "code",
      "metadata": {
        "id": "f6fFr-c9zlFQ"
      },
      "source": [
        "try:\n",
        "    names = read_names(\"./names\")\n",
        "except FileNotFoundError:\n",
        "    !wget https://raw.githubusercontent.com/neychev/made_nlp_course/master/datasets/names_dataset/names -nc -O names\n",
        "    names = read_names(\"./names\")"
      ],
      "execution_count": null,
      "outputs": []
    },
    {
      "cell_type": "code",
      "metadata": {
        "id": "e5Z6CEG_zlFR",
        "colab": {
          "base_uri": "https://localhost:8080/"
        },
        "outputId": "4c4647ca-9f21-481b-bc17-77050ad3a318"
      },
      "source": [
        "print(f\"Number of samples: {len(names)}\")\n",
        "for name in names[::1000]:\n",
        "    print(name)"
      ],
      "execution_count": null,
      "outputs": [
        {
          "output_type": "stream",
          "name": "stdout",
          "text": [
            "Number of samples: 7944\n",
            " Abagael\n",
            " Claresta\n",
            " Glory\n",
            " Liliane\n",
            " Prissie\n",
            " Geeta\n",
            " Giovanne\n",
            " Piggy\n"
          ]
        }
      ]
    },
    {
      "cell_type": "code",
      "metadata": {
        "id": "_urQwGcozlFS",
        "colab": {
          "base_uri": "https://localhost:8080/",
          "height": 298
        },
        "outputId": "fe591b3a-d11d-4f07-92e3-c2a71f0853ab"
      },
      "source": [
        "MAX_LENGTH = max(map(len, names))\n",
        "print(f\"Max length: {MAX_LENGTH}\")\n",
        "\n",
        "plt.title(\"Sequence length distribution\")\n",
        "plt.hist(list(map(len, names)), bins=25);"
      ],
      "execution_count": null,
      "outputs": [
        {
          "output_type": "stream",
          "name": "stdout",
          "text": [
            "Max length: 16\n"
          ]
        },
        {
          "output_type": "display_data",
          "data": {
            "text/plain": [
              "<Figure size 432x288 with 1 Axes>"
            ],
            "image/png": "[encoded data removed]"
          },
          "metadata": {
            "needs_background": "light"
          }
        }
      ]
    },
    {
      "cell_type": "markdown",
      "metadata": {
        "id": "sdggh8l8zlFS"
      },
      "source": [
        "# Text processing\n",
        "\n",
        "First step that we need to take next is to collect a \"vocabulary\" of all unique tokens i.e. unique characters. We can then encode inputs as a sequence of character ids."
      ]
    },
    {
      "cell_type": "code",
      "metadata": {
        "id": "lvfPLJ6BzlFT",
        "colab": {
          "base_uri": "https://localhost:8080/"
        },
        "outputId": "481b7d93-2bb3-41bc-df50-b6c637b088ef"
      },
      "source": [
        "tokens = set()\n",
        "\n",
        "for name in names:\n",
        "    tokens.update(set(name))\n",
        "tokens = list(tokens)\n",
        "\n",
        "num_tokens = len(tokens)\n",
        "print(f\"Number of tokens: {num_tokens}\")\n",
        "\n",
        "assert 50 < num_tokens < 60, (\n",
        "    \"Names should contain 50 to 60 unique tokens depending on encoding\"\n",
        ")"
      ],
      "execution_count": null,
      "outputs": [
        {
          "output_type": "stream",
          "name": "stdout",
          "text": [
            "Number of tokens: 55\n"
          ]
        }
      ]
    },
    {
      "cell_type": "markdown",
      "metadata": {
        "id": "mosArk8bzlFV"
      },
      "source": [
        "### Convert characters to integers\n",
        "\n",
        "Torch is built for crunching numbers, not strings.\n",
        "To train our neural network, we'll need to replace characters with their indices in tokens list.\n",
        "\n",
        "Let's compose a dictionary that does this mapping."
      ]
    },
    {
      "cell_type": "code",
      "metadata": {
        "id": "xTVRlomAzlFW"
      },
      "source": [
        "# Create {symbol: its identifier} (index in tokens list) dictionary\n",
        "token_to_id = {\n",
        "    token: index\n",
        "    for index, token in enumerate(tokens)\n",
        "}"
      ],
      "execution_count": null,
      "outputs": []
    },
    {
      "cell_type": "code",
      "metadata": {
        "id": "tI8hvCMIzlFX",
        "colab": {
          "base_uri": "https://localhost:8080/"
        },
        "outputId": "49683a55-392a-4408-e82b-0bc46658ba9c"
      },
      "source": [
        "assert len(tokens) == len(token_to_id), (\"Dictionaries must have the same size\")\n",
        "\n",
        "for i in range(num_tokens):\n",
        "    assert token_to_id[tokens[i]] == i, (\n",
        "        \"Token identifier must be equal to its position in tokens list\"\n",
        "    )\n",
        "\n",
        "print(\"You're breathtaking!\")"
      ],
      "execution_count": null,
      "outputs": [
        {
          "output_type": "stream",
          "name": "stdout",
          "text": [
            "You're breathtaking!\n"
          ]
        }
      ]
    },
    {
      "cell_type": "code",
      "metadata": {
        "id": "smvpp4SqzlFX"
      },
      "source": [
        "def to_matrix(names, max_len=None, pad=token_to_id[' '],\n",
        "              dtype=\"int32\", batch_first=True):\n",
        "    \"\"\"Casts a list of names into RNN-digestable matrix.\"\"\"\n",
        "    max_len = max_len or max(map(len, names))\n",
        "    names_ix = np.zeros([len(names), max_len], dtype) + pad\n",
        "\n",
        "    for i in range(len(names)):\n",
        "        line_ix = [token_to_id[c] for c in names[i]]\n",
        "        names_ix[i, :len(line_ix)] = line_ix\n",
        "\n",
        "    if not batch_first:  # convert [batch, time] into [time, batch]\n",
        "        names_ix = np.transpose(names_ix)\n",
        "\n",
        "    return names_ix"
      ],
      "execution_count": null,
      "outputs": []
    },
    {
      "cell_type": "code",
      "metadata": {
        "id": "vbBAhVzKzlFY",
        "colab": {
          "base_uri": "https://localhost:8080/"
        },
        "outputId": "4dd9aaf6-50e9-41d2-829c-ce524fa0f7f3"
      },
      "source": [
        "# Example: cast 4 random names to matrices, pad with zeros\n",
        "print('\\n'.join(names[::2000]))\n",
        "print(to_matrix(names[::2000]))"
      ],
      "execution_count": null,
      "outputs": [
        {
          "output_type": "stream",
          "name": "stdout",
          "text": [
            " Abagael\n",
            " Glory\n",
            " Prissie\n",
            " Giovanne\n",
            "[[46  2 41 38 45 38 53 17 46]\n",
            " [46  3 17 27 28 40 46 46 46]\n",
            " [46  1 28 26 10 10 26 53 46]\n",
            " [46  3 26 27 32 38 33 33 53]]\n"
          ]
        }
      ]
    },
    {
      "cell_type": "markdown",
      "metadata": {
        "id": "P1BXxntzzlFZ"
      },
      "source": [
        "# Recurrent Neural Network\n",
        "\n",
        "We can rewrite recurrent neural network as a consecutive application of dense layer to input $x_t$ and previous RNN state $h_t$. This is exactly what we're gonna do now.\n",
        "\n",
        "<img src=\"https://github.com/neychev/made_nlp_course/blob/spring2021/week00_RNNs_and_Language_Models/rnn.png?raw=1\" width=480>\n",
        "\n",
        "Since we're training a language model, there should also be:\n",
        "* an embedding layer that converts character id $x_t$ to a vector;\n",
        "* an output layer that predicts probabilities of next phoneme."
      ]
    },
    {
      "cell_type": "code",
      "metadata": {
        "id": "0pEat7EgzlFZ"
      },
      "source": [
        "import torch\n",
        "import torch.nn as nn\n",
        "import torch.nn.functional as F"
      ],
      "execution_count": null,
      "outputs": []
    },
    {
      "cell_type": "code",
      "metadata": {
        "id": "FQv1fVdwzlFb"
      },
      "source": [
        "class CharRNNCell(nn.Module):\n",
        "    \"\"\"\n",
        "    Implement the scheme above as a PyTorch module.\n",
        "    \"\"\"\n",
        "    def __init__(self, num_tokens=len(tokens), embedding_size=16,\n",
        "                 rnn_num_units=64):\n",
        "        super(self.__class__, self).__init__()\n",
        "\n",
        "        self.num_units = rnn_num_units\n",
        "        self.embedding = nn.Embedding(num_tokens, embedding_size)\n",
        "        self.rnn_update = nn.Linear(embedding_size + rnn_num_units,\n",
        "                                    rnn_num_units)\n",
        "        self.rnn_to_logits = nn.Linear(rnn_num_units, num_tokens)\n",
        "\n",
        "    def forward(self, x, h_prev):\n",
        "        \"\"\"\n",
        "        This method computes h_next(x, h_prev) and log P(x_next | h_next).\n",
        "        We'll call it repeatedly to produce the whole sequence.\n",
        "\n",
        "        :param x: batch of character ids, containing vector of int64 type\n",
        "        :param h_prev: previous RNN hidden states, containing matrix\n",
        "        [batch, rnn_num_units] of float32 type\n",
        "        \"\"\"\n",
        "        # get vector embedding of x\n",
        "        x_emb = self.embedding(x)\n",
        "\n",
        "        # compute next hidden state using self.rnn_update\n",
        "        x_and_h = torch.cat([h_prev, x_emb], dim=-1)\n",
        "        h_next = self.rnn_update(x_and_h)\n",
        "        h_next = torch.tanh(h_next)\n",
        "\n",
        "        assert h_next.size() == h_prev.size()\n",
        "\n",
        "        # compute logits for the next character probs\n",
        "        logits = self.rnn_to_logits(h_next)\n",
        "\n",
        "        return h_next, F.log_softmax(logits, -1)\n",
        "\n",
        "    def initial_state(self, batch_size):\n",
        "        \"\"\"Return RNN state before it processes the first input (h0).\"\"\"\n",
        "        return torch.zeros(batch_size, self.num_units, requires_grad=True)"
      ],
      "execution_count": null,
      "outputs": []
    },
    {
      "cell_type": "code",
      "metadata": {
        "id": "2Vfkn0O0zlFb"
      },
      "source": [
        "char_rnn = CharRNNCell()\n",
        "criterion = nn.NLLLoss()"
      ],
      "execution_count": null,
      "outputs": []
    },
    {
      "cell_type": "markdown",
      "metadata": {
        "id": "U-4SraQbzlFc"
      },
      "source": [
        "### RNN loop\n",
        "\n",
        "Once we've defined a single RNN step, we can apply it in a loop to get predictions on each step."
      ]
    },
    {
      "cell_type": "code",
      "metadata": {
        "id": "hepiKP2mzlFc"
      },
      "source": [
        "def rnn_loop(char_rnn, batch_ix):\n",
        "    \"\"\"\n",
        "    Computes log P(next_character) for all time steps in names_ix.\n",
        "    :param names_ix: an int32 matrix of shape [batch, time],\n",
        "    output of to_matrix(names)\n",
        "    \"\"\"\n",
        "    batch_size, max_length = batch_ix.size()\n",
        "    hid_state = char_rnn.initial_state(batch_size)\n",
        "\n",
        "    logprobs = []\n",
        "    for x_t in batch_ix.transpose(0, 1):\n",
        "        hid_state, logp_next = char_rnn(x_t, hid_state)  # single step call\n",
        "        logprobs.append(logp_next)\n",
        "\n",
        "    return torch.stack(logprobs, dim=1)"
      ],
      "execution_count": null,
      "outputs": []
    },
    {
      "cell_type": "code",
      "metadata": {
        "id": "y-KrOdxGzlFc"
      },
      "source": [
        "batch_ix = to_matrix(names[:5])\n",
        "batch_ix = torch.tensor(batch_ix, dtype=torch.int64)\n",
        "\n",
        "logp_seq = rnn_loop(char_rnn, batch_ix)\n",
        "\n",
        "assert torch.max(logp_seq).data.numpy() <= 0\n",
        "assert tuple(logp_seq.size()) == batch_ix.shape + (num_tokens,)"
      ],
      "execution_count": null,
      "outputs": []
    },
    {
      "cell_type": "code",
      "source": [
        "batch_ix"
      ],
      "metadata": {
        "colab": {
          "base_uri": "https://localhost:8080/"
        },
        "id": "uxS_REQhbXSl",
        "outputId": "3006af1a-51e6-45e1-e43d-45cf256ba0f7"
      },
      "execution_count": null,
      "outputs": [
        {
          "output_type": "execute_result",
          "data": {
            "text/plain": [
              "tensor([[46,  2, 41, 38, 45, 38, 53, 17],\n",
              "        [46,  2, 41, 38, 45, 38, 26, 17],\n",
              "        [46,  2, 41, 41, 53, 46, 46, 46],\n",
              "        [46,  2, 41, 41, 53, 40, 46, 46],\n",
              "        [46,  2, 41, 41, 26, 46, 46, 46]])"
            ]
          },
          "metadata": {},
          "execution_count": 26
        }
      ]
    },
    {
      "cell_type": "markdown",
      "metadata": {
        "id": "9_iBAZDkzlFc"
      },
      "source": [
        "### Likelihood and gradients\n",
        "\n",
        "We can now train our neural network to minimize crossentropy (maximize log-likelihood) with the actual next tokens.\n",
        "\n",
        "To do so in a vectorized manner, we take `batch_ix[:, 1:]` — a matrix of token ids shifted `i` steps to the left so that `i`-th element is acutally \"the next token\" for `i`-th prediction."
      ]
    },
    {
      "cell_type": "code",
      "metadata": {
        "id": "zBEt3J1HzlFc"
      },
      "source": [
        "predictions_logp = logp_seq[:, :-1]\n",
        "actual_next_tokens = batch_ix[:, 1:]\n",
        "\n",
        "# .contiguous() method checks that tensor is stored in the memory correctly\n",
        "# to get its view of desired shape\n",
        "\n",
        "loss = criterion(predictions_logp.contiguous().view(-1, num_tokens),\n",
        "                 actual_next_tokens.contiguous().view(-1))"
      ],
      "execution_count": null,
      "outputs": []
    },
    {
      "cell_type": "code",
      "metadata": {
        "id": "i0SJ7rOLzlFd"
      },
      "source": [
        "loss.backward()"
      ],
      "execution_count": null,
      "outputs": []
    },
    {
      "cell_type": "code",
      "metadata": {
        "id": "R3wBfZk-zlFe"
      },
      "source": [
        "for w in char_rnn.parameters():\n",
        "    assert w.grad is not None and \\\n",
        "           torch.max(torch.abs(w.grad)).data.numpy() != 0, (\n",
        "               \"Loss is not differentiable w.r.t. a weight with shape %s. \\\n",
        "               Check the forward() method.\" % (w.size(),)\n",
        "           )"
      ],
      "execution_count": null,
      "outputs": []
    },
    {
      "cell_type": "markdown",
      "metadata": {
        "id": "ISqR9l-tzlFe"
      },
      "source": [
        "### Training loop\n",
        "\n",
        "We train our `char_rnn` exactly the same way we train any deep learning model: via minibatch SGD.\n",
        "\n",
        "The only difference is that this time we sample strings, not images or sound."
      ]
    },
    {
      "cell_type": "code",
      "metadata": {
        "id": "9VtQ2mVvzlFe"
      },
      "source": [
        "from IPython.display import clear_output\n",
        "from random import sample\n",
        "\n",
        "char_rnn = CharRNNCell()\n",
        "criterion = nn.NLLLoss()\n",
        "opt = torch.optim.Adam(char_rnn.parameters())\n",
        "history = []"
      ],
      "execution_count": null,
      "outputs": []
    },
    {
      "cell_type": "code",
      "metadata": {
        "colab": {
          "base_uri": "https://localhost:8080/"
        },
        "id": "_MCIUV_GYPOj",
        "outputId": "e2a04d1d-8a2a-4d87-965b-7e0b6d23794e"
      },
      "source": [
        "char_rnn"
      ],
      "execution_count": null,
      "outputs": [
        {
          "output_type": "execute_result",
          "data": {
            "text/plain": [
              "CharRNNCell(\n",
              "  (embedding): Embedding(55, 16)\n",
              "  (rnn_update): Linear(in_features=80, out_features=64, bias=True)\n",
              "  (rnn_to_logits): Linear(in_features=64, out_features=55, bias=True)\n",
              ")"
            ]
          },
          "metadata": {},
          "execution_count": 35
        }
      ]
    },
    {
      "cell_type": "code",
      "metadata": {
        "id": "rfY0UZudzlFe",
        "colab": {
          "base_uri": "https://localhost:8080/",
          "height": 265
        },
        "outputId": "ffcc31b3-0f1b-4ea4-9476-438d6042bce8"
      },
      "source": [
        "MAX_LENGTH = 16\n",
        "\n",
        "for i in range(1000):\n",
        "    batch_ix = to_matrix(sample(names, 32), max_len=MAX_LENGTH)\n",
        "    batch_ix = torch.tensor(batch_ix, dtype=torch.int64)\n",
        "\n",
        "    logp_seq = rnn_loop(char_rnn, batch_ix)\n",
        "\n",
        "    # compute loss\n",
        "    predictions_logp = logp_seq[:, :-1]\n",
        "    actual_next_tokens = batch_ix[:, 1:]\n",
        "\n",
        "    loss = criterion(predictions_logp.contiguous().view(-1, num_tokens),\n",
        "                     actual_next_tokens.contiguous().view(-1))\n",
        "\n",
        "    # train with backprop\n",
        "    loss.backward()\n",
        "    opt.step()\n",
        "    opt.zero_grad()\n",
        "\n",
        "    history.append(loss.data.numpy())\n",
        "    if (i + 1) % 100 == 0:\n",
        "        clear_output(True)\n",
        "        plt.plot(history, label=\"loss\")\n",
        "        plt.legend()\n",
        "        plt.show()\n",
        "\n",
        "assert np.mean(history[:10]) > np.mean(history[-10:]), \"RNN didn't converge.\""
      ],
      "execution_count": null,
      "outputs": [
        {
          "output_type": "display_data",
          "data": {
            "text/plain": [
              "<Figure size 432x288 with 1 Axes>"
            ],
            "image/png": "[encoded data removed]"
          },
          "metadata": {
            "needs_background": "light"
          }
        }
      ]
    },
    {
      "cell_type": "markdown",
      "metadata": {
        "id": "RmAPD_MUzlFf"
      },
      "source": [
        "### RNN: sampling\n",
        "Once we've trained our network a bit, let's get to actually generating stuff.\n",
        "All we need is the single RNN step function we have defined in `char_rnn.forward`."
      ]
    },
    {
      "cell_type": "code",
      "metadata": {
        "id": "FAp6wTrEzlFf"
      },
      "source": [
        "def generate_sample(char_rnn, seed_phrase=' ', max_length=MAX_LENGTH,\n",
        "                    temperature=1.0):\n",
        "    \"\"\"\n",
        "    The function generates text given a phrase of length of at least SEQ_LENGTH.\n",
        "    :param seed_phrase: prefix characters, the sequence that the RNN\n",
        "    is asked to continue\n",
        "    :param max_length: maximum output length, including seed_phrase length\n",
        "    :param temperature: coefficient for sampling; higher temperature produces\n",
        "    more chaotic outputs, smaller temperature converges to the single\n",
        "    most likely output\n",
        "    \"\"\"\n",
        "    x_sequence = [token_to_id[token] for token in seed_phrase]\n",
        "    x_sequence = torch.tensor([x_sequence], dtype=torch.int64)\n",
        "    hid_state = char_rnn.initial_state(batch_size=1)\n",
        "\n",
        "    # feed the seed phrase if there is any\n",
        "    for i in range(len(seed_phrase) - 1):\n",
        "        hid_state, _ = char_rnn(x_sequence[:, i], hid_state)\n",
        "\n",
        "    # start generating\n",
        "    for _ in range(max_length - len(seed_phrase)):\n",
        "        hid_state, logp_next = char_rnn(x_sequence[:, -1], hid_state)\n",
        "        p_next = F.softmax(logp_next / temperature, dim=-1).data.numpy()[0]\n",
        "\n",
        "        # sample next token and push it back into x_sequence\n",
        "        next_ix = np.random.choice(num_tokens, p=p_next)\n",
        "        next_ix = torch.tensor([[next_ix]], dtype=torch.int64)\n",
        "        x_sequence = torch.cat([x_sequence, next_ix], dim=-1)\n",
        "\n",
        "    return ''.join([tokens[ix] for ix in x_sequence.data.numpy()[0]])"
      ],
      "execution_count": null,
      "outputs": []
    },
    {
      "cell_type": "code",
      "metadata": {
        "id": "BJw1Ju1wzlFf",
        "colab": {
          "base_uri": "https://localhost:8080/"
        },
        "outputId": "0cfc39ac-dca3-4985-ee56-9a9616735d31"
      },
      "source": [
        "for _ in range(10):\n",
        "    print(generate_sample(char_rnn))"
      ],
      "execution_count": null,
      "outputs": [
        {
          "output_type": "stream",
          "name": "stdout",
          "text": [
            " Muttie         \n",
            " Ilyne          \n",
            " carthendh      \n",
            " Jatli          \n",
            " Ehica          \n",
            " Eralla         \n",
            " Haves          \n",
            " Singy          \n",
            " HranhTat       \n",
            " Santia         \n"
          ]
        }
      ]
    },
    {
      "cell_type": "code",
      "metadata": {
        "id": "VPMVASH3zlFf",
        "colab": {
          "base_uri": "https://localhost:8080/"
        },
        "outputId": "9430b7e1-5336-4a4c-af85-73ae0d36a141"
      },
      "source": [
        "for _ in range(10):\n",
        "    print(generate_sample(char_rnn, seed_phrase=' Mar', temperature=0.5))"
      ],
      "execution_count": null,
      "outputs": [
        {
          "output_type": "stream",
          "name": "stdout",
          "text": [
            " Maris          \n",
            " Marise         \n",
            " Marrie         \n",
            " Mare           \n",
            " Mariste        \n",
            " Marine         \n",
            " Marnett        \n",
            " Marrin         \n",
            " Marrie         \n",
            " Marrell        \n"
          ]
        }
      ]
    },
    {
      "cell_type": "markdown",
      "metadata": {
        "collapsed": true,
        "id": "UBApbzeTzlFf"
      },
      "source": [
        "### More seriously\n",
        "\n",
        "What we just did is a manual low-level implementation of RNN. While it's cool, it's not the best idea to re-write it from scratch on every occasion.\n",
        "\n",
        "As you might have guessed, PyTorch has a solution for this. To be more specific, there are two options:\n",
        "* `nn.RNNCell(emb_size, rnn_num_units)` — implements a single step of RNN just like we did. This is basically concat-linear-tanh.\n",
        "* `nn.RNN(emb_size, rnn_num_units` — implements the whole `rnn_loop` for you.\n",
        "\n",
        "There are also `nn.LSTMCell` and `nn.LSTM`, `nn.GRUCell` and `nn.GRU`, etc.\n",
        "\n",
        "In this example we'll rewrite the `char_rnn` and `rnn_loop` using high-level RNN API."
      ]
    },
    {
      "cell_type": "code",
      "metadata": {
        "id": "nrUNUn7OzlFg"
      },
      "source": [
        "class CharRNNLoop(nn.Module):\n",
        "    def __init__(self, num_tokens=num_tokens, emb_size=16, rnn_num_units=64):\n",
        "        super(self.__class__, self).__init__()\n",
        "        self.emb = nn.Embedding(num_tokens, emb_size)\n",
        "        self.rnn = nn.LSTM(emb_size, rnn_num_units, batch_first=True)\n",
        "        self.hid_to_logits = nn.Linear(rnn_num_units, num_tokens)\n",
        "\n",
        "    def forward(self, x):\n",
        "        assert isinstance(x.data, torch.LongTensor)\n",
        "        h_seq, _ = self.rnn(self.emb(x))\n",
        "        next_logits = self.hid_to_logits(h_seq)\n",
        "        next_logp = F.log_softmax(next_logits, dim=-1)\n",
        "        return next_logp"
      ],
      "execution_count": null,
      "outputs": []
    },
    {
      "cell_type": "code",
      "metadata": {
        "id": "iOYl9nouzlFg"
      },
      "source": [
        "model = CharRNNLoop()\n",
        "opt = torch.optim.Adam(model.parameters())\n",
        "history = []\n",
        "\n",
        "# the model is applied over the whole sequence\n",
        "batch_ix = to_matrix(sample(names, 32), max_len=MAX_LENGTH)\n",
        "batch_ix = torch.LongTensor(batch_ix)"
      ],
      "execution_count": null,
      "outputs": []
    },
    {
      "cell_type": "code",
      "metadata": {
        "id": "gHmbnjZEzlFh"
      },
      "source": [
        "logp_seq = model(batch_ix)\n",
        "\n",
        "loss = criterion(logp_seq[:, :-1].contiguous().view(-1, num_tokens),\n",
        "                 batch_ix[:, 1:].contiguous().view(-1))\n",
        "\n",
        "loss.backward()"
      ],
      "execution_count": null,
      "outputs": []
    },
    {
      "cell_type": "code",
      "metadata": {
        "id": "EtFR2wMozlFh",
        "colab": {
          "base_uri": "https://localhost:8080/",
          "height": 265
        },
        "outputId": "ed277490-e5a8-4302-922d-406307b8c031"
      },
      "source": [
        "MAX_LENGTH = 16\n",
        "\n",
        "for i in range(1000):\n",
        "    batch_ix = to_matrix(sample(names, 32), max_len=MAX_LENGTH)\n",
        "    batch_ix = torch.tensor(batch_ix, dtype=torch.int64)\n",
        "\n",
        "    logp_seq = model(batch_ix)\n",
        "\n",
        "    # compute loss\n",
        "    loss = criterion(logp_seq[:, :-1].contiguous().view(-1, num_tokens),\n",
        "                     batch_ix[:, 1:].contiguous().view(-1))\n",
        "\n",
        "    # train with backprop\n",
        "    loss.backward()\n",
        "    opt.step()\n",
        "    opt.zero_grad()\n",
        "\n",
        "    history.append(loss.data.numpy())\n",
        "    if (i + 1) % 100 == 0:\n",
        "        clear_output(True)\n",
        "        plt.plot(history,label=\"loss\")\n",
        "        plt.legend()\n",
        "        plt.show()\n",
        "\n",
        "assert np.mean(history[:10]) > np.mean(history[-10:]), \"RNN didn't converge.\""
      ],
      "execution_count": null,
      "outputs": [
        {
          "output_type": "display_data",
          "data": {
            "text/plain": [
              "<Figure size 432x288 with 1 Axes>"
            ],
            "image/png": "[encoded data removed]"
          },
          "metadata": {
            "needs_background": "light"
          }
        }
      ]
    },
    {
      "cell_type": "markdown",
      "metadata": {
        "id": "Jwd-x_qFzlFh"
      },
      "source": [
        "### To sum up:\n",
        "- PyTorch is convenient for both prototyping and production.\n",
        "- There are a lot of pre-implemented methods/layers/activations out of the box.\n",
        "- It's much easier (like *REALLY* easier) to use PyTorch than TensorFlow on entry level.\n",
        "- Neural networks **are not** black boxes, they are pretty nice and easy to use (almost always)."
      ]
    },
    {
      "cell_type": "markdown",
      "metadata": {
        "id": "8iwBnPvFzlFi"
      },
      "source": [
        "### Try it out!\n",
        "You've just implemented a recurrent language model that can be tasked with generating any kind of sequence, so there's plenty of data you can try it on:\n",
        "\n",
        "* Novels/poems/songs of your favorite author\n",
        "* News titles/clickbait titles\n",
        "* Source code of Linux or Tensorflow\n",
        "* Molecules in [smiles](https://en.wikipedia.org/wiki/Simplified_molecular-input_line-entry_system) format\n",
        "* Melody in notes/chords format\n",
        "* IKEA catalog titles\n",
        "* Pokemon names\n",
        "* Cards from Magic, the Gathering / Hearthstone\n",
        "\n",
        "If you're willing to give it a try, here's what you might want to look at:\n",
        "* Current data format is a sequence of lines, so a novel can be formatted as a list of sentences. Alternatively, you can change data preprocessing altogether.\n",
        "* While some datasets are readily available, others can only be scraped from the web. Try `Selenium` or `Scrapy` for that.\n",
        "* Make sure `MAX_LENGTH` is adjusted for longer datasets. There's also a bonus section about dynamic RNNs at the bottom.\n",
        "* More complex tasks require larger RNN architectures. Try more neurons or several layers. It would also require more training iterations.\n",
        "* Long-term dependencies in music, novels, or molecules are better handled with LSTM or GRU.\n",
        "\n",
        "__Good hunting!__"
      ]
    }
  ]
}