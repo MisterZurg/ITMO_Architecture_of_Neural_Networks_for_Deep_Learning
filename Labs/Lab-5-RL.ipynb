{
  "cells": [
    {
      "cell_type": "markdown",
      "metadata": {
        "id": "CBABdSvOUjSG"
      },
      "source": [
        "# Walker2D\n",
        "\n",
        "You aim in this task is to train the agent to win in Walker2D game with Actor-Critic, Advantage Actor Critic (A2C), Trust-region Policy Optimization (TRPO) or Proximal Policy Optimization (PPO).\n",
        "To solve the task feel free to transform the state and reward from the environment.\n",
        "\n",
        "**Scoring**: Calculating the average reward for 50 episodes. You goal is to gain more than 1000 points.\n",
        "\n",
        "**Submission format**: send you notebook and trained model in **zipped** folder."
      ]
    },
    {
      "cell_type": "code",
      "execution_count": null,
      "metadata": {
        "id": "VZZjYXiuUjSK"
      },
      "outputs": [],
      "source": [
        "!pip install PyBullet >> None"
      ]
    },
    {
      "cell_type": "code",
      "execution_count": null,
      "metadata": {
        "colab": {
          "base_uri": "https://localhost:8080/"
        },
        "id": "WIgtzItpUjSL",
        "outputId": "7c81a88b-024a-4c2a-de2c-aa930b89b76a"
      },
      "outputs": [
        {
          "output_type": "stream",
          "name": "stdout",
          "text": [
            "Looking in indexes: https://pypi.org/simple, https://us-python.pkg.dev/colab-wheels/public/simple/\n",
            "Requirement already satisfied: gym in /usr/local/lib/python3.9/dist-packages (0.25.2)\n",
            "Requirement already satisfied: cloudpickle>=1.2.0 in /usr/local/lib/python3.9/dist-packages (from gym) (2.2.1)\n",
            "Requirement already satisfied: numpy>=1.18.0 in /usr/local/lib/python3.9/dist-packages (from gym) (1.22.4)\n",
            "Requirement already satisfied: importlib-metadata>=4.8.0 in /usr/local/lib/python3.9/dist-packages (from gym) (6.1.0)\n",
            "Requirement already satisfied: gym-notices>=0.0.4 in /usr/local/lib/python3.9/dist-packages (from gym) (0.0.8)\n",
            "Requirement already satisfied: zipp>=0.5 in /usr/local/lib/python3.9/dist-packages (from importlib-metadata>=4.8.0->gym) (3.15.0)\n"
          ]
        }
      ],
      "source": [
        "!pip install gym"
      ]
    },
    {
      "cell_type": "code",
      "execution_count": null,
      "metadata": {
        "id": "kr3vTxdVUjSM"
      },
      "outputs": [],
      "source": [
        "from collections import UserDict\n",
        "\n",
        "import gym\n",
        "import gym.envs.registration\n",
        "\n",
        "# Do this before importing pybullet_envs (adds an extra property env_specs as a property to the registry, so it looks like the <0.26 envspec version)\n",
        "registry = UserDict(gym.envs.registration.registry)\n",
        "registry.env_specs = gym.envs.registration.registry\n",
        "gym.envs.registration.registry = registry\n",
        "\n",
        "import pybullet_envs\n",
        "# racecar_env = gym.make('RacecarBulletEnv-v0')"
      ]
    },
    {
      "cell_type": "code",
      "execution_count": null,
      "metadata": {
        "id": "h-o0xJTOUjSN"
      },
      "outputs": [],
      "source": [
        "# import pybullet_envs\n",
        "# from gym import make\n",
        "import numpy as np\n",
        "import torch\n",
        "from torch import nn\n",
        "from torch.distributions import Normal\n",
        "from torch.nn import functional as F\n",
        "from torch.optim import Adam\n",
        "import random\n",
        "import os"
      ]
    },
    {
      "cell_type": "markdown",
      "metadata": {
        "id": "CabLde3ZUjSN"
      },
      "source": [
        "> Probably it's a good idea to check out doc [Walker2D](https://mgoulao.github.io/gym-docs/environments/mujoco/walker2d/)"
      ]
    },
    {
      "cell_type": "markdown",
      "metadata": {
        "id": "BPcjFkU4UjSN"
      },
      "source": [
        "# Train"
      ]
    },
    {
      "cell_type": "code",
      "execution_count": null,
      "metadata": {
        "id": "Drhk8MrxUjSO"
      },
      "outputs": [],
      "source": [
        "ENV_NAME = \"Walker2DBulletEnv-v0\"\n",
        "\n",
        "LAMBDA = 0.95\n",
        "GAMMA = 0.99\n",
        "\n",
        "ACTOR_LR = 2e-4\n",
        "CRITIC_LR = 1e-4\n",
        "\n",
        "CLIP = 0.2\n",
        "ENTROPY_COEF = 1e-2\n",
        "BATCHES_PER_UPDATE = 64\n",
        "BATCH_SIZE = 64\n",
        "\n",
        "MIN_TRANSITIONS_PER_UPDATE = 2048\n",
        "MIN_EPISODES_PER_UPDATE = 4\n",
        "\n",
        "ITERATIONS = 1000"
      ]
    },
    {
      "cell_type": "code",
      "execution_count": null,
      "metadata": {
        "id": "oES4v087UjSO"
      },
      "outputs": [],
      "source": [
        "def compute_lambda_returns_and_gae(trajectory):\n",
        "    lambda_returns = []\n",
        "    gae = []\n",
        "    last_lr = 0.\n",
        "    last_v = 0.\n",
        "    for _, _, r, _, v in reversed(trajectory):\n",
        "        ret = r + GAMMA * (last_v * (1 - LAMBDA) + last_lr * LAMBDA)\n",
        "        last_lr = ret\n",
        "        last_v = v\n",
        "        lambda_returns.append(last_lr)\n",
        "        gae.append(last_lr - v)\n",
        "\n",
        "    # Each transition contains state, action, old action probability, value estimation and advantage estimation\n",
        "    return [(s, a, p, v, adv) for (s, a, _, p, _), v, adv in zip(trajectory, reversed(lambda_returns), reversed(gae))]"
      ]
    },
    {
      "cell_type": "markdown",
      "metadata": {
        "id": "C8Z6fYqP-HGx"
      },
      "source": [
        "Reference:\n",
        "> [UNIT 6. ACTOR CRITIC METHODS WITH ROBOTICS ENVIRONMENTS](https://huggingface.co/deep-rl-course/unit6/introduction?fw=pt)"
      ]
    },
    {
      "cell_type": "code",
      "execution_count": null,
      "metadata": {
        "id": "WaG11rWuUjSP"
      },
      "outputs": [],
      "source": [
        "class Actor(nn.Module):\n",
        "    def __init__(self, state_dim, action_dim, hidden_size=256):\n",
        "        super().__init__()\n",
        "        # Advice: use same log_sigma for all states to improve stability\n",
        "        # You can do this by defining log_sigma as nn.Parameter(torch.zeros(...))\n",
        "        ''' YOUR CODE HERE '''\n",
        "        self.model = nn.Sequential(\n",
        "            nn.Linear(state_dim, hidden_size),\n",
        "            nn.ReLU(),\n",
        "\n",
        "            nn.Linear(hidden_size, hidden_size),\n",
        "            nn.ReLU(),\n",
        "\n",
        "            nn.Linear(hidden_size, action_dim)\n",
        "        )\n",
        "        self.sigma = nn.Parameter(\n",
        "                torch.zeros(action_dim)\n",
        "        )\n",
        "\n",
        "    def compute_proba(self, state, action):\n",
        "        # Returns probability of action according to current policy and distribution of actions\n",
        "        ''' YOUR CODE HERE '''\n",
        "        mu = self.model(state)\n",
        "        distribution = Normal(mu, torch.exp(self.sigma))\n",
        "        # action = distribution.sample()\n",
        "        probability = torch.exp(\n",
        "            distribution.log_prob(action).sum(-1)\n",
        "        )\n",
        "        # probability = distribution.log_prob(action)\n",
        "\n",
        "        return probability, distribution\n",
        "\n",
        "\n",
        "    def act(self, state):\n",
        "        # Returns an action (with tanh), not-transformed action (without tanh) and distribution of non-transformed actions\n",
        "        # Remember: agent is not deterministic, sample actions from distribution (e.g. Gaussian)\n",
        "        ''' YOUR CODE HERE '''\n",
        "        mu = self.model(state)\n",
        "        distribution = Normal(mu, torch.exp(self.sigma))\n",
        "        action = distribution.sample()\n",
        "        actionWithTanh = torch.tanh(action)\n",
        "\n",
        "        return actionWithTanh, action, distribution"
      ]
    },
    {
      "cell_type": "code",
      "execution_count": null,
      "metadata": {
        "id": "-1y_bDIUUjSQ"
      },
      "outputs": [],
      "source": [
        "class Critic(nn.Module):\n",
        "    def __init__(self, state_dim):\n",
        "        super().__init__()\n",
        "        self.model = nn.Sequential(\n",
        "            nn.Linear(state_dim, 256),\n",
        "            nn.ELU(),\n",
        "            nn.Linear(256, 256),\n",
        "            nn.ELU(),\n",
        "            nn.Linear(256, 1)\n",
        "        )\n",
        "\n",
        "    def get_value(self, state):\n",
        "        return self.model(state)"
      ]
    },
    {
      "cell_type": "code",
      "execution_count": null,
      "metadata": {
        "id": "EyoG-emgUjSQ"
      },
      "outputs": [],
      "source": [
        "class PPO:\n",
        "    def __init__(self, state_dim, action_dim):\n",
        "        self.actor = Actor(state_dim, action_dim)\n",
        "        self.critic = Critic(state_dim)\n",
        "        self.actor_optim = Adam(self.actor.parameters(), ACTOR_LR)\n",
        "        self.critic_optim = Adam(self.critic.parameters(), CRITIC_LR)\n",
        "\n",
        "    def update(self, trajectories):\n",
        "        transitions = [t for traj in trajectories for t in traj]     # Turn a list of trajectories into list of transitions\n",
        "        state, action, old_prob, target_value, advantage = zip(*transitions)\n",
        "        state = np.array(state)\n",
        "        action = np.array(action)\n",
        "        old_prob = np.array(old_prob)\n",
        "        target_value = np.array(target_value)\n",
        "        advantage = np.array(advantage)\n",
        "        advnatage = (advantage - advantage.mean()) / (advantage.std() + 1e-8)\n",
        "\n",
        "\n",
        "        for _ in range(BATCHES_PER_UPDATE):\n",
        "            idx = np.random.randint(0, len(transitions), BATCH_SIZE) # Choose random batch\n",
        "            s = torch.tensor(state[idx]).float()\n",
        "            a = torch.tensor(action[idx]).float()\n",
        "            op = torch.tensor(old_prob[idx]).float()                 # Probability of the action in state s.t. old policy\n",
        "            v = torch.tensor(target_value[idx]).float()              # Estimated by lambda-returns\n",
        "            adv = torch.tensor(advantage[idx]).float()               # Estimated by generalized advantage estimation\n",
        "\n",
        "            ''' YOUR CODE HERE '''\n",
        "            # TODO: Update actor here\n",
        "            # 1) Ratios\n",
        "            currProb, distribution = self.actor.compute_proba(s, a)\n",
        "            ratio = currProb / op\n",
        "            # 2) Actors Loss\n",
        "            surrogateLoss = ratio * adv\n",
        "            entropy = distribution.entropy().mean()\n",
        "            clippedSurrogateLoss = (torch.clamp(ratio, 1.0 - CLIP, 1.0 + CLIP) * adv)\n",
        "\n",
        "            actor_loss = -torch.mean(torch.minimum(surrogateLoss, clippedSurrogateLoss))\n",
        "            # 3) Train Actor\n",
        "            self.actor_optim.zero_grad()\n",
        "            actor_loss.backward()\n",
        "            self.actor_optim.step()\n",
        "\n",
        "            # TODO: Update critic here\n",
        "            # 1) Get Critic's value\n",
        "            value = self.critic.get_value(s).flatten()\n",
        "            # 2) Actors Loss\n",
        "            critic_loss = F.smooth_l1_loss(value, v)\n",
        "\n",
        "            # 3) Train Critic\n",
        "            self.critic_optim.zero_grad()\n",
        "            critic_loss.backward(retain_graph=True)\n",
        "            self.critic_optim.step()\n",
        "\n",
        "\n",
        "    def get_value(self, state):\n",
        "        with torch.no_grad():\n",
        "            state = torch.tensor(np.array([state])).float()\n",
        "            value = self.critic.get_value(state)\n",
        "        return value.cpu().item()\n",
        "\n",
        "    def act(self, state):\n",
        "        with torch.no_grad():\n",
        "            state = torch.tensor(np.array([state])).float()\n",
        "            action, pure_action, distr = self.actor.act(state)\n",
        "            prob = torch.exp(distr.log_prob(pure_action).sum(-1))\n",
        "        return action.cpu().numpy()[0], pure_action.cpu().numpy()[0], prob.cpu().item()\n",
        "\n",
        "    def save(self):\n",
        "        torch.save(self.actor, \"agent.pkl\")"
      ]
    },
    {
      "cell_type": "code",
      "execution_count": null,
      "metadata": {
        "id": "wC2pCUPDUjSR"
      },
      "outputs": [],
      "source": [
        "def evaluate_policy(env, agent, episodes=5):\n",
        "    returns = []\n",
        "    for _ in range(episodes):\n",
        "        done = False\n",
        "        state = env.reset()\n",
        "        total_reward = 0.\n",
        "\n",
        "        while not done:\n",
        "            state, reward, done, _ = env.step(agent.act(state)[0])\n",
        "            total_reward += reward\n",
        "        returns.append(total_reward)\n",
        "    return returns\n",
        "\n",
        "\n",
        "def sample_episode(env, agent):\n",
        "    s = env.reset()\n",
        "    d = False\n",
        "    trajectory = []\n",
        "    while not d:\n",
        "        a, pa, p = agent.act(s)\n",
        "        v = agent.get_value(s)\n",
        "        ns, r, d, _ = env.step(a)\n",
        "        trajectory.append((s, pa, r, p, v))\n",
        "        s = ns\n",
        "    return compute_lambda_returns_and_gae(trajectory)"
      ]
    },
    {
      "cell_type": "code",
      "execution_count": null,
      "metadata": {
        "colab": {
          "base_uri": "https://localhost:8080/"
        },
        "id": "PEaaM9cWUjSR",
        "outputId": "9fea716b-4ac7-421a-d0e5-f94f88e84175"
      },
      "outputs": [
        {
          "output_type": "stream",
          "name": "stderr",
          "text": [
            "/usr/local/lib/python3.9/dist-packages/gym/core.py:317: DeprecationWarning: \u001b[33mWARN: Initializing wrapper in old step API which returns one bool instead of two. It is recommended to set `new_step_api=True` to use new step API. This will be the default behaviour in future.\u001b[0m\n",
            "  deprecation(\n",
            "/usr/local/lib/python3.9/dist-packages/gym/wrappers/step_api_compatibility.py:39: DeprecationWarning: \u001b[33mWARN: Initializing environment in old step API which returns one bool instead of two. It is recommended to set `new_step_api=True` to use new step API. This will be the default behaviour in future.\u001b[0m\n",
            "  deprecation(\n",
            "/usr/local/lib/python3.9/dist-packages/gym/utils/passive_env_checker.py:174: UserWarning: \u001b[33mWARN: Future gym versions will require that `Env.reset` can be passed a `seed` instead of using `Env.seed` for resetting the environment random number generator.\u001b[0m\n",
            "  logger.warn(\n",
            "/usr/local/lib/python3.9/dist-packages/gym/utils/passive_env_checker.py:190: UserWarning: \u001b[33mWARN: Future gym versions will require that `Env.reset` can be passed `return_info` to return information from the environment resetting.\u001b[0m\n",
            "  logger.warn(\n",
            "/usr/local/lib/python3.9/dist-packages/gym/utils/passive_env_checker.py:195: UserWarning: \u001b[33mWARN: Future gym versions will require that `Env.reset` can be passed `options` to allow the environment initialisation to be passed additional information.\u001b[0m\n",
            "  logger.warn(\n",
            "/usr/local/lib/python3.9/dist-packages/gym/utils/passive_env_checker.py:227: DeprecationWarning: \u001b[33mWARN: Core environment is written in old step API which returns one bool instead of two. It is recommended to rewrite the environment with new step API. \u001b[0m\n",
            "  logger.deprecation(\n"
          ]
        },
        {
          "output_type": "stream",
          "name": "stdout",
          "text": [
            "Step: 10, Reward mean: 13.490421574568026, Reward std: 2.1758189853793044, Episodes: 1944, Steps: 20521\n",
            "Step: 20, Reward mean: 12.40257092276559, Reward std: 1.4240354023820183, Episodes: 4067, Steps: 41033\n",
            "Step: 30, Reward mean: 14.335262117974633, Reward std: 2.882915793335888, Episodes: 5882, Steps: 61572\n",
            "Step: 40, Reward mean: 12.868770925158461, Reward std: 1.834846839880667, Episodes: 7797, Steps: 82085\n",
            "Step: 50, Reward mean: 12.609328412076866, Reward std: 1.4526973660943707, Episodes: 9698, Steps: 102618\n",
            "Step: 60, Reward mean: 13.107310694982587, Reward std: 1.993354418838299, Episodes: 11647, Steps: 123150\n",
            "Step: 70, Reward mean: 8.943115792915052, Reward std: 1.4436820017767429, Episodes: 13496, Steps: 143669\n",
            "Step: 80, Reward mean: 4.056390968292544, Reward std: 0.9729407159018734, Episodes: 15476, Steps: 164198\n",
            "Step: 90, Reward mean: 5.860691002358509, Reward std: 1.070550033261193, Episodes: 17469, Steps: 184722\n",
            "Step: 100, Reward mean: 5.00091380233207, Reward std: 1.3950112002976631, Episodes: 19494, Steps: 205239\n",
            "Step: 110, Reward mean: 4.8389393660772475, Reward std: 1.3545952526720666, Episodes: 21569, Steps: 225782\n",
            "Step: 120, Reward mean: 9.718308294491436, Reward std: 2.0950521139042313, Episodes: 23810, Steps: 246291\n",
            "Step: 130, Reward mean: 7.608649198721688, Reward std: 0.940564249458147, Episodes: 26055, Steps: 266817\n",
            "Step: 140, Reward mean: 8.790186184901975, Reward std: 1.9522960125356346, Episodes: 28152, Steps: 287350\n",
            "Step: 150, Reward mean: 9.480078327445371, Reward std: 0.38062043395969164, Episodes: 30269, Steps: 307873\n",
            "Step: 160, Reward mean: 6.883453037572617, Reward std: 1.0256473842973777, Episodes: 32426, Steps: 328411\n",
            "Step: 170, Reward mean: 9.15411587354407, Reward std: 0.7996355854759398, Episodes: 34586, Steps: 348933\n",
            "Step: 180, Reward mean: 7.634011468078825, Reward std: 0.9632337514507097, Episodes: 36435, Steps: 369463\n",
            "Step: 190, Reward mean: 8.412162074551743, Reward std: 1.7840317997469848, Episodes: 38206, Steps: 389991\n",
            "Step: 200, Reward mean: 7.892730495623255, Reward std: 3.0770032545526216, Episodes: 39939, Steps: 410514\n",
            "Step: 210, Reward mean: 7.218503117999353, Reward std: 1.0683973052108842, Episodes: 41762, Steps: 431058\n",
            "Step: 220, Reward mean: 6.498470924751308, Reward std: 1.429035206400946, Episodes: 43720, Steps: 451582\n",
            "Step: 230, Reward mean: 7.169219515959267, Reward std: 2.168193599582882, Episodes: 45815, Steps: 472101\n",
            "Step: 240, Reward mean: 5.10463727923634, Reward std: 0.8169530352842299, Episodes: 47929, Steps: 492626\n",
            "Step: 250, Reward mean: 4.556387853052874, Reward std: 0.9947830430443838, Episodes: 50101, Steps: 513135\n",
            "Step: 260, Reward mean: 3.9478940636693736, Reward std: 1.5271134543399387, Episodes: 52280, Steps: 533645\n",
            "Step: 270, Reward mean: 3.101410418751475, Reward std: 1.6837204868703481, Episodes: 54499, Steps: 554170\n",
            "Step: 280, Reward mean: 4.976535372497456, Reward std: 1.8877577265881504, Episodes: 56742, Steps: 574689\n",
            "Step: 290, Reward mean: 4.5775730357243445, Reward std: 1.1646327258274034, Episodes: 59001, Steps: 595210\n",
            "Step: 300, Reward mean: 4.046118147382804, Reward std: 1.8221528846853319, Episodes: 61243, Steps: 615734\n",
            "Step: 310, Reward mean: 4.40614043395035, Reward std: 1.4102784031496745, Episodes: 63464, Steps: 636270\n",
            "Step: 320, Reward mean: 4.466323536650743, Reward std: 1.8557613045516808, Episodes: 65741, Steps: 656788\n",
            "Step: 330, Reward mean: 6.018500158559473, Reward std: 0.9875962821357934, Episodes: 68237, Steps: 677313\n",
            "Step: 340, Reward mean: 6.555563603281916, Reward std: 0.34213148051604353, Episodes: 71095, Steps: 697813\n",
            "Step: 350, Reward mean: 6.201748109235487, Reward std: 0.42528236768990735, Episodes: 74423, Steps: 718325\n",
            "Step: 360, Reward mean: 5.036622873105516, Reward std: 0.8706207658574483, Episodes: 77621, Steps: 738835\n",
            "Step: 370, Reward mean: 6.954512389131996, Reward std: 0.6341126246472973, Episodes: 80886, Steps: 759341\n",
            "Step: 380, Reward mean: 7.105676698488241, Reward std: 0.5075745796707921, Episodes: 84206, Steps: 779849\n",
            "Step: 390, Reward mean: 6.8571787594782645, Reward std: 0.8857835991426811, Episodes: 87471, Steps: 800353\n",
            "Step: 400, Reward mean: 7.766708062162506, Reward std: 0.8210294657911481, Episodes: 90768, Steps: 820851\n",
            "Step: 410, Reward mean: 6.211758091520751, Reward std: 0.6150154226219481, Episodes: 94154, Steps: 841353\n",
            "Step: 420, Reward mean: 5.879461291493498, Reward std: 1.232392507634236, Episodes: 97665, Steps: 861855\n",
            "Step: 430, Reward mean: 5.478869404618162, Reward std: 0.2981684155976585, Episodes: 101081, Steps: 882366\n",
            "Step: 440, Reward mean: 5.3147151532134735, Reward std: 0.6930768867573396, Episodes: 104539, Steps: 902867\n",
            "Step: 450, Reward mean: 5.824784738186863, Reward std: 0.40513434214288, Episodes: 108072, Steps: 923365\n",
            "Step: 460, Reward mean: 5.152052880992123, Reward std: 0.7926420127737495, Episodes: 111496, Steps: 943878\n",
            "Step: 470, Reward mean: 5.725326333056145, Reward std: 0.6650687594807185, Episodes: 114704, Steps: 964379\n",
            "Step: 480, Reward mean: 6.172557954475633, Reward std: 0.9872390331263644, Episodes: 117878, Steps: 984893\n",
            "Step: 490, Reward mean: 7.544475685200306, Reward std: 0.9073738552055314, Episodes: 120862, Steps: 1005395\n",
            "Step: 500, Reward mean: 6.874725339252036, Reward std: 0.8894353171832131, Episodes: 123959, Steps: 1025914\n",
            "Step: 510, Reward mean: 7.995960192894853, Reward std: 0.5788168136329689, Episodes: 127111, Steps: 1046438\n",
            "Step: 520, Reward mean: 7.338356968026782, Reward std: 1.7761774618963373, Episodes: 130172, Steps: 1066954\n",
            "Step: 530, Reward mean: 7.65403541386564, Reward std: 1.5273417969239176, Episodes: 132898, Steps: 1087463\n",
            "Step: 540, Reward mean: 7.670543582621612, Reward std: 0.9177525169687475, Episodes: 135503, Steps: 1107983\n",
            "Step: 550, Reward mean: 7.721180131024449, Reward std: 0.6439685536274706, Episodes: 138145, Steps: 1128505\n",
            "Step: 560, Reward mean: 7.960071562786179, Reward std: 1.5883677625903756, Episodes: 141122, Steps: 1149010\n",
            "Step: 570, Reward mean: 7.771876299401046, Reward std: 0.7461451460789671, Episodes: 143971, Steps: 1169521\n",
            "Step: 580, Reward mean: 5.953652361114509, Reward std: 0.46431603154597284, Episodes: 147058, Steps: 1190020\n",
            "Step: 590, Reward mean: 6.614843720441859, Reward std: 0.47967744399930395, Episodes: 150737, Steps: 1210514\n",
            "Step: 600, Reward mean: 6.882635997245378, Reward std: 0.3827837601271395, Episodes: 154384, Steps: 1231011\n",
            "Step: 610, Reward mean: 7.058122141285276, Reward std: 0.7481246877291616, Episodes: 158028, Steps: 1251510\n",
            "Step: 620, Reward mean: 7.054388452028215, Reward std: 0.9494653031289452, Episodes: 161672, Steps: 1272001\n",
            "Step: 630, Reward mean: 6.531431861292221, Reward std: 0.2208283107464889, Episodes: 165282, Steps: 1292510\n",
            "Step: 640, Reward mean: 7.154053436942048, Reward std: 0.6896352156654233, Episodes: 168880, Steps: 1313003\n",
            "Step: 650, Reward mean: 6.94983960498561, Reward std: 0.9605817937979569, Episodes: 172359, Steps: 1333502\n",
            "Step: 660, Reward mean: 7.359818436072675, Reward std: 0.6181845331078374, Episodes: 175740, Steps: 1354004\n",
            "Step: 670, Reward mean: 7.363381834793546, Reward std: 1.1811803324509291, Episodes: 179141, Steps: 1374514\n",
            "Step: 680, Reward mean: 8.086254979762597, Reward std: 0.8783162058903972, Episodes: 182519, Steps: 1395023\n",
            "Step: 690, Reward mean: 6.123140146531222, Reward std: 0.4315597496412699, Episodes: 186320, Steps: 1415516\n",
            "Step: 700, Reward mean: 5.542954882408667, Reward std: 0.4902578391426525, Episodes: 190287, Steps: 1436016\n",
            "Step: 710, Reward mean: 5.909102428396291, Reward std: 0.6506498311458231, Episodes: 194200, Steps: 1456517\n",
            "Step: 720, Reward mean: 6.256908623444325, Reward std: 0.18296353354914058, Episodes: 198131, Steps: 1477017\n",
            "Step: 730, Reward mean: 6.238403008422756, Reward std: 0.6163068201757463, Episodes: 202180, Steps: 1497513\n",
            "Step: 740, Reward mean: 5.758364446212362, Reward std: 0.5517005767477514, Episodes: 206266, Steps: 1518019\n",
            "Step: 750, Reward mean: 5.879297025338456, Reward std: 0.5008743638265631, Episodes: 210366, Steps: 1538534\n",
            "Step: 760, Reward mean: 6.269613826549903, Reward std: 0.2211533655325507, Episodes: 214450, Steps: 1559027\n",
            "Step: 770, Reward mean: 6.313660118918923, Reward std: 0.30195846510313235, Episodes: 218524, Steps: 1579533\n",
            "Step: 780, Reward mean: 6.512553342929166, Reward std: 0.46484334156589063, Episodes: 222605, Steps: 1600025\n",
            "Step: 790, Reward mean: 6.125166210360767, Reward std: 0.2187206181581726, Episodes: 226690, Steps: 1620523\n",
            "Step: 800, Reward mean: 6.127486004598323, Reward std: 0.19321923739104416, Episodes: 230780, Steps: 1641021\n",
            "Step: 810, Reward mean: 5.857672575065517, Reward std: 0.7249626271223579, Episodes: 234875, Steps: 1661521\n",
            "Step: 820, Reward mean: 6.11796278258349, Reward std: 0.5084847971835931, Episodes: 238964, Steps: 1682018\n",
            "Step: 830, Reward mean: 5.454498212175677, Reward std: 0.5745923290590624, Episodes: 243062, Steps: 1702518\n",
            "Step: 840, Reward mean: 5.51011249680072, Reward std: 0.37586173038256776, Episodes: 247162, Steps: 1723018\n",
            "Step: 850, Reward mean: 5.5855467088398285, Reward std: 0.4216685996146173, Episodes: 251262, Steps: 1743518\n",
            "Step: 860, Reward mean: 5.673704351068008, Reward std: 0.4385828503268533, Episodes: 255362, Steps: 1764018\n",
            "Step: 870, Reward mean: 5.803458407256694, Reward std: 0.33190538859771873, Episodes: 259462, Steps: 1784519\n",
            "Step: 880, Reward mean: 6.079158775096293, Reward std: 0.4251399694126532, Episodes: 263562, Steps: 1805020\n",
            "Step: 890, Reward mean: 6.096988213847507, Reward std: 0.18282217726771166, Episodes: 267662, Steps: 1825520\n",
            "Step: 900, Reward mean: 5.937328878917032, Reward std: 0.323871680180045, Episodes: 271762, Steps: 1846020\n",
            "Step: 910, Reward mean: 5.905498091266781, Reward std: 0.24763282444692047, Episodes: 275862, Steps: 1866520\n",
            "Step: 920, Reward mean: 5.9920625963486955, Reward std: 0.21046091406989073, Episodes: 279962, Steps: 1887020\n",
            "Step: 930, Reward mean: 5.984901195438869, Reward std: 0.29495946670891604, Episodes: 284062, Steps: 1907520\n",
            "Step: 940, Reward mean: 5.8050282034970575, Reward std: 0.40049266256280436, Episodes: 288162, Steps: 1928020\n",
            "Step: 950, Reward mean: 6.088827273834613, Reward std: 0.4042848253808849, Episodes: 292262, Steps: 1948521\n",
            "Step: 960, Reward mean: 6.210481739983661, Reward std: 0.1820209168163557, Episodes: 296362, Steps: 1969021\n",
            "Step: 970, Reward mean: 5.751615080280462, Reward std: 0.2958130947214879, Episodes: 300462, Steps: 1989521\n",
            "Step: 980, Reward mean: 5.706612149609427, Reward std: 0.2761552291997363, Episodes: 304562, Steps: 2010021\n",
            "Step: 990, Reward mean: 5.742971006211009, Reward std: 0.5412404161026428, Episodes: 308662, Steps: 2030521\n",
            "Step: 1000, Reward mean: 5.901967153766892, Reward std: 0.2374305774138562, Episodes: 312762, Steps: 2051021\n"
          ]
        }
      ],
      "source": [
        "#env = make(ENV_NAME)\n",
        "env = gym.make(ENV_NAME)\n",
        "ppo = PPO(state_dim=env.observation_space.shape[0], action_dim=env.action_space.shape[0])\n",
        "state = env.reset()\n",
        "episodes_sampled = 0\n",
        "steps_sampled = 0\n",
        "\n",
        "for i in range(ITERATIONS):\n",
        "    trajectories = []\n",
        "    steps_ctn = 0\n",
        "\n",
        "    while len(trajectories) < MIN_EPISODES_PER_UPDATE or steps_ctn < MIN_TRANSITIONS_PER_UPDATE:\n",
        "        traj = sample_episode(env, ppo)\n",
        "        steps_ctn += len(traj)\n",
        "        trajectories.append(traj)\n",
        "    episodes_sampled += len(trajectories)\n",
        "    steps_sampled += steps_ctn\n",
        "\n",
        "    ppo.update(trajectories)\n",
        "\n",
        "    if (i + 1) % (ITERATIONS//100) == 0:\n",
        "        rewards = evaluate_policy(env, ppo, 5)\n",
        "        print(f\"Step: {i+1}, Reward mean: {np.mean(rewards)}, Reward std: {np.std(rewards)}, Episodes: {episodes_sampled}, Steps: {steps_sampled}\")\n",
        "        ppo.save()"
      ]
    },
    {
      "cell_type": "markdown",
      "metadata": {
        "id": "dHj9RochUjSR"
      },
      "source": [
        "# Agent"
      ]
    },
    {
      "cell_type": "code",
      "execution_count": null,
      "metadata": {
        "id": "eSSelHI1UjSR"
      },
      "outputs": [],
      "source": [
        "class Agent:\n",
        "    def __init__(self):\n",
        "        self.model = torch.load(__file__[:-8] + \"/agent.pkl\")\n",
        "\n",
        "    def act(self, state):\n",
        "        with torch.no_grad():\n",
        "            state = torch.tensor(np.array(state)).float()\n",
        "            ''' YOUR CODE HERE '''\n",
        "            # state = torch.tensor(state, device=device, dtype=torch.float32)\n",
        "            action = self.model(state)\n",
        "            action = np.argmax(action.numpy())\n",
        "        return action #None\n",
        "\n",
        "    def reset(self):\n",
        "        pass"
      ]
    }
  ],
  "metadata": {
    "accelerator": "GPU",
    "colab": {
      "provenance": []
    },
    "datalore": {
      "base_environment": "default",
      "computation_mode": "JUPYTER",
      "package_manager": "pip",
      "packages": [],
      "report_row_ids": [
        "6HwrrLCYNNVGxPig9Et0GX",
        "dBR4kKaNqUZV0ayWIrmL0f",
        "bdI6n9UKqNVLK6fVzvkx6W",
        "1btMmc6WnvMrI0fc88kA01",
        "hbd7IyPqSsr78S6BOxrkZt",
        "b8Be0SkXu4dREhfrCJJvF5",
        "Ygb2qu76TzGGmfydgUbdHF",
        "wYlg448qAABT1Tp5REK0N0"
      ],
      "version": 2
    },
    "gpuClass": "standard",
    "kernelspec": {
      "display_name": "Python",
      "language": "python",
      "name": "python"
    }
  },
  "nbformat": 4,
  "nbformat_minor": 0
}