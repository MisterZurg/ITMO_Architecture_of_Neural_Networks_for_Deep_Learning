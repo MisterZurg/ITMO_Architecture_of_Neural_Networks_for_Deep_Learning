{
 "cells":[
  {
   "cell_type":"markdown",
   "source":[
    "# Part 1. PyTorch introductory assignments\n",
    "\n",
    "PyTorch exercises for those who want to remember the basics of framefork."
   ],
   "attachments":{
    
   },
   "metadata":{
    "datalore":{
     "node_id":"owyWNb4aCzwpWkSDzEIPIZ",
     "type":"MD",
     "hide_input_from_viewers":false,
     "hide_output_from_viewers":false,
     "report_properties":{
      "rowId":"ItbP1ZSDQJ94doLYlMLhyW"
     }
    }
   }
  },
  {
   "cell_type":"code",
   "source":[
    "# main framework\n",
    "import torch\n",
    "# additional functions on tensors or networks\n",
    "from torch.nn import functional as F\n",
    "\n",
    "# work with arrays in pure python\n",
    "import numpy as np"
   ],
   "execution_count":2,
   "outputs":[
    
   ],
   "metadata":{
    "datalore":{
     "node_id":"ygTJ73s6OdFPHNG90yq6ob",
     "type":"CODE",
     "hide_input_from_viewers":false,
     "hide_output_from_viewers":false,
     "report_properties":{
      "rowId":"ItbP1ZSDQJ94doLYlMLhyW"
     }
    }
   }
  },
  {
   "cell_type":"markdown",
   "source":[
    "## 1.1 Tensors creation\n",
    "Tensors is a data structure optimized for automatic differentiation. In most cases, working with them is similar to working with arrays in numpy.\n",
    "\n",
    "We use `torch.tensor()` to create tensor object from pure Python and Numpy objects."
   ],
   "attachments":{
    
   },
   "metadata":{
    "datalore":{
     "node_id":"FYsB9iFjrUqylhrn9zAjez",
     "type":"MD",
     "hide_input_from_viewers":false,
     "hide_output_from_viewers":false,
     "report_properties":{
      "rowId":"ItbP1ZSDQJ94doLYlMLhyW"
     }
    }
   }
  },
  {
   "cell_type":"markdown",
   "source":[
    "### 1. From list"
   ],
   "attachments":{
    
   },
   "metadata":{
    "datalore":{
     "node_id":"0XyKxwVbDx6AyBWciRbrCZ",
     "type":"MD",
     "hide_input_from_viewers":false,
     "hide_output_from_viewers":false,
     "report_properties":{
      "rowId":"ItbP1ZSDQJ94doLYlMLhyW"
     }
    }
   }
  },
  {
   "cell_type":"code",
   "source":[
    "data_lst = [[1, 2, 3], [4, 5, 6], [7, 8, 9]]\n",
    "''' YOUR CODE HERE '''\n",
    "tensor_from_lst = None\n",
    "\n",
    "tensor_from_lst = torch.tensor(data_lst)\n",
    "print(f\"Answer {tensor_from_lst}\")\n",
    "print(f\"Type {type(tensor_from_lst)}\")"
   ],
   "execution_count":3,
   "outputs":[
    {
     "name":"stdout",
     "text":[
      "Answer tensor([[1, 2, 3],\n",
      "        [4, 5, 6],\n",
      "        [7, 8, 9]])\n",
      "Type <class 'torch.Tensor'>\n"
     ],
     "output_type":"stream"
    }
   ],
   "metadata":{
    "datalore":{
     "node_id":"QgiN2wlBmlKr2aGdVN7zIj",
     "type":"CODE",
     "hide_input_from_viewers":false,
     "hide_output_from_viewers":false,
     "report_properties":{
      "rowId":"ItbP1ZSDQJ94doLYlMLhyW"
     }
    }
   }
  },
  {
   "cell_type":"code",
   "source":[
    "assert(tensor_from_lst.dtype == torch.int64)\n",
    "assert(tensor_from_lst.shape == torch.Size([3, 3]))"
   ],
   "execution_count":4,
   "outputs":[
    
   ],
   "metadata":{
    "datalore":{
     "node_id":"V9Ci1T0NfMH65DmzasVgfQ",
     "type":"CODE",
     "hide_input_from_viewers":false,
     "hide_output_from_viewers":false,
     "report_properties":{
      "rowId":"ItbP1ZSDQJ94doLYlMLhyW"
     }
    }
   }
  },
  {
   "cell_type":"markdown",
   "source":[
    "### 2. From Numpy array\n"
   ],
   "attachments":{
    
   },
   "metadata":{
    "datalore":{
     "node_id":"hIKEJ9xLVmKUve31xiUrMo",
     "type":"MD",
     "hide_input_from_viewers":false,
     "hide_output_from_viewers":false,
     "report_properties":{
      "rowId":"ItbP1ZSDQJ94doLYlMLhyW"
     }
    }
   }
  },
  {
   "cell_type":"code",
   "source":[
    "data_ndarray = np.array([[1, 2, 3], [4, 5, 6], [7, 8, 9]])\n",
    "''' YOUR CODE HERE '''\n",
    "tensor_from_numpy = None\n",
    "\n",
    "tensor_from_numpy = torch.tensor(data_ndarray)\n",
    "print(f\"Answer {tensor_from_numpy}\")\n",
    "print(f\"Type {type(tensor_from_numpy)}\")"
   ],
   "execution_count":5,
   "outputs":[
    {
     "name":"stdout",
     "text":[
      "Answer tensor([[1, 2, 3],\n",
      "        [4, 5, 6],\n",
      "        [7, 8, 9]])\n",
      "Type <class 'torch.Tensor'>\n"
     ],
     "output_type":"stream"
    }
   ],
   "metadata":{
    "datalore":{
     "node_id":"GxCXn3aUa9dL6JyzWN5WXE",
     "type":"CODE",
     "hide_input_from_viewers":false,
     "hide_output_from_viewers":false,
     "report_properties":{
      "rowId":"ItbP1ZSDQJ94doLYlMLhyW"
     }
    }
   }
  },
  {
   "cell_type":"code",
   "source":[
    "assert(tensor_from_numpy.dtype == torch.int64)\n",
    "assert(tensor_from_numpy.shape == torch.Size([3, 3]))"
   ],
   "execution_count":6,
   "outputs":[
    
   ],
   "metadata":{
    "datalore":{
     "node_id":"CN2bthhusedJNH5RQGhKgm",
     "type":"CODE",
     "hide_input_from_viewers":false,
     "hide_output_from_viewers":false,
     "report_properties":{
      "rowId":"ItbP1ZSDQJ94doLYlMLhyW"
     }
    }
   }
  },
  {
   "cell_type":"markdown",
   "source":[
    "You can also try to use `torch.from_numpy()` on the following array to understand the differences between this function and `torch.tensor()`"
   ],
   "attachments":{
    
   },
   "metadata":{
    "datalore":{
     "node_id":"OsAnkYPkssxyE10CjuYq2k",
     "type":"MD",
     "hide_input_from_viewers":false,
     "hide_output_from_viewers":false,
     "report_properties":{
      "rowId":"ItbP1ZSDQJ94doLYlMLhyW"
     }
    }
   }
  },
  {
   "cell_type":"code",
   "source":[
    "data_ndarray2 = np.array([[1, 2, 3], [4, 5, 6], [7, 8, 9]])\n",
    "''' YOUR CODE HERE '''\n",
    "tensor_using_from_numpy = None\n",
    "\n",
    "tensor_using_from_numpy = torch.from_numpy(data_ndarray2)\n",
    "print(f\"Answer {tensor_using_from_numpy}\")\n",
    "print(f\"Type {type(tensor_using_from_numpy)}\")"
   ],
   "execution_count":7,
   "outputs":[
    {
     "name":"stdout",
     "text":[
      "Answer tensor([[1, 2, 3],\n",
      "        [4, 5, 6],\n",
      "        [7, 8, 9]])\n",
      "Type <class 'torch.Tensor'>\n"
     ],
     "output_type":"stream"
    }
   ],
   "metadata":{
    "datalore":{
     "node_id":"WKBmTt1YyqKTyA0l2d5Pzl",
     "type":"CODE",
     "hide_input_from_viewers":false,
     "hide_output_from_viewers":false,
     "report_properties":{
      "rowId":"ItbP1ZSDQJ94doLYlMLhyW"
     }
    }
   }
  },
  {
   "cell_type":"code",
   "source":[
    "tensor_from_numpy *= 0\n",
    "tensor_using_from_numpy *= 0"
   ],
   "execution_count":8,
   "outputs":[
    
   ],
   "metadata":{
    "datalore":{
     "node_id":"w7tPIdZ5M4xU3dT5V6kWRU",
     "type":"CODE",
     "hide_input_from_viewers":false,
     "hide_output_from_viewers":false,
     "report_properties":{
      "rowId":"ItbP1ZSDQJ94doLYlMLhyW"
     }
    }
   }
  },
  {
   "cell_type":"code",
   "source":[
    "assert(all(data_ndarray[0] == [1, 2, 3]))\n",
    "assert(all(data_ndarray2[0] == [0, 0, 0]))"
   ],
   "execution_count":9,
   "outputs":[
    
   ],
   "metadata":{
    "datalore":{
     "node_id":"R6yjIO0pI9NUd5kwLjSLcF",
     "type":"CODE",
     "hide_input_from_viewers":false,
     "hide_output_from_viewers":false,
     "report_properties":{
      "rowId":"ItbP1ZSDQJ94doLYlMLhyW"
     }
    }
   }
  },
  {
   "cell_type":"markdown",
   "source":[
    "### 3. Using default values"
   ],
   "attachments":{
    
   },
   "metadata":{
    "datalore":{
     "node_id":"qFPeoH6Y9EW6QlDN5GSgry",
     "type":"MD",
     "hide_input_from_viewers":false,
     "hide_output_from_viewers":false,
     "report_properties":{
      "rowId":"ItbP1ZSDQJ94doLYlMLhyW"
     }
    }
   }
  },
  {
   "cell_type":"code",
   "source":[
    "data_shape = (2, 3, 4)\n",
    "\n",
    "# Creating a tensor of a given shape filled with zeros\n",
    "tensor_zeros = torch.zeros(data_shape)\n",
    "print('Zero:\\n{}'.format(tensor_zeros))"
   ],
   "execution_count":10,
   "outputs":[
    {
     "name":"stdout",
     "text":[
      "Zero:\n",
      "tensor([[[0., 0., 0., 0.],\n",
      "         [0., 0., 0., 0.],\n",
      "         [0., 0., 0., 0.]],\n",
      "\n",
      "        [[0., 0., 0., 0.],\n",
      "         [0., 0., 0., 0.],\n",
      "         [0., 0., 0., 0.]]])\n"
     ],
     "output_type":"stream"
    }
   ],
   "metadata":{
    "datalore":{
     "node_id":"kduSWgivARM2usMOClpE34",
     "type":"CODE",
     "hide_input_from_viewers":false,
     "hide_output_from_viewers":false,
     "report_properties":{
      "rowId":"ItbP1ZSDQJ94doLYlMLhyW"
     }
    }
   }
  },
  {
   "cell_type":"code",
   "source":[
    "# Create tensor of a given shape filled with ones\n",
    "''' YOUR CODE HERE '''\n",
    "tensor_ones = None\n",
    "tensor_ones = torch.ones(data_shape)\n",
    "\n",
    "# Create tensor of a given shape filled with random numbers\n",
    "''' YOUR CODE HERE '''\n",
    "tensor_rand = None\n",
    "tensor_rand = torch.rand(data_shape)\n",
    "\n",
    "print(f\"Ones {tensor_ones}\")\n",
    "print(f\"Rand {tensor_rand}\")"
   ],
   "execution_count":11,
   "outputs":[
    {
     "name":"stdout",
     "text":[
      "Ones tensor([[[1., 1., 1., 1.],\n",
      "         [1., 1., 1., 1.],\n",
      "         [1., 1., 1., 1.]],\n",
      "\n",
      "        [[1., 1., 1., 1.],\n",
      "         [1., 1., 1., 1.],\n",
      "         [1., 1., 1., 1.]]])\n",
      "Rand tensor([[[0.2182, 0.5512, 0.9641, 0.9282],\n",
      "         [0.1582, 0.2164, 0.1092, 0.4230],\n",
      "         [0.6638, 0.4863, 0.6818, 0.0966]],\n",
      "\n",
      "        [[0.5027, 0.2246, 0.4810, 0.3060],\n",
      "         [0.0425, 0.7770, 0.2773, 0.4252],\n",
      "         [0.2692, 0.1865, 0.1032, 0.6170]]])\n"
     ],
     "output_type":"stream"
    }
   ],
   "metadata":{
    "datalore":{
     "node_id":"4tSvBFqvso0ytQUdj1bVwp",
     "type":"CODE",
     "hide_input_from_viewers":false,
     "hide_output_from_viewers":false,
     "report_properties":{
      "rowId":"ItbP1ZSDQJ94doLYlMLhyW"
     }
    }
   }
  },
  {
   "cell_type":"code",
   "source":[
    "assert(all(tensor_ones[0][0] == torch.tensor([1., 1., 1., 1.])))\n",
    "assert(tensor_ones.shape == torch.Size(data_shape))\n",
    "assert(tensor_rand.shape == torch.Size(data_shape))"
   ],
   "execution_count":12,
   "outputs":[
    
   ],
   "metadata":{
    "datalore":{
     "node_id":"IPVZS33KTKRVwPxOLZCtap",
     "type":"CODE",
     "hide_input_from_viewers":false,
     "hide_output_from_viewers":false,
     "report_properties":{
      "rowId":"ItbP1ZSDQJ94doLYlMLhyW"
     }
    }
   }
  },
  {
   "cell_type":"markdown",
   "source":[
    "You can also create tensor from sequence using `torch.arange()` and then use `tensor.reshape()` function to convert data into the desired shape."
   ],
   "attachments":{
    
   },
   "metadata":{
    "datalore":{
     "node_id":"t22SmOkvu5P1Q297KZULgE",
     "type":"MD",
     "hide_input_from_viewers":false,
     "hide_output_from_viewers":false,
     "report_properties":{
      "rowId":"ItbP1ZSDQJ94doLYlMLhyW"
     }
    }
   }
  },
  {
   "cell_type":"code",
   "source":[
    "range_len = 24\n",
    "# Create tensor filled with sequential values from 0 to range_len\n",
    "''' YOUR CODE HERE '''\n",
    "tensor_seq = None\n",
    "tensor_seq = torch.arange(end=range_len)\n",
    "print(f\"Seq {tensor_seq}\")\n",
    "\n",
    "# Convert the shape of the created tensor to fit data_shape\n",
    "''' YOUR CODE HERE '''\n",
    "tensor_seq_reshaped = None\n",
    "tensor_seq_reshaped = tensor_seq.reshape(3, 8) # \/\/ Три слайса по 8 элементов\n",
    "print(f\"Res {tensor_seq_reshaped}\")\n",
    "\n",
    "tensor_seq_reshaped = tensor_seq.reshape(data_shape) # \/\/ То, что вероятно предполаголось\n",
    "\n",
    "print(f\"Res {tensor_seq_reshaped}\")"
   ],
   "execution_count":13,
   "outputs":[
    {
     "name":"stdout",
     "text":[
      "Seq tensor([ 0,  1,  2,  3,  4,  5,  6,  7,  8,  9, 10, 11, 12, 13, 14, 15, 16, 17,\n",
      "        18, 19, 20, 21, 22, 23])\n",
      "Res tensor([[ 0,  1,  2,  3,  4,  5,  6,  7],\n",
      "        [ 8,  9, 10, 11, 12, 13, 14, 15],\n",
      "        [16, 17, 18, 19, 20, 21, 22, 23]])\n",
      "Res tensor([[[ 0,  1,  2,  3],\n",
      "         [ 4,  5,  6,  7],\n",
      "         [ 8,  9, 10, 11]],\n",
      "\n",
      "        [[12, 13, 14, 15],\n",
      "         [16, 17, 18, 19],\n",
      "         [20, 21, 22, 23]]])\n"
     ],
     "output_type":"stream"
    }
   ],
   "metadata":{
    "datalore":{
     "node_id":"luSyqenMcXbHcXZG3IwO0W",
     "type":"CODE",
     "hide_input_from_viewers":false,
     "hide_output_from_viewers":false,
     "report_properties":{
      "rowId":"ItbP1ZSDQJ94doLYlMLhyW"
     }
    }
   }
  },
  {
   "cell_type":"code",
   "source":[
    "assert(tensor_seq[0] == torch.tensor(0))\n",
    "assert(tensor_seq[-1] == torch.tensor(range_len - 1))\n",
    "assert(tensor_seq.shape ==torch.Size([range_len]))"
   ],
   "execution_count":14,
   "outputs":[
    
   ],
   "metadata":{
    "datalore":{
     "node_id":"UOIfB4Bl3duDNB0rDypDmT",
     "type":"CODE",
     "hide_input_from_viewers":false,
     "hide_output_from_viewers":false,
     "report_properties":{
      "rowId":"ItbP1ZSDQJ94doLYlMLhyW"
     }
    }
   }
  },
  {
   "cell_type":"code",
   "source":[
    "assert(tensor_seq_reshaped[0][0][0] == torch.tensor(0))\n",
    "assert(tensor_seq_reshaped[-1][-1][-1] == torch.tensor(range_len - 1))\n",
    "assert(tensor_seq_reshaped.shape == torch.Size(data_shape))"
   ],
   "execution_count":15,
   "outputs":[
    
   ],
   "metadata":{
    "datalore":{
     "node_id":"BjcJNQUTUW3aETki7aUq4q",
     "type":"CODE",
     "hide_input_from_viewers":false,
     "hide_output_from_viewers":false,
     "report_properties":{
      "rowId":"ItbP1ZSDQJ94doLYlMLhyW"
     }
    }
   }
  },
  {
   "cell_type":"markdown",
   "source":[
    "If you want to make a tensor with a shape of another tensor, but with default values, you can use `torch.values_like()` functions"
   ],
   "attachments":{
    
   },
   "metadata":{
    "datalore":{
     "node_id":"5ncEkQuxKh7jJ7cmx2w80n",
     "type":"MD",
     "hide_input_from_viewers":false,
     "hide_output_from_viewers":false,
     "report_properties":{
      "rowId":"ItbP1ZSDQJ94doLYlMLhyW"
     }
    }
   }
  },
  {
   "cell_type":"code",
   "source":[
    "tensor = torch.rand((1, 2, 2))\n",
    "\n",
    "# For example, you want to create a mask for the image or something filled with zeros\n",
    "tensor_mask = torch.zeros_like(tensor)\n",
    "print('Image:\\n{}'.format(tensor))\n",
    "print('Image_mask:\\n{}'.format(tensor_mask))"
   ],
   "execution_count":16,
   "outputs":[
    {
     "name":"stdout",
     "text":[
      "Image:\n",
      "tensor([[[0.6300, 0.9868],\n",
      "         [0.2767, 0.5269]]])\n",
      "Image_mask:\n",
      "tensor([[[0., 0.],\n",
      "         [0., 0.]]])\n"
     ],
     "output_type":"stream"
    }
   ],
   "metadata":{
    "datalore":{
     "node_id":"J3KxC3LrDoqa3O6somGAAj",
     "type":"CODE",
     "hide_input_from_viewers":false,
     "hide_output_from_viewers":false,
     "report_properties":{
      "rowId":"ItbP1ZSDQJ94doLYlMLhyW"
     }
    }
   }
  },
  {
   "cell_type":"markdown",
   "source":[
    "Using similar functions, create a tensor mask filled with ones and a mask filled with the random values"
   ],
   "attachments":{
    
   },
   "metadata":{
    "datalore":{
     "node_id":"KFkXtWPt91xSma1Gn75Wxz",
     "type":"MD",
     "hide_input_from_viewers":false,
     "hide_output_from_viewers":false,
     "report_properties":{
      "rowId":"ItbP1ZSDQJ94doLYlMLhyW"
     }
    }
   }
  },
  {
   "cell_type":"code",
   "source":[
    "# Mask, filled with ones (with a shape of tensor)\n",
    "''' YOUR CODE HERE '''\n",
    "tensor_mask_ones = None\n",
    "tensor_mask_ones = torch.ones_like(tensor)\n",
    "\n",
    "print('Image:\\n{}'.format(tensor))\n",
    "print('Ones Image_mask:\\n{}'.format(tensor_mask_ones))\n",
    "\n",
    "# Mask, filled with random values (with a shape of tensor)\n",
    "''' YOUR CODE HERE '''\n",
    "tensor_mask_rand = None\n",
    "tensor_mask_rand = torch.rand_like(tensor)\n",
    "\n",
    "print('Image:\\n{}'.format(tensor))\n",
    "print('Pseudo rand Image_mask:\\n{}'.format(tensor_mask_rand))"
   ],
   "execution_count":17,
   "outputs":[
    {
     "name":"stdout",
     "text":[
      "Image:\n",
      "tensor([[[0.6300, 0.9868],\n",
      "         [0.2767, 0.5269]]])\n",
      "Ones Image_mask:\n",
      "tensor([[[1., 1.],\n",
      "         [1., 1.]]])\n",
      "Image:\n",
      "tensor([[[0.6300, 0.9868],\n",
      "         [0.2767, 0.5269]]])\n",
      "Pseudo rand Image_mask:\n",
      "tensor([[[0.1655, 0.1607],\n",
      "         [0.8895, 0.9675]]])\n"
     ],
     "output_type":"stream"
    }
   ],
   "metadata":{
    "datalore":{
     "node_id":"ox4psHFH7SOSLAKiR37QDH",
     "type":"CODE",
     "hide_input_from_viewers":false,
     "hide_output_from_viewers":false,
     "report_properties":{
      "rowId":"ItbP1ZSDQJ94doLYlMLhyW"
     }
    }
   }
  },
  {
   "cell_type":"code",
   "source":[
    "assert(tensor_mask_ones[0][0][0] == torch.tensor(1.))\n",
    "assert(tensor_mask_ones.shape == tensor.shape)\n",
    "assert(tensor_mask_rand.shape == tensor.shape)"
   ],
   "execution_count":18,
   "outputs":[
    
   ],
   "metadata":{
    "datalore":{
     "node_id":"Btn1QHzSyGpiuTmlqHHNC7",
     "type":"CODE",
     "hide_input_from_viewers":false,
     "hide_output_from_viewers":false,
     "report_properties":{
      "rowId":"ItbP1ZSDQJ94doLYlMLhyW"
     }
    }
   }
  },
  {
   "cell_type":"markdown",
   "source":[
    "## 1.2 Devices\n",
    "\n",
    "Tensors can be stored in general memory, GPU memory, TPU memory."
   ],
   "attachments":{
    
   },
   "metadata":{
    "datalore":{
     "node_id":"g1yIzMfx3H5Rfxk8EOdNw7",
     "type":"MD",
     "hide_input_from_viewers":false,
     "hide_output_from_viewers":false,
     "report_properties":{
      "rowId":"ItbP1ZSDQJ94doLYlMLhyW"
     }
    }
   }
  },
  {
   "cell_type":"code",
   "source":[
    "tensor = torch.rand((2, 5, 5))\n",
    "print(tensor.device)"
   ],
   "execution_count":19,
   "outputs":[
    {
     "name":"stdout",
     "text":[
      "cpu\n"
     ],
     "output_type":"stream"
    }
   ],
   "metadata":{
    "datalore":{
     "node_id":"WbL6gC6a9gh2XpQ6H2n68R",
     "type":"CODE",
     "hide_input_from_viewers":false,
     "hide_output_from_viewers":false,
     "report_properties":{
      "rowId":"ItbP1ZSDQJ94doLYlMLhyW"
     }
    }
   }
  },
  {
   "cell_type":"markdown",
   "source":[
    "For the further assignments you should use Google Colab with GPU (Runtime -> Change Runtime Type -> Hardware Accelerating) and store tensors in GPU memory."
   ],
   "attachments":{
    
   },
   "metadata":{
    "datalore":{
     "node_id":"z7SojV0q34JNpDk22ncooO",
     "type":"MD",
     "hide_input_from_viewers":false,
     "hide_output_from_viewers":false,
     "report_properties":{
      "rowId":"ItbP1ZSDQJ94doLYlMLhyW"
     }
    }
   }
  },
  {
   "cell_type":"code",
   "source":[
    "device = ('cuda' if torch.cuda.is_available() else 'cpu')"
   ],
   "execution_count":20,
   "outputs":[
    
   ],
   "metadata":{
    "datalore":{
     "node_id":"f7BpEMMfgKnw4gEOaJaF44",
     "type":"CODE",
     "hide_input_from_viewers":false,
     "hide_output_from_viewers":false,
     "report_properties":{
      "rowId":"ItbP1ZSDQJ94doLYlMLhyW"
     }
    }
   }
  },
  {
   "cell_type":"code",
   "source":[
    "# Move tensor to the GPU memory\n",
    "''' YOUR CODE HERE '''\n",
    "tensor = None\n",
    "torch.cuda.is_available() "
   ],
   "execution_count":21,
   "outputs":[
    {
     "data":{
      "text\/plain":[
       "False"
      ]
     },
     "metadata":{
      
     },
     "output_type":"display_data"
    }
   ],
   "metadata":{
    "datalore":{
     "node_id":"PpO1YXefcEIONnr5ujZZ9l",
     "type":"CODE",
     "hide_input_from_viewers":false,
     "hide_output_from_viewers":false,
     "report_properties":{
      "rowId":"ItbP1ZSDQJ94doLYlMLhyW"
     }
    }
   }
  },
  {
   "cell_type":"markdown",
   "source":[
    "If it was possible in DataLore then\n",
    "```py\n",
    "tensor.to('cuda:0').device\n",
    "```"
   ],
   "attachments":{
    
   },
   "metadata":{
    "datalore":{
     "node_id":"hZbjXrxx5qAfmaFlZmnXO9",
     "type":"MD",
     "hide_input_from_viewers":true,
     "hide_output_from_viewers":true
    }
   }
  },
  {
   "cell_type":"code",
   "source":[
    "assert(tensor.device.type == 'cuda')"
   ],
   "execution_count":22,
   "outputs":[
    {
     "ename":"AttributeError",
     "evalue":"AttributeError: 'NoneType' object has no attribute 'device'",
     "traceback":[
      "\u001b[0;31m---------------------------------------------------------------------------",
      "Traceback (most recent call last)",
      "    at line 1 in <module>",
      "AttributeError: 'NoneType' object has no attribute 'device'"
     ],
     "output_type":"error"
    }
   ],
   "metadata":{
    "datalore":{
     "node_id":"Gv6sm1rDi4OEtWlhlUFb5B",
     "type":"CODE",
     "hide_input_from_viewers":false,
     "hide_output_from_viewers":false,
     "report_properties":{
      "rowId":"ItbP1ZSDQJ94doLYlMLhyW"
     }
    }
   }
  },
  {
   "cell_type":"markdown",
   "source":[
    "## 1.3 Autograd\n",
    "\n",
    "Auto differentiation is a core of ML frameworks. PyTorch can figure out the computation of gradients for a set of operations. Almost all pytorch operations are differentiable.\n",
    "\n",
    "`required_grad=True` make PyTorch to store gradients for this particular tensor. Usually, for input values this parameters is set to False - we don't want to change our real data."
   ],
   "attachments":{
    
   },
   "metadata":{
    "datalore":{
     "node_id":"9lARES07whN7nuzbAWLaG6",
     "type":"MD",
     "hide_input_from_viewers":false,
     "hide_output_from_viewers":false,
     "report_properties":{
      "rowId":"ItbP1ZSDQJ94doLYlMLhyW"
     }
    }
   }
  },
  {
   "cell_type":"code",
   "source":[
    "# tensor = torch.rand((2, 4, 4), requires_grad=True)\n",
    "tensor = torch.ones((2, 4, 4))\n",
    "tensor.requires_grad = True"
   ],
   "execution_count":23,
   "outputs":[
    
   ],
   "metadata":{
    "datalore":{
     "node_id":"OuKZA7XmeGwytPxyyeFuoA",
     "type":"CODE",
     "hide_input_from_viewers":false,
     "hide_output_from_viewers":false,
     "report_properties":{
      "rowId":"ItbP1ZSDQJ94doLYlMLhyW"
     }
    }
   }
  },
  {
   "cell_type":"code",
   "source":[
    "# define function y\n",
    "y = 5 * tensor ** 3 - 3\n",
    "print(y)"
   ],
   "execution_count":24,
   "outputs":[
    {
     "name":"stdout",
     "text":[
      "tensor([[[2., 2., 2., 2.],\n",
      "         [2., 2., 2., 2.],\n",
      "         [2., 2., 2., 2.],\n",
      "         [2., 2., 2., 2.]],\n",
      "\n",
      "        [[2., 2., 2., 2.],\n",
      "         [2., 2., 2., 2.],\n",
      "         [2., 2., 2., 2.],\n",
      "         [2., 2., 2., 2.]]], grad_fn=<SubBackward0>)\n"
     ],
     "output_type":"stream"
    }
   ],
   "metadata":{
    "datalore":{
     "node_id":"zC90I9RuaktDkJEvVGHX6k",
     "type":"CODE",
     "hide_input_from_viewers":false,
     "hide_output_from_viewers":false,
     "report_properties":{
      "rowId":"ItbP1ZSDQJ94doLYlMLhyW"
     }
    }
   }
  },
  {
   "cell_type":"code",
   "source":[
    "print(tensor.grad)"
   ],
   "execution_count":25,
   "outputs":[
    {
     "name":"stdout",
     "text":[
      "None\n"
     ],
     "output_type":"stream"
    }
   ],
   "metadata":{
    "datalore":{
     "node_id":"p2v2TdKOwLDz4HT0MIsaSk",
     "type":"CODE",
     "hide_input_from_viewers":false,
     "hide_output_from_viewers":false,
     "report_properties":{
      "rowId":"ItbP1ZSDQJ94doLYlMLhyW"
     }
    }
   }
  },
  {
   "cell_type":"markdown",
   "source":[
    "There is no gradient for our tensor, because we have to call `.backward()` method of variable $y$. This method will calculate gradien of $y$ over variable tensor\n",
    "\n",
    "> NOTE: gradient can be calculated only for a scalar. The output of $y$ is a tensor, we can calculate mean(), sum(), etc"
   ],
   "attachments":{
    
   },
   "metadata":{
    "datalore":{
     "node_id":"Wf65yUHBSCQIpuLicFqARq",
     "type":"MD",
     "hide_input_from_viewers":false,
     "hide_output_from_viewers":false,
     "report_properties":{
      "rowId":"ItbP1ZSDQJ94doLYlMLhyW"
     }
    }
   }
  },
  {
   "cell_type":"code",
   "source":[
    "# Call the backward method and calculate gradient for the sum of the y variable\n",
    "''' YOUR CODE HERE '''\n",
    "y.sum().backward()\n",
    "# print(tensor.grad)"
   ],
   "execution_count":26,
   "outputs":[
    
   ],
   "metadata":{
    "datalore":{
     "node_id":"86Nox6hSonHiHTvPYNR6Ni",
     "type":"CODE",
     "hide_input_from_viewers":false,
     "hide_output_from_viewers":false,
     "report_properties":{
      "rowId":"ItbP1ZSDQJ94doLYlMLhyW"
     }
    }
   }
  },
  {
   "cell_type":"code",
   "source":[
    "assert(tensor.grad.shape == torch.Size([2, 4, 4]))\n",
    "assert(tensor.grad[0][0][0] == torch.tensor(15))"
   ],
   "execution_count":27,
   "outputs":[
    
   ],
   "metadata":{
    "datalore":{
     "node_id":"i9bWZn2GcW9e5Lsy85OFaE",
     "type":"CODE",
     "hide_input_from_viewers":false,
     "hide_output_from_viewers":false,
     "report_properties":{
      "rowId":"ItbP1ZSDQJ94doLYlMLhyW"
     }
    }
   }
  },
  {
   "cell_type":"markdown",
   "source":[
    "**NOTE:** \n",
    "* you can not run `.backward()` again without calculating y value again;\n",
    "* if you run y function one more time the gradient values for tensor variable will be summed."
   ],
   "attachments":{
    
   },
   "metadata":{
    "datalore":{
     "node_id":"1tdIydzuInwSxe7ZiamRMj",
     "type":"MD",
     "hide_input_from_viewers":false,
     "hide_output_from_viewers":false,
     "report_properties":{
      "rowId":"ItbP1ZSDQJ94doLYlMLhyW"
     }
    }
   }
  },
  {
   "cell_type":"code",
   "source":[
    "# Call the backward method again and calculate gradient for the sum of the y variable\n",
    "''' YOUR CODE HERE '''\n",
    "y = 5 * tensor ** 3 - 3\n",
    "y.sum().backward()\n",
    "print(tensor.grad)"
   ],
   "execution_count":28,
   "outputs":[
    {
     "name":"stdout",
     "text":[
      "tensor([[[30., 30., 30., 30.],\n",
      "         [30., 30., 30., 30.],\n",
      "         [30., 30., 30., 30.],\n",
      "         [30., 30., 30., 30.]],\n",
      "\n",
      "        [[30., 30., 30., 30.],\n",
      "         [30., 30., 30., 30.],\n",
      "         [30., 30., 30., 30.],\n",
      "         [30., 30., 30., 30.]]])\n"
     ],
     "output_type":"stream"
    }
   ],
   "metadata":{
    "datalore":{
     "node_id":"krsepSpRNhPuir5ojK2C86",
     "type":"CODE",
     "hide_input_from_viewers":false,
     "hide_output_from_viewers":false,
     "report_properties":{
      "rowId":"ItbP1ZSDQJ94doLYlMLhyW"
     }
    }
   }
  },
  {
   "cell_type":"code",
   "source":[
    "assert(tensor.grad.shape == torch.Size([2, 4, 4]))\n",
    "assert(tensor.grad[0][0][0] == torch.tensor(30))"
   ],
   "execution_count":29,
   "outputs":[
    
   ],
   "metadata":{
    "datalore":{
     "node_id":"glJliVoKdUsKbv3zI2YmFh",
     "type":"CODE",
     "hide_input_from_viewers":false,
     "hide_output_from_viewers":false,
     "report_properties":{
      "rowId":"ItbP1ZSDQJ94doLYlMLhyW"
     }
    }
   }
  },
  {
   "cell_type":"markdown",
   "source":[
    "## 1.4 Neural network in PyTorch\n",
    "\n",
    "NN in PyTorch defines as a set of different layers. Each layer is a specific function:\n",
    "\n",
    "\n",
    "*   Linear layer, convolutional layer, etc\n",
    "*   Activation function\n",
    "*   Tensors operations\n",
    "\n",
    "The first type has parameters called weights and biases.The process of NN training is to change weights of NN layers so the prediction of network will match the real object."
   ],
   "attachments":{
    
   },
   "metadata":{
    "datalore":{
     "node_id":"Y3DNVkobyopmAxREnV3kqq",
     "type":"MD",
     "hide_input_from_viewers":false,
     "hide_output_from_viewers":false,
     "report_properties":{
      "rowId":"ItbP1ZSDQJ94doLYlMLhyW"
     }
    }
   }
  },
  {
   "cell_type":"markdown",
   "source":[
    "## Linear layer\n",
    "\n",
    "[torch.nn.Linear](https:\/\/pytorch.org\/docs\/stable\/generated\/torch.nn.Linear.html#torch.nn.Linear) takes a matrix $(N, *, H_{in})$ and produce a matrix $(N, *, H_{out})$, where\n",
    "\n",
    "$*$ means any number of additional dimensions, $H_{in}$ - input features, $H_{out}$ - output features\n",
    "\n",
    "Linear layer is a $W \\cdot x + b$ operation, where $W$ - weights of the layer and $b$ - bias. Bias can be ommited with `bias=False`"
   ],
   "attachments":{
    
   },
   "metadata":{
    "datalore":{
     "node_id":"f14YHltFFt7OsQ8SBbFErz",
     "type":"MD",
     "hide_input_from_viewers":false,
     "hide_output_from_viewers":false,
     "report_properties":{
      "rowId":"ItbP1ZSDQJ94doLYlMLhyW"
     }
    }
   }
  },
  {
   "cell_type":"code",
   "source":[
    "input_tensor = torch.ones((3, 5))\n",
    "print('input shape: ', input_tensor.shape)"
   ],
   "execution_count":30,
   "outputs":[
    {
     "name":"stdout",
     "text":[
      "input shape:  torch.Size([3, 5])\n"
     ],
     "output_type":"stream"
    }
   ],
   "metadata":{
    "datalore":{
     "node_id":"EsYZrSFm1sbXRPb3hld6OE",
     "type":"CODE",
     "hide_input_from_viewers":false,
     "hide_output_from_viewers":false,
     "report_properties":{
      "rowId":"ItbP1ZSDQJ94doLYlMLhyW"
     }
    }
   }
  },
  {
   "cell_type":"markdown",
   "source":[
    "We fed sample of data with batch_size=3 and features of each sample=5. \n",
    "\n",
    "All samples in a batch processed separately. This is true for all layers and functions of PyTorch."
   ],
   "attachments":{
    
   },
   "metadata":{
    "datalore":{
     "node_id":"FzW3IZ1ojgpUizLXGEttk9",
     "type":"MD",
     "hide_input_from_viewers":false,
     "hide_output_from_viewers":false,
     "report_properties":{
      "rowId":"ItbP1ZSDQJ94doLYlMLhyW"
     }
    }
   }
  },
  {
   "cell_type":"code",
   "source":[
    "# Create a linear layer for given data with the number of out_features=100 and ommited bias (don't forget about GPU)\n",
    "''' YOUR CODE HERE '''\n",
    "layer = torch.nn.Linear(in_features=5,out_features=100, bias=False)"
   ],
   "execution_count":31,
   "outputs":[
    
   ],
   "metadata":{
    "datalore":{
     "node_id":"QG7ezJ9YoumBrKsNmR6XKt",
     "type":"CODE",
     "hide_input_from_viewers":false,
     "hide_output_from_viewers":false,
     "report_properties":{
      "rowId":"ItbP1ZSDQJ94doLYlMLhyW"
     }
    }
   }
  },
  {
   "cell_type":"markdown",
   "source":[
    "Let's take a look at layers parameters. \n",
    "\n",
    "`layer.paramaters()` outputs a generator of all weights and biases of this object."
   ],
   "attachments":{
    
   },
   "metadata":{
    "datalore":{
     "node_id":"DwtCgjcTT4CWaalAlpJy04",
     "type":"MD",
     "hide_input_from_viewers":false,
     "hide_output_from_viewers":false,
     "report_properties":{
      "rowId":"ItbP1ZSDQJ94doLYlMLhyW"
     }
    }
   }
  },
  {
   "cell_type":"code",
   "source":[
    "print(type(layer.parameters()))\n",
    "# iterate over layer parameters and print shapes\n",
    "for i in layer.parameters():\n",
    "    print(i.shape)"
   ],
   "execution_count":32,
   "outputs":[
    {
     "name":"stdout",
     "text":[
      "<class 'generator'>\n",
      "torch.Size([100, 5])\n"
     ],
     "output_type":"stream"
    }
   ],
   "metadata":{
    "datalore":{
     "node_id":"w5WGidu0ZyTbncvJwwGaLU",
     "type":"CODE",
     "hide_input_from_viewers":false,
     "hide_output_from_viewers":false,
     "report_properties":{
      "rowId":"ItbP1ZSDQJ94doLYlMLhyW"
     }
    }
   }
  },
  {
   "cell_type":"markdown",
   "source":[
    "You should receive the following output:\n",
    "\n",
    "![image.png](attachment:.\/data:image\/png;base64,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)"
   ],
   "attachments":{
    
   },
   "metadata":{
    "datalore":{
     "node_id":"8wheEo4LPA2Y5YHsTgeTQ1",
     "type":"MD",
     "hide_input_from_viewers":false,
     "hide_output_from_viewers":false,
     "report_properties":{
      "rowId":"ItbP1ZSDQJ94doLYlMLhyW"
     }
    }
   }
  },
  {
   "cell_type":"markdown",
   "source":[
    "Single layer contains only one weight matrix of shape (H_out, H_in). You can access the weights of a layer directly, using `layer.weight` method"
   ],
   "attachments":{
    
   },
   "metadata":{
    "datalore":{
     "node_id":"3TwabrL8kgoNMnCDCQFao8",
     "type":"MD",
     "hide_input_from_viewers":false,
     "hide_output_from_viewers":false,
     "report_properties":{
      "rowId":"ItbP1ZSDQJ94doLYlMLhyW"
     }
    }
   }
  },
  {
   "cell_type":"code",
   "source":[
    "print(layer.weight.shape)"
   ],
   "execution_count":33,
   "outputs":[
    {
     "name":"stdout",
     "text":[
      "torch.Size([100, 5])\n"
     ],
     "output_type":"stream"
    }
   ],
   "metadata":{
    "datalore":{
     "node_id":"eJeJJhxCkC5JqlBqM5Knv2",
     "type":"CODE",
     "hide_input_from_viewers":false,
     "hide_output_from_viewers":false,
     "report_properties":{
      "rowId":"ItbP1ZSDQJ94doLYlMLhyW"
     }
    }
   }
  },
  {
   "cell_type":"markdown",
   "source":[
    "You can move layer from CPU to GPU in the same way as tensor."
   ],
   "attachments":{
    
   },
   "metadata":{
    "datalore":{
     "node_id":"fO6FidKzfP2ivfUBnMxKl0",
     "type":"MD",
     "hide_input_from_viewers":false,
     "hide_output_from_viewers":false,
     "report_properties":{
      "rowId":"ItbP1ZSDQJ94doLYlMLhyW"
     }
    }
   }
  },
  {
   "cell_type":"code",
   "source":[
    "layer.to('cpu') # or layer.cpu() for simplicity"
   ],
   "execution_count":34,
   "outputs":[
    {
     "data":{
      "text\/plain":[
       "Linear(in_features=5, out_features=100, bias=False)"
      ]
     },
     "metadata":{
      
     },
     "output_type":"display_data"
    }
   ],
   "metadata":{
    "datalore":{
     "node_id":"8cdl8XD4PypzUWKU60Z6Hj",
     "type":"CODE",
     "hide_input_from_viewers":false,
     "hide_output_from_viewers":false,
     "report_properties":{
      "rowId":"ItbP1ZSDQJ94doLYlMLhyW"
     }
    }
   }
  },
  {
   "cell_type":"code",
   "source":[
    "layer.to('cuda:0')"
   ],
   "execution_count":128,
   "outputs":[
    {
     "ename":"AssertionError",
     "evalue":"AssertionError: Torch not compiled with CUDA enabled",
     "traceback":[
      "\u001b[0;31m---------------------------------------------------------------------------",
      "Traceback (most recent call last)",
      "    at line 1 in <module>",
      "    at line 899 in to(self, *args, **kwargs)",
      "    at line 593 in _apply(self, fn)",
      "    at line 897 in convert(t)",
      "    at line 208 in _lazy_init()",
      "AssertionError: Torch not compiled with CUDA enabled"
     ],
     "output_type":"error"
    }
   ],
   "metadata":{
    "datalore":{
     "node_id":"VmNYXdRHCTi3wdzq0wg7Fw",
     "type":"CODE",
     "hide_input_from_viewers":false,
     "hide_output_from_viewers":false,
     "report_properties":{
      "rowId":"ItbP1ZSDQJ94doLYlMLhyW"
     }
    }
   }
  },
  {
   "cell_type":"markdown",
   "source":[
    "### Neural Network\n",
    "\n",
    "You can write a NN as a set of layers and then apply them sequentially"
   ],
   "attachments":{
    
   },
   "metadata":{
    "datalore":{
     "node_id":"upZNaqIztaCPQYwr03H9RZ",
     "type":"MD",
     "hide_input_from_viewers":false,
     "hide_output_from_viewers":false,
     "report_properties":{
      "rowId":"ItbP1ZSDQJ94doLYlMLhyW"
     }
    }
   }
  },
  {
   "cell_type":"code",
   "source":[
    "input_tensor = torch.rand((3, 5))\n",
    "\n",
    "# Create three sequential linear layers for the given input tensor. First two with the output 100 and the last one with the output 3.\n",
    "# Apply them sequentially and store in the output\n",
    "''' YOUR CODE HERE '''\n",
    "firstLayer = torch.nn.Linear(in_features=5, out_features=100)\n",
    "secondLayer = torch.nn.Linear(in_features=100, out_features=100)\n",
    "thirdLayer = torch.nn.Linear(in_features=100, out_features=3)\n",
    "# approx 3 lines of code here\n",
    "\n",
    "output = None\n",
    "output = thirdLayer(\\\n",
    "                    secondLayer(\\\n",
    "                                firstLayer(input_tensor)\n",
    "                    )\n",
    "        )"
   ],
   "execution_count":35,
   "outputs":[
    
   ],
   "metadata":{
    "datalore":{
     "node_id":"efckEWeTqH2EqRjkZKyPZO",
     "type":"CODE",
     "hide_input_from_viewers":false,
     "hide_output_from_viewers":false,
     "report_properties":{
      "rowId":"ItbP1ZSDQJ94doLYlMLhyW"
     }
    }
   }
  },
  {
   "cell_type":"code",
   "source":[
    "assert(output.shape == torch.Size([3, 3]))"
   ],
   "execution_count":36,
   "outputs":[
    
   ],
   "metadata":{
    "datalore":{
     "node_id":"er70bvfyrrxkFKJzWjU4Tk",
     "type":"CODE",
     "hide_input_from_viewers":false,
     "hide_output_from_viewers":false,
     "report_properties":{
      "rowId":"ItbP1ZSDQJ94doLYlMLhyW"
     }
    }
   }
  },
  {
   "cell_type":"markdown",
   "source":[
    "### Activation and loss functions"
   ],
   "attachments":{
    
   },
   "metadata":{
    "datalore":{
     "node_id":"dJsAytj1MRwyzNJ1D81uR6",
     "type":"MD",
     "hide_input_from_viewers":false,
     "hide_output_from_viewers":false,
     "report_properties":{
      "rowId":"ItbP1ZSDQJ94doLYlMLhyW"
     }
    }
   }
  },
  {
   "cell_type":"markdown",
   "source":[
    "You can use different activation functions from `torch.nn` and combine them sequentially with the NN layers"
   ],
   "attachments":{
    
   },
   "metadata":{
    "datalore":{
     "node_id":"Xwi9c5iO5ivI9qju8Cdj5l",
     "type":"MD",
     "hide_input_from_viewers":false,
     "hide_output_from_viewers":false,
     "report_properties":{
      "rowId":"ItbP1ZSDQJ94doLYlMLhyW"
     }
    }
   }
  },
  {
   "cell_type":"code",
   "source":[
    "# Example of the activation function\n",
    "torch.nn.ReLU6()"
   ],
   "execution_count":37,
   "outputs":[
    {
     "data":{
      "text\/plain":[
       "ReLU6()"
      ]
     },
     "metadata":{
      
     },
     "output_type":"display_data"
    }
   ],
   "metadata":{
    "datalore":{
     "node_id":"7nvLQLrG0zxRMdNg25r7vS",
     "type":"CODE",
     "hide_input_from_viewers":false,
     "hide_output_from_viewers":false,
     "report_properties":{
      "rowId":"ItbP1ZSDQJ94doLYlMLhyW"
     }
    }
   }
  },
  {
   "cell_type":"markdown",
   "source":[
    "You can use different loss functions from `torch.nn`"
   ],
   "attachments":{
    
   },
   "metadata":{
    "datalore":{
     "node_id":"bYNfINnD1PjXA6oNECO3uw",
     "type":"MD",
     "hide_input_from_viewers":false,
     "hide_output_from_viewers":false,
     "report_properties":{
      "rowId":"ItbP1ZSDQJ94doLYlMLhyW"
     }
    }
   }
  },
  {
   "cell_type":"code",
   "source":[
    "# Example of the loss fun\n",
    "loss_function = torch.nn.CrossEntropyLoss()"
   ],
   "execution_count":38,
   "outputs":[
    
   ],
   "metadata":{
    "datalore":{
     "node_id":"dXA8eidvQlCS5MWRcbrsbq",
     "type":"CODE",
     "hide_input_from_viewers":false,
     "hide_output_from_viewers":false,
     "report_properties":{
      "rowId":"ItbP1ZSDQJ94doLYlMLhyW"
     }
    }
   }
  },
  {
   "cell_type":"markdown",
   "source":[
    "# Part 2. Feedforward Neural Network construction assignment "
   ],
   "attachments":{
    
   },
   "metadata":{
    "datalore":{
     "node_id":"uUHhgqaUmnFULwjutZ1xYz",
     "type":"MD",
     "hide_input_from_viewers":false,
     "hide_output_from_viewers":false,
     "report_properties":{
      "rowId":"ItbP1ZSDQJ94doLYlMLhyW"
     }
    }
   }
  },
  {
   "cell_type":"markdown",
   "source":[
    "Import all the necessary libraries"
   ],
   "attachments":{
    
   },
   "metadata":{
    "datalore":{
     "node_id":"hkPV1tkVGXigBxQUZmXwI3",
     "type":"MD",
     "hide_input_from_viewers":false,
     "hide_output_from_viewers":false,
     "report_properties":{
      "rowId":"ItbP1ZSDQJ94doLYlMLhyW"
     }
    }
   }
  },
  {
   "cell_type":"code",
   "source":[
    "!pip install mlxtend"
   ],
   "execution_count":1,
   "outputs":[
    {
     "name":"stdout",
     "text":[
      "Collecting mlxtend\r\n",
      "  Downloading mlxtend-0.21.0-py2.py3-none-any.whl (1.3 MB)\r\n",
      "\u001b[?25l\r\r     |▎                               | 10 kB 23.7 MB\/s eta 0:00:01\r     |▌                               | 20 kB 29.1 MB\/s eta 0:00:01\r     |▊                               | 30 kB 36.3 MB\/s eta 0:00:01\r     |█                               | 40 kB 37.9 MB\/s eta 0:00:01\r     |█▏                              | 51 kB 23.1 MB\/s eta 0:00:01\r     |█▌                              | 61 kB 24.9 MB\/s eta 0:00:01\r     |█▊                              | 71 kB 27.3 MB\/s eta 0:00:01\r     |██                              | 81 kB 29.2 MB\/s eta 0:00:01\r     |██▏                             | 92 kB 31.4 MB\/s eta 0:00:01\r     |██▍                             | 102 kB 29.7 MB\/s eta 0:00:01\r     |██▊                             | 112 kB 29.7 MB\/s eta 0:00:01\r     |███                             | 122 kB 29.7 MB\/s eta 0:00:01\r     |███▏                            | 133 kB 29.7 MB\/s eta 0:00:01\r     |███▍                            | 143 kB 29.7 MB\/s eta 0:00:01\r     |███▋                            | 153 kB 29.7 MB\/s eta 0:00:01\r     |███▉                            | 163 kB 29.7 MB\/s eta 0:00:01\r     |████▏                           | 174 kB 29.7 MB\/s eta 0:00:01\r     |████▍                           | 184 kB 29.7 MB\/s eta 0:00:01\r     |████▋                           | 194 kB 29.7 MB\/s eta 0:00:01\r     |████▉                           | 204 kB 29.7 MB\/s eta 0:00:01\r     |█████                           | 215 kB 29.7 MB\/s eta 0:00:01\r     |█████▍                          | 225 kB 29.7 MB\/s eta 0:00:01\r     |█████▋                          | 235 kB 29.7 MB\/s eta 0:00:01\r     |█████▉                          | 245 kB 29.7 MB\/s eta 0:00:01\r     |██████                          | 256 kB 29.7 MB\/s eta 0:00:01\r     |██████▎                         | 266 kB 29.7 MB\/s eta 0:00:01\r     |██████▋                         | 276 kB 29.7 MB\/s eta 0:00:01\r     |██████▉                         | 286 kB 29.7 MB\/s eta 0:00:01\r     |███████                         | 296 kB 29.7 MB\/s eta 0:00:01\r     |███████▎                        | 307 kB 29.7 MB\/s eta 0:00:01\r     |███████▌                        | 317 kB 29.7 MB\/s eta 0:00:01\r     |███████▊                        | 327 kB 29.7 MB\/s eta 0:00:01\r     |████████                        | 337 kB 29.7 MB\/s eta 0:00:01\r     |████████▎                       | 348 kB 29.7 MB\/s eta 0:00:01\r     |████████▌                       | 358 kB 29.7 MB\/s eta 0:00:01\r     |████████▊                       | 368 kB 29.7 MB\/s eta 0:00:01\r     |█████████                       | 378 kB 29.7 MB\/s eta 0:00:01\r     |█████████▎                      | 389 kB 29.7 MB\/s eta 0:00:01\r     |█████████▌                      | 399 kB 29.7 MB\/s eta 0:00:01\r     |█████████▊                      | 409 kB 29.7 MB\/s eta 0:00:01\r     |██████████                      | 419 kB 29.7 MB\/s eta 0:00:01\r     |██████████▏                     | 430 kB 29.7 MB\/s eta 0:00:01\r     |██████████▍                     | 440 kB 29.7 MB\/s eta 0:00:01\r     |██████████▊                     | 450 kB 29.7 MB\/s eta 0:00:01\r     |███████████                     | 460 kB 29.7 MB\/s eta 0:00:01\r     |███████████▏                    | 471 kB 29.7 MB\/s eta 0:00:01\r     |███████████▍                    | 481 kB 29.7 MB\/s eta 0:00:01\r     |███████████▋                    | 491 kB 29.7 MB\/s eta 0:00:01\r     |████████████                    | 501 kB 29.7 MB\/s eta 0:00:01\r     |████████████▏                   | 512 kB 29.7 MB\/s eta 0:00:01\r     |████████████▍                   | 522 kB 29.7 MB\/s eta 0:00:01\r     |████████████▋                   | 532 kB 29.7 MB\/s eta 0:00:01\r     |████████████▉                   | 542 kB 29.7 MB\/s eta 0:00:01\r     |█████████████▏                  | 552 kB 29.7 MB\/s eta 0:00:01\r     |█████████████▍                  | 563 kB 29.7 MB\/s eta 0:00:01\r     |█████████████▋                  | 573 kB 29.7 MB\/s eta 0:00:01\r     |█████████████▉                  | 583 kB 29.7 MB\/s eta 0:00:01\r     |██████████████                  | 593 kB 29.7 MB\/s eta 0:00:01\r     |██████████████▎                 | 604 kB 29.7 MB\/s eta 0:00:01\r     |██████████████▋                 | 614 kB 29.7 MB\/s eta 0:00:01\r     |██████████████▉                 | 624 kB 29.7 MB\/s eta 0:00:01\r     |███████████████                 | 634 kB 29.7 MB\/s eta 0:00:01\r     |███████████████▎                | 645 kB 29.7 MB\/s eta 0:00:01\r     |███████████████▌                | 655 kB 29.7 MB\/s eta 0:00:01\r     |███████████████▉                | 665 kB 29.7 MB\/s eta 0:00:01\r     |████████████████                | 675 kB 29.7 MB\/s eta 0:00:01\r     |████████████████▎               | 686 kB 29.7 MB\/s eta 0:00:01\r     |████████████████▌               | 696 kB 29.7 MB\/s eta 0:00:01\r     |████████████████▊               | 706 kB 29.7 MB\/s eta 0:00:01\r     |█████████████████               | 716 kB 29.7 MB\/s eta 0:00:01\r     |█████████████████▎              | 727 kB 29.7 MB\/s eta 0:00:01\r     |█████████████████▌              | 737 kB 29.7 MB\/s eta 0:00:01\r     |█████████████████▊              | 747 kB 29.7 MB\/s eta 0:00:01\r     |██████████████████              | 757 kB 29.7 MB\/s eta 0:00:01\r     |██████████████████▏             | 768 kB 29.7 MB\/s eta 0:00:01\r     |██████████████████▌             | 778 kB 29.7 MB\/s eta 0:00:01\r     |██████████████████▊             | 788 kB 29.7 MB\/s eta 0:00:01\r     |███████████████████             | 798 kB 29.7 MB\/s eta 0:00:01\r     |███████████████████▏            | 808 kB 29.7 MB\/s eta 0:00:01\r     |███████████████████▍            | 819 kB 29.7 MB\/s eta 0:00:01\r     |███████████████████▊            | 829 kB 29.7 MB\/s eta 0:00:01\r     |████████████████████            | 839 kB 29.7 MB\/s eta 0:00:01\r     |████████████████████▏           | 849 kB 29.7 MB\/s eta 0:00:01\r     |████████████████████▍           | 860 kB 29.7 MB\/s eta 0:00:01\r     |████████████████████▋           | 870 kB 29.7 MB\/s eta 0:00:01\r     |████████████████████▉           | 880 kB 29.7 MB\/s eta 0:00:01\r     |█████████████████████▏          | 890 kB 29.7 MB\/s eta 0:00:01\r     |█████████████████████▍          | 901 kB 29.7 MB\/s eta 0:00:01\r     |█████████████████████▋          | 911 kB 29.7 MB\/s eta 0:00:01\r     |█████████████████████▉          | 921 kB 29.7 MB\/s eta 0:00:01\r     |██████████████████████          | 931 kB 29.7 MB\/s eta 0:00:01\r     |██████████████████████▍         | 942 kB 29.7 MB\/s eta 0:00:01\r     |██████████████████████▋         | 952 kB 29.7 MB\/s eta 0:00:01\r     |██████████████████████▉         | 962 kB 29.7 MB\/s eta 0:00:01\r     |███████████████████████         | 972 kB 29.7 MB\/s eta 0:00:01\r     |███████████████████████▎        | 983 kB 29.7 MB\/s eta 0:00:01\r     |███████████████████████▌        | 993 kB 29.7 MB\/s eta 0:00:01\r     |███████████████████████▉        | 1.0 MB 29.7 MB\/s eta 0:00:01\r     |████████████████████████        | 1.0 MB 29.7 MB\/s eta 0:00:01\r     |████████████████████████▎       | 1.0 MB 29.7 MB\/s eta 0:00:01\r     |████████████████████████▌       | 1.0 MB 29.7 MB\/s eta 0:00:01\r     |████████████████████████▊       | 1.0 MB 29.7 MB\/s eta 0:00:01\r     |█████████████████████████       | 1.1 MB 29.7 MB\/s eta 0:00:01\r     |█████████████████████████▎      | 1.1 MB 29.7 MB\/s eta 0:00:01\r     |█████████████████████████▌      | 1.1 MB 29.7 MB\/s eta 0:00:01\r     |█████████████████████████▊      | 1.1 MB 29.7 MB\/s eta 0:00:01\r     |██████████████████████████      | 1.1 MB 29.7 MB\/s eta 0:00:01\r     |██████████████████████████▎     | 1.1 MB 29.7 MB\/s eta 0:00:01\r     |██████████████████████████▌     | 1.1 MB 29.7 MB\/s eta 0:00:01\r     |██████████████████████████▊     | 1.1 MB 29.7 MB\/s eta 0:00:01\r     |███████████████████████████     | 1.1 MB 29.7 MB\/s eta 0:00:01\r     |███████████████████████████▏    | 1.1 MB 29.7 MB\/s eta 0:00:01\r     |███████████████████████████▍    | 1.2 MB 29.7 MB\/s eta 0:00:01\r     |███████████████████████████▊    | 1.2 MB 29.7 MB\/s eta 0:00:01\r     |████████████████████████████    | 1.2 MB 29.7 MB\/s eta 0:00:01\r     |████████████████████████████▏   | 1.2 MB 29.7 MB\/s eta 0:00:01\r     |████████████████████████████▍   | 1.2 MB 29.7 MB\/s eta 0:00:01\r     |████████████████████████████▋   | 1.2 MB 29.7 MB\/s eta 0:00:01\r     |█████████████████████████████   | 1.2 MB 29.7 MB\/s eta 0:00:01\r     |█████████████████████████████▏  | 1.2 MB 29.7 MB\/s eta 0:00:01\r     |█████████████████████████████▍  | 1.2 MB 29.7 MB\/s eta 0:00:01\r     |█████████████████████████████▋  | 1.2 MB 29.7 MB\/s eta 0:00:01\r     |█████████████████████████████▉  | 1.3 MB 29.7 MB\/s eta 0:00:01\r     |██████████████████████████████  | 1.3 MB 29.7 MB\/s eta 0:00:01\r     |██████████████████████████████▍ | 1.3 MB 29.7 MB\/s eta 0:00:01\r     |██████████████████████████████▋ | 1.3 MB 29.7 MB\/s eta 0:00:01\r     |██████████████████████████████▉ | 1.3 MB 29.7 MB\/s eta 0:00:01\r     |███████████████████████████████ | 1.3 MB 29.7 MB\/s eta 0:00:01\r     |███████████████████████████████▎| 1.3 MB 29.7 MB\/s eta 0:00:01\r     |███████████████████████████████▋| 1.3 MB 29.7 MB\/s eta 0:00:01\r     |███████████████████████████████▉| 1.3 MB 29.7 MB\/s eta 0:00:01\r     |████████████████████████████████| 1.3 MB 29.7 MB\/s            \r\n",
      "\u001b[?25hRequirement already satisfied: pandas>=0.24.2 in \/opt\/python\/envs\/default\/lib\/python3.8\/site-packages (from mlxtend) (1.3.5)\r\n",
      "Collecting scikit-learn>=1.0.2\r\n",
      "  Downloading scikit_learn-1.2.1-cp38-cp38-manylinux_2_17_x86_64.manylinux2014_x86_64.whl (9.8 MB)\r\n",
      "\u001b[?25l\r\r     |                                | 10 kB 15.9 MB\/s eta 0:00:01\r     |                                | 20 kB 22.0 MB\/s eta 0:00:01\r     |                                | 30 kB 21.6 MB\/s eta 0:00:01\r     |▏                               | 40 kB 19.2 MB\/s eta 0:00:01\r     |▏                               | 51 kB 17.8 MB\/s eta 0:00:01\r     |▏                               | 61 kB 17.9 MB\/s eta 0:00:01\r     |▎                               | 71 kB 16.6 MB\/s eta 0:00:01\r     |▎                               | 81 kB 16.7 MB\/s eta 0:00:01\r     |▎                               | 92 kB 16.4 MB\/s eta 0:00:01\r     |▍                               | 102 kB 14.1 MB\/s eta 0:00:01\r     |▍                               | 112 kB 14.1 MB\/s eta 0:00:01\r     |▍                               | 122 kB 14.1 MB\/s eta 0:00:01\r     |▍                               | 133 kB 14.1 MB\/s eta 0:00:01\r     |▌                               | 143 kB 14.1 MB\/s eta 0:00:01\r     |▌                               | 153 kB 14.1 MB\/s eta 0:00:01\r     |▌                               | 163 kB 14.1 MB\/s eta 0:00:01\r     |▋                               | 174 kB 14.1 MB\/s eta 0:00:01\r     |▋                               | 184 kB 14.1 MB\/s eta 0:00:01\r     |▋                               | 194 kB 14.1 MB\/s eta 0:00:01\r     |▊                               | 204 kB 14.1 MB\/s eta 0:00:01\r     |▊                               | 215 kB 14.1 MB\/s eta 0:00:01\r     |▊                               | 225 kB 14.1 MB\/s eta 0:00:01\r     |▊                               | 235 kB 14.1 MB\/s eta 0:00:01\r     |▉                               | 245 kB 14.1 MB\/s eta 0:00:01\r     |▉                               | 256 kB 14.1 MB\/s eta 0:00:01\r     |▉                               | 266 kB 14.1 MB\/s eta 0:00:01\r     |█                               | 276 kB 14.1 MB\/s eta 0:00:01\r     |█                               | 286 kB 14.1 MB\/s eta 0:00:01\r     |█                               | 296 kB 14.1 MB\/s eta 0:00:01\r     |█                               | 307 kB 14.1 MB\/s eta 0:00:01\r     |█                               | 317 kB 14.1 MB\/s eta 0:00:01\r     |█                               | 327 kB 14.1 MB\/s eta 0:00:01\r     |█                               | 337 kB 14.1 MB\/s eta 0:00:01\r     |█▏                              | 348 kB 14.1 MB\/s eta 0:00:01\r     |█▏                              | 358 kB 14.1 MB\/s eta 0:00:01\r     |█▏                              | 368 kB 14.1 MB\/s eta 0:00:01\r     |█▎                              | 378 kB 14.1 MB\/s eta 0:00:01\r     |█▎                              | 389 kB 14.1 MB\/s eta 0:00:01\r     |█▎                              | 399 kB 14.1 MB\/s eta 0:00:01\r     |█▍                              | 409 kB 14.1 MB\/s eta 0:00:01\r     |█▍                              | 419 kB 14.1 MB\/s eta 0:00:01\r     |█▍                              | 430 kB 14.1 MB\/s eta 0:00:01\r     |█▍                              | 440 kB 14.1 MB\/s eta 0:00:01\r     |█▌                              | 450 kB 14.1 MB\/s eta 0:00:01\r     |█▌                              | 460 kB 14.1 MB\/s eta 0:00:01\r     |█▌                              | 471 kB 14.1 MB\/s eta 0:00:01\r     |█▋                              | 481 kB 14.1 MB\/s eta 0:00:01\r     |█▋                              | 491 kB 14.1 MB\/s eta 0:00:01\r     |█▋                              | 501 kB 14.1 MB\/s eta 0:00:01\r     |█▊                              | 512 kB 14.1 MB\/s eta 0:00:01\r     |█▊                              | 522 kB 14.1 MB\/s eta 0:00:01\r     |█▊                              | 532 kB 14.1 MB\/s eta 0:00:01\r     |█▉                              | 542 kB 14.1 MB\/s eta 0:00:01\r     |█▉                              | 552 kB 14.1 MB\/s eta 0:00:01\r     |█▉                              | 563 kB 14.1 MB\/s eta 0:00:01\r     |█▉                              | 573 kB 14.1 MB\/s eta 0:00:01\r     |██                              | 583 kB 14.1 MB\/s eta 0:00:01\r     |██                              | 593 kB 14.1 MB\/s eta 0:00:01\r     |██                              | 604 kB 14.1 MB\/s eta 0:00:01\r     |██                              | 614 kB 14.1 MB\/s eta 0:00:01\r     |██                              | 624 kB 14.1 MB\/s eta 0:00:01\r     |██                              | 634 kB 14.1 MB\/s eta 0:00:01\r     |██▏                             | 645 kB 14.1 MB\/s eta 0:00:01\r     |██▏                             | 655 kB 14.1 MB\/s eta 0:00:01\r     |██▏                             | 665 kB 14.1 MB\/s eta 0:00:01\r     |██▏                             | 675 kB 14.1 MB\/s eta 0:00:01\r     |██▎                             | 686 kB 14.1 MB\/s eta 0:00:01\r     |██▎                             | 696 kB 14.1 MB\/s eta 0:00:01\r     |██▎                             | 706 kB 14.1 MB\/s eta 0:00:01\r     |██▍                             | 716 kB 14.1 MB\/s eta 0:00:01\r     |██▍                             | 727 kB 14.1 MB\/s eta 0:00:01\r     |██▍                             | 737 kB 14.1 MB\/s eta 0:00:01\r     |██▌                             | 747 kB 14.1 MB\/s eta 0:00:01\r     |██▌                             | 757 kB 14.1 MB\/s eta 0:00:01\r     |██▌                             | 768 kB 14.1 MB\/s eta 0:00:01\r     |██▌                             | 778 kB 14.1 MB\/s eta 0:00:01\r     |██▋                             | 788 kB 14.1 MB\/s eta 0:00:01\r     |██▋                             | 798 kB 14.1 MB\/s eta 0:00:01\r     |██▋                             | 808 kB 14.1 MB\/s eta 0:00:01\r     |██▊                             | 819 kB 14.1 MB\/s eta 0:00:01\r     |██▊                             | 829 kB 14.1 MB\/s eta 0:00:01\r     |██▊                             | 839 kB 14.1 MB\/s eta 0:00:01\r     |██▉                             | 849 kB 14.1 MB\/s eta 0:00:01\r     |██▉                             | 860 kB 14.1 MB\/s eta 0:00:01\r     |██▉                             | 870 kB 14.1 MB\/s eta 0:00:01\r     |██▉                             | 880 kB 14.1 MB\/s eta 0:00:01\r     |███                             | 890 kB 14.1 MB\/s eta 0:00:01\r     |███                             | 901 kB 14.1 MB\/s eta 0:00:01\r     |███                             | 911 kB 14.1 MB\/s eta 0:00:01\r     |███                             | 921 kB 14.1 MB\/s eta 0:00:01\r     |███                             | 931 kB 14.1 MB\/s eta 0:00:01\r     |███                             | 942 kB 14.1 MB\/s eta 0:00:01\r     |███▏                            | 952 kB 14.1 MB\/s eta 0:00:01\r     |███▏                            | 962 kB 14.1 MB\/s eta 0:00:01\r     |███▏                            | 972 kB 14.1 MB\/s eta 0:00:01\r     |███▏                            | 983 kB 14.1 MB\/s eta 0:00:01\r     |███▎                            | 993 kB 14.1 MB\/s eta 0:00:01\r     |███▎                            | 1.0 MB 14.1 MB\/s eta 0:00:01\r     |███▎                            | 1.0 MB 14.1 MB\/s eta 0:00:01\r     |███▍                            | 1.0 MB 14.1 MB\/s eta 0:00:01\r     |███▍                            | 1.0 MB 14.1 MB\/s eta 0:00:01\r     |███▍                            | 1.0 MB 14.1 MB\/s eta 0:00:01\r     |███▌                            | 1.1 MB 14.1 MB\/s eta 0:00:01\r     |███▌                            | 1.1 MB 14.1 MB\/s eta 0:00:01\r     |███▌                            | 1.1 MB 14.1 MB\/s eta 0:00:01\r     |███▋                            | 1.1 MB 14.1 MB\/s eta 0:00:01\r     |███▋                            | 1.1 MB 14.1 MB\/s eta 0:00:01\r     |███▋                            | 1.1 MB 14.1 MB\/s eta 0:00:01\r     |███▋                            | 1.1 MB 14.1 MB\/s eta 0:00:01\r     |███▊                            | 1.1 MB 14.1 MB\/s eta 0:00:01\r     |███▊                            | 1.1 MB 14.1 MB\/s eta 0:00:01\r     |███▊                            | 1.1 MB 14.1 MB\/s eta 0:00:01\r     |███▉                            | 1.2 MB 14.1 MB\/s eta 0:00:01\r     |███▉                            | 1.2 MB 14.1 MB\/s eta 0:00:01\r     |███▉                            | 1.2 MB 14.1 MB\/s eta 0:00:01\r     |████                            | 1.2 MB 14.1 MB\/s eta 0:00:01\r     |████                            | 1.2 MB 14.1 MB\/s eta 0:00:01\r     |████                            | 1.2 MB 14.1 MB\/s eta 0:00:01\r     |████                            | 1.2 MB 14.1 MB\/s eta 0:00:01\r     |████                            | 1.2 MB 14.1 MB\/s eta 0:00:01\r     |████                            | 1.2 MB 14.1 MB\/s eta 0:00:01\r     |████                            | 1.2 MB 14.1 MB\/s eta 0:00:01\r     |████▏                           | 1.3 MB 14.1 MB\/s eta 0:00:01\r     |████▏                           | 1.3 MB 14.1 MB\/s eta 0:00:01\r     |████▏                           | 1.3 MB 14.1 MB\/s eta 0:00:01\r     |████▎                           | 1.3 MB 14.1 MB\/s eta 0:00:01\r     |████▎                           | 1.3 MB 14.1 MB\/s eta 0:00:01\r     |████▎                           | 1.3 MB 14.1 MB\/s eta 0:00:01\r     |████▎                           | 1.3 MB 14.1 MB\/s eta 0:00:01\r     |████▍                           | 1.3 MB 14.1 MB\/s eta 0:00:01\r     |████▍                           | 1.3 MB 14.1 MB\/s eta 0:00:01\r     |████▍                           | 1.4 MB 14.1 MB\/s eta 0:00:01\r     |████▌                           | 1.4 MB 14.1 MB\/s eta 0:00:01\r     |████▌                           | 1.4 MB 14.1 MB\/s eta 0:00:01\r     |████▌                           | 1.4 MB 14.1 MB\/s eta 0:00:01\r     |████▋                           | 1.4 MB 14.1 MB\/s eta 0:00:01\r     |████▋                           | 1.4 MB 14.1 MB\/s eta 0:00:01\r     |████▋                           | 1.4 MB 14.1 MB\/s eta 0:00:01\r     |████▋                           | 1.4 MB 14.1 MB\/s eta 0:00:01\r     |████▊                           | 1.4 MB 14.1 MB\/s eta 0:00:01\r     |████▊                           | 1.4 MB 14.1 MB\/s eta 0:00:01\r     |████▊                           | 1.5 MB 14.1 MB\/s eta 0:00:01\r     |████▉                           | 1.5 MB 14.1 MB\/s eta 0:00:01\r     |████▉                           | 1.5 MB 14.1 MB\/s eta 0:00:01\r     |████▉                           | 1.5 MB 14.1 MB\/s eta 0:00:01\r     |█████                           | 1.5 MB 14.1 MB\/s eta 0:00:01\r     |█████                           | 1.5 MB 14.1 MB\/s eta 0:00:01\r     |█████                           | 1.5 MB 14.1 MB\/s eta 0:00:01\r     |█████                           | 1.5 MB 14.1 MB\/s eta 0:00:01\r     |█████                           | 1.5 MB 14.1 MB\/s eta 0:00:01\r     |█████                           | 1.5 MB 14.1 MB\/s eta 0:00:01\r     |█████                           | 1.6 MB 14.1 MB\/s eta 0:00:01\r     |█████▏                          | 1.6 MB 14.1 MB\/s eta 0:00:01\r     |█████▏                          | 1.6 MB 14.1 MB\/s eta 0:00:01\r     |█████▏                          | 1.6 MB 14.1 MB\/s eta 0:00:01\r     |█████▎                          | 1.6 MB 14.1 MB\/s eta 0:00:01\r     |█████▎                          | 1.6 MB 14.1 MB\/s eta 0:00:01\r     |█████▎                          | 1.6 MB 14.1 MB\/s eta 0:00:01\r     |█████▍                          | 1.6 MB 14.1 MB\/s eta 0:00:01\r     |█████▍                          | 1.6 MB 14.1 MB\/s eta 0:00:01\r     |█████▍                          | 1.6 MB 14.1 MB\/s eta 0:00:01\r     |█████▍                          | 1.7 MB 14.1 MB\/s eta 0:00:01\r     |█████▌                          | 1.7 MB 14.1 MB\/s eta 0:00:01\r     |█████▌                          | 1.7 MB 14.1 MB\/s eta 0:00:01\r     |█████▌                          | 1.7 MB 14.1 MB\/s eta 0:00:01\r     |█████▋                          | 1.7 MB 14.1 MB\/s eta 0:00:01\r     |█████▋                          | 1.7 MB 14.1 MB\/s eta 0:00:01\r     |█████▋                          | 1.7 MB 14.1 MB\/s eta 0:00:01\r     |█████▊                          | 1.7 MB 14.1 MB\/s eta 0:00:01\r     |█████▊                          | 1.7 MB 14.1 MB\/s eta 0:00:01\r     |█████▊                          | 1.8 MB 14.1 MB\/s eta 0:00:01\r     |█████▊                          | 1.8 MB 14.1 MB\/s eta 0:00:01\r     |█████▉                          | 1.8 MB 14.1 MB\/s eta 0:00:01\r     |█████▉                          | 1.8 MB 14.1 MB\/s eta 0:00:01\r     |█████▉                          | 1.8 MB 14.1 MB\/s eta 0:00:01\r     |██████                          | 1.8 MB 14.1 MB\/s eta 0:00:01\r     |██████                          | 1.8 MB 14.1 MB\/s eta 0:00:01\r     |██████                          | 1.8 MB 14.1 MB\/s eta 0:00:01\r     |██████                          | 1.8 MB 14.1 MB\/s eta 0:00:01\r     |██████                          | 1.8 MB 14.1 MB\/s eta 0:00:01\r     |██████                          | 1.9 MB 14.1 MB\/s eta 0:00:01\r     |██████                          | 1.9 MB 14.1 MB\/s eta 0:00:01\r     |██████▏                         | 1.9 MB 14.1 MB\/s eta 0:00:01\r     |██████▏                         | 1.9 MB 14.1 MB\/s eta 0:00:01\r     |██████▏                         | 1.9 MB 14.1 MB\/s eta 0:00:01\r     |██████▎                         | 1.9 MB 14.1 MB\/s eta 0:00:01\r     |██████▎                         | 1.9 MB 14.1 MB\/s eta 0:00:01\r     |██████▎                         | 1.9 MB 14.1 MB\/s eta 0:00:01\r     |██████▍                         | 1.9 MB 14.1 MB\/s eta 0:00:01\r     |██████▍                         | 1.9 MB 14.1 MB\/s eta 0:00:01\r     |██████▍                         | 2.0 MB 14.1 MB\/s eta 0:00:01\r     |██████▍                         | 2.0 MB 14.1 MB\/s eta 0:00:01\r     |██████▌                         | 2.0 MB 14.1 MB\/s eta 0:00:01\r     |██████▌                         | 2.0 MB 14.1 MB\/s eta 0:00:01\r     |██████▌                         | 2.0 MB 14.1 MB\/s eta 0:00:01\r     |██████▋                         | 2.0 MB 14.1 MB\/s eta 0:00:01\r     |██████▋                         | 2.0 MB 14.1 MB\/s eta 0:00:01\r     |██████▋                         | 2.0 MB 14.1 MB\/s eta 0:00:01\r     |██████▊                         | 2.0 MB 14.1 MB\/s eta 0:00:01\r     |██████▊                         | 2.0 MB 14.1 MB\/s eta 0:00:01\r     |██████▊                         | 2.1 MB 14.1 MB\/s eta 0:00:01\r     |██████▉                         | 2.1 MB 14.1 MB\/s eta 0:00:01\r     |██████▉                         | 2.1 MB 14.1 MB\/s eta 0:00:01\r     |██████▉                         | 2.1 MB 14.1 MB\/s eta 0:00:01\r     |██████▉                         | 2.1 MB 14.1 MB\/s eta 0:00:01\r     |███████                         | 2.1 MB 14.1 MB\/s eta 0:00:01\r     |███████                         | 2.1 MB 14.1 MB\/s eta 0:00:01\r     |███████                         | 2.1 MB 14.1 MB\/s eta 0:00:01\r     |███████                         | 2.1 MB 14.1 MB\/s eta 0:00:01\r     |███████                         | 2.2 MB 14.1 MB\/s eta 0:00:01\r     |███████                         | 2.2 MB 14.1 MB\/s eta 0:00:01\r     |███████▏                        | 2.2 MB 14.1 MB\/s eta 0:00:01\r     |███████▏                        | 2.2 MB 14.1 MB\/s eta 0:00:01\r     |███████▏                        | 2.2 MB 14.1 MB\/s eta 0:00:01\r     |███████▏                        | 2.2 MB 14.1 MB\/s eta 0:00:01\r     |███████▎                        | 2.2 MB 14.1 MB\/s eta 0:00:01\r     |███████▎                        | 2.2 MB 14.1 MB\/s eta 0:00:01\r     |███████▎                        | 2.2 MB 14.1 MB\/s eta 0:00:01\r     |███████▍                        | 2.2 MB 14.1 MB\/s eta 0:00:01\r     |███████▍                        | 2.3 MB 14.1 MB\/s eta 0:00:01\r     |███████▍                        | 2.3 MB 14.1 MB\/s eta 0:00:01\r     |███████▌                        | 2.3 MB 14.1 MB\/s eta 0:00:01\r     |███████▌                        | 2.3 MB 14.1 MB\/s eta 0:00:01\r     |███████▌                        | 2.3 MB 14.1 MB\/s eta 0:00:01\r     |███████▌                        | 2.3 MB 14.1 MB\/s eta 0:00:01\r     |███████▋                        | 2.3 MB 14.1 MB\/s eta 0:00:01\r     |███████▋                        | 2.3 MB 14.1 MB\/s eta 0:00:01\r     |███████▋                        | 2.3 MB 14.1 MB\/s eta 0:00:01\r     |███████▊                        | 2.3 MB 14.1 MB\/s eta 0:00:01\r     |███████▊                        | 2.4 MB 14.1 MB\/s eta 0:00:01\r     |███████▊                        | 2.4 MB 14.1 MB\/s eta 0:00:01\r     |███████▉                        | 2.4 MB 14.1 MB\/s eta 0:00:01\r     |███████▉                        | 2.4 MB 14.1 MB\/s eta 0:00:01\r     |███████▉                        | 2.4 MB 14.1 MB\/s eta 0:00:01\r     |███████▉                        | 2.4 MB 14.1 MB\/s eta 0:00:01\r     |████████                        | 2.4 MB 14.1 MB\/s eta 0:00:01\r     |████████                        | 2.4 MB 14.1 MB\/s eta 0:00:01\r     |████████                        | 2.4 MB 14.1 MB\/s eta 0:00:01\r     |████████                        | 2.4 MB 14.1 MB\/s eta 0:00:01\r     |████████                        | 2.5 MB 14.1 MB\/s eta 0:00:01\r     |████████                        | 2.5 MB 14.1 MB\/s eta 0:00:01\r     |████████▏                       | 2.5 MB 14.1 MB\/s eta 0:00:01\r     |████████▏                       | 2.5 MB 14.1 MB\/s eta 0:00:01\r     |████████▏                       | 2.5 MB 14.1 MB\/s eta 0:00:01\r     |████████▎                       | 2.5 MB 14.1 MB\/s eta 0:00:01\r     |████████▎                       | 2.5 MB 14.1 MB\/s eta 0:00:01\r     |████████▎                       | 2.5 MB 14.1 MB\/s eta 0:00:01\r     |████████▎                       | 2.5 MB 14.1 MB\/s eta 0:00:01\r     |████████▍                       | 2.5 MB 14.1 MB\/s eta 0:00:01\r     |████████▍                       | 2.6 MB 14.1 MB\/s eta 0:00:01\r     |████████▍                       | 2.6 MB 14.1 MB\/s eta 0:00:01\r     |████████▌                       | 2.6 MB 14.1 MB\/s eta 0:00:01\r     |████████▌                       | 2.6 MB 14.1 MB\/s eta 0:00:01\r     |████████▌                       | 2.6 MB 14.1 MB\/s eta 0:00:01\r     |████████▋                       | 2.6 MB 14.1 MB\/s eta 0:00:01\r     |████████▋                       | 2.6 MB 14.1 MB\/s eta 0:00:01\r     |████████▋                       | 2.6 MB 14.1 MB\/s eta 0:00:01\r     |████████▋                       | 2.6 MB 14.1 MB\/s eta 0:00:01\r     |████████▊                       | 2.7 MB 14.1 MB\/s eta 0:00:01\r     |████████▊                       | 2.7 MB 14.1 MB\/s eta 0:00:01\r     |████████▊                       | 2.7 MB 14.1 MB\/s eta 0:00:01\r     |████████▉                       | 2.7 MB 14.1 MB\/s eta 0:00:01\r     |████████▉                       | 2.7 MB 14.1 MB\/s eta 0:00:01\r     |████████▉                       | 2.7 MB 14.1 MB\/s eta 0:00:01\r     |█████████                       | 2.7 MB 14.1 MB\/s eta 0:00:01\r     |█████████                       | 2.7 MB 14.1 MB\/s eta 0:00:01\r     |█████████                       | 2.7 MB 14.1 MB\/s eta 0:00:01\r     |█████████                       | 2.7 MB 14.1 MB\/s eta 0:00:01\r     |█████████                       | 2.8 MB 14.1 MB\/s eta 0:00:01\r     |█████████                       | 2.8 MB 14.1 MB\/s eta 0:00:01\r     |█████████                       | 2.8 MB 14.1 MB\/s eta 0:00:01\r     |█████████▏                      | 2.8 MB 14.1 MB\/s eta 0:00:01\r     |█████████▏                      | 2.8 MB 14.1 MB\/s eta 0:00:01\r     |█████████▏                      | 2.8 MB 14.1 MB\/s eta 0:00:01\r     |█████████▎                      | 2.8 MB 14.1 MB\/s eta 0:00:01\r     |█████████▎                      | 2.8 MB 14.1 MB\/s eta 0:00:01\r     |█████████▎                      | 2.8 MB 14.1 MB\/s eta 0:00:01\r     |█████████▎                      | 2.8 MB 14.1 MB\/s eta 0:00:01\r     |█████████▍                      | 2.9 MB 14.1 MB\/s eta 0:00:01\r     |█████████▍                      | 2.9 MB 14.1 MB\/s eta 0:00:01\r     |█████████▍                      | 2.9 MB 14.1 MB\/s eta 0:00:01\r     |█████████▌                      | 2.9 MB 14.1 MB\/s eta 0:00:01\r     |█████████▌                      | 2.9 MB 14.1 MB\/s eta 0:00:01\r     |█████████▌                      | 2.9 MB 14.1 MB\/s eta 0:00:01\r     |█████████▋                      | 2.9 MB 14.1 MB\/s eta 0:00:01\r     |█████████▋                      | 2.9 MB 14.1 MB\/s eta 0:00:01\r     |█████████▋                      | 2.9 MB 14.1 MB\/s eta 0:00:01\r     |█████████▋                      | 2.9 MB 14.1 MB\/s eta 0:00:01\r     |█████████▊                      | 3.0 MB 14.1 MB\/s eta 0:00:01\r     |█████████▊                      | 3.0 MB 14.1 MB\/s eta 0:00:01\r     |█████████▊                      | 3.0 MB 14.1 MB\/s eta 0:00:01\r     |█████████▉                      | 3.0 MB 14.1 MB\/s eta 0:00:01\r     |█████████▉                      | 3.0 MB 14.1 MB\/s eta 0:00:01\r     |█████████▉                      | 3.0 MB 14.1 MB\/s eta 0:00:01\r     |██████████                      | 3.0 MB 14.1 MB\/s eta 0:00:01\r     |██████████                      | 3.0 MB 14.1 MB\/s eta 0:00:01\r     |██████████                      | 3.0 MB 14.1 MB\/s eta 0:00:01\r     |██████████                      | 3.1 MB 14.1 MB\/s eta 0:00:01\r     |██████████                      | 3.1 MB 14.1 MB\/s eta 0:00:01\r     |██████████                      | 3.1 MB 14.1 MB\/s eta 0:00:01\r     |██████████                      | 3.1 MB 14.1 MB\/s eta 0:00:01\r     |██████████▏                     | 3.1 MB 14.1 MB\/s eta 0:00:01\r     |██████████▏                     | 3.1 MB 14.1 MB\/s eta 0:00:01\r     |██████████▏                     | 3.1 MB 14.1 MB\/s eta 0:00:01\r     |██████████▎                     | 3.1 MB 14.1 MB\/s eta 0:00:01\r     |██████████▎                     | 3.1 MB 14.1 MB\/s eta 0:00:01\r     |██████████▎                     | 3.1 MB 14.1 MB\/s eta 0:00:01\r     |██████████▍                     | 3.2 MB 14.1 MB\/s eta 0:00:01\r     |██████████▍                     | 3.2 MB 14.1 MB\/s eta 0:00:01\r     |██████████▍                     | 3.2 MB 14.1 MB\/s eta 0:00:01\r     |██████████▍                     | 3.2 MB 14.1 MB\/s eta 0:00:01\r     |██████████▌                     | 3.2 MB 14.1 MB\/s eta 0:00:01\r     |██████████▌                     | 3.2 MB 14.1 MB\/s eta 0:00:01\r     |██████████▌                     | 3.2 MB 14.1 MB\/s eta 0:00:01\r     |██████████▋                     | 3.2 MB 14.1 MB\/s eta 0:00:01\r     |██████████▋                     | 3.2 MB 14.1 MB\/s eta 0:00:01\r     |██████████▋                     | 3.2 MB 14.1 MB\/s eta 0:00:01\r     |██████████▊                     | 3.3 MB 14.1 MB\/s eta 0:00:01\r     |██████████▊                     | 3.3 MB 14.1 MB\/s eta 0:00:01\r     |██████████▊                     | 3.3 MB 14.1 MB\/s eta 0:00:01\r     |██████████▊                     | 3.3 MB 14.1 MB\/s eta 0:00:01\r     |██████████▉                     | 3.3 MB 14.1 MB\/s eta 0:00:01\r     |██████████▉                     | 3.3 MB 14.1 MB\/s eta 0:00:01\r     |██████████▉                     | 3.3 MB 14.1 MB\/s eta 0:00:01\r     |███████████                     | 3.3 MB 14.1 MB\/s eta 0:00:01\r     |███████████                     | 3.3 MB 14.1 MB\/s eta 0:00:01\r     |███████████                     | 3.3 MB 14.1 MB\/s eta 0:00:01\r     |███████████                     | 3.4 MB 14.1 MB\/s eta 0:00:01\r     |███████████                     | 3.4 MB 14.1 MB\/s eta 0:00:01\r     |███████████                     | 3.4 MB 14.1 MB\/s eta 0:00:01\r     |███████████                     | 3.4 MB 14.1 MB\/s eta 0:00:01\r     |███████████▏                    | 3.4 MB 14.1 MB\/s eta 0:00:01\r     |███████████▏                    | 3.4 MB 14.1 MB\/s eta 0:00:01\r     |███████████▏                    | 3.4 MB 14.1 MB\/s eta 0:00:01\r     |███████████▎                    | 3.4 MB 14.1 MB\/s eta 0:00:01\r     |███████████▎                    | 3.4 MB 14.1 MB\/s eta 0:00:01\r     |███████████▎                    | 3.5 MB 14.1 MB\/s eta 0:00:01\r     |███████████▍                    | 3.5 MB 14.1 MB\/s eta 0:00:01\r     |███████████▍                    | 3.5 MB 14.1 MB\/s eta 0:00:01\r     |███████████▍                    | 3.5 MB 14.1 MB\/s eta 0:00:01\r     |███████████▍                    | 3.5 MB 14.1 MB\/s eta 0:00:01\r     |███████████▌                    | 3.5 MB 14.1 MB\/s eta 0:00:01\r     |███████████▌                    | 3.5 MB 14.1 MB\/s eta 0:00:01\r     |███████████▌                    | 3.5 MB 14.1 MB\/s eta 0:00:01\r     |███████████▋                    | 3.5 MB 14.1 MB\/s eta 0:00:01\r     |███████████▋                    | 3.5 MB 14.1 MB\/s eta 0:00:01\r     |███████████▋                    | 3.6 MB 14.1 MB\/s eta 0:00:01\r     |███████████▊                    | 3.6 MB 14.1 MB\/s eta 0:00:01\r     |███████████▊                    | 3.6 MB 14.1 MB\/s eta 0:00:01\r     |███████████▊                    | 3.6 MB 14.1 MB\/s eta 0:00:01\r     |███████████▉                    | 3.6 MB 14.1 MB\/s eta 0:00:01\r     |███████████▉                    | 3.6 MB 14.1 MB\/s eta 0:00:01\r     |███████████▉                    | 3.6 MB 14.1 MB\/s eta 0:00:01\r     |███████████▉                    | 3.6 MB 14.1 MB\/s eta 0:00:01\r     |████████████                    | 3.6 MB 14.1 MB\/s eta 0:00:01\r     |████████████                    | 3.6 MB 14.1 MB\/s eta 0:00:01\r     |████████████                    | 3.7 MB 14.1 MB\/s eta 0:00:01\r     |████████████                    | 3.7 MB 14.1 MB\/s eta 0:00:01\r     |████████████                    | 3.7 MB 14.1 MB\/s eta 0:00:01\r     |████████████                    | 3.7 MB 14.1 MB\/s eta 0:00:01\r     |████████████▏                   | 3.7 MB 14.1 MB\/s eta 0:00:01\r     |████████████▏                   | 3.7 MB 14.1 MB\/s eta 0:00:01\r     |████████████▏                   | 3.7 MB 14.1 MB\/s eta 0:00:01\r     |████████████▏                   | 3.7 MB 14.1 MB\/s eta 0:00:01\r     |████████████▎                   | 3.7 MB 14.1 MB\/s eta 0:00:01\r     |████████████▎                   | 3.7 MB 14.1 MB\/s eta 0:00:01\r     |████████████▎                   | 3.8 MB 14.1 MB\/s eta 0:00:01\r     |████████████▍                   | 3.8 MB 14.1 MB\/s eta 0:00:01\r     |████████████▍                   | 3.8 MB 14.1 MB\/s eta 0:00:01\r     |████████████▍                   | 3.8 MB 14.1 MB\/s eta 0:00:01\r     |████████████▌                   | 3.8 MB 14.1 MB\/s eta 0:00:01\r     |████████████▌                   | 3.8 MB 14.1 MB\/s eta 0:00:01\r     |████████████▌                   | 3.8 MB 14.1 MB\/s eta 0:00:01\r     |████████████▌                   | 3.8 MB 14.1 MB\/s eta 0:00:01\r     |████████████▋                   | 3.8 MB 14.1 MB\/s eta 0:00:01\r     |████████████▋                   | 3.9 MB 14.1 MB\/s eta 0:00:01\r     |████████████▋                   | 3.9 MB 14.1 MB\/s eta 0:00:01\r     |████████████▊                   | 3.9 MB 14.1 MB\/s eta 0:00:01\r     |████████████▊                   | 3.9 MB 14.1 MB\/s eta 0:00:01\r     |████████████▊                   | 3.9 MB 14.1 MB\/s eta 0:00:01\r     |████████████▉                   | 3.9 MB 14.1 MB\/s eta 0:00:01\r     |████████████▉                   | 3.9 MB 14.1 MB\/s eta 0:00:01\r     |████████████▉                   | 3.9 MB 14.1 MB\/s eta 0:00:01\r     |████████████▉                   | 3.9 MB 14.1 MB\/s eta 0:00:01\r     |█████████████                   | 3.9 MB 14.1 MB\/s eta 0:00:01\r     |█████████████                   | 4.0 MB 14.1 MB\/s eta 0:00:01\r     |█████████████                   | 4.0 MB 14.1 MB\/s eta 0:00:01\r     |█████████████                   | 4.0 MB 14.1 MB\/s eta 0:00:01\r     |█████████████                   | 4.0 MB 14.1 MB\/s eta 0:00:01\r     |█████████████                   | 4.0 MB 14.1 MB\/s eta 0:00:01\r     |█████████████▏                  | 4.0 MB 14.1 MB\/s eta 0:00:01\r     |█████████████▏                  | 4.0 MB 14.1 MB\/s eta 0:00:01\r     |█████████████▏                  | 4.0 MB 14.1 MB\/s eta 0:00:01\r     |█████████████▎                  | 4.0 MB 14.1 MB\/s eta 0:00:01\r     |█████████████▎                  | 4.0 MB 14.1 MB\/s eta 0:00:01\r     |█████████████▎                  | 4.1 MB 14.1 MB\/s eta 0:00:01\r     |█████████████▎                  | 4.1 MB 14.1 MB\/s eta 0:00:01\r     |█████████████▍                  | 4.1 MB 14.1 MB\/s eta 0:00:01\r     |█████████████▍                  | 4.1 MB 14.1 MB\/s eta 0:00:01\r     |█████████████▍                  | 4.1 MB 14.1 MB\/s eta 0:00:01\r     |█████████████▌                  | 4.1 MB 14.1 MB\/s eta 0:00:01\r     |█████████████▌                  | 4.1 MB 14.1 MB\/s eta 0:00:01\r     |█████████████▌                  | 4.1 MB 14.1 MB\/s eta 0:00:01\r     |█████████████▋                  | 4.1 MB 14.1 MB\/s eta 0:00:01\r     |█████████████▋                  | 4.1 MB 14.1 MB\/s eta 0:00:01\r     |█████████████▋                  | 4.2 MB 14.1 MB\/s eta 0:00:01\r     |█████████████▋                  | 4.2 MB 14.1 MB\/s eta 0:00:01\r     |█████████████▊                  | 4.2 MB 14.1 MB\/s eta 0:00:01\r     |█████████████▊                  | 4.2 MB 14.1 MB\/s eta 0:00:01\r     |█████████████▊                  | 4.2 MB 14.1 MB\/s eta 0:00:01\r     |█████████████▉                  | 4.2 MB 14.1 MB\/s eta 0:00:01\r     |█████████████▉                  | 4.2 MB 14.1 MB\/s eta 0:00:01\r     |█████████████▉                  | 4.2 MB 14.1 MB\/s eta 0:00:01\r     |██████████████                  | 4.2 MB 14.1 MB\/s eta 0:00:01\r     |██████████████                  | 4.2 MB 14.1 MB\/s eta 0:00:01\r     |██████████████                  | 4.3 MB 14.1 MB\/s eta 0:00:01\r     |██████████████                  | 4.3 MB 14.1 MB\/s eta 0:00:01\r     |██████████████                  | 4.3 MB 14.1 MB\/s eta 0:00:01\r     |██████████████                  | 4.3 MB 14.1 MB\/s eta 0:00:01\r     |██████████████                  | 4.3 MB 14.1 MB\/s eta 0:00:01\r     |██████████████▏                 | 4.3 MB 14.1 MB\/s eta 0:00:01\r     |██████████████▏                 | 4.3 MB 14.1 MB\/s eta 0:00:01\r     |██████████████▏                 | 4.3 MB 14.1 MB\/s eta 0:00:01\r     |██████████████▎                 | 4.3 MB 14.1 MB\/s eta 0:00:01\r     |██████████████▎                 | 4.4 MB 14.1 MB\/s eta 0:00:01\r     |██████████████▎                 | 4.4 MB 14.1 MB\/s eta 0:00:01\r     |██████████████▎                 | 4.4 MB 14.1 MB\/s eta 0:00:01\r     |██████████████▍                 | 4.4 MB 14.1 MB\/s eta 0:00:01\r     |██████████████▍                 | 4.4 MB 14.1 MB\/s eta 0:00:01\r     |██████████████▍                 | 4.4 MB 14.1 MB\/s eta 0:00:01\r     |██████████████▌                 | 4.4 MB 14.1 MB\/s eta 0:00:01\r     |██████████████▌                 | 4.4 MB 14.1 MB\/s eta 0:00:01\r     |██████████████▌                 | 4.4 MB 14.1 MB\/s eta 0:00:01\r     |██████████████▋                 | 4.4 MB 14.1 MB\/s eta 0:00:01\r     |██████████████▋                 | 4.5 MB 14.1 MB\/s eta 0:00:01\r     |██████████████▋                 | 4.5 MB 14.1 MB\/s eta 0:00:01\r     |██████████████▋                 | 4.5 MB 14.1 MB\/s eta 0:00:01\r     |██████████████▊                 | 4.5 MB 14.1 MB\/s eta 0:00:01\r     |██████████████▊                 | 4.5 MB 14.1 MB\/s eta 0:00:01\r     |██████████████▊                 | 4.5 MB 14.1 MB\/s eta 0:00:01\r     |██████████████▉                 | 4.5 MB 14.1 MB\/s eta 0:00:01\r     |██████████████▉                 | 4.5 MB 14.1 MB\/s eta 0:00:01\r     |██████████████▉                 | 4.5 MB 14.1 MB\/s eta 0:00:01\r     |███████████████                 | 4.5 MB 14.1 MB\/s eta 0:00:01\r     |███████████████                 | 4.6 MB 14.1 MB\/s eta 0:00:01\r     |███████████████                 | 4.6 MB 14.1 MB\/s eta 0:00:01\r     |███████████████                 | 4.6 MB 14.1 MB\/s eta 0:00:01\r     |███████████████                 | 4.6 MB 14.1 MB\/s eta 0:00:01\r     |███████████████                 | 4.6 MB 14.1 MB\/s eta 0:00:01\r     |███████████████                 | 4.6 MB 14.1 MB\/s eta 0:00:01\r     |███████████████▏                | 4.6 MB 14.1 MB\/s eta 0:00:01\r     |███████████████▏                | 4.6 MB 14.1 MB\/s eta 0:00:01\r     |███████████████▏                | 4.6 MB 14.1 MB\/s eta 0:00:01\r     |███████████████▎                | 4.6 MB 14.1 MB\/s eta 0:00:01\r     |███████████████▎                | 4.7 MB 14.1 MB\/s eta 0:00:01\r     |███████████████▎                | 4.7 MB 14.1 MB\/s eta 0:00:01\r     |███████████████▍                | 4.7 MB 14.1 MB\/s eta 0:00:01\r     |███████████████▍                | 4.7 MB 14.1 MB\/s eta 0:00:01\r     |███████████████▍                | 4.7 MB 14.1 MB\/s eta 0:00:01\r     |███████████████▍                | 4.7 MB 14.1 MB\/s eta 0:00:01\r     |███████████████▌                | 4.7 MB 14.1 MB\/s eta 0:00:01\r     |███████████████▌                | 4.7 MB 14.1 MB\/s eta 0:00:01\r     |███████████████▌                | 4.7 MB 14.1 MB\/s eta 0:00:01\r     |███████████████▋                | 4.8 MB 14.1 MB\/s eta 0:00:01\r     |███████████████▋                | 4.8 MB 14.1 MB\/s eta 0:00:01\r     |███████████████▋                | 4.8 MB 14.1 MB\/s eta 0:00:01\r     |███████████████▊                | 4.8 MB 14.1 MB\/s eta 0:00:01\r     |███████████████▊                | 4.8 MB 14.1 MB\/s eta 0:00:01\r     |███████████████▊                | 4.8 MB 14.1 MB\/s eta 0:00:01\r     |███████████████▊                | 4.8 MB 14.1 MB\/s eta 0:00:01\r     |███████████████▉                | 4.8 MB 14.1 MB\/s eta 0:00:01\r     |███████████████▉                | 4.8 MB 14.1 MB\/s eta 0:00:01\r     |███████████████▉                | 4.8 MB 14.1 MB\/s eta 0:00:01\r     |████████████████                | 4.9 MB 14.1 MB\/s eta 0:00:01\r     |████████████████                | 4.9 MB 14.1 MB\/s eta 0:00:01\r     |████████████████                | 4.9 MB 14.1 MB\/s eta 0:00:01\r     |████████████████                | 4.9 MB 14.1 MB\/s eta 0:00:01\r     |████████████████                | 4.9 MB 14.1 MB\/s eta 0:00:01\r     |████████████████                | 4.9 MB 14.1 MB\/s eta 0:00:01\r     |████████████████                | 4.9 MB 14.1 MB\/s eta 0:00:01\r     |████████████████▏               | 4.9 MB 14.1 MB\/s eta 0:00:01\r     |████████████████▏               | 4.9 MB 14.1 MB\/s eta 0:00:01\r     |████████████████▏               | 4.9 MB 14.1 MB\/s eta 0:00:01\r     |████████████████▎               | 5.0 MB 14.1 MB\/s eta 0:00:01\r     |████████████████▎               | 5.0 MB 14.1 MB\/s eta 0:00:01\r     |████████████████▎               | 5.0 MB 14.1 MB\/s eta 0:00:01\r     |████████████████▍               | 5.0 MB 14.1 MB\/s eta 0:00:01\r     |████████████████▍               | 5.0 MB 14.1 MB\/s eta 0:00:01\r     |████████████████▍               | 5.0 MB 14.1 MB\/s eta 0:00:01\r     |████████████████▌               | 5.0 MB 14.1 MB\/s eta 0:00:01\r     |████████████████▌               | 5.0 MB 14.1 MB\/s eta 0:00:01\r     |████████████████▌               | 5.0 MB 14.1 MB\/s eta 0:00:01\r     |████████████████▌               | 5.0 MB 14.1 MB\/s eta 0:00:01\r     |████████████████▋               | 5.1 MB 14.1 MB\/s eta 0:00:01\r     |████████████████▋               | 5.1 MB 14.1 MB\/s eta 0:00:01\r     |████████████████▋               | 5.1 MB 14.1 MB\/s eta 0:00:01\r     |████████████████▊               | 5.1 MB 14.1 MB\/s eta 0:00:01\r     |████████████████▊               | 5.1 MB 14.1 MB\/s eta 0:00:01\r     |████████████████▊               | 5.1 MB 14.1 MB\/s eta 0:00:01\r     |████████████████▉               | 5.1 MB 14.1 MB\/s eta 0:00:01\r     |████████████████▉               | 5.1 MB 14.1 MB\/s eta 0:00:01\r     |████████████████▉               | 5.1 MB 14.1 MB\/s eta 0:00:01\r     |████████████████▉               | 5.2 MB 14.1 MB\/s eta 0:00:01\r     |█████████████████               | 5.2 MB 14.1 MB\/s eta 0:00:01\r     |█████████████████               | 5.2 MB 14.1 MB\/s eta 0:00:01\r     |█████████████████               | 5.2 MB 14.1 MB\/s eta 0:00:01\r     |█████████████████               | 5.2 MB 14.1 MB\/s eta 0:00:01\r     |█████████████████               | 5.2 MB 14.1 MB\/s eta 0:00:01\r     |█████████████████               | 5.2 MB 14.1 MB\/s eta 0:00:01\r     |█████████████████▏              | 5.2 MB 14.1 MB\/s eta 0:00:01\r     |█████████████████▏              | 5.2 MB 14.1 MB\/s eta 0:00:01\r     |█████████████████▏              | 5.2 MB 14.1 MB\/s eta 0:00:01\r     |█████████████████▏              | 5.3 MB 14.1 MB\/s eta 0:00:01\r     |█████████████████▎              | 5.3 MB 14.1 MB\/s eta 0:00:01\r     |█████████████████▎              | 5.3 MB 14.1 MB\/s eta 0:00:01\r     |█████████████████▎              | 5.3 MB 14.1 MB\/s eta 0:00:01\r     |█████████████████▍              | 5.3 MB 14.1 MB\/s eta 0:00:01\r     |█████████████████▍              | 5.3 MB 14.1 MB\/s eta 0:00:01\r     |█████████████████▍              | 5.3 MB 14.1 MB\/s eta 0:00:01\r     |█████████████████▌              | 5.3 MB 14.1 MB\/s eta 0:00:01\r     |█████████████████▌              | 5.3 MB 14.1 MB\/s eta 0:00:01\r     |█████████████████▌              | 5.3 MB 14.1 MB\/s eta 0:00:01\r     |█████████████████▌              | 5.4 MB 14.1 MB\/s eta 0:00:01\r     |█████████████████▋              | 5.4 MB 14.1 MB\/s eta 0:00:01\r     |█████████████████▋              | 5.4 MB 14.1 MB\/s eta 0:00:01\r     |█████████████████▋              | 5.4 MB 14.1 MB\/s eta 0:00:01\r     |█████████████████▊              | 5.4 MB 14.1 MB\/s eta 0:00:01\r     |█████████████████▊              | 5.4 MB 14.1 MB\/s eta 0:00:01\r     |█████████████████▊              | 5.4 MB 14.1 MB\/s eta 0:00:01\r     |█████████████████▉              | 5.4 MB 14.1 MB\/s eta 0:00:01\r     |█████████████████▉              | 5.4 MB 14.1 MB\/s eta 0:00:01\r     |█████████████████▉              | 5.4 MB 14.1 MB\/s eta 0:00:01\r     |█████████████████▉              | 5.5 MB 14.1 MB\/s eta 0:00:01\r     |██████████████████              | 5.5 MB 14.1 MB\/s eta 0:00:01\r     |██████████████████              | 5.5 MB 14.1 MB\/s eta 0:00:01\r     |██████████████████              | 5.5 MB 14.1 MB\/s eta 0:00:01\r     |██████████████████              | 5.5 MB 14.1 MB\/s eta 0:00:01\r     |██████████████████              | 5.5 MB 14.1 MB\/s eta 0:00:01\r     |██████████████████              | 5.5 MB 14.1 MB\/s eta 0:00:01\r     |██████████████████▏             | 5.5 MB 14.1 MB\/s eta 0:00:01\r     |██████████████████▏             | 5.5 MB 14.1 MB\/s eta 0:00:01\r     |██████████████████▏             | 5.6 MB 14.1 MB\/s eta 0:00:01\r     |██████████████████▎             | 5.6 MB 14.1 MB\/s eta 0:00:01\r     |██████████████████▎             | 5.6 MB 14.1 MB\/s eta 0:00:01\r     |██████████████████▎             | 5.6 MB 14.1 MB\/s eta 0:00:01\r     |██████████████████▎             | 5.6 MB 14.1 MB\/s eta 0:00:01\r     |██████████████████▍             | 5.6 MB 14.1 MB\/s eta 0:00:01\r     |██████████████████▍             | 5.6 MB 14.1 MB\/s eta 0:00:01\r     |██████████████████▍             | 5.6 MB 14.1 MB\/s eta 0:00:01\r     |██████████████████▌             | 5.6 MB 14.1 MB\/s eta 0:00:01\r     |██████████████████▌             | 5.6 MB 14.1 MB\/s eta 0:00:01\r     |██████████████████▌             | 5.7 MB 14.1 MB\/s eta 0:00:01\r     |██████████████████▋             | 5.7 MB 14.1 MB\/s eta 0:00:01\r     |██████████████████▋             | 5.7 MB 14.1 MB\/s eta 0:00:01\r     |██████████████████▋             | 5.7 MB 14.1 MB\/s eta 0:00:01\r     |██████████████████▋             | 5.7 MB 14.1 MB\/s eta 0:00:01\r     |██████████████████▊             | 5.7 MB 14.1 MB\/s eta 0:00:01\r     |██████████████████▊             | 5.7 MB 14.1 MB\/s eta 0:00:01\r     |██████████████████▊             | 5.7 MB 14.1 MB\/s eta 0:00:01\r     |██████████████████▉             | 5.7 MB 14.1 MB\/s eta 0:00:01\r     |██████████████████▉             | 5.7 MB 14.1 MB\/s eta 0:00:01\r     |██████████████████▉             | 5.8 MB 14.1 MB\/s eta 0:00:01\r     |███████████████████             | 5.8 MB 14.1 MB\/s eta 0:00:01\r     |███████████████████             | 5.8 MB 14.1 MB\/s eta 0:00:01\r     |███████████████████             | 5.8 MB 14.1 MB\/s eta 0:00:01\r     |███████████████████             | 5.8 MB 14.1 MB\/s eta 0:00:01\r     |███████████████████             | 5.8 MB 14.1 MB\/s eta 0:00:01\r     |███████████████████             | 5.8 MB 14.1 MB\/s eta 0:00:01\r     |███████████████████             | 5.8 MB 14.1 MB\/s eta 0:00:01\r     |███████████████████▏            | 5.8 MB 14.1 MB\/s eta 0:00:01\r     |███████████████████▏            | 5.8 MB 14.1 MB\/s eta 0:00:01\r     |███████████████████▏            | 5.9 MB 14.1 MB\/s eta 0:00:01\r     |███████████████████▎            | 5.9 MB 14.1 MB\/s eta 0:00:01\r     |███████████████████▎            | 5.9 MB 14.1 MB\/s eta 0:00:01\r     |███████████████████▎            | 5.9 MB 14.1 MB\/s eta 0:00:01\r     |███████████████████▎            | 5.9 MB 14.1 MB\/s eta 0:00:01\r     |███████████████████▍            | 5.9 MB 14.1 MB\/s eta 0:00:01\r     |███████████████████▍            | 5.9 MB 14.1 MB\/s eta 0:00:01\r     |███████████████████▍            | 5.9 MB 14.1 MB\/s eta 0:00:01\r     |███████████████████▌            | 5.9 MB 14.1 MB\/s eta 0:00:01\r     |███████████████████▌            | 5.9 MB 14.1 MB\/s eta 0:00:01\r     |███████████████████▌            | 6.0 MB 14.1 MB\/s eta 0:00:01\r     |███████████████████▋            | 6.0 MB 14.1 MB\/s eta 0:00:01\r     |███████████████████▋            | 6.0 MB 14.1 MB\/s eta 0:00:01\r     |███████████████████▋            | 6.0 MB 14.1 MB\/s eta 0:00:01\r     |███████████████████▋            | 6.0 MB 14.1 MB\/s eta 0:00:01\r     |███████████████████▊            | 6.0 MB 14.1 MB\/s eta 0:00:01\r     |███████████████████▊            | 6.0 MB 14.1 MB\/s eta 0:00:01\r     |███████████████████▊            | 6.0 MB 14.1 MB\/s eta 0:00:01\r     |███████████████████▉            | 6.0 MB 14.1 MB\/s eta 0:00:01\r     |███████████████████▉            | 6.1 MB 14.1 MB\/s eta 0:00:01\r     |███████████████████▉            | 6.1 MB 14.1 MB\/s eta 0:00:01\r     |████████████████████            | 6.1 MB 14.1 MB\/s eta 0:00:01\r     |████████████████████            | 6.1 MB 14.1 MB\/s eta 0:00:01\r     |████████████████████            | 6.1 MB 14.1 MB\/s eta 0:00:01\r     |████████████████████            | 6.1 MB 14.1 MB\/s eta 0:00:01\r     |████████████████████            | 6.1 MB 14.1 MB\/s eta 0:00:01\r     |████████████████████            | 6.1 MB 14.1 MB\/s eta 0:00:01\r     |████████████████████            | 6.1 MB 14.1 MB\/s eta 0:00:01\r     |████████████████████▏           | 6.1 MB 14.1 MB\/s eta 0:00:01\r     |████████████████████▏           | 6.2 MB 14.1 MB\/s eta 0:00:01\r     |████████████████████▏           | 6.2 MB 14.1 MB\/s eta 0:00:01\r     |████████████████████▎           | 6.2 MB 14.1 MB\/s eta 0:00:01\r     |████████████████████▎           | 6.2 MB 14.1 MB\/s eta 0:00:01\r     |████████████████████▎           | 6.2 MB 14.1 MB\/s eta 0:00:01\r     |████████████████████▍           | 6.2 MB 14.1 MB\/s eta 0:00:01\r     |████████████████████▍           | 6.2 MB 14.1 MB\/s eta 0:00:01\r     |████████████████████▍           | 6.2 MB 14.1 MB\/s eta 0:00:01\r     |████████████████████▍           | 6.2 MB 14.1 MB\/s eta 0:00:01\r     |████████████████████▌           | 6.2 MB 14.1 MB\/s eta 0:00:01\r     |████████████████████▌           | 6.3 MB 14.1 MB\/s eta 0:00:01\r     |████████████████████▌           | 6.3 MB 14.1 MB\/s eta 0:00:01\r     |████████████████████▋           | 6.3 MB 14.1 MB\/s eta 0:00:01\r     |████████████████████▋           | 6.3 MB 14.1 MB\/s eta 0:00:01\r     |████████████████████▋           | 6.3 MB 14.1 MB\/s eta 0:00:01\r     |████████████████████▊           | 6.3 MB 14.1 MB\/s eta 0:00:01\r     |████████████████████▊           | 6.3 MB 14.1 MB\/s eta 0:00:01\r     |████████████████████▊           | 6.3 MB 14.1 MB\/s eta 0:00:01\r     |████████████████████▊           | 6.3 MB 14.1 MB\/s eta 0:00:01\r     |████████████████████▉           | 6.3 MB 14.1 MB\/s eta 0:00:01\r     |████████████████████▉           | 6.4 MB 14.1 MB\/s eta 0:00:01\r     |████████████████████▉           | 6.4 MB 14.1 MB\/s eta 0:00:01\r     |█████████████████████           | 6.4 MB 14.1 MB\/s eta 0:00:01\r     |█████████████████████           | 6.4 MB 14.1 MB\/s eta 0:00:01\r     |█████████████████████           | 6.4 MB 14.1 MB\/s eta 0:00:01\r     |█████████████████████           | 6.4 MB 14.1 MB\/s eta 0:00:01\r     |█████████████████████           | 6.4 MB 14.1 MB\/s eta 0:00:01\r     |█████████████████████           | 6.4 MB 14.1 MB\/s eta 0:00:01\r     |█████████████████████           | 6.4 MB 14.1 MB\/s eta 0:00:01\r     |█████████████████████▏          | 6.5 MB 14.1 MB\/s eta 0:00:01\r     |█████████████████████▏          | 6.5 MB 14.1 MB\/s eta 0:00:01\r     |█████████████████████▏          | 6.5 MB 14.1 MB\/s eta 0:00:01\r     |█████████████████████▎          | 6.5 MB 14.1 MB\/s eta 0:00:01\r     |█████████████████████▎          | 6.5 MB 14.1 MB\/s eta 0:00:01\r     |█████████████████████▎          | 6.5 MB 14.1 MB\/s eta 0:00:01\r     |█████████████████████▍          | 6.5 MB 14.1 MB\/s eta 0:00:01\r     |█████████████████████▍          | 6.5 MB 14.1 MB\/s eta 0:00:01\r     |█████████████████████▍          | 6.5 MB 14.1 MB\/s eta 0:00:01\r     |█████████████████████▌          | 6.5 MB 14.1 MB\/s eta 0:00:01\r     |█████████████████████▌          | 6.6 MB 14.1 MB\/s eta 0:00:01\r     |█████████████████████▌          | 6.6 MB 14.1 MB\/s eta 0:00:01\r     |█████████████████████▌          | 6.6 MB 14.1 MB\/s eta 0:00:01\r     |█████████████████████▋          | 6.6 MB 14.1 MB\/s eta 0:00:01\r     |█████████████████████▋          | 6.6 MB 14.1 MB\/s eta 0:00:01\r     |█████████████████████▋          | 6.6 MB 14.1 MB\/s eta 0:00:01\r     |█████████████████████▊          | 6.6 MB 14.1 MB\/s eta 0:00:01\r     |█████████████████████▊          | 6.6 MB 14.1 MB\/s eta 0:00:01\r     |█████████████████████▊          | 6.6 MB 14.1 MB\/s eta 0:00:01\r     |█████████████████████▉          | 6.6 MB 14.1 MB\/s eta 0:00:01\r     |█████████████████████▉          | 6.7 MB 14.1 MB\/s eta 0:00:01\r     |█████████████████████▉          | 6.7 MB 14.1 MB\/s eta 0:00:01\r     |█████████████████████▉          | 6.7 MB 14.1 MB\/s eta 0:00:01\r     |██████████████████████          | 6.7 MB 14.1 MB\/s eta 0:00:01\r     |██████████████████████          | 6.7 MB 14.1 MB\/s eta 0:00:01\r     |██████████████████████          | 6.7 MB 14.1 MB\/s eta 0:00:01\r     |██████████████████████          | 6.7 MB 14.1 MB\/s eta 0:00:01\r     |██████████████████████          | 6.7 MB 14.1 MB\/s eta 0:00:01\r     |██████████████████████          | 6.7 MB 14.1 MB\/s eta 0:00:01\r     |██████████████████████▏         | 6.7 MB 14.1 MB\/s eta 0:00:01\r     |██████████████████████▏         | 6.8 MB 14.1 MB\/s eta 0:00:01\r     |██████████████████████▏         | 6.8 MB 14.1 MB\/s eta 0:00:01\r     |██████████████████████▏         | 6.8 MB 14.1 MB\/s eta 0:00:01\r     |██████████████████████▎         | 6.8 MB 14.1 MB\/s eta 0:00:01\r     |██████████████████████▎         | 6.8 MB 14.1 MB\/s eta 0:00:01\r     |██████████████████████▎         | 6.8 MB 14.1 MB\/s eta 0:00:01\r     |██████████████████████▍         | 6.8 MB 14.1 MB\/s eta 0:00:01\r     |██████████████████████▍         | 6.8 MB 14.1 MB\/s eta 0:00:01\r     |██████████████████████▍         | 6.8 MB 14.1 MB\/s eta 0:00:01\r     |██████████████████████▌         | 6.9 MB 14.1 MB\/s eta 0:00:01\r     |██████████████████████▌         | 6.9 MB 14.1 MB\/s eta 0:00:01\r     |██████████████████████▌         | 6.9 MB 14.1 MB\/s eta 0:00:01\r     |██████████████████████▌         | 6.9 MB 14.1 MB\/s eta 0:00:01\r     |██████████████████████▋         | 6.9 MB 14.1 MB\/s eta 0:00:01\r     |██████████████████████▋         | 6.9 MB 14.1 MB\/s eta 0:00:01\r     |██████████████████████▋         | 6.9 MB 14.1 MB\/s eta 0:00:01\r     |██████████████████████▊         | 6.9 MB 14.1 MB\/s eta 0:00:01\r     |██████████████████████▊         | 6.9 MB 14.1 MB\/s eta 0:00:01\r     |██████████████████████▊         | 6.9 MB 14.1 MB\/s eta 0:00:01\r     |██████████████████████▉         | 7.0 MB 14.1 MB\/s eta 0:00:01\r     |██████████████████████▉         | 7.0 MB 14.1 MB\/s eta 0:00:01\r     |██████████████████████▉         | 7.0 MB 14.1 MB\/s eta 0:00:01\r     |██████████████████████▉         | 7.0 MB 14.1 MB\/s eta 0:00:01\r     |███████████████████████         | 7.0 MB 14.1 MB\/s eta 0:00:01\r     |███████████████████████         | 7.0 MB 14.1 MB\/s eta 0:00:01\r     |███████████████████████         | 7.0 MB 14.1 MB\/s eta 0:00:01\r     |███████████████████████         | 7.0 MB 14.1 MB\/s eta 0:00:01\r     |███████████████████████         | 7.0 MB 14.1 MB\/s eta 0:00:01\r     |███████████████████████         | 7.0 MB 14.1 MB\/s eta 0:00:01\r     |███████████████████████▏        | 7.1 MB 14.1 MB\/s eta 0:00:01\r     |███████████████████████▏        | 7.1 MB 14.1 MB\/s eta 0:00:01\r     |███████████████████████▏        | 7.1 MB 14.1 MB\/s eta 0:00:01\r     |███████████████████████▎        | 7.1 MB 14.1 MB\/s eta 0:00:01\r     |███████████████████████▎        | 7.1 MB 14.1 MB\/s eta 0:00:01\r     |███████████████████████▎        | 7.1 MB 14.1 MB\/s eta 0:00:01\r     |███████████████████████▎        | 7.1 MB 14.1 MB\/s eta 0:00:01\r     |███████████████████████▍        | 7.1 MB 14.1 MB\/s eta 0:00:01\r     |███████████████████████▍        | 7.1 MB 14.1 MB\/s eta 0:00:01\r     |███████████████████████▍        | 7.1 MB 14.1 MB\/s eta 0:00:01\r     |███████████████████████▌        | 7.2 MB 14.1 MB\/s eta 0:00:01\r     |███████████████████████▌        | 7.2 MB 14.1 MB\/s eta 0:00:01\r     |███████████████████████▌        | 7.2 MB 14.1 MB\/s eta 0:00:01\r     |███████████████████████▋        | 7.2 MB 14.1 MB\/s eta 0:00:01\r     |███████████████████████▋        | 7.2 MB 14.1 MB\/s eta 0:00:01\r     |███████████████████████▋        | 7.2 MB 14.1 MB\/s eta 0:00:01\r     |███████████████████████▋        | 7.2 MB 14.1 MB\/s eta 0:00:01\r     |███████████████████████▊        | 7.2 MB 14.1 MB\/s eta 0:00:01\r     |███████████████████████▊        | 7.2 MB 14.1 MB\/s eta 0:00:01\r     |███████████████████████▊        | 7.2 MB 14.1 MB\/s eta 0:00:01\r     |███████████████████████▉        | 7.3 MB 14.1 MB\/s eta 0:00:01\r     |███████████████████████▉        | 7.3 MB 14.1 MB\/s eta 0:00:01\r     |███████████████████████▉        | 7.3 MB 14.1 MB\/s eta 0:00:01\r     |████████████████████████        | 7.3 MB 14.1 MB\/s eta 0:00:01\r     |████████████████████████        | 7.3 MB 14.1 MB\/s eta 0:00:01\r     |████████████████████████        | 7.3 MB 14.1 MB\/s eta 0:00:01\r     |████████████████████████        | 7.3 MB 14.1 MB\/s eta 0:00:01\r     |████████████████████████        | 7.3 MB 14.1 MB\/s eta 0:00:01\r     |████████████████████████        | 7.3 MB 14.1 MB\/s eta 0:00:01\r     |████████████████████████        | 7.4 MB 14.1 MB\/s eta 0:00:01\r     |████████████████████████▏       | 7.4 MB 14.1 MB\/s eta 0:00:01\r     |████████████████████████▏       | 7.4 MB 14.1 MB\/s eta 0:00:01\r     |████████████████████████▏       | 7.4 MB 14.1 MB\/s eta 0:00:01\r     |████████████████████████▎       | 7.4 MB 14.1 MB\/s eta 0:00:01\r     |████████████████████████▎       | 7.4 MB 14.1 MB\/s eta 0:00:01\r     |████████████████████████▎       | 7.4 MB 14.1 MB\/s eta 0:00:01\r     |████████████████████████▎       | 7.4 MB 14.1 MB\/s eta 0:00:01\r     |████████████████████████▍       | 7.4 MB 14.1 MB\/s eta 0:00:01\r     |████████████████████████▍       | 7.4 MB 14.1 MB\/s eta 0:00:01\r     |████████████████████████▍       | 7.5 MB 14.1 MB\/s eta 0:00:01\r     |████████████████████████▌       | 7.5 MB 14.1 MB\/s eta 0:00:01\r     |████████████████████████▌       | 7.5 MB 14.1 MB\/s eta 0:00:01\r     |████████████████████████▌       | 7.5 MB 14.1 MB\/s eta 0:00:01\r     |████████████████████████▋       | 7.5 MB 14.1 MB\/s eta 0:00:01\r     |████████████████████████▋       | 7.5 MB 14.1 MB\/s eta 0:00:01\r     |████████████████████████▋       | 7.5 MB 14.1 MB\/s eta 0:00:01\r     |████████████████████████▊       | 7.5 MB 14.1 MB\/s eta 0:00:01\r     |████████████████████████▊       | 7.5 MB 14.1 MB\/s eta 0:00:01\r     |████████████████████████▊       | 7.5 MB 14.1 MB\/s eta 0:00:01\r     |████████████████████████▊       | 7.6 MB 14.1 MB\/s eta 0:00:01\r     |████████████████████████▉       | 7.6 MB 14.1 MB\/s eta 0:00:01\r     |████████████████████████▉       | 7.6 MB 14.1 MB\/s eta 0:00:01\r     |████████████████████████▉       | 7.6 MB 14.1 MB\/s eta 0:00:01\r     |█████████████████████████       | 7.6 MB 14.1 MB\/s eta 0:00:01\r     |█████████████████████████       | 7.6 MB 14.1 MB\/s eta 0:00:01\r     |█████████████████████████       | 7.6 MB 14.1 MB\/s eta 0:00:01\r     |█████████████████████████       | 7.6 MB 14.1 MB\/s eta 0:00:01\r     |█████████████████████████       | 7.6 MB 14.1 MB\/s eta 0:00:01\r     |█████████████████████████       | 7.6 MB 14.1 MB\/s eta 0:00:01\r     |█████████████████████████       | 7.7 MB 14.1 MB\/s eta 0:00:01\r     |█████████████████████████▏      | 7.7 MB 14.1 MB\/s eta 0:00:01\r     |█████████████████████████▏      | 7.7 MB 14.1 MB\/s eta 0:00:01\r     |█████████████████████████▏      | 7.7 MB 14.1 MB\/s eta 0:00:01\r     |█████████████████████████▎      | 7.7 MB 14.1 MB\/s eta 0:00:01\r     |█████████████████████████▎      | 7.7 MB 14.1 MB\/s eta 0:00:01\r     |█████████████████████████▎      | 7.7 MB 14.1 MB\/s eta 0:00:01\r     |█████████████████████████▍      | 7.7 MB 14.1 MB\/s eta 0:00:01\r     |█████████████████████████▍      | 7.7 MB 14.1 MB\/s eta 0:00:01\r     |█████████████████████████▍      | 7.8 MB 14.1 MB\/s eta 0:00:01\r     |█████████████████████████▍      | 7.8 MB 14.1 MB\/s eta 0:00:01\r     |█████████████████████████▌      | 7.8 MB 14.1 MB\/s eta 0:00:01\r     |█████████████████████████▌      | 7.8 MB 14.1 MB\/s eta 0:00:01\r     |█████████████████████████▌      | 7.8 MB 14.1 MB\/s eta 0:00:01\r     |█████████████████████████▋      | 7.8 MB 14.1 MB\/s eta 0:00:01\r     |█████████████████████████▋      | 7.8 MB 14.1 MB\/s eta 0:00:01\r     |█████████████████████████▋      | 7.8 MB 14.1 MB\/s eta 0:00:01\r     |█████████████████████████▊      | 7.8 MB 14.1 MB\/s eta 0:00:01\r     |█████████████████████████▊      | 7.8 MB 14.1 MB\/s eta 0:00:01\r     |█████████████████████████▊      | 7.9 MB 14.1 MB\/s eta 0:00:01\r     |█████████████████████████▊      | 7.9 MB 14.1 MB\/s eta 0:00:01\r     |█████████████████████████▉      | 7.9 MB 14.1 MB\/s eta 0:00:01\r     |█████████████████████████▉      | 7.9 MB 14.1 MB\/s eta 0:00:01\r     |█████████████████████████▉      | 7.9 MB 14.1 MB\/s eta 0:00:01\r     |██████████████████████████      | 7.9 MB 14.1 MB\/s eta 0:00:01\r     |██████████████████████████      | 7.9 MB 14.1 MB\/s eta 0:00:01\r     |██████████████████████████      | 7.9 MB 14.1 MB\/s eta 0:00:01\r     |██████████████████████████      | 7.9 MB 14.1 MB\/s eta 0:00:01\r     |██████████████████████████      | 7.9 MB 14.1 MB\/s eta 0:00:01\r     |██████████████████████████      | 8.0 MB 14.1 MB\/s eta 0:00:01\r     |██████████████████████████      | 8.0 MB 14.1 MB\/s eta 0:00:01\r     |██████████████████████████▏     | 8.0 MB 14.1 MB\/s eta 0:00:01\r     |██████████████████████████▏     | 8.0 MB 14.1 MB\/s eta 0:00:01\r     |██████████████████████████▏     | 8.0 MB 14.1 MB\/s eta 0:00:01\r     |██████████████████████████▎     | 8.0 MB 14.1 MB\/s eta 0:00:01\r     |██████████████████████████▎     | 8.0 MB 14.1 MB\/s eta 0:00:01\r     |██████████████████████████▎     | 8.0 MB 14.1 MB\/s eta 0:00:01\r     |██████████████████████████▍     | 8.0 MB 14.1 MB\/s eta 0:00:01\r     |██████████████████████████▍     | 8.0 MB 14.1 MB\/s eta 0:00:01\r     |██████████████████████████▍     | 8.1 MB 14.1 MB\/s eta 0:00:01\r     |██████████████████████████▌     | 8.1 MB 14.1 MB\/s eta 0:00:01\r     |██████████████████████████▌     | 8.1 MB 14.1 MB\/s eta 0:00:01\r     |██████████████████████████▌     | 8.1 MB 14.1 MB\/s eta 0:00:01\r     |██████████████████████████▌     | 8.1 MB 14.1 MB\/s eta 0:00:01\r     |██████████████████████████▋     | 8.1 MB 14.1 MB\/s eta 0:00:01\r     |██████████████████████████▋     | 8.1 MB 14.1 MB\/s eta 0:00:01\r     |██████████████████████████▋     | 8.1 MB 14.1 MB\/s eta 0:00:01\r     |██████████████████████████▊     | 8.1 MB 14.1 MB\/s eta 0:00:01\r     |██████████████████████████▊     | 8.2 MB 14.1 MB\/s eta 0:00:01\r     |██████████████████████████▊     | 8.2 MB 14.1 MB\/s eta 0:00:01\r     |██████████████████████████▉     | 8.2 MB 14.1 MB\/s eta 0:00:01\r     |██████████████████████████▉     | 8.2 MB 14.1 MB\/s eta 0:00:01\r     |██████████████████████████▉     | 8.2 MB 14.1 MB\/s eta 0:00:01\r     |██████████████████████████▉     | 8.2 MB 14.1 MB\/s eta 0:00:01\r     |███████████████████████████     | 8.2 MB 14.1 MB\/s eta 0:00:01\r     |███████████████████████████     | 8.2 MB 14.1 MB\/s eta 0:00:01\r     |███████████████████████████     | 8.2 MB 14.1 MB\/s eta 0:00:01\r     |███████████████████████████     | 8.2 MB 14.1 MB\/s eta 0:00:01\r     |███████████████████████████     | 8.3 MB 14.1 MB\/s eta 0:00:01\r     |███████████████████████████     | 8.3 MB 14.1 MB\/s eta 0:00:01\r     |███████████████████████████▏    | 8.3 MB 14.1 MB\/s eta 0:00:01\r     |███████████████████████████▏    | 8.3 MB 14.1 MB\/s eta 0:00:01\r     |███████████████████████████▏    | 8.3 MB 14.1 MB\/s eta 0:00:01\r     |███████████████████████████▏    | 8.3 MB 14.1 MB\/s eta 0:00:01\r     |███████████████████████████▎    | 8.3 MB 14.1 MB\/s eta 0:00:01\r     |███████████████████████████▎    | 8.3 MB 14.1 MB\/s eta 0:00:01\r     |███████████████████████████▎    | 8.3 MB 14.1 MB\/s eta 0:00:01\r     |███████████████████████████▍    | 8.3 MB 14.1 MB\/s eta 0:00:01\r     |███████████████████████████▍    | 8.4 MB 14.1 MB\/s eta 0:00:01\r     |███████████████████████████▍    | 8.4 MB 14.1 MB\/s eta 0:00:01\r     |███████████████████████████▌    | 8.4 MB 14.1 MB\/s eta 0:00:01\r     |███████████████████████████▌    | 8.4 MB 14.1 MB\/s eta 0:00:01\r     |███████████████████████████▌    | 8.4 MB 14.1 MB\/s eta 0:00:01\r     |███████████████████████████▌    | 8.4 MB 14.1 MB\/s eta 0:00:01\r     |███████████████████████████▋    | 8.4 MB 14.1 MB\/s eta 0:00:01\r     |███████████████████████████▋    | 8.4 MB 14.1 MB\/s eta 0:00:01\r     |███████████████████████████▋    | 8.4 MB 14.1 MB\/s eta 0:00:01\r     |███████████████████████████▊    | 8.4 MB 14.1 MB\/s eta 0:00:01\r     |███████████████████████████▊    | 8.5 MB 14.1 MB\/s eta 0:00:01\r     |███████████████████████████▊    | 8.5 MB 14.1 MB\/s eta 0:00:01\r     |███████████████████████████▉    | 8.5 MB 14.1 MB\/s eta 0:00:01\r     |███████████████████████████▉    | 8.5 MB 14.1 MB\/s eta 0:00:01\r     |███████████████████████████▉    | 8.5 MB 14.1 MB\/s eta 0:00:01\r     |███████████████████████████▉    | 8.5 MB 14.1 MB\/s eta 0:00:01\r     |████████████████████████████    | 8.5 MB 14.1 MB\/s eta 0:00:01\r     |████████████████████████████    | 8.5 MB 14.1 MB\/s eta 0:00:01\r     |████████████████████████████    | 8.5 MB 14.1 MB\/s eta 0:00:01\r     |████████████████████████████    | 8.6 MB 14.1 MB\/s eta 0:00:01\r     |████████████████████████████    | 8.6 MB 14.1 MB\/s eta 0:00:01\r     |████████████████████████████    | 8.6 MB 14.1 MB\/s eta 0:00:01\r     |████████████████████████████▏   | 8.6 MB 14.1 MB\/s eta 0:00:01\r     |████████████████████████████▏   | 8.6 MB 14.1 MB\/s eta 0:00:01\r     |████████████████████████████▏   | 8.6 MB 14.1 MB\/s eta 0:00:01\r     |████████████████████████████▎   | 8.6 MB 14.1 MB\/s eta 0:00:01\r     |████████████████████████████▎   | 8.6 MB 14.1 MB\/s eta 0:00:01\r     |████████████████████████████▎   | 8.6 MB 14.1 MB\/s eta 0:00:01\r     |████████████████████████████▎   | 8.6 MB 14.1 MB\/s eta 0:00:01\r     |████████████████████████████▍   | 8.7 MB 14.1 MB\/s eta 0:00:01\r     |████████████████████████████▍   | 8.7 MB 14.1 MB\/s eta 0:00:01\r     |████████████████████████████▍   | 8.7 MB 14.1 MB\/s eta 0:00:01\r     |████████████████████████████▌   | 8.7 MB 14.1 MB\/s eta 0:00:01\r     |████████████████████████████▌   | 8.7 MB 14.1 MB\/s eta 0:00:01\r     |████████████████████████████▌   | 8.7 MB 14.1 MB\/s eta 0:00:01\r     |████████████████████████████▋   | 8.7 MB 14.1 MB\/s eta 0:00:01\r     |████████████████████████████▋   | 8.7 MB 14.1 MB\/s eta 0:00:01\r     |████████████████████████████▋   | 8.7 MB 14.1 MB\/s eta 0:00:01\r     |████████████████████████████▋   | 8.7 MB 14.1 MB\/s eta 0:00:01\r     |████████████████████████████▊   | 8.8 MB 14.1 MB\/s eta 0:00:01\r     |████████████████████████████▊   | 8.8 MB 14.1 MB\/s eta 0:00:01\r     |████████████████████████████▊   | 8.8 MB 14.1 MB\/s eta 0:00:01\r     |████████████████████████████▉   | 8.8 MB 14.1 MB\/s eta 0:00:01\r     |████████████████████████████▉   | 8.8 MB 14.1 MB\/s eta 0:00:01\r     |████████████████████████████▉   | 8.8 MB 14.1 MB\/s eta 0:00:01\r     |█████████████████████████████   | 8.8 MB 14.1 MB\/s eta 0:00:01\r     |█████████████████████████████   | 8.8 MB 14.1 MB\/s eta 0:00:01\r     |█████████████████████████████   | 8.8 MB 14.1 MB\/s eta 0:00:01\r     |█████████████████████████████   | 8.8 MB 14.1 MB\/s eta 0:00:01\r     |█████████████████████████████   | 8.9 MB 14.1 MB\/s eta 0:00:01\r     |█████████████████████████████   | 8.9 MB 14.1 MB\/s eta 0:00:01\r     |█████████████████████████████   | 8.9 MB 14.1 MB\/s eta 0:00:01\r     |█████████████████████████████▏  | 8.9 MB 14.1 MB\/s eta 0:00:01\r     |█████████████████████████████▏  | 8.9 MB 14.1 MB\/s eta 0:00:01\r     |█████████████████████████████▏  | 8.9 MB 14.1 MB\/s eta 0:00:01\r     |█████████████████████████████▎  | 8.9 MB 14.1 MB\/s eta 0:00:01\r     |█████████████████████████████▎  | 8.9 MB 14.1 MB\/s eta 0:00:01\r     |█████████████████████████████▎  | 8.9 MB 14.1 MB\/s eta 0:00:01\r     |█████████████████████████████▎  | 8.9 MB 14.1 MB\/s eta 0:00:01\r     |█████████████████████████████▍  | 9.0 MB 14.1 MB\/s eta 0:00:01\r     |█████████████████████████████▍  | 9.0 MB 14.1 MB\/s eta 0:00:01\r     |█████████████████████████████▍  | 9.0 MB 14.1 MB\/s eta 0:00:01\r     |█████████████████████████████▌  | 9.0 MB 14.1 MB\/s eta 0:00:01\r     |█████████████████████████████▌  | 9.0 MB 14.1 MB\/s eta 0:00:01\r     |█████████████████████████████▌  | 9.0 MB 14.1 MB\/s eta 0:00:01\r     |█████████████████████████████▋  | 9.0 MB 14.1 MB\/s eta 0:00:01\r     |█████████████████████████████▋  | 9.0 MB 14.1 MB\/s eta 0:00:01\r     |█████████████████████████████▋  | 9.0 MB 14.1 MB\/s eta 0:00:01\r     |█████████████████████████████▊  | 9.1 MB 14.1 MB\/s eta 0:00:01\r     |█████████████████████████████▊  | 9.1 MB 14.1 MB\/s eta 0:00:01\r     |█████████████████████████████▊  | 9.1 MB 14.1 MB\/s eta 0:00:01\r     |█████████████████████████████▊  | 9.1 MB 14.1 MB\/s eta 0:00:01\r     |█████████████████████████████▉  | 9.1 MB 14.1 MB\/s eta 0:00:01\r     |█████████████████████████████▉  | 9.1 MB 14.1 MB\/s eta 0:00:01\r     |█████████████████████████████▉  | 9.1 MB 14.1 MB\/s eta 0:00:01\r     |██████████████████████████████  | 9.1 MB 14.1 MB\/s eta 0:00:01\r     |██████████████████████████████  | 9.1 MB 14.1 MB\/s eta 0:00:01\r     |██████████████████████████████  | 9.1 MB 14.1 MB\/s eta 0:00:01\r     |██████████████████████████████  | 9.2 MB 14.1 MB\/s eta 0:00:01\r     |██████████████████████████████  | 9.2 MB 14.1 MB\/s eta 0:00:01\r     |██████████████████████████████  | 9.2 MB 14.1 MB\/s eta 0:00:01\r     |██████████████████████████████  | 9.2 MB 14.1 MB\/s eta 0:00:01\r     |██████████████████████████████▏ | 9.2 MB 14.1 MB\/s eta 0:00:01\r     |██████████████████████████████▏ | 9.2 MB 14.1 MB\/s eta 0:00:01\r     |██████████████████████████████▏ | 9.2 MB 14.1 MB\/s eta 0:00:01\r     |██████████████████████████████▎ | 9.2 MB 14.1 MB\/s eta 0:00:01\r     |██████████████████████████████▎ | 9.2 MB 14.1 MB\/s eta 0:00:01\r     |██████████████████████████████▎ | 9.2 MB 14.1 MB\/s eta 0:00:01\r     |██████████████████████████████▍ | 9.3 MB 14.1 MB\/s eta 0:00:01\r     |██████████████████████████████▍ | 9.3 MB 14.1 MB\/s eta 0:00:01\r     |██████████████████████████████▍ | 9.3 MB 14.1 MB\/s eta 0:00:01\r     |██████████████████████████████▍ | 9.3 MB 14.1 MB\/s eta 0:00:01\r     |██████████████████████████████▌ | 9.3 MB 14.1 MB\/s eta 0:00:01\r     |██████████████████████████████▌ | 9.3 MB 14.1 MB\/s eta 0:00:01\r     |██████████████████████████████▌ | 9.3 MB 14.1 MB\/s eta 0:00:01\r     |██████████████████████████████▋ | 9.3 MB 14.1 MB\/s eta 0:00:01\r     |██████████████████████████████▋ | 9.3 MB 14.1 MB\/s eta 0:00:01\r     |██████████████████████████████▋ | 9.3 MB 14.1 MB\/s eta 0:00:01\r     |██████████████████████████████▊ | 9.4 MB 14.1 MB\/s eta 0:00:01\r     |██████████████████████████████▊ | 9.4 MB 14.1 MB\/s eta 0:00:01\r     |██████████████████████████████▊ | 9.4 MB 14.1 MB\/s eta 0:00:01\r     |██████████████████████████████▊ | 9.4 MB 14.1 MB\/s eta 0:00:01\r     |██████████████████████████████▉ | 9.4 MB 14.1 MB\/s eta 0:00:01\r     |██████████████████████████████▉ | 9.4 MB 14.1 MB\/s eta 0:00:01\r     |██████████████████████████████▉ | 9.4 MB 14.1 MB\/s eta 0:00:01\r     |███████████████████████████████ | 9.4 MB 14.1 MB\/s eta 0:00:01\r     |███████████████████████████████ | 9.4 MB 14.1 MB\/s eta 0:00:01\r     |███████████████████████████████ | 9.5 MB 14.1 MB\/s eta 0:00:01\r     |███████████████████████████████ | 9.5 MB 14.1 MB\/s eta 0:00:01\r     |███████████████████████████████ | 9.5 MB 14.1 MB\/s eta 0:00:01\r     |███████████████████████████████ | 9.5 MB 14.1 MB\/s eta 0:00:01\r     |███████████████████████████████ | 9.5 MB 14.1 MB\/s eta 0:00:01\r     |███████████████████████████████▏| 9.5 MB 14.1 MB\/s eta 0:00:01\r     |███████████████████████████████▏| 9.5 MB 14.1 MB\/s eta 0:00:01\r     |███████████████████████████████▏| 9.5 MB 14.1 MB\/s eta 0:00:01\r     |███████████████████████████████▎| 9.5 MB 14.1 MB\/s eta 0:00:01\r     |███████████████████████████████▎| 9.5 MB 14.1 MB\/s eta 0:00:01\r     |███████████████████████████████▎| 9.6 MB 14.1 MB\/s eta 0:00:01\r     |███████████████████████████████▍| 9.6 MB 14.1 MB\/s eta 0:00:01\r     |███████████████████████████████▍| 9.6 MB 14.1 MB\/s eta 0:00:01\r     |███████████████████████████████▍| 9.6 MB 14.1 MB\/s eta 0:00:01\r     |███████████████████████████████▌| 9.6 MB 14.1 MB\/s eta 0:00:01\r     |███████████████████████████████▌| 9.6 MB 14.1 MB\/s eta 0:00:01\r     |███████████████████████████████▌| 9.6 MB 14.1 MB\/s eta 0:00:01\r     |███████████████████████████████▌| 9.6 MB 14.1 MB\/s eta 0:00:01\r     |███████████████████████████████▋| 9.6 MB 14.1 MB\/s eta 0:00:01\r     |███████████████████████████████▋| 9.6 MB 14.1 MB\/s eta 0:00:01\r     |███████████████████████████████▋| 9.7 MB 14.1 MB\/s eta 0:00:01\r     |███████████████████████████████▊| 9.7 MB 14.1 MB\/s eta 0:00:01\r     |███████████████████████████████▊| 9.7 MB 14.1 MB\/s eta 0:00:01\r     |███████████████████████████████▊| 9.7 MB 14.1 MB\/s eta 0:00:01\r     |███████████████████████████████▉| 9.7 MB 14.1 MB\/s eta 0:00:01\r     |███████████████████████████████▉| 9.7 MB 14.1 MB\/s eta 0:00:01\r     |███████████████████████████████▉| 9.7 MB 14.1 MB\/s eta 0:00:01\r     |███████████████████████████████▉| 9.7 MB 14.1 MB\/s eta 0:00:01\r     |████████████████████████████████| 9.7 MB 14.1 MB\/s eta 0:00:01\r     |████████████████████████████████| 9.7 MB 14.1 MB\/s eta 0:00:01\r     |████████████████████████████████| 9.8 MB 14.1 MB\/s eta 0:00:01\r     |████████████████████████████████| 9.8 MB 14.1 MB\/s            \r\n",
      "\u001b[?25hRequirement already satisfied: setuptools in \/opt\/python\/envs\/default\/lib\/python3.8\/site-packages (from mlxtend) (67.0.0)\r\n",
      "Requirement already satisfied: numpy>=1.16.2 in \/opt\/python\/envs\/default\/lib\/python3.8\/site-packages (from mlxtend) (1.21.5)\r\n",
      "Requirement already satisfied: matplotlib>=3.0.0 in \/opt\/python\/envs\/default\/lib\/python3.8\/site-packages (from mlxtend) (3.5.1)\r\n",
      "Requirement already satisfied: joblib>=0.13.2 in \/opt\/python\/envs\/default\/lib\/python3.8\/site-packages (from mlxtend) (1.2.0)\r\n",
      "Requirement already satisfied: scipy>=1.2.1 in \/opt\/python\/envs\/default\/lib\/python3.8\/site-packages (from mlxtend) (1.7.3)\r\n",
      "Requirement already satisfied: python-dateutil>=2.7 in \/opt\/python\/envs\/default\/lib\/python3.8\/site-packages (from matplotlib>=3.0.0->mlxtend) (2.8.2)\r\n",
      "Requirement already satisfied: packaging>=20.0 in \/opt\/python\/envs\/default\/lib\/python3.8\/site-packages (from matplotlib>=3.0.0->mlxtend) (23.0)\r\n",
      "Requirement already satisfied: cycler>=0.10 in \/opt\/python\/envs\/default\/lib\/python3.8\/site-packages (from matplotlib>=3.0.0->mlxtend) (0.11.0)\r\n",
      "Requirement already satisfied: kiwisolver>=1.0.1 in \/opt\/python\/envs\/default\/lib\/python3.8\/site-packages (from matplotlib>=3.0.0->mlxtend) (1.4.4)\r\n",
      "Requirement already satisfied: fonttools>=4.22.0 in \/opt\/python\/envs\/default\/lib\/python3.8\/site-packages (from matplotlib>=3.0.0->mlxtend) (4.38.0)\r\n",
      "Requirement already satisfied: pillow>=6.2.0 in \/opt\/python\/envs\/default\/lib\/python3.8\/site-packages (from matplotlib>=3.0.0->mlxtend) (9.4.0)\r\n",
      "Requirement already satisfied: pyparsing>=2.2.1 in \/opt\/python\/envs\/default\/lib\/python3.8\/site-packages (from matplotlib>=3.0.0->mlxtend) (3.0.9)\r\n",
      "Requirement already satisfied: pytz>=2017.3 in \/opt\/python\/envs\/default\/lib\/python3.8\/site-packages (from pandas>=0.24.2->mlxtend) (2022.7.1)\r\n",
      "Requirement already satisfied: threadpoolctl>=2.0.0 in \/opt\/python\/envs\/default\/lib\/python3.8\/site-packages (from scikit-learn>=1.0.2->mlxtend) (3.1.0)\r\n",
      "Requirement already satisfied: six>=1.5 in \/opt\/python\/envs\/default\/lib\/python3.8\/site-packages (from python-dateutil>=2.7->matplotlib>=3.0.0->mlxtend) (1.16.0)\r\n",
      "Installing collected packages: scikit-learn, mlxtend\r\n",
      "  Attempting uninstall: scikit-learn\r\n",
      "    Found existing installation: scikit-learn 1.0.1\r\n",
      "    Uninstalling scikit-learn-1.0.1:\r\n",
      "      Successfully uninstalled scikit-learn-1.0.1\r\n",
      "Successfully installed mlxtend-0.21.0 scikit-learn-1.2.1\r\n",
      "\u001b[33mWARNING: You are using pip version 21.3.1; however, version 23.0 is available.\r\n",
      "You should consider upgrading via the '\/opt\/python\/envs\/default\/bin\/python -m pip install --upgrade pip' command.\u001b[0m\r\n"
     ],
     "output_type":"stream"
    }
   ],
   "metadata":{
    "datalore":{
     "node_id":"hqiYp6QAzoskfDKyC7WbEA",
     "type":"CODE",
     "hide_input_from_viewers":true,
     "hide_output_from_viewers":true
    }
   }
  },
  {
   "cell_type":"code",
   "source":[
    "import random\n",
    "\n",
    "import torch\n",
    "import torch.nn as nn\n",
    "import torch.optim as optim\n",
    "from torch.utils.data import Dataset, DataLoader\n",
    "\n",
    "import numpy as np\n",
    "\n",
    "import sklearn.datasets\n",
    "from sklearn.model_selection import train_test_split\n",
    "import sklearn.metrics as metrics\n",
    "\n",
    "from mlxtend.plotting import plot_decision_regions\n",
    "import matplotlib.pyplot as plt\n",
    "\n",
    "from tqdm.notebook import tqdm\n",
    "\n",
    "SEED = 0\n",
    "\n",
    "random.seed(SEED)\n",
    "np.random.seed(SEED)\n",
    "torch.manual_seed(SEED)\n",
    "torch.cuda.manual_seed(SEED)\n",
    "torch.backends.cudnn.deterministic = True\n",
    "\n",
    "device = ('cuda' if torch.cuda.is_available() else 'cpu')"
   ],
   "execution_count":2,
   "outputs":[
    
   ],
   "metadata":{
    "datalore":{
     "node_id":"YZPXg2OF7KkbO97i1hLx7w",
     "type":"CODE",
     "hide_input_from_viewers":false,
     "hide_output_from_viewers":false,
     "report_properties":{
      "rowId":"ItbP1ZSDQJ94doLYlMLhyW"
     }
    }
   }
  },
  {
   "cell_type":"markdown",
   "source":[
    "To use the `plot_decision_regions` we should additionally install the `mlxtend` package"
   ],
   "attachments":{
    
   },
   "metadata":{
    "datalore":{
     "node_id":"KKuYXlcAcHavW8KqqoCGQv",
     "type":"MD",
     "hide_input_from_viewers":false,
     "hide_output_from_viewers":false,
     "report_properties":{
      "rowId":"ItbP1ZSDQJ94doLYlMLhyW"
     }
    }
   }
  },
  {
   "cell_type":"code",
   "source":[
    "# !pip install mlxtend"
   ],
   "execution_count":3,
   "outputs":[
    
   ],
   "metadata":{
    "datalore":{
     "node_id":"mTyUM8ZyDF8P7vGm2GVzRg",
     "type":"CODE",
     "hide_input_from_viewers":false,
     "hide_output_from_viewers":false,
     "report_properties":{
      "rowId":"ItbP1ZSDQJ94doLYlMLhyW"
     }
    }
   }
  },
  {
   "cell_type":"markdown",
   "source":[
    "## Uploading dataset\n",
    "\n",
    "Let's upload the wine dataset from sklearn"
   ],
   "attachments":{
    
   },
   "metadata":{
    "datalore":{
     "node_id":"ZPEGio28VRbBF6o5pPMKH0",
     "type":"MD",
     "hide_input_from_viewers":false,
     "hide_output_from_viewers":false,
     "report_properties":{
      "rowId":"ItbP1ZSDQJ94doLYlMLhyW"
     }
    }
   }
  },
  {
   "cell_type":"code",
   "source":[
    "wine = sklearn.datasets.load_wine()\n",
    "wine.data.shape"
   ],
   "execution_count":3,
   "outputs":[
    {
     "data":{
      "text\/plain":[
       "(178, 13)"
      ]
     },
     "metadata":{
      
     },
     "output_type":"display_data"
    }
   ],
   "metadata":{
    "datalore":{
     "node_id":"jFjYsCPjkrbvD8wUS8vKgy",
     "type":"CODE",
     "hide_input_from_viewers":false,
     "hide_output_from_viewers":false,
     "report_properties":{
      "rowId":"ItbP1ZSDQJ94doLYlMLhyW"
     }
    }
   }
  },
  {
   "cell_type":"markdown",
   "source":[
    "Create class for the dataset. Inherit a class from Dataset"
   ],
   "attachments":{
    
   },
   "metadata":{
    "datalore":{
     "node_id":"vVCFRJLpDEjixjcfYa1HW7",
     "type":"MD",
     "hide_input_from_viewers":false,
     "hide_output_from_viewers":false,
     "report_properties":{
      "rowId":"ItbP1ZSDQJ94doLYlMLhyW"
     }
    }
   }
  },
  {
   "cell_type":"code",
   "source":[
    "# Fill the WineDataset class fields\n",
    "class WineDataset(Dataset):\n",
    "    def __init__(self, X, y):\n",
    "        ''' YOUR CODE HERE '''\n",
    "        self.X = torch.tensor(X, dtype=torch.float32)  # float32\n",
    "        self.y = torch.tensor(y, dtype=torch.int32)    # int32\n",
    "    \n",
    "    def __len__(self):\n",
    "        ''' YOUR CODE HERE '''\n",
    "        return len(self.y)\n",
    "    \n",
    "    def __getitem__(self, idx):\n",
    "        ''' YOUR CODE HERE '''\n",
    "        return self.X[idx], self.y[idx]"
   ],
   "execution_count":4,
   "outputs":[
    
   ],
   "metadata":{
    "datalore":{
     "node_id":"cBHmvquYq0JlYKjyfgiOHx",
     "type":"CODE",
     "hide_input_from_viewers":false,
     "hide_output_from_viewers":false,
     "report_properties":{
      "rowId":"ItbP1ZSDQJ94doLYlMLhyW"
     }
    }
   }
  },
  {
   "cell_type":"markdown",
   "source":[
    "Create train and test splits using `train_test_split` function with the following parameters:\n",
    "\n",
    "* size of test - 30%\n",
    "* using shuffle\n",
    "* using SEED constant for the random state\n",
    "\n",
    "Remember that use should use WineDataset class."
   ],
   "attachments":{
    
   },
   "metadata":{
    "datalore":{
     "node_id":"hciCdG4T11NTJf8LLkec6h",
     "type":"MD",
     "hide_input_from_viewers":false,
     "hide_output_from_viewers":false,
     "report_properties":{
      "rowId":"ItbP1ZSDQJ94doLYlMLhyW"
     }
    }
   }
  },
  {
   "cell_type":"code",
   "source":[
    "''' YOUR CODE HERE '''\n",
    "X_train, X_test, y_train, y_test = train_test_split(\n",
    "    wine.data,          # The data matrix\n",
    "    wine.target,        # The classification target\n",
    "    test_size=0.3,      # From the disdoc\n",
    "    shuffle=True,       # From the disdoc\n",
    "    random_state=SEED   # From the disdoc\n",
    ")\n",
    "\n",
    "train_dataset = WineDataset(X_train, y_train)  # instance of the Dataclass\n",
    "test_dataset = WineDataset(X_test, y_test)     # instance of the Dataclass"
   ],
   "execution_count":5,
   "outputs":[
    
   ],
   "metadata":{
    "datalore":{
     "node_id":"kDu1mvyjDypcMBtht4LWmU",
     "type":"CODE",
     "hide_input_from_viewers":false,
     "hide_output_from_viewers":false,
     "report_properties":{
      "rowId":"ItbP1ZSDQJ94doLYlMLhyW"
     }
    }
   }
  },
  {
   "cell_type":"code",
   "source":[
    "assert(len(train_dataset) == 124)\n",
    "assert(len(test_dataset) == 54)"
   ],
   "execution_count":6,
   "outputs":[
    
   ],
   "metadata":{
    "datalore":{
     "node_id":"y1TwOIQLe6AUzW4UWu0JrT",
     "type":"CODE",
     "hide_input_from_viewers":false,
     "hide_output_from_viewers":false,
     "report_properties":{
      "rowId":"ItbP1ZSDQJ94doLYlMLhyW"
     }
    }
   }
  },
  {
   "cell_type":"markdown",
   "source":[
    "## Creating Feedforward network\n",
    "\n",
    "Create the FNN with the following attributes:\n",
    "* 3 linear layers\n",
    "* activation functions on your choice (the most suitable for this kind of task)"
   ],
   "attachments":{
    
   },
   "metadata":{
    "datalore":{
     "node_id":"aZuiPCsPPoqqsFyRUgLgZc",
     "type":"MD",
     "hide_input_from_viewers":false,
     "hide_output_from_viewers":false,
     "report_properties":{
      "rowId":"ItbP1ZSDQJ94doLYlMLhyW"
     }
    }
   }
  },
  {
   "cell_type":"code",
   "source":[
    "''' YOUR CODE HERE '''\n",
    "INPUT_SIZE = 13\n",
    "OUTPUT_SIZE = 3\n",
    "\n",
    "class WineNet(nn.Module):\n",
    "    def __init__(self, n_hidden_neurons):\n",
    "        super().__init__()\n",
    "        \n",
    "        ''' YOUR CODE HERE '''\n",
    "        self.fc1 = torch.nn.Linear(in_features=INPUT_SIZE, out_features=n_hidden_neurons, dtype=torch.float32)\n",
    "        self.act1 = torch.nn.ReLU6()\n",
    "        \n",
    "        self.fc2 = torch.nn.Linear(in_features=n_hidden_neurons, out_features=n_hidden_neurons, dtype=torch.float32)\n",
    "        self.act2 = torch.nn.Tanh()\n",
    "        \n",
    "        self.fc3 = torch.nn.Linear(in_features=n_hidden_neurons, out_features=OUTPUT_SIZE, dtype=torch.float32)\n",
    "\n",
    "        \n",
    "    def forward(self, x):\n",
    "        ''' YOUR CODE HERE '''\n",
    "        x = self.fc1(x)\n",
    "        x = self.act1(x)\n",
    "        x = self.fc2(x)\n",
    "        x = self.act2(x)\n",
    "        x = self.fc3(x)\n",
    "        return x\n",
    "\n",
    "    # для использования в функции plot_decision_regions\n",
    "    def predict(self, x):\n",
    "        ''' PLEASE DO NOT CHANGE THE CODE OF THIS FUNCTION '''\n",
    "        x = torch.tensor(x, dtype=torch.float32).to(device)\n",
    "        with torch.no_grad():\n",
    "            x = self.forward(x)\n",
    "        x = x.cpu().argmax(dim=-1)\n",
    "        x = x.data.numpy()\n",
    "        return x"
   ],
   "execution_count":7,
   "outputs":[
    
   ],
   "metadata":{
    "datalore":{
     "node_id":"RKlCloYdKAEWwlY411smFX",
     "type":"CODE",
     "hide_input_from_viewers":false,
     "hide_output_from_viewers":false,
     "report_properties":{
      "rowId":"ItbP1ZSDQJ94doLYlMLhyW"
     }
    }
   }
  },
  {
   "cell_type":"code",
   "source":[
    "model = WineNet(200) # you can change parameters here\n",
    "model = model.to(device)"
   ],
   "execution_count":9,
   "outputs":[
    
   ],
   "metadata":{
    "datalore":{
     "node_id":"4mtwBdTwbcrii4kmFq4Y1n",
     "type":"CODE",
     "hide_input_from_viewers":false,
     "hide_output_from_viewers":false,
     "report_properties":{
      "rowId":"ItbP1ZSDQJ94doLYlMLhyW"
     }
    }
   }
  },
  {
   "cell_type":"markdown",
   "source":[
    "## Training FNN"
   ],
   "attachments":{
    
   },
   "metadata":{
    "datalore":{
     "node_id":"tWABBDMm6j9j03RM72MHNg",
     "type":"MD",
     "hide_input_from_viewers":false,
     "hide_output_from_viewers":false,
     "report_properties":{
      "rowId":"ItbP1ZSDQJ94doLYlMLhyW"
     }
    }
   }
  },
  {
   "cell_type":"code",
   "source":[
    "# Initialize the loss function and initialize and tune the optimizer and scheduler  \n",
    "''' YOUR CODE HERE '''\n",
    "loss = torch.nn.CrossEntropyLoss() # Mean Square Error | Root Mean Square Error | Mean Absolute Error\n",
    "\n",
    "optimizer = torch.optim.Adam(model.parameters(), lr=1e-5)\n",
    "scheduler = None  # I dkn what what is sheduler & why we have to use it? "
   ],
   "execution_count":10,
   "outputs":[
    
   ],
   "metadata":{
    "datalore":{
     "node_id":"YRRpq6L1Co6Gt67L08lUTg",
     "type":"CODE",
     "hide_input_from_viewers":false,
     "hide_output_from_viewers":false,
     "report_properties":{
      "rowId":"ItbP1ZSDQJ94doLYlMLhyW"
     }
    }
   }
  },
  {
   "cell_type":"markdown",
   "source":[
    "Write the code for the model training process.\n",
    "\n",
    "NOTE: You can memorize the best metric value and weight in the colab with the commands \n",
    "\n",
    "`torch.save(model.state_dict(), STATE_DICT_PATH)`, and `load model.load_state_dict(torch.load(STATE_DICT_PATH))`"
   ],
   "attachments":{
    
   },
   "metadata":{
    "datalore":{
     "node_id":"dwf1U8Fofs6QY6whHT6jvi",
     "type":"MD",
     "hide_input_from_viewers":false,
     "hide_output_from_viewers":false,
     "report_properties":{
      "rowId":"ItbP1ZSDQJ94doLYlMLhyW"
     }
    }
   }
  },
  {
   "cell_type":"code",
   "source":[
    "''' YOUR CODE HERE '''\n",
    "BATCH_SIZE = 5\n",
    "EPOCHS_NUM = 1000\n",
    "\n",
    "''' PLEASE DO NOT CHANGE THE CODE OF THESE LINES '''\n",
    "train_loader = DataLoader(train_dataset, batch_size=BATCH_SIZE, shuffle=True, drop_last=False)\n",
    "test_loader = DataLoader(test_dataset, batch_size=BATCH_SIZE, shuffle=True, drop_last=False)\n",
    "\n",
    "# choose any metric from sklearn for multiclass classification\n",
    "''' YOUR CODE HERE '''\n",
    "metric_fn = sklearn.metrics.f1_score\n",
    "\n",
    "best_metric = None\n",
    "STATE_DICT_PATH = 'best_model_state_dict.pt'\n",
    "\n",
    "for epoch in tqdm(range(EPOCHS_NUM)):\n",
    "    model.train()\n",
    "    for x, y in train_loader:\n",
    "        ''' YOUR CODE HERE '''\n",
    "        # Several lines\n",
    "        # It's important to null the grad\n",
    "        optimizer.zero_grad()\n",
    "        \n",
    "        y_pred = model.forward(x)\n",
    "        loss_val = loss(y_pred, y.flatten().long()) # <- expected scalar type Long but found Int\n",
    "        \n",
    "        loss_val.backward()\n",
    "        optimizer.step()\n",
    "\n",
    "    if scheduler is not None:\n",
    "        scheduler.step()\n",
    "        \n",
    "    if epoch % 100 == 0:\n",
    "        model.eval()\n",
    "        test_preds = []\n",
    "        true = []\n",
    "        # with the no_grad() option, the gradients of the weights do not count\n",
    "        with torch.no_grad():\n",
    "            for x, y in test_loader:\n",
    "                ''' YOUR CODE HERE '''\n",
    "                preds = model(x)\n",
    "                \n",
    "                test_preds.append(preds)\n",
    "                true.append(y.flatten().long())\n",
    "        \n",
    "        test_preds = torch.cat(test_preds).squeeze()\n",
    "        true = torch.cat(true).squeeze()\n",
    "        test_loss = loss(test_preds, true).item()\n",
    "        test_metric = metric_fn(true.cpu(), test_preds.cpu().argmax(dim=-1), average='macro') # <- If F1 Please choose another average setting, one of [None, 'micro', 'macro', 'weighted'].\n",
    "        \n",
    "        ''' YOUR CODE HERE '''\n",
    "        # Only if you want to save the best state\n",
    "\n",
    "        print(f'Test loss: {test_loss:0.4f}\\t\\tTest metric: {test_metric:0.4f}')"
   ],
   "execution_count":11,
   "outputs":[
    {
     "name":"stdout",
     "text":[
      "Test loss: 1.1218\t\tTest metric: 0.1735\n",
      "Test loss: 0.6315\t\tTest metric: 0.6631\n",
      "Test loss: 0.5490\t\tTest metric: 0.6997\n",
      "Test loss: 0.4693\t\tTest metric: 0.8158\n",
      "Test loss: 0.3756\t\tTest metric: 0.8741\n",
      "Test loss: 0.2969\t\tTest metric: 0.9340\n",
      "Test loss: 0.2367\t\tTest metric: 0.9340\n",
      "Test loss: 0.1915\t\tTest metric: 0.9340\n",
      "Test loss: 0.1647\t\tTest metric: 0.9673\n",
      "Test loss: 0.1439\t\tTest metric: 0.9673\n"
     ],
     "output_type":"stream"
    },
    {
     "data":{
      "application\/vnd.jupyter.widget-view+json":{
       "version_major":2,
       "version_minor":0,
       "model_id":"92e14d4565ad448d9a3567bcfe97173c"
      }
     },
     "metadata":{
      "application\/vnd.jupyter.widget-view+json":{
       "datalore":{
        "widget_id":"8CayyZtuaKyKdFdcMrb9Wp"
       }
      }
     },
     "output_type":"display_data"
    }
   ],
   "metadata":{
    "datalore":{
     "node_id":"KzSl3PRExO8K1nuWBWjUuJ",
     "type":"CODE",
     "hide_input_from_viewers":false,
     "hide_output_from_viewers":false,
     "report_properties":{
      "rowId":"ItbP1ZSDQJ94doLYlMLhyW"
     }
    }
   }
  },
  {
   "cell_type":"markdown",
   "source":[
    "Example of the nice data plot :)"
   ],
   "attachments":{
    
   },
   "metadata":{
    "datalore":{
     "node_id":"JTr6I2GUSF059uZNIDM386",
     "type":"MD",
     "hide_input_from_viewers":false,
     "hide_output_from_viewers":false,
     "report_properties":{
      "rowId":"ItbP1ZSDQJ94doLYlMLhyW"
     }
    }
   }
  },
  {
   "cell_type":"code",
   "source":[
    "# display decision region for all elements\n",
    "\n",
    "model.eval()\n",
    "plt.rcParams['figure.figsize'] = (10, 8)\n",
    "\n",
    "X = wine.data[:, :2] # fix here if needed \n",
    "y = wine.target\n",
    "\n",
    "plot_decision_regions(X, y, clf=model, legend=2)"
   ],
   "execution_count":12,
   "outputs":[
    {
     "ename":"RuntimeError",
     "evalue":"RuntimeError: mat1 and mat2 shapes cannot be multiplied (414720x2 and 13x200)",
     "traceback":[
      "\u001b[0;31m---------------------------------------------------------------------------",
      "Traceback (most recent call last)",
      "    at line 9 in <module>",
      "    at line 249 in plot_decision_regions(X, y, clf, feature_index, filler_feature_values, filler_feature_ranges, ax, X_highlight, zoom_factor, legend, hide_spines, markers, colors, scatter_kwargs, contourf_kwargs, contour_kwargs, scatter_highlight_kwargs)",
      "    at line 33 in predict(self, x)",
      "    at line 21 in forward(self, x)",
      "    at line 1102 in _call_impl(self, *input, **kwargs)",
      "    at line 103 in forward(self, input)",
      "    at line 1848 in linear(input, weight, bias)",
      "RuntimeError: mat1 and mat2 shapes cannot be multiplied (414720x2 and 13x200)"
     ],
     "output_type":"error"
    },
    {
     "data":{
      "image\/png":"[encoded data removed]"
     },
     "metadata":{
      "image\/png":{
       
      }
     },
     "output_type":"display_data"
    }
   ],
   "metadata":{
    "datalore":{
     "node_id":"TuLGWamZtG2EI5LM4FJuJh",
     "type":"CODE",
     "hide_input_from_viewers":false,
     "hide_output_from_viewers":false,
     "report_properties":{
      "rowId":"ItbP1ZSDQJ94doLYlMLhyW"
     }
    }
   }
  },
  {
   "cell_type":"markdown",
   "source":[
    "### Model evaluation\n",
    "\n",
    "You should create a model with the F1-score greater than 0.87"
   ],
   "attachments":{
    
   },
   "metadata":{
    "datalore":{
     "node_id":"m2cmRfC2HUXtha9Nk3aX46",
     "type":"MD",
     "hide_input_from_viewers":false,
     "hide_output_from_viewers":false,
     "report_properties":{
      "rowId":"ItbP1ZSDQJ94doLYlMLhyW"
     }
    }
   }
  },
  {
   "cell_type":"code",
   "source":[
    "model.eval()\n",
    "test_preds = []\n",
    "true = []\n",
    "\n",
    "with torch.no_grad():\n",
    "    for x, y in test_loader:\n",
    "        x = x.to(device)\n",
    "        preds = model.forward(x).cpu()\n",
    "        test_preds.append(preds)\n",
    "        true.append(y)\n",
    "test_preds = torch.cat(test_preds).squeeze()\n",
    "true = torch.cat(true).squeeze()\n",
    "test_metric = metrics.f1_score(true, test_preds.argmax(dim=-1), average='macro')\n",
    "\n",
    "print('F1-score on test:', test_metric)\n",
    "assert test_metric >= 0.87, \"You need to get f1_score greater or equal to 0.87\""
   ],
   "execution_count":13,
   "outputs":[
    {
     "name":"stdout",
     "text":[
      "F1-score on test: 0.967304625199362\n"
     ],
     "output_type":"stream"
    }
   ],
   "metadata":{
    "datalore":{
     "node_id":"C7nYQSiixABlCXfbwtvoqD",
     "type":"CODE",
     "hide_input_from_viewers":false,
     "hide_output_from_viewers":false,
     "report_properties":{
      "rowId":"ItbP1ZSDQJ94doLYlMLhyW"
     }
    }
   }
  }
 ],
 "metadata":{
  "widgets":{
   "application\/vnd.jupyter.widget-state+json":{
    "version_major":2,
    "version_minor":0,
    "state":{
     "e4c1b41659424bb49e2edb5c615c72f8":{
      "model_name":"LayoutModel",
      "model_module":"@jupyter-widgets\/base",
      "model_module_version":"1.2.0",
      "state":{
       
      }
     },
     "06e538d70e754b9787e940bb868dc45c":{
      "model_name":"DescriptionStyleModel",
      "model_module":"@jupyter-widgets\/controls",
      "model_module_version":"1.5.0",
      "state":{
       "description_width":""
      }
     },
     "e670080e4f184f24b5ef55bce0c028bd":{
      "model_name":"HTMLModel",
      "model_module":"@jupyter-widgets\/controls",
      "model_module_version":"1.5.0",
      "state":{
       "layout":"IPY_MODEL_e4c1b41659424bb49e2edb5c615c72f8",
       "style":"IPY_MODEL_06e538d70e754b9787e940bb868dc45c",
       "value":"100%"
      }
     },
     "9cde40fe8965408e9ab0b4ad957c5e1a":{
      "model_name":"LayoutModel",
      "model_module":"@jupyter-widgets\/base",
      "model_module_version":"1.2.0",
      "state":{
       
      }
     },
     "f7492505ad324a25bc80edc3465f5a4d":{
      "model_name":"ProgressStyleModel",
      "model_module":"@jupyter-widgets\/controls",
      "model_module_version":"1.5.0",
      "state":{
       "description_width":""
      }
     },
     "9aa848f060b440bb8a4a02aa22b570f4":{
      "model_name":"FloatProgressModel",
      "model_module":"@jupyter-widgets\/controls",
      "model_module_version":"1.5.0",
      "state":{
       "bar_style":"success",
       "layout":"IPY_MODEL_9cde40fe8965408e9ab0b4ad957c5e1a",
       "max":1000,
       "style":"IPY_MODEL_f7492505ad324a25bc80edc3465f5a4d",
       "value":1000
      }
     },
     "bf499e39dc8b495197a12ab32786f12b":{
      "model_name":"LayoutModel",
      "model_module":"@jupyter-widgets\/base",
      "model_module_version":"1.2.0",
      "state":{
       
      }
     },
     "45b5decd10474c12909640c38d5eb243":{
      "model_name":"DescriptionStyleModel",
      "model_module":"@jupyter-widgets\/controls",
      "model_module_version":"1.5.0",
      "state":{
       "description_width":""
      }
     },
     "ee2464cc8fa44dfb98815ca56fe9bc18":{
      "model_name":"HTMLModel",
      "model_module":"@jupyter-widgets\/controls",
      "model_module_version":"1.5.0",
      "state":{
       "layout":"IPY_MODEL_bf499e39dc8b495197a12ab32786f12b",
       "style":"IPY_MODEL_45b5decd10474c12909640c38d5eb243",
       "value":" 1000\/1000 [00:34&lt;00:00, 29.67it\/s]"
      }
     },
     "dc7f2b34e87b4023807569a582e61348":{
      "model_name":"LayoutModel",
      "model_module":"@jupyter-widgets\/base",
      "model_module_version":"1.2.0",
      "state":{
       
      }
     },
     "92e14d4565ad448d9a3567bcfe97173c":{
      "model_name":"HBoxModel",
      "model_module":"@jupyter-widgets\/controls",
      "model_module_version":"1.5.0",
      "state":{
       "children":[
        "IPY_MODEL_e670080e4f184f24b5ef55bce0c028bd",
        "IPY_MODEL_9aa848f060b440bb8a4a02aa22b570f4",
        "IPY_MODEL_ee2464cc8fa44dfb98815ca56fe9bc18"
       ],
       "layout":"IPY_MODEL_dc7f2b34e87b4023807569a582e61348"
      }
     }
    }
   }
  },
  "kernelspec":{
   "display_name":"Python",
   "language":"python",
   "name":"python"
  },
  "datalore":{
   "computation_mode":"JUPYTER",
   "package_manager":"pip",
   "base_environment":"default",
   "packages":[
    
   ],
   "report_row_ids":[
    "ItbP1ZSDQJ94doLYlMLhyW"
   ],
   "version":3
  }
 },
 "nbformat":4,
 "nbformat_minor":4
}